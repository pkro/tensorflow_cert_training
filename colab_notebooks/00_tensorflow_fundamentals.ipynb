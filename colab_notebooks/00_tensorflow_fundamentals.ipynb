{
  "nbformat": 4,
  "nbformat_minor": 0,
  "metadata": {
    "colab": {
      "provenance": [],
      "include_colab_link": true
    },
    "kernelspec": {
      "name": "python3",
      "display_name": "Python 3"
    },
    "language_info": {
      "name": "python"
    }
  },
  "cells": [
    {
      "cell_type": "markdown",
      "metadata": {
        "id": "view-in-github",
        "colab_type": "text"
      },
      "source": [
        "<a href=\"https://colab.research.google.com/github/pkro/tensorflow_cert_training/blob/main/colab_notebooks/00_tensorflow_fundamentals.ipynb\" target=\"_parent\"><img src=\"https://colab.research.google.com/assets/colab-badge.svg\" alt=\"Open In Colab\"/></a>"
      ]
    },
    {
      "cell_type": "markdown",
      "source": [
        "# tensor fundamentals using tensorflow\n",
        "\n",
        "- Introduction to tensors\n",
        "- getting information from tensor\n",
        "- manipulating tensors\n",
        "- tensors and NumPy\n",
        "- Using tf.function (speed up regular python functions)\n",
        "- using gpus / tpus with TensorFlow\n",
        "- Exercises\n"
      ],
      "metadata": {
        "id": "rfW-Q_3gB9is"
      }
    },
    {
      "cell_type": "markdown",
      "source": [
        "Introduction to tensors\n"
      ],
      "metadata": {
        "id": "LydiSCRtdXiz"
      }
    },
    {
      "cell_type": "code",
      "source": [
        "import tensorflow as tf\n",
        "\n",
        "print(tf.__version__)"
      ],
      "metadata": {
        "id": "uyKLNs_BeZTQ",
        "outputId": "0831651c-0d72-46ef-e69b-3079205b4bb3",
        "colab": {
          "base_uri": "https://localhost:8080/"
        }
      },
      "execution_count": 1,
      "outputs": [
        {
          "output_type": "stream",
          "name": "stdout",
          "text": [
            "2.11.0\n"
          ]
        }
      ]
    },
    {
      "cell_type": "code",
      "execution_count": 2,
      "outputs": [
        {
          "output_type": "stream",
          "name": "stdout",
          "text": [
            "[]\n",
            "[name: \"/device:CPU:0\"\n",
            "device_type: \"CPU\"\n",
            "memory_limit: 268435456\n",
            "locality {\n",
            "}\n",
            "incarnation: 1668933780785114728\n",
            "xla_global_id: -1\n",
            "]\n"
          ]
        }
      ],
      "source": [
        "print(tf.config.list_physical_devices('GPU'))\n",
        "from tensorflow.python.client import device_lib\n",
        "print(device_lib.list_local_devices())"
      ],
      "metadata": {
        "id": "8f9oxvcHM9Q6",
        "outputId": "5a3340d0-a9e3-4e79-dd10-2c1e7573e6d0",
        "colab": {
          "base_uri": "https://localhost:8080/"
        }
      }
    },
    {
      "cell_type": "code",
      "source": [
        "# Create tensors with tf.constant()\n",
        "scalar = tf.constant(7)\n",
        "scalar"
      ],
      "metadata": {
        "id": "hCbd8xyteuEm",
        "outputId": "a004e48b-d3ce-4a5e-f3cd-9c92283580a6",
        "colab": {
          "base_uri": "https://localhost:8080/"
        }
      },
      "execution_count": 3,
      "outputs": [
        {
          "output_type": "execute_result",
          "data": {
            "text/plain": [
              "<tf.Tensor: shape=(), dtype=int32, numpy=7>"
            ]
          },
          "metadata": {},
          "execution_count": 3
        }
      ]
    },
    {
      "cell_type": "code",
      "source": [
        "#Check number of dimentsions of a tensor (ndim = Number of DIMensions)\n",
        "scalar.ndim, tf.rank(scalar).numpy() # ndim and tf.rank have the same value"
      ],
      "metadata": {
        "id": "kLO-PDiXfa43",
        "outputId": "7bdf4c01-ae91-47a3-a221-8b673641c641",
        "colab": {
          "base_uri": "https://localhost:8080/"
        }
      },
      "execution_count": 4,
      "outputs": [
        {
          "output_type": "execute_result",
          "data": {
            "text/plain": [
              "(0, 0)"
            ]
          },
          "metadata": {},
          "execution_count": 4
        }
      ]
    },
    {
      "cell_type": "code",
      "source": [
        "# create a vector\n",
        "vector = tf.constant([3,4])\n",
        "vector"
      ],
      "metadata": {
        "id": "8S-FoRqEgqID",
        "outputId": "509a4a81-31ca-466e-d7f1-f38db0931b19",
        "colab": {
          "base_uri": "https://localhost:8080/"
        }
      },
      "execution_count": 5,
      "outputs": [
        {
          "output_type": "execute_result",
          "data": {
            "text/plain": [
              "<tf.Tensor: shape=(2,), dtype=int32, numpy=array([3, 4], dtype=int32)>"
            ]
          },
          "metadata": {},
          "execution_count": 5
        }
      ]
    },
    {
      "cell_type": "code",
      "source": [
        "# check vector dimension\n",
        "vector.ndim"
      ],
      "metadata": {
        "id": "swLIIs4og_-k",
        "outputId": "7b62b7e6-7387-4a16-da8f-5bf5c1035281",
        "colab": {
          "base_uri": "https://localhost:8080/"
        }
      },
      "execution_count": 6,
      "outputs": [
        {
          "output_type": "execute_result",
          "data": {
            "text/plain": [
              "1"
            ]
          },
          "metadata": {},
          "execution_count": 6
        }
      ]
    },
    {
      "cell_type": "code",
      "source": [
        "# matrix (more than 1 dimension)\n",
        "matrix = tf.constant([[10,7],\n",
        "                      [7,10]])\n",
        "matrix"
      ],
      "metadata": {
        "id": "ij8egxnrhNJo",
        "outputId": "2789e984-e61d-4a84-cac2-0c521a60203c",
        "colab": {
          "base_uri": "https://localhost:8080/"
        }
      },
      "execution_count": 7,
      "outputs": [
        {
          "output_type": "execute_result",
          "data": {
            "text/plain": [
              "<tf.Tensor: shape=(2, 2), dtype=int32, numpy=\n",
              "array([[10,  7],\n",
              "       [ 7, 10]], dtype=int32)>"
            ]
          },
          "metadata": {},
          "execution_count": 7
        }
      ]
    },
    {
      "cell_type": "code",
      "source": [
        "matrix.ndim"
      ],
      "metadata": {
        "id": "fmHk130Bhe5c",
        "outputId": "ec843fd1-7444-4751-c142-f126b2680c2a",
        "colab": {
          "base_uri": "https://localhost:8080/"
        }
      },
      "execution_count": 8,
      "outputs": [
        {
          "output_type": "execute_result",
          "data": {
            "text/plain": [
              "2"
            ]
          },
          "metadata": {},
          "execution_count": 8
        }
      ]
    },
    {
      "cell_type": "markdown",
      "source": [
        "It seems the dimension of the tensors is related to the number of elements in the `shape` property of the tensor."
      ],
      "metadata": {
        "id": "qGXmyIK7hq22"
      }
    },
    {
      "cell_type": "code",
      "source": [
        "# Create another matrix and specify data tyoe\n",
        "another_matrix = tf.constant([[10.,7.],\n",
        "                              [8., 9.],\n",
        "                              [3., 4.]], dtype=tf.float16)\n",
        "another_matrix"
      ],
      "metadata": {
        "id": "Aw2TkfKSh9iB",
        "outputId": "68226cc9-c207-44f1-bea1-90e843075895",
        "colab": {
          "base_uri": "https://localhost:8080/"
        }
      },
      "execution_count": 9,
      "outputs": [
        {
          "output_type": "execute_result",
          "data": {
            "text/plain": [
              "<tf.Tensor: shape=(3, 2), dtype=float16, numpy=\n",
              "array([[10.,  7.],\n",
              "       [ 8.,  9.],\n",
              "       [ 3.,  4.]], dtype=float16)>"
            ]
          },
          "metadata": {},
          "execution_count": 9
        }
      ]
    },
    {
      "cell_type": "code",
      "source": [
        "another_matrix.ndim"
      ],
      "metadata": {
        "id": "JsV-H1DQiZ6D",
        "outputId": "49bd1fb2-1818-466c-ea00-a3f55b3c69c7",
        "colab": {
          "base_uri": "https://localhost:8080/"
        }
      },
      "execution_count": 10,
      "outputs": [
        {
          "output_type": "execute_result",
          "data": {
            "text/plain": [
              "2"
            ]
          },
          "metadata": {},
          "execution_count": 10
        }
      ]
    },
    {
      "cell_type": "markdown",
      "source": [
        "The shape seems to have the format (rows, columns, ...);"
      ],
      "metadata": {
        "id": "PuJrayBDiy5s"
      }
    },
    {
      "cell_type": "code",
      "source": [
        "# note: all of the above were tensors too as e.g. a matrix is a subtype of a tensor\n",
        "tensor = tf.constant([\n",
        "    [[1,2,3], [4,5,6]],\n",
        "    [[7,8,9], [10,11,12]],\n",
        "    [[13,14,15], [16,17,18]]\n",
        "])\n",
        "tensor"
      ],
      "metadata": {
        "id": "3gvanxm9kQXm",
        "outputId": "f7fbdde8-1169-4a9e-974c-232a342f8df2",
        "colab": {
          "base_uri": "https://localhost:8080/"
        }
      },
      "execution_count": 11,
      "outputs": [
        {
          "output_type": "execute_result",
          "data": {
            "text/plain": [
              "<tf.Tensor: shape=(3, 2, 3), dtype=int32, numpy=\n",
              "array([[[ 1,  2,  3],\n",
              "        [ 4,  5,  6]],\n",
              "\n",
              "       [[ 7,  8,  9],\n",
              "        [10, 11, 12]],\n",
              "\n",
              "       [[13, 14, 15],\n",
              "        [16, 17, 18]]], dtype=int32)>"
            ]
          },
          "metadata": {},
          "execution_count": 11
        }
      ]
    },
    {
      "cell_type": "code",
      "source": [
        "tensor.ndim"
      ],
      "metadata": {
        "id": "nVHqR0nYlDyM",
        "outputId": "13a21eba-f9dd-4cdd-c635-5b88424d4441",
        "colab": {
          "base_uri": "https://localhost:8080/"
        }
      },
      "execution_count": 12,
      "outputs": [
        {
          "output_type": "execute_result",
          "data": {
            "text/plain": [
              "3"
            ]
          },
          "metadata": {},
          "execution_count": 12
        }
      ]
    },
    {
      "cell_type": "markdown",
      "source": [
        "### What we learned:\n",
        "\n",
        "- scalar: a single number\n",
        "- vector: a number with direction, e.g. wind speed and direction\n",
        "- matrix: 2-dimensional array of numbers\n",
        "- tensor: n-dimensional array of numbers (n = any number; a 0-dimensional tensor is a scalar, a 1-dimensional tensor is a vector)\n"
      ],
      "metadata": {
        "id": "GjxIPvQulcgg"
      }
    },
    {
      "cell_type": "markdown",
      "source": [
        "### Creating tensors with tf.Variable and tf.constant\n",
        "\n",
        ">A variable maintains shared, persistent state manipulated by a program.\n",
        "\n",
        "https://www.tensorflow.org/api_docs/python/tf/Variable\n",
        "\n",
        "When in doubt, use constant and change later if needed.\n",
        "\n",
        "In practice, creating variables / constants is taking care of by tf.\n",
        "\n",
        "*tensors created with tf.Variable don't seem to have an ndim property?*\n"
      ],
      "metadata": {
        "id": "41jAKofm2Kg8"
      }
    },
    {
      "cell_type": "code",
      "source": [
        "v = tf.Variable(1.)\n",
        "v"
      ],
      "metadata": {
        "id": "AMyy4O_52ban",
        "outputId": "085e05f9-2b87-41e7-967b-63e3c170cbe9",
        "colab": {
          "base_uri": "https://localhost:8080/"
        }
      },
      "execution_count": 13,
      "outputs": [
        {
          "output_type": "execute_result",
          "data": {
            "text/plain": [
              "<tf.Variable 'Variable:0' shape=() dtype=float32, numpy=1.0>"
            ]
          },
          "metadata": {},
          "execution_count": 13
        }
      ]
    },
    {
      "cell_type": "code",
      "source": [
        "# does not work, shape mismatch\n",
        "# v.assign([1,2])\n",
        "v.assign(5.) # works\n",
        "v"
      ],
      "metadata": {
        "id": "OA45NL8O2w81",
        "outputId": "6ca3b9a7-1f8d-40e8-d940-c4d9e9c2d2f8",
        "colab": {
          "base_uri": "https://localhost:8080/"
        }
      },
      "execution_count": 14,
      "outputs": [
        {
          "output_type": "execute_result",
          "data": {
            "text/plain": [
              "<tf.Variable 'Variable:0' shape=() dtype=float32, numpy=5.0>"
            ]
          },
          "metadata": {},
          "execution_count": 14
        }
      ]
    },
    {
      "cell_type": "code",
      "source": [
        "changeable_tensor = tf.Variable([10,7])\n",
        "unchangeable_tensor = tf.constant([4,5])\n",
        "changeable_tensor, unchangeable_tensor"
      ],
      "metadata": {
        "id": "hAiL4Qvk27Yt",
        "outputId": "09ffec59-1042-41f1-dd1c-afa20003462c",
        "colab": {
          "base_uri": "https://localhost:8080/"
        }
      },
      "execution_count": 15,
      "outputs": [
        {
          "output_type": "execute_result",
          "data": {
            "text/plain": [
              "(<tf.Variable 'Variable:0' shape=(2,) dtype=int32, numpy=array([10,  7], dtype=int32)>,\n",
              " <tf.Tensor: shape=(2,), dtype=int32, numpy=array([4, 5], dtype=int32)>)"
            ]
          },
          "metadata": {},
          "execution_count": 15
        }
      ]
    },
    {
      "cell_type": "code",
      "source": [
        "changeable_tensor[0]"
      ],
      "metadata": {
        "id": "Et3F3NHp3c8E",
        "outputId": "beac61a2-2abb-4d4d-c55b-674166e28cc5",
        "colab": {
          "base_uri": "https://localhost:8080/"
        }
      },
      "execution_count": 16,
      "outputs": [
        {
          "output_type": "execute_result",
          "data": {
            "text/plain": [
              "<tf.Tensor: shape=(), dtype=int32, numpy=10>"
            ]
          },
          "metadata": {},
          "execution_count": 16
        }
      ]
    },
    {
      "cell_type": "code",
      "source": [
        "# changeable_tensor.assign([1,2,3]) # shape mismatch\n",
        "# unchangeable_tensor.assign([1,2]) # obviousle doesn't even have an assign method\n",
        "changeable_tensor.assign([1,2]) # works fine"
      ],
      "metadata": {
        "id": "OmvTMglI3jUi",
        "outputId": "55450b8f-376e-4d06-8157-c30f2911eee2",
        "colab": {
          "base_uri": "https://localhost:8080/"
        }
      },
      "execution_count": 17,
      "outputs": [
        {
          "output_type": "execute_result",
          "data": {
            "text/plain": [
              "<tf.Variable 'UnreadVariable' shape=(2,) dtype=int32, numpy=array([1, 2], dtype=int32)>"
            ]
          },
          "metadata": {},
          "execution_count": 17
        }
      ]
    },
    {
      "cell_type": "code",
      "source": [
        "# We can also assign single elements\n",
        "changeable_tensor[0].assign(10)"
      ],
      "metadata": {
        "id": "zEqBtMPy31Hn",
        "outputId": "27a12039-dd69-4d87-f961-86af2a2d41b1",
        "colab": {
          "base_uri": "https://localhost:8080/"
        }
      },
      "execution_count": 18,
      "outputs": [
        {
          "output_type": "execute_result",
          "data": {
            "text/plain": [
              "<tf.Variable 'UnreadVariable' shape=(2,) dtype=int32, numpy=array([10,  2], dtype=int32)>"
            ]
          },
          "metadata": {},
          "execution_count": 18
        }
      ]
    },
    {
      "cell_type": "markdown",
      "source": [
        "### Creating random tensors with tf.Variable()\n",
        "\n",
        "Random tensors are tensors of arbitrary size containing random numbers.\n",
        "\n",
        "They are used to initialize the middle layer of the neural network (=representation = patterns = features = weights) and then tweak them by learning.\n",
        "\n",
        "![random initialization](https://github.com/pkro/tensorflow_cert_training/blob/main/readme_images/random_init.png?raw=1)\n",
        "\n",
        "Representation outputs are also referred to as prediction probabilities (the higher the number, the higher the probability.\n",
        "\n",
        "Example from picture:\n",
        "\n",
        "first column is Ramen, second column is Spagghetti, third is none. Rows are each of the inputs / pictures (from what i understand).\n",
        "\n"
      ],
      "metadata": {
        "id": "91l5bMn24xNh"
      }
    },
    {
      "cell_type": "code",
      "source": [
        "# create 2 random (but same) tensors\n",
        "random_1 = tf.random.Generator.from_seed(42); # set seed for reproducibility\n",
        "random_1 = random_1.normal(shape=(3,2)) # Outputs random values from a normal distribution.\n",
        "random_1"
      ],
      "metadata": {
        "id": "q7mtsJC8mRa4",
        "outputId": "cdeff9a2-5be5-4834-aec3-0d514677f81b",
        "colab": {
          "base_uri": "https://localhost:8080/"
        }
      },
      "execution_count": 19,
      "outputs": [
        {
          "output_type": "execute_result",
          "data": {
            "text/plain": [
              "<tf.Tensor: shape=(3, 2), dtype=float32, numpy=\n",
              "array([[-0.7565803 , -0.06854702],\n",
              "       [ 0.07595026, -1.2573844 ],\n",
              "       [-0.23193763, -1.8107855 ]], dtype=float32)>"
            ]
          },
          "metadata": {},
          "execution_count": 19
        }
      ]
    },
    {
      "cell_type": "markdown",
      "source": [
        ">A normal distribution is a type of continuous probability distribution in which most data points cluster toward the middle of the range, while the rest taper off symmetrically toward either extreme. The middle of the range is also known as the mean of the distribution.\n",
        "[source](https://www.techtarget.com/whatis/definition/normal-distribution)\n",
        "\n",
        "Basically a bell curve."
      ],
      "metadata": {
        "id": "rQsRJDc2pa9G"
      }
    },
    {
      "cell_type": "code",
      "source": [
        "random_2 = tf.random.Generator.from_seed(42)\n",
        "random_2 = random_2.normal(shape=(3,2))\n",
        "random_1, random_2, random_1 == random_2 # same seed, same values"
      ],
      "metadata": {
        "id": "bbLrSF5Sps8k",
        "outputId": "a8831524-24d7-4d64-ffbb-9ad72a042910",
        "colab": {
          "base_uri": "https://localhost:8080/"
        }
      },
      "execution_count": 20,
      "outputs": [
        {
          "output_type": "execute_result",
          "data": {
            "text/plain": [
              "(<tf.Tensor: shape=(3, 2), dtype=float32, numpy=\n",
              " array([[-0.7565803 , -0.06854702],\n",
              "        [ 0.07595026, -1.2573844 ],\n",
              "        [-0.23193763, -1.8107855 ]], dtype=float32)>,\n",
              " <tf.Tensor: shape=(3, 2), dtype=float32, numpy=\n",
              " array([[-0.7565803 , -0.06854702],\n",
              "        [ 0.07595026, -1.2573844 ],\n",
              "        [-0.23193763, -1.8107855 ]], dtype=float32)>,\n",
              " <tf.Tensor: shape=(3, 2), dtype=bool, numpy=\n",
              " array([[ True,  True],\n",
              "        [ True,  True],\n",
              "        [ True,  True]])>)"
            ]
          },
          "metadata": {},
          "execution_count": 20
        }
      ]
    },
    {
      "cell_type": "markdown",
      "source": [
        "### Shuffle the order of elements in a tensor\n",
        "\n",
        "Example use: if a NN has a list of 15000 images, the first 10.000 of Spagghetti and the last 5000 of Ramen, it might optimize too much on the Spagghetti recognition before reaching the Ramen images. It would be better to mix the input (images) so it learns both at the same time."
      ],
      "metadata": {
        "id": "rt333WCGqjCw"
      }
    },
    {
      "cell_type": "code",
      "source": [
        "# shuffle a tensor (valuable to shuffle data so the inherent order doesn't affect learning)\n",
        "not_shuffled = tf.constant([[10,7],\n",
        "                            [3,5],\n",
        "                            [1,9]])\n",
        "not_shuffled.ndim #2\n",
        "not_shuffled\n"
      ],
      "metadata": {
        "id": "z-n3bImVrf4T",
        "outputId": "f12bfda3-0227-4721-b94e-b7635590a214",
        "colab": {
          "base_uri": "https://localhost:8080/"
        }
      },
      "execution_count": 21,
      "outputs": [
        {
          "output_type": "execute_result",
          "data": {
            "text/plain": [
              "<tf.Tensor: shape=(3, 2), dtype=int32, numpy=\n",
              "array([[10,  7],\n",
              "       [ 3,  5],\n",
              "       [ 1,  9]], dtype=int32)>"
            ]
          },
          "metadata": {},
          "execution_count": 21
        }
      ]
    },
    {
      "cell_type": "code",
      "source": [
        "# shuffles only the first dimension (\"rows\"), content of sub-arrays stays the same!\n",
        "\n",
        "shuffled = tf.random.shuffle(not_shuffled)\n",
        "shuffled.ndim # also 2 of course\n",
        "print(\"random, without seed:\", shuffled)\n",
        "\n",
        "# can take a seed\n",
        "shuffled = tf.random.shuffle(not_shuffled, 42)\n",
        "shuffled.ndim # also 2 of course\n",
        "print(\"STILL random even with seed:\", shuffled)"
      ],
      "metadata": {
        "id": "lTDklxBNsKbI",
        "outputId": "fb0cac49-2da0-4829-90ed-584807011e05",
        "colab": {
          "base_uri": "https://localhost:8080/"
        }
      },
      "execution_count": 22,
      "outputs": [
        {
          "output_type": "stream",
          "name": "stdout",
          "text": [
            "random, without seed: tf.Tensor(\n",
            "[[10  7]\n",
            " [ 1  9]\n",
            " [ 3  5]], shape=(3, 2), dtype=int32)\n",
            "STILL random even with seed: tf.Tensor(\n",
            "[[ 1  9]\n",
            " [ 3  5]\n",
            " [10  7]], shape=(3, 2), dtype=int32)\n"
          ]
        }
      ]
    },
    {
      "cell_type": "markdown",
      "source": [
        ">\"Operations that rely on a random seed actually derive it from two seeds: the global and operation-level seeds. This sets the global seed.\"\n",
        "\n",
        "[more on the rules of how these seeds are used](https://www.tensorflow.org/api_docs/python/tf/random/set_seed)"
      ],
      "metadata": {
        "id": "Wij3kxjBuLf7"
      }
    },
    {
      "cell_type": "code",
      "source": [
        "tf.random.set_seed(99) # global seed\n",
        "shuffled = tf.random.shuffle(not_shuffled, seed=42) # operation level seed\n",
        "shuffled # stays in the same (random) order"
      ],
      "metadata": {
        "id": "pkhKjUUBunng",
        "outputId": "ae561b49-b9f8-4233-b93c-bfa4ea4fd0bb",
        "colab": {
          "base_uri": "https://localhost:8080/"
        }
      },
      "execution_count": 23,
      "outputs": [
        {
          "output_type": "execute_result",
          "data": {
            "text/plain": [
              "<tf.Tensor: shape=(3, 2), dtype=int32, numpy=\n",
              "array([[10,  7],\n",
              "       [ 3,  5],\n",
              "       [ 1,  9]], dtype=int32)>"
            ]
          },
          "metadata": {},
          "execution_count": 23
        }
      ]
    },
    {
      "cell_type": "markdown",
      "source": [
        "For reproducibility of experiments, set both the global and operation level seed."
      ],
      "metadata": {
        "id": "b4RUvJYBwHiX"
      }
    },
    {
      "cell_type": "markdown",
      "source": [
        "### Other ways to make tensors"
      ],
      "metadata": {
        "id": "Q2GrinelvJuM"
      }
    },
    {
      "cell_type": "markdown",
      "source": [
        "### Creating tensors from NumPy arrays\n",
        "\n",
        "Note that tensorflow has many NumPy operations (such as `ones`) already built in."
      ],
      "metadata": {
        "id": "Pb9UEVELwioe"
      }
    },
    {
      "cell_type": "code",
      "source": [
        "# creates a tensor of a given shape where all elements are 1\n",
        "tf.ones(shape=(3,2), dtype=tf.int32)"
      ],
      "metadata": {
        "id": "3tIBGzgVw0Js",
        "outputId": "50034e15-97be-411c-b8f4-9116e86e66e5",
        "colab": {
          "base_uri": "https://localhost:8080/"
        }
      },
      "execution_count": 24,
      "outputs": [
        {
          "output_type": "execute_result",
          "data": {
            "text/plain": [
              "<tf.Tensor: shape=(3, 2), dtype=int32, numpy=\n",
              "array([[1, 1],\n",
              "       [1, 1],\n",
              "       [1, 1]], dtype=int32)>"
            ]
          },
          "metadata": {},
          "execution_count": 24
        }
      ]
    },
    {
      "cell_type": "code",
      "source": [
        "# create a tensor of 0s\n",
        "tf.zeros(shape=(3,2), dtype=tf.int32)"
      ],
      "metadata": {
        "id": "K9Ao-_JJxPqL",
        "outputId": "a05d8769-2b20-497b-f49b-741709d3b6ca",
        "colab": {
          "base_uri": "https://localhost:8080/"
        }
      },
      "execution_count": 25,
      "outputs": [
        {
          "output_type": "execute_result",
          "data": {
            "text/plain": [
              "<tf.Tensor: shape=(3, 2), dtype=int32, numpy=\n",
              "array([[0, 0],\n",
              "       [0, 0],\n",
              "       [0, 0]], dtype=int32)>"
            ]
          },
          "metadata": {},
          "execution_count": 25
        }
      ]
    },
    {
      "cell_type": "code",
      "source": [
        "# create a tensor filled with an arbitrary value\n",
        "tf.fill([3,2], value=99) # note that shape is passed as an array instead of a tupple here"
      ],
      "metadata": {
        "id": "VMDySSkgxd74",
        "outputId": "3b041b46-4a71-468d-84c6-5686dba17411",
        "colab": {
          "base_uri": "https://localhost:8080/"
        }
      },
      "execution_count": 26,
      "outputs": [
        {
          "output_type": "execute_result",
          "data": {
            "text/plain": [
              "<tf.Tensor: shape=(3, 2), dtype=int32, numpy=\n",
              "array([[99, 99],\n",
              "       [99, 99],\n",
              "       [99, 99]], dtype=int32)>"
            ]
          },
          "metadata": {},
          "execution_count": 26
        }
      ]
    },
    {
      "cell_type": "markdown",
      "source": [
        "### Turn a NumPy array into tensors\n",
        "\n",
        "Main difference between NumPy arrays and tf tensors: tensors can be run on a GPU, otherwise very similar\n"
      ],
      "metadata": {
        "id": "prjNVhtVx0_v"
      }
    },
    {
      "cell_type": "code",
      "source": [
        "import numpy as np\n",
        "\n",
        "numpy_a = np.arange(1, 25, dtype=np.int32)\n",
        "\n",
        "# Capitalization \"rules\":\n",
        "# A = tf.constant(some_matrix) # capital for matrix or tensor\n",
        "# a = tf.constant(vector) # lowercase for vector\n",
        "numpy_a #  numpy array"
      ],
      "metadata": {
        "id": "z0yolIsiyG61",
        "outputId": "25bc6cda-cf27-4e89-fba2-1b99a41c360d",
        "colab": {
          "base_uri": "https://localhost:8080/"
        }
      },
      "execution_count": 27,
      "outputs": [
        {
          "output_type": "execute_result",
          "data": {
            "text/plain": [
              "array([ 1,  2,  3,  4,  5,  6,  7,  8,  9, 10, 11, 12, 13, 14, 15, 16, 17,\n",
              "       18, 19, 20, 21, 22, 23, 24], dtype=int32)"
            ]
          },
          "metadata": {},
          "execution_count": 27
        }
      ]
    },
    {
      "cell_type": "code",
      "source": [
        "# convert to tf tensor\n",
        "tensor_a = tf.constant(numpy_a)\n",
        "tensor_a"
      ],
      "metadata": {
        "id": "knbXEEvjysSr",
        "outputId": "eddaf148-7e68-431a-853e-b87333a8827e",
        "colab": {
          "base_uri": "https://localhost:8080/"
        }
      },
      "execution_count": 28,
      "outputs": [
        {
          "output_type": "execute_result",
          "data": {
            "text/plain": [
              "<tf.Tensor: shape=(24,), dtype=int32, numpy=\n",
              "array([ 1,  2,  3,  4,  5,  6,  7,  8,  9, 10, 11, 12, 13, 14, 15, 16, 17,\n",
              "       18, 19, 20, 21, 22, 23, 24], dtype=int32)>"
            ]
          },
          "metadata": {},
          "execution_count": 28
        }
      ]
    },
    {
      "cell_type": "code",
      "source": [
        "# Change shape from vector to matrix from a one-dimensional array\n",
        "# the number of elements in the source array must add up to the elements required\n",
        "# by the shape\n",
        "A = tf.constant(numpy_a, shape=(3,8))\n",
        "B = tf.constant(numpy_a)\n",
        "A, A.ndim, B, B.ndim"
      ],
      "metadata": {
        "id": "CjzS_W7rzg-A",
        "outputId": "170adff8-72c1-48df-8c63-cf1c6cd4af9a",
        "colab": {
          "base_uri": "https://localhost:8080/"
        }
      },
      "execution_count": 29,
      "outputs": [
        {
          "output_type": "execute_result",
          "data": {
            "text/plain": [
              "(<tf.Tensor: shape=(3, 8), dtype=int32, numpy=\n",
              " array([[ 1,  2,  3,  4,  5,  6,  7,  8],\n",
              "        [ 9, 10, 11, 12, 13, 14, 15, 16],\n",
              "        [17, 18, 19, 20, 21, 22, 23, 24]], dtype=int32)>,\n",
              " 2,\n",
              " <tf.Tensor: shape=(24,), dtype=int32, numpy=\n",
              " array([ 1,  2,  3,  4,  5,  6,  7,  8,  9, 10, 11, 12, 13, 14, 15, 16, 17,\n",
              "        18, 19, 20, 21, 22, 23, 24], dtype=int32)>,\n",
              " 1)"
            ]
          },
          "metadata": {},
          "execution_count": 29
        }
      ]
    },
    {
      "cell_type": "markdown",
      "source": [
        "### Getting information from tensors\n",
        "\n",
        "When dealing with tensors you need to be aware of the following attributes:\n",
        "\n",
        "- Shape\n",
        "- Rank\n",
        "- Axis or dimension\n",
        "- Size\n",
        "\n",
        "![attributes](https://github.com/pkro/tensorflow_cert_training/blob/main/readme_images/tensor_attributes.png?raw=1)"
      ],
      "metadata": {
        "id": "5WC0E4JL0YNQ"
      }
    },
    {
      "cell_type": "code",
      "execution_count": 30,
      "outputs": [
        {
          "output_type": "execute_result",
          "data": {
            "text/plain": [
              "(<tf.Tensor: shape=(2, 3, 4, 5), dtype=float32, numpy=\n",
              " array([[[[0., 0., 0., 0., 0.],\n",
              "          [0., 0., 0., 0., 0.],\n",
              "          [0., 0., 0., 0., 0.],\n",
              "          [0., 0., 0., 0., 0.]],\n",
              " \n",
              "         [[0., 0., 0., 0., 0.],\n",
              "          [0., 0., 0., 0., 0.],\n",
              "          [0., 0., 0., 0., 0.],\n",
              "          [0., 0., 0., 0., 0.]],\n",
              " \n",
              "         [[0., 0., 0., 0., 0.],\n",
              "          [0., 0., 0., 0., 0.],\n",
              "          [0., 0., 0., 0., 0.],\n",
              "          [0., 0., 0., 0., 0.]]],\n",
              " \n",
              " \n",
              "        [[[0., 0., 0., 0., 0.],\n",
              "          [0., 0., 0., 0., 0.],\n",
              "          [0., 0., 0., 0., 0.],\n",
              "          [0., 0., 0., 0., 0.]],\n",
              " \n",
              "         [[0., 0., 0., 0., 0.],\n",
              "          [0., 0., 0., 0., 0.],\n",
              "          [0., 0., 0., 0., 0.],\n",
              "          [0., 0., 0., 0., 0.]],\n",
              " \n",
              "         [[0., 0., 0., 0., 0.],\n",
              "          [0., 0., 0., 0., 0.],\n",
              "          [0., 0., 0., 0., 0.],\n",
              "          [0., 0., 0., 0., 0.]]]], dtype=float32)>, 'rank: ', 4)"
            ]
          },
          "metadata": {},
          "execution_count": 30
        }
      ],
      "source": [
        "# create rank 4 tensor\n",
        "rank_4_tensor = tf.zeros([2,3,4,5]) # 2*3*4*5 \"4d matrix\"\n",
        "rank_4_tensor, \"rank: \", rank_4_tensor.ndim"
      ],
      "metadata": {
        "id": "rsgNbwBvM9RE",
        "outputId": "5936cdec-a6bc-4229-dcb7-76e5cb54c3bd",
        "colab": {
          "base_uri": "https://localhost:8080/"
        }
      }
    },
    {
      "cell_type": "code",
      "source": [
        "print(rank_4_tensor[0], \"\\n\")\n",
        "print(rank_4_tensor[0][0], \"\\n\") \n",
        "print(rank_4_tensor[0][0][0], \"\\n\") \n",
        "print(rank_4_tensor[0][0][0][0], \"\\n\") "
      ],
      "metadata": {
        "id": "T6A-zJ80UnTr",
        "outputId": "c3dd4767-d110-4512-b29b-e72d626e2dc0",
        "colab": {
          "base_uri": "https://localhost:8080/"
        }
      },
      "execution_count": 31,
      "outputs": [
        {
          "output_type": "stream",
          "name": "stdout",
          "text": [
            "tf.Tensor(\n",
            "[[[0. 0. 0. 0. 0.]\n",
            "  [0. 0. 0. 0. 0.]\n",
            "  [0. 0. 0. 0. 0.]\n",
            "  [0. 0. 0. 0. 0.]]\n",
            "\n",
            " [[0. 0. 0. 0. 0.]\n",
            "  [0. 0. 0. 0. 0.]\n",
            "  [0. 0. 0. 0. 0.]\n",
            "  [0. 0. 0. 0. 0.]]\n",
            "\n",
            " [[0. 0. 0. 0. 0.]\n",
            "  [0. 0. 0. 0. 0.]\n",
            "  [0. 0. 0. 0. 0.]\n",
            "  [0. 0. 0. 0. 0.]]], shape=(3, 4, 5), dtype=float32) \n",
            "\n",
            "tf.Tensor(\n",
            "[[0. 0. 0. 0. 0.]\n",
            " [0. 0. 0. 0. 0.]\n",
            " [0. 0. 0. 0. 0.]\n",
            " [0. 0. 0. 0. 0.]], shape=(4, 5), dtype=float32) \n",
            "\n",
            "tf.Tensor([0. 0. 0. 0. 0.], shape=(5,), dtype=float32) \n",
            "\n",
            "tf.Tensor(0.0, shape=(), dtype=float32) \n",
            "\n"
          ]
        }
      ]
    },
    {
      "cell_type": "code",
      "source": [
        "rank_4_tensor.shape, rank_4_tensor.ndim, tf.size(rank_4_tensor)"
      ],
      "metadata": {
        "id": "3CcquJ-iVfAr",
        "outputId": "ce9fdadb-f5c6-430f-e6c7-5c5825912204",
        "colab": {
          "base_uri": "https://localhost:8080/"
        }
      },
      "execution_count": 32,
      "outputs": [
        {
          "output_type": "execute_result",
          "data": {
            "text/plain": [
              "(TensorShape([2, 3, 4, 5]), 4, <tf.Tensor: shape=(), dtype=int32, numpy=120>)"
            ]
          },
          "metadata": {},
          "execution_count": 32
        }
      ]
    },
    {
      "cell_type": "code",
      "source": [
        "# Get various attributes of our tensor\n",
        "def tensor_info(tensor):\n",
        "  print(\"Datatype of every element: \", tensor.dtype)\n",
        "  print(\"Number of dimensions (rank): \", tensor.ndim)\n",
        "  print(\"Shape: \", tensor.shape)\n",
        "  print(\"Elements along the 0 axis: \", tensor.shape[0])\n",
        "  print(\"Elements along the last axis: \", tensor.shape[-1])\n",
        "  print(\"Total number of elements: \", tf.size(tensor))\n",
        "  print(\"Total number of elements (plain): \", tf.size(tensor).numpy())\n",
        "\n",
        "tensor_info(rank_4_tensor)"
      ],
      "metadata": {
        "id": "XT8-ntmfV3dW",
        "outputId": "e387acf8-10b3-4293-b583-3c6a65415364",
        "colab": {
          "base_uri": "https://localhost:8080/"
        }
      },
      "execution_count": 33,
      "outputs": [
        {
          "output_type": "stream",
          "name": "stdout",
          "text": [
            "Datatype of every element:  <dtype: 'float32'>\n",
            "Number of dimensions (rank):  4\n",
            "Shape:  (2, 3, 4, 5)\n",
            "Elements along the 0 axis:  2\n",
            "Elements along the last axis:  5\n",
            "Total number of elements:  tf.Tensor(120, shape=(), dtype=int32)\n",
            "Total number of elements (plain):  120\n"
          ]
        }
      ]
    },
    {
      "cell_type": "markdown",
      "source": [
        "### Indexing and expanding tensors\n",
        "\n",
        "Tensors can be indexed like python lists\n"
      ],
      "metadata": {
        "id": "mNkGm2JFAGrl"
      }
    },
    {
      "cell_type": "code",
      "source": [
        "# get first 2 elements of each tensor dimension\n",
        "rank_4_tensor[:2, :2, :2, :2]"
      ],
      "metadata": {
        "id": "2z6hDQ2kAZUV",
        "outputId": "2e2bfbfb-330c-4611-f4d9-7b3ebc4b68b6",
        "colab": {
          "base_uri": "https://localhost:8080/"
        }
      },
      "execution_count": 34,
      "outputs": [
        {
          "output_type": "execute_result",
          "data": {
            "text/plain": [
              "<tf.Tensor: shape=(2, 2, 2, 2), dtype=float32, numpy=\n",
              "array([[[[0., 0.],\n",
              "         [0., 0.]],\n",
              "\n",
              "        [[0., 0.],\n",
              "         [0., 0.]]],\n",
              "\n",
              "\n",
              "       [[[0., 0.],\n",
              "         [0., 0.]],\n",
              "\n",
              "        [[0., 0.],\n",
              "         [0., 0.]]]], dtype=float32)>"
            ]
          },
          "metadata": {},
          "execution_count": 34
        }
      ]
    },
    {
      "cell_type": "code",
      "source": [
        "# Example: remove the first element of the innermost tensors\n",
        "rank_4_tensor[:, :, :, 1:]"
      ],
      "metadata": {
        "id": "an-9hv5aBWWk",
        "outputId": "7a90bd0e-cfc6-4ed0-be26-b17d3952dac2",
        "colab": {
          "base_uri": "https://localhost:8080/"
        }
      },
      "execution_count": 35,
      "outputs": [
        {
          "output_type": "execute_result",
          "data": {
            "text/plain": [
              "<tf.Tensor: shape=(2, 3, 4, 4), dtype=float32, numpy=\n",
              "array([[[[0., 0., 0., 0.],\n",
              "         [0., 0., 0., 0.],\n",
              "         [0., 0., 0., 0.],\n",
              "         [0., 0., 0., 0.]],\n",
              "\n",
              "        [[0., 0., 0., 0.],\n",
              "         [0., 0., 0., 0.],\n",
              "         [0., 0., 0., 0.],\n",
              "         [0., 0., 0., 0.]],\n",
              "\n",
              "        [[0., 0., 0., 0.],\n",
              "         [0., 0., 0., 0.],\n",
              "         [0., 0., 0., 0.],\n",
              "         [0., 0., 0., 0.]]],\n",
              "\n",
              "\n",
              "       [[[0., 0., 0., 0.],\n",
              "         [0., 0., 0., 0.],\n",
              "         [0., 0., 0., 0.],\n",
              "         [0., 0., 0., 0.]],\n",
              "\n",
              "        [[0., 0., 0., 0.],\n",
              "         [0., 0., 0., 0.],\n",
              "         [0., 0., 0., 0.],\n",
              "         [0., 0., 0., 0.]],\n",
              "\n",
              "        [[0., 0., 0., 0.],\n",
              "         [0., 0., 0., 0.],\n",
              "         [0., 0., 0., 0.],\n",
              "         [0., 0., 0., 0.]]]], dtype=float32)>"
            ]
          },
          "metadata": {},
          "execution_count": 35
        }
      ]
    },
    {
      "cell_type": "code",
      "source": [
        "# get the first element from except from the final one\n",
        "rank_4_tensor[:1, :1, :1]"
      ],
      "metadata": {
        "id": "9cLH_bk6BobI",
        "outputId": "0cecf4b6-b271-413a-884f-a8bc9c0322f3",
        "colab": {
          "base_uri": "https://localhost:8080/"
        }
      },
      "execution_count": 36,
      "outputs": [
        {
          "output_type": "execute_result",
          "data": {
            "text/plain": [
              "<tf.Tensor: shape=(1, 1, 1, 5), dtype=float32, numpy=array([[[[0., 0., 0., 0., 0.]]]], dtype=float32)>"
            ]
          },
          "metadata": {},
          "execution_count": 36
        }
      ]
    },
    {
      "cell_type": "code",
      "source": [
        "# Create a rank 2 tensor\n",
        "rank_2_tensor = tf.constant([[1,2], [3,4]])\n",
        "tensor_info(rank_2_tensor), \"\\n\", rank_2_tensor"
      ],
      "metadata": {
        "id": "UnB8p3kaCbDt",
        "outputId": "8ad80728-b21d-49bc-b9c1-89dbc44e4e16",
        "colab": {
          "base_uri": "https://localhost:8080/"
        }
      },
      "execution_count": 37,
      "outputs": [
        {
          "output_type": "stream",
          "name": "stdout",
          "text": [
            "Datatype of every element:  <dtype: 'int32'>\n",
            "Number of dimensions (rank):  2\n",
            "Shape:  (2, 2)\n",
            "Elements along the 0 axis:  2\n",
            "Elements along the last axis:  2\n",
            "Total number of elements:  tf.Tensor(4, shape=(), dtype=int32)\n",
            "Total number of elements (plain):  4\n"
          ]
        },
        {
          "output_type": "execute_result",
          "data": {
            "text/plain": [
              "(None, '\\n', <tf.Tensor: shape=(2, 2), dtype=int32, numpy=\n",
              " array([[1, 2],\n",
              "        [3, 4]], dtype=int32)>)"
            ]
          },
          "metadata": {},
          "execution_count": 37
        }
      ]
    },
    {
      "cell_type": "code",
      "source": [
        "# Get last item of each row\n",
        "rank_2_tensor[:, -1]"
      ],
      "metadata": {
        "id": "HEzogR2nD4hn",
        "outputId": "145f627c-6cdf-4619-d831-05d905a90cc9",
        "colab": {
          "base_uri": "https://localhost:8080/"
        }
      },
      "execution_count": 38,
      "outputs": [
        {
          "output_type": "execute_result",
          "data": {
            "text/plain": [
              "<tf.Tensor: shape=(2,), dtype=int32, numpy=array([2, 4], dtype=int32)>"
            ]
          },
          "metadata": {},
          "execution_count": 38
        }
      ]
    },
    {
      "cell_type": "code",
      "source": [
        "# Add extra dimension (important)\n",
        "\n",
        "# 1st alternative\n",
        "rank_3_tensor = rank_2_tensor[..., tf.newaxis] # ... = every previous axis, same as [:, :, tf.newaxis]\n",
        "rank_3_tensor"
      ],
      "metadata": {
        "id": "Z6ThKImXEMGt",
        "outputId": "006ac457-c76c-4fdb-eb81-79a84e3279ee",
        "colab": {
          "base_uri": "https://localhost:8080/"
        }
      },
      "execution_count": 39,
      "outputs": [
        {
          "output_type": "execute_result",
          "data": {
            "text/plain": [
              "<tf.Tensor: shape=(2, 2, 1), dtype=int32, numpy=\n",
              "array([[[1],\n",
              "        [2]],\n",
              "\n",
              "       [[3],\n",
              "        [4]]], dtype=int32)>"
            ]
          },
          "metadata": {},
          "execution_count": 39
        }
      ]
    },
    {
      "cell_type": "code",
      "source": [
        "# 2nd alternative\n",
        "tf.expand_dims(rank_2_tensor, axis=-1) # -1 = expand final axis"
      ],
      "metadata": {
        "id": "xBmt2enCFLLV",
        "outputId": "a0de5002-7db4-4549-ad19-dbfeae0e12d4",
        "colab": {
          "base_uri": "https://localhost:8080/"
        }
      },
      "execution_count": 40,
      "outputs": [
        {
          "output_type": "execute_result",
          "data": {
            "text/plain": [
              "<tf.Tensor: shape=(2, 2, 1), dtype=int32, numpy=\n",
              "array([[[1],\n",
              "        [2]],\n",
              "\n",
              "       [[3],\n",
              "        [4]]], dtype=int32)>"
            ]
          },
          "metadata": {},
          "execution_count": 40
        }
      ]
    },
    {
      "cell_type": "code",
      "source": [
        "tf.expand_dims(rank_2_tensor, axis=0) # expand 0-axis"
      ],
      "metadata": {
        "id": "5l6BjPGIF-zh",
        "outputId": "4ca5034c-2a52-4028-a313-d6071e17e9fe",
        "colab": {
          "base_uri": "https://localhost:8080/"
        }
      },
      "execution_count": 41,
      "outputs": [
        {
          "output_type": "execute_result",
          "data": {
            "text/plain": [
              "<tf.Tensor: shape=(1, 2, 2), dtype=int32, numpy=\n",
              "array([[[1, 2],\n",
              "        [3, 4]]], dtype=int32)>"
            ]
          },
          "metadata": {},
          "execution_count": 41
        }
      ]
    },
    {
      "cell_type": "markdown",
      "source": [
        "### Manipulating tensors (tensor operations)\n",
        "\n",
        "**Basic  operations**\n",
        "\n",
        "+, -, *, /"
      ],
      "metadata": {
        "id": "1pxwofqMGa6_"
      }
    },
    {
      "cell_type": "code",
      "source": [
        "# add values using the additon operator\n",
        "# the original tensor stays unchanged of course\n",
        "\n",
        "tensor = tf.constant([[10,7], [3,4]])\n",
        "tensor + 10 # adds 10 to all elements in the tensor\n"
      ],
      "metadata": {
        "id": "rKQr24yeGfEe",
        "outputId": "c0cf30ee-eb73-41ff-97f4-5c3ade885230",
        "colab": {
          "base_uri": "https://localhost:8080/"
        }
      },
      "execution_count": 42,
      "outputs": [
        {
          "output_type": "execute_result",
          "data": {
            "text/plain": [
              "<tf.Tensor: shape=(2, 2), dtype=int32, numpy=\n",
              "array([[20, 17],\n",
              "       [13, 14]], dtype=int32)>"
            ]
          },
          "metadata": {},
          "execution_count": 42
        }
      ]
    },
    {
      "cell_type": "code",
      "source": [
        "tensor - 1 # same for subtraction"
      ],
      "metadata": {
        "id": "sAO7ozQoHD1u",
        "outputId": "8588e824-22ef-476d-a713-d90a5ca65fdf",
        "colab": {
          "base_uri": "https://localhost:8080/"
        }
      },
      "execution_count": 43,
      "outputs": [
        {
          "output_type": "execute_result",
          "data": {
            "text/plain": [
              "<tf.Tensor: shape=(2, 2), dtype=int32, numpy=\n",
              "array([[9, 6],\n",
              "       [2, 3]], dtype=int32)>"
            ]
          },
          "metadata": {},
          "execution_count": 43
        }
      ]
    },
    {
      "cell_type": "code",
      "source": [
        "tensor * 3"
      ],
      "metadata": {
        "id": "6wTiGYy5HO38",
        "outputId": "4bccf430-2720-47b1-84cd-9cff570b77ec",
        "colab": {
          "base_uri": "https://localhost:8080/"
        }
      },
      "execution_count": 44,
      "outputs": [
        {
          "output_type": "execute_result",
          "data": {
            "text/plain": [
              "<tf.Tensor: shape=(2, 2), dtype=int32, numpy=\n",
              "array([[30, 21],\n",
              "       [ 9, 12]], dtype=int32)>"
            ]
          },
          "metadata": {},
          "execution_count": 44
        }
      ]
    },
    {
      "cell_type": "code",
      "source": [
        "tensor / 3 # also automatically converts to float"
      ],
      "metadata": {
        "id": "zPSvPg3RHSnk",
        "outputId": "e2e826f1-09ee-4c00-deea-c080e0eca504",
        "colab": {
          "base_uri": "https://localhost:8080/"
        }
      },
      "execution_count": 45,
      "outputs": [
        {
          "output_type": "execute_result",
          "data": {
            "text/plain": [
              "<tf.Tensor: shape=(2, 2), dtype=float64, numpy=\n",
              "array([[3.33333333, 2.33333333],\n",
              "       [1.        , 1.33333333]])>"
            ]
          },
          "metadata": {},
          "execution_count": 45
        }
      ]
    },
    {
      "cell_type": "code",
      "source": [
        "# using tf methods (tf.math.* and tf.* are equivalent but not all math.* methods exist on tf.*)\n",
        "tf.multiply(tensor, 5), tf.math.add(tensor, 5)"
      ],
      "metadata": {
        "id": "vI0hUhMRHywJ",
        "outputId": "6228642a-0463-401e-d298-48070c36668c",
        "colab": {
          "base_uri": "https://localhost:8080/"
        }
      },
      "execution_count": 46,
      "outputs": [
        {
          "output_type": "execute_result",
          "data": {
            "text/plain": [
              "(<tf.Tensor: shape=(2, 2), dtype=int32, numpy=\n",
              " array([[50, 35],\n",
              "        [15, 20]], dtype=int32)>, <tf.Tensor: shape=(2, 2), dtype=int32, numpy=\n",
              " array([[15, 12],\n",
              "        [ 8,  9]], dtype=int32)>)"
            ]
          },
          "metadata": {},
          "execution_count": 46
        }
      ]
    },
    {
      "cell_type": "markdown",
      "source": [
        "**For the engine to be able to split up operations, it is best to use the tf.* or tf.math.* methods, not the standard python operators**"
      ],
      "metadata": {
        "id": "HKFE8E_tIcP3"
      }
    },
    {
      "cell_type": "markdown",
      "source": [
        "### Matrix multiplication\n",
        "\n",
        "In machine learning, [matrix multiplication](https://www.mathsisfun.com/algebra/matrix-multiplying.html) is the most commoon tensor operation.\n",
        "\n",
        "A matrix multiplication is the result of the dot product (Skalarprodukt oder inneres Produkt) of rows and columns.\n",
        "\n",
        "![dot product](https://github.com/pkro/tensorflow_cert_training/blob/main/readme_images/dot_product.png?raw=1)\n",
        "\n",
        "[source](https://www.mathsisfun.com/algebra/matrix-multiplying.html)\n",
        "\n",
        "[Visualize matrix multiplication!](http://matrixmultiplication.xyz/)\n",
        "\n",
        "\n",
        "\n",
        "Rules: \n",
        "\n",
        "1) The *inner* dimensions must match, meaning that **the number of columns of the 1st matrix must equal the number of rows of the 2nd matrix.**\n",
        "\n",
        "2) The result will have the same number of rows as the 1st matrix and the same number of columns as the 2nd matrix (size is the same as the *outside* numbers)\n",
        "\n",
        "Inner / outer refers to the position of the dimensions in the multiplication:\n",
        "\n",
        "- **Inner**: Rows x **COLUMNS** * **ROWS** x Columns\n",
        "- **Outer**: **ROWS** x Columns * Rows x **COLUMNS**\n",
        "\n",
        "![matrix multiplication](https://github.com/pkro/tensorflow_cert_training/blob/main/readme_images/matrix_mult.png?raw=1)\n"
      ],
      "metadata": {
        "id": "KlKfC4EPI2bp"
      }
    },
    {
      "cell_type": "code",
      "source": [
        "# Matrix multiplication in tensorflow\n",
        "\n",
        "tf.matmul(tensor, tensor) # same as tf.linalg.matmul, used from here on out"
      ],
      "metadata": {
        "id": "ds6DXgObO3wy",
        "outputId": "7b3b6b45-6893-4562-9810-3643eba7d526",
        "colab": {
          "base_uri": "https://localhost:8080/"
        }
      },
      "execution_count": 47,
      "outputs": [
        {
          "output_type": "execute_result",
          "data": {
            "text/plain": [
              "<tf.Tensor: shape=(2, 2), dtype=int32, numpy=\n",
              "array([[121,  98],\n",
              "       [ 42,  37]], dtype=int32)>"
            ]
          },
          "metadata": {},
          "execution_count": 47
        }
      ]
    },
    {
      "cell_type": "code",
      "source": [
        "\n",
        "# \"real\" Matrix multiplication with python operator \"@\"\n",
        "tensor @ tensor"
      ],
      "metadata": {
        "id": "OK_oL8lTPSBT",
        "outputId": "a05834de-24d2-41dc-a5fa-fbdc76c9463a",
        "colab": {
          "base_uri": "https://localhost:8080/"
        }
      },
      "execution_count": 48,
      "outputs": [
        {
          "output_type": "execute_result",
          "data": {
            "text/plain": [
              "<tf.Tensor: shape=(2, 2), dtype=int32, numpy=\n",
              "array([[121,  98],\n",
              "       [ 42,  37]], dtype=int32)>"
            ]
          },
          "metadata": {},
          "execution_count": 48
        }
      ]
    },
    {
      "cell_type": "code",
      "source": [
        "# Element-wise matrix multiplication with python operator \"*\"\n",
        "tensor * tensor # (10*10, 7*7, 3*3, 4*4)"
      ],
      "metadata": {
        "id": "oM61oWoNPkcY",
        "outputId": "72a69e26-80fb-4d44-89b3-3600fe1af278",
        "colab": {
          "base_uri": "https://localhost:8080/"
        }
      },
      "execution_count": 49,
      "outputs": [
        {
          "output_type": "execute_result",
          "data": {
            "text/plain": [
              "<tf.Tensor: shape=(2, 2), dtype=int32, numpy=\n",
              "array([[100,  49],\n",
              "       [  9,  16]], dtype=int32)>"
            ]
          },
          "metadata": {},
          "execution_count": 49
        }
      ]
    },
    {
      "cell_type": "code",
      "source": [
        "# Create 2 tensors of shape (3,2)\n",
        "X = tf.constant([[1,2], [3,4], [5,6]]) # 3 rows, 2 columns\n",
        "Y = tf.constant([[7,8], [9,10], [11,12]]) # 3 rows, 2 columns\n",
        "\n",
        "try:\n",
        "  tf.matmul(X, Y) # matrix size incompatible! See rule #1, inner dimensions must match - num rows m1 must be num cols m2\n",
        "except tf.errors.InvalidArgumentError as err:\n",
        "    print(err)"
      ],
      "metadata": {
        "id": "kIEH2eChP5hF",
        "outputId": "859ad4a4-eb0f-4a5c-8062-98bcb62173ae",
        "colab": {
          "base_uri": "https://localhost:8080/"
        }
      },
      "execution_count": 50,
      "outputs": [
        {
          "output_type": "stream",
          "name": "stdout",
          "text": [
            "{{function_node __wrapped__MatMul_device_/job:localhost/replica:0/task:0/device:CPU:0}} Matrix size-incompatible: In[0]: [3,2], In[1]: [3,2] [Op:MatMul]\n"
          ]
        }
      ]
    },
    {
      "cell_type": "code",
      "source": [
        "# Let's change the shape of Y (doesn't the matrix have an entire different meaning then?)\n",
        "print(Y, \"\\n\")\n",
        "tf.reshape(Y, shape=(2,3))"
      ],
      "metadata": {
        "id": "LA1plGrESIk6",
        "outputId": "d504b2f3-0f09-42a1-c71d-6595db18901f",
        "colab": {
          "base_uri": "https://localhost:8080/"
        }
      },
      "execution_count": 51,
      "outputs": [
        {
          "output_type": "stream",
          "name": "stdout",
          "text": [
            "tf.Tensor(\n",
            "[[ 7  8]\n",
            " [ 9 10]\n",
            " [11 12]], shape=(3, 2), dtype=int32) \n",
            "\n"
          ]
        },
        {
          "output_type": "execute_result",
          "data": {
            "text/plain": [
              "<tf.Tensor: shape=(2, 3), dtype=int32, numpy=\n",
              "array([[ 7,  8,  9],\n",
              "       [10, 11, 12]], dtype=int32)>"
            ]
          },
          "metadata": {},
          "execution_count": 51
        }
      ]
    },
    {
      "cell_type": "code",
      "source": [
        "# try to multipley X by reshaped Y\n",
        "X @ tf.reshape(X, shape=(2, 3))"
      ],
      "metadata": {
        "colab": {
          "base_uri": "https://localhost:8080/"
        },
        "id": "e64X77nBb2E_",
        "outputId": "35639372-e0fc-41b1-89be-7d2967c7f4b5"
      },
      "execution_count": 52,
      "outputs": [
        {
          "output_type": "execute_result",
          "data": {
            "text/plain": [
              "<tf.Tensor: shape=(3, 3), dtype=int32, numpy=\n",
              "array([[ 9, 12, 15],\n",
              "       [19, 26, 33],\n",
              "       [29, 40, 51]], dtype=int32)>"
            ]
          },
          "metadata": {},
          "execution_count": 52
        }
      ]
    },
    {
      "cell_type": "code",
      "source": [
        "X.shape, tf.reshape(Y, shape=(2,3)).shape"
      ],
      "metadata": {
        "colab": {
          "base_uri": "https://localhost:8080/"
        },
        "id": "j1xbeJKBcOKr",
        "outputId": "0ced9792-a15a-44b5-97ea-0d0ee574f7cc"
      },
      "execution_count": 53,
      "outputs": [
        {
          "output_type": "execute_result",
          "data": {
            "text/plain": [
              "(TensorShape([3, 2]), TensorShape([2, 3]))"
            ]
          },
          "metadata": {},
          "execution_count": 53
        }
      ]
    },
    {
      "cell_type": "code",
      "source": [
        "tf.matmul(X, tf.reshape(Y, shape=(2,3))) # works the same as @"
      ],
      "metadata": {
        "colab": {
          "base_uri": "https://localhost:8080/"
        },
        "id": "dRTm8jTOcbtJ",
        "outputId": "7e44a396-34c8-4468-ef0e-962883703369"
      },
      "execution_count": 54,
      "outputs": [
        {
          "output_type": "execute_result",
          "data": {
            "text/plain": [
              "<tf.Tensor: shape=(3, 3), dtype=int32, numpy=\n",
              "array([[ 27,  30,  33],\n",
              "       [ 61,  68,  75],\n",
              "       [ 95, 106, 117]], dtype=int32)>"
            ]
          },
          "metadata": {},
          "execution_count": 54
        }
      ]
    },
    {
      "cell_type": "code",
      "source": [
        "# try changing X instead of Y\n",
        "tf.reshape(X, shape=(2,3)) @ Y"
      ],
      "metadata": {
        "colab": {
          "base_uri": "https://localhost:8080/"
        },
        "id": "hjV-bopecuhA",
        "outputId": "772ce4bb-eaf8-4cb6-bcab-0139030884f7"
      },
      "execution_count": 55,
      "outputs": [
        {
          "output_type": "execute_result",
          "data": {
            "text/plain": [
              "<tf.Tensor: shape=(2, 2), dtype=int32, numpy=\n",
              "array([[ 58,  64],\n",
              "       [139, 154]], dtype=int32)>"
            ]
          },
          "metadata": {},
          "execution_count": 55
        }
      ]
    },
    {
      "cell_type": "markdown",
      "source": [
        "-> Reshaping X works, too, but the result is different as now the *outer* dimensions is 2 for both."
      ],
      "metadata": {
        "id": "stNAt0-FdVMp"
      }
    },
    {
      "cell_type": "code",
      "source": [
        "# we can do the same with transpose, but it does a different thing than reshape\n",
        "X, tf.transpose(X), tf.reshape(X, shape=(2,3))"
      ],
      "metadata": {
        "colab": {
          "base_uri": "https://localhost:8080/"
        },
        "id": "H3CiSoZ-eB1m",
        "outputId": "52a7ae63-af64-4386-a226-61653e334d07"
      },
      "execution_count": 56,
      "outputs": [
        {
          "output_type": "execute_result",
          "data": {
            "text/plain": [
              "(<tf.Tensor: shape=(3, 2), dtype=int32, numpy=\n",
              " array([[1, 2],\n",
              "        [3, 4],\n",
              "        [5, 6]], dtype=int32)>, <tf.Tensor: shape=(2, 3), dtype=int32, numpy=\n",
              " array([[1, 3, 5],\n",
              "        [2, 4, 6]], dtype=int32)>, <tf.Tensor: shape=(2, 3), dtype=int32, numpy=\n",
              " array([[1, 2, 3],\n",
              "        [4, 5, 6]], dtype=int32)>)"
            ]
          },
          "metadata": {},
          "execution_count": 56
        }
      ]
    },
    {
      "cell_type": "markdown",
      "source": [
        "- [transpose](https://www.tensorflow.org/api_docs/python/tf/transpose) flips the axes' \n",
        "- [reshape](https://www.tensorflow.org/api_docs/python/tf/reshape) assigns the numbers lineary from top left to bottom right in the same order but in a different shape (\"Given tensor, this operation returns a new tf.Tensor that has the same values as tensor in the same order, except with a new shape given by shape.\")\n",
        "\n",
        "They don't give the same results in the resulting matrix or the multiplication result."
      ],
      "metadata": {
        "id": "K3VIhJs2eXvm"
      }
    },
    {
      "cell_type": "code",
      "source": [
        "# try multiplication with transpose rather than reshape\n",
        "tf.transpose(X) @ Y"
      ],
      "metadata": {
        "colab": {
          "base_uri": "https://localhost:8080/"
        },
        "id": "tAVs25wHfU5c",
        "outputId": "dd89f6d7-b41a-4bd0-da53-68add6ff46bd"
      },
      "execution_count": 57,
      "outputs": [
        {
          "output_type": "execute_result",
          "data": {
            "text/plain": [
              "<tf.Tensor: shape=(2, 2), dtype=int32, numpy=\n",
              "array([[ 89,  98],\n",
              "       [116, 128]], dtype=int32)>"
            ]
          },
          "metadata": {},
          "execution_count": 57
        }
      ]
    },
    {
      "cell_type": "markdown",
      "source": [
        "**"
      ],
      "metadata": {
        "id": "-Z0nqvVsgDEz"
      }
    },
    {
      "cell_type": "markdown",
      "source": [
        "**The dot product**\n",
        "\n",
        "Matrix multiplication is also referred to as the dot product.\n",
        "\n",
        "You can perform matrix multiplication using:\n",
        "\n",
        "- `tf.matmul()`\n",
        "- [`tf.tensordot()`](https://www.tensorflow.org/api_docs/python/tf/tensordot)\n"
      ],
      "metadata": {
        "id": "cz4oiVgbgE3M"
      }
    },
    {
      "cell_type": "code",
      "source": [
        "X, Y # little reminder"
      ],
      "metadata": {
        "colab": {
          "base_uri": "https://localhost:8080/"
        },
        "id": "P-xYe4UlgrH6",
        "outputId": "58a79061-9d3b-4a5a-f086-0c3d5a9c489a"
      },
      "execution_count": 58,
      "outputs": [
        {
          "output_type": "execute_result",
          "data": {
            "text/plain": [
              "(<tf.Tensor: shape=(3, 2), dtype=int32, numpy=\n",
              " array([[1, 2],\n",
              "        [3, 4],\n",
              "        [5, 6]], dtype=int32)>, <tf.Tensor: shape=(3, 2), dtype=int32, numpy=\n",
              " array([[ 7,  8],\n",
              "        [ 9, 10],\n",
              "        [11, 12]], dtype=int32)>)"
            ]
          },
          "metadata": {},
          "execution_count": 58
        }
      ]
    },
    {
      "cell_type": "code",
      "source": [
        "# Perfomr dot product on X and Y (requires X or Y to be transposed)\n",
        "tf.tensordot(tf.transpose(X), Y, axes=1)"
      ],
      "metadata": {
        "colab": {
          "base_uri": "https://localhost:8080/"
        },
        "id": "1Ux2SJBVgazF",
        "outputId": "9eec2d0c-4bb3-4788-fe01-da95bf6c4cec"
      },
      "execution_count": 59,
      "outputs": [
        {
          "output_type": "execute_result",
          "data": {
            "text/plain": [
              "<tf.Tensor: shape=(2, 2), dtype=int32, numpy=\n",
              "array([[ 89,  98],\n",
              "       [116, 128]], dtype=int32)>"
            ]
          },
          "metadata": {},
          "execution_count": 59
        }
      ]
    },
    {
      "cell_type": "code",
      "source": [
        "# Perform matrix multiplication between X and Y (transposed)\n",
        "tf.matmul(X, tf.transpose(Y))"
      ],
      "metadata": {
        "colab": {
          "base_uri": "https://localhost:8080/"
        },
        "id": "8zmJGRYRhSIn",
        "outputId": "ffcf739f-566b-43d7-afba-c110b67baac1"
      },
      "execution_count": 60,
      "outputs": [
        {
          "output_type": "execute_result",
          "data": {
            "text/plain": [
              "<tf.Tensor: shape=(3, 3), dtype=int32, numpy=\n",
              "array([[ 23,  29,  35],\n",
              "       [ 53,  67,  81],\n",
              "       [ 83, 105, 127]], dtype=int32)>"
            ]
          },
          "metadata": {},
          "execution_count": 60
        }
      ]
    },
    {
      "cell_type": "code",
      "source": [
        "# Perform matrix multiplication between X and Y (reshaped)\n",
        "tf.matmul(X, tf.reshape(Y, shape=(2,3)))"
      ],
      "metadata": {
        "colab": {
          "base_uri": "https://localhost:8080/"
        },
        "id": "rhFfVMAVhkWU",
        "outputId": "a0528ed7-cf9a-452e-bf1e-8d5a585030d4"
      },
      "execution_count": 61,
      "outputs": [
        {
          "output_type": "execute_result",
          "data": {
            "text/plain": [
              "<tf.Tensor: shape=(3, 3), dtype=int32, numpy=\n",
              "array([[ 27,  30,  33],\n",
              "       [ 61,  68,  75],\n",
              "       [ 95, 106, 117]], dtype=int32)>"
            ]
          },
          "metadata": {},
          "execution_count": 61
        }
      ]
    },
    {
      "cell_type": "code",
      "source": [
        "# Check the values of Y, reshape Y and transpose Y\n",
        "print(\"Normal Y: \")\n",
        "print(Y, \"\\n\")\n",
        "\n",
        "print(\"Y reshaped to (2, 3): \")\n",
        "print(tf.reshape(Y, (2, 3)), \"\\n\")\n",
        "\n",
        "print(\"Y transposed: \")\n",
        "print(tf.transpose(Y), \"\\n\")"
      ],
      "metadata": {
        "colab": {
          "base_uri": "https://localhost:8080/"
        },
        "id": "j3Q5NWFdh1ET",
        "outputId": "d53645ef-4afc-4332-8016-c0f22804ce57"
      },
      "execution_count": 62,
      "outputs": [
        {
          "output_type": "stream",
          "name": "stdout",
          "text": [
            "Normal Y: \n",
            "tf.Tensor(\n",
            "[[ 7  8]\n",
            " [ 9 10]\n",
            " [11 12]], shape=(3, 2), dtype=int32) \n",
            "\n",
            "Y reshaped to (2, 3): \n",
            "tf.Tensor(\n",
            "[[ 7  8  9]\n",
            " [10 11 12]], shape=(2, 3), dtype=int32) \n",
            "\n",
            "Y transposed: \n",
            "tf.Tensor(\n",
            "[[ 7  9 11]\n",
            " [ 8 10 12]], shape=(2, 3), dtype=int32) \n",
            "\n"
          ]
        }
      ]
    },
    {
      "cell_type": "code",
      "source": [
        "tf.matmul(X, tf.transpose(Y))"
      ],
      "metadata": {
        "colab": {
          "base_uri": "https://localhost:8080/"
        },
        "id": "KaBqQYyIiyi_",
        "outputId": "d8677be6-eb66-477d-faab-e5491e87a355"
      },
      "execution_count": 63,
      "outputs": [
        {
          "output_type": "execute_result",
          "data": {
            "text/plain": [
              "<tf.Tensor: shape=(3, 3), dtype=int32, numpy=\n",
              "array([[ 23,  29,  35],\n",
              "       [ 53,  67,  81],\n",
              "       [ 83, 105, 127]], dtype=int32)>"
            ]
          },
          "metadata": {},
          "execution_count": 63
        }
      ]
    },
    {
      "cell_type": "markdown",
      "source": [
        "Most matrix modification is done behind the scenes in tensorflow, meaning it doesn't have to be done by hand a lot.\n",
        "\n",
        "**Generally, if tensor dimensions don't line up, one of the tensors should be transposed and not reshaped to satisfy the matrix multiplication rules.**"
      ],
      "metadata": {
        "id": "PG7ImOtH29sd"
      }
    },
    {
      "cell_type": "markdown",
      "source": [
        "### Changing the datatype of tensors\n",
        "\n",
        "Default datatype is mostly int32 or float32, depending on the data inside the tensor. Models / data with lower precision types (or mixed precision) can run faster on gpus and in general.\n",
        "\n",
        "https://www.tensorflow.org/guide/mixed_precision\n"
      ],
      "metadata": {
        "id": "WckNTRy13nTa"
      }
    },
    {
      "cell_type": "code",
      "source": [
        "# create tensor with default datatype (float32 fpr floats)\n",
        "B = tf.constant([1.7, 7.4])\n",
        "B.dtype"
      ],
      "metadata": {
        "id": "Aym0Xp7b3yoQ",
        "outputId": "4b108165-1eba-4647-8837-1b4ba523ec10",
        "colab": {
          "base_uri": "https://localhost:8080/"
        }
      },
      "execution_count": 64,
      "outputs": [
        {
          "output_type": "execute_result",
          "data": {
            "text/plain": [
              "tf.float32"
            ]
          },
          "metadata": {},
          "execution_count": 64
        }
      ]
    },
    {
      "cell_type": "code",
      "source": [
        "# int32 for integers\n",
        "C = tf.constant([7,10])\n",
        "C.dtype"
      ],
      "metadata": {
        "id": "rb84yfPx4RXm",
        "outputId": "29450a19-137c-47ea-c560-c22768a10e2d",
        "colab": {
          "base_uri": "https://localhost:8080/"
        }
      },
      "execution_count": 65,
      "outputs": [
        {
          "output_type": "execute_result",
          "data": {
            "text/plain": [
              "tf.int32"
            ]
          },
          "metadata": {},
          "execution_count": 65
        }
      ]
    },
    {
      "cell_type": "code",
      "source": [
        "# change from float32 to float16 (reduced precission)\n",
        "D = tf.cast(C, tf.float16)\n",
        "D, D.dtype"
      ],
      "metadata": {
        "id": "f98CXH_34cBb",
        "outputId": "8ab6adde-0560-48fa-9e29-67dca4789906",
        "colab": {
          "base_uri": "https://localhost:8080/"
        }
      },
      "execution_count": 66,
      "outputs": [
        {
          "output_type": "execute_result",
          "data": {
            "text/plain": [
              "(<tf.Tensor: shape=(2,), dtype=float16, numpy=array([ 7., 10.], dtype=float16)>,\n",
              " tf.float16)"
            ]
          },
          "metadata": {},
          "execution_count": 66
        }
      ]
    },
    {
      "cell_type": "code",
      "source": [
        "# change from int32 to float32\n",
        "E = tf.cast(C, dtype=tf.float32)\n",
        "E"
      ],
      "metadata": {
        "id": "2CG-eT9P3o0c",
        "outputId": "ec16ebcd-b55d-4e2c-d9ee-b7e9aa5f05af",
        "colab": {
          "base_uri": "https://localhost:8080/"
        }
      },
      "execution_count": 67,
      "outputs": [
        {
          "output_type": "execute_result",
          "data": {
            "text/plain": [
              "<tf.Tensor: shape=(2,), dtype=float32, numpy=array([ 7., 10.], dtype=float32)>"
            ]
          },
          "metadata": {},
          "execution_count": 67
        }
      ]
    },
    {
      "cell_type": "code",
      "source": [
        "# casting from float to int removes decimals\n",
        "F = tf.cast(B, dtype=tf.int32)\n",
        "F"
      ],
      "metadata": {
        "id": "b-wkbiU15_3k",
        "outputId": "a57d675b-5b12-479f-c416-f308ff663aa8",
        "colab": {
          "base_uri": "https://localhost:8080/"
        }
      },
      "execution_count": 68,
      "outputs": [
        {
          "output_type": "execute_result",
          "data": {
            "text/plain": [
              "<tf.Tensor: shape=(2,), dtype=int32, numpy=array([1, 7], dtype=int32)>"
            ]
          },
          "metadata": {},
          "execution_count": 68
        }
      ]
    },
    {
      "cell_type": "markdown",
      "source": [
        "### Aggregating tensors\n",
        "\n",
        "Aggregating tensors = condensing them from multiple values down to a smaller amount of values.\n"
      ],
      "metadata": {
        "id": "fB_Q9oTj6WBa"
      }
    },
    {
      "cell_type": "code",
      "source": [
        "# Get the absolute values\n",
        "D = tf.constant([-1, -10])\n",
        "D"
      ],
      "metadata": {
        "id": "O209aAUfjHkt",
        "outputId": "502cfea7-782f-4530-9d5d-e375dcd2a3e5",
        "colab": {
          "base_uri": "https://localhost:8080/"
        }
      },
      "execution_count": 69,
      "outputs": [
        {
          "output_type": "execute_result",
          "data": {
            "text/plain": [
              "<tf.Tensor: shape=(2,), dtype=int32, numpy=array([ -1, -10], dtype=int32)>"
            ]
          },
          "metadata": {},
          "execution_count": 69
        }
      ]
    },
    {
      "cell_type": "code",
      "source": [
        "# get the absolute values (turn negative into positive numbers)\n",
        "tf.abs(D)"
      ],
      "metadata": {
        "id": "hCLLaenwjPUK",
        "outputId": "918af9a0-5b55-4ab3-b4ad-9dd4f6b3e2c9",
        "colab": {
          "base_uri": "https://localhost:8080/"
        }
      },
      "execution_count": 70,
      "outputs": [
        {
          "output_type": "execute_result",
          "data": {
            "text/plain": [
              "<tf.Tensor: shape=(2,), dtype=int32, numpy=array([ 1, 10], dtype=int32)>"
            ]
          },
          "metadata": {},
          "execution_count": 70
        }
      ]
    },
    {
      "cell_type": "markdown",
      "source": [
        "More forms of aggregation:\n",
        "\n",
        "- get the minimum\n",
        "- get the maximum\n",
        "- get the mean\n",
        "- get the sum"
      ],
      "metadata": {
        "id": "w_9VUypSksKR"
      }
    },
    {
      "cell_type": "code",
      "source": [
        "# Minimum\n",
        "d_min = tf.math.reduce_min(D)\n",
        "d_min"
      ],
      "metadata": {
        "id": "wmOXy-PZk4Wa",
        "outputId": "c30c7ca6-2a63-4902-9703-ade1a8e5e8a2",
        "colab": {
          "base_uri": "https://localhost:8080/"
        }
      },
      "execution_count": 71,
      "outputs": [
        {
          "output_type": "execute_result",
          "data": {
            "text/plain": [
              "<tf.Tensor: shape=(), dtype=int32, numpy=-10>"
            ]
          },
          "metadata": {},
          "execution_count": 71
        }
      ]
    },
    {
      "cell_type": "code",
      "source": [
        "# Maximum\n",
        "d_min = tf.math.reduce_max(D)\n",
        "d_min"
      ],
      "metadata": {
        "id": "v_CflbIwlYho",
        "outputId": "c37a997c-de2a-40f8-86de-66ac03252815",
        "colab": {
          "base_uri": "https://localhost:8080/"
        }
      },
      "execution_count": 72,
      "outputs": [
        {
          "output_type": "execute_result",
          "data": {
            "text/plain": [
              "<tf.Tensor: shape=(), dtype=int32, numpy=-1>"
            ]
          },
          "metadata": {},
          "execution_count": 72
        }
      ]
    },
    {
      "cell_type": "code",
      "source": [
        "# mean\n",
        "d_mean = tf.math.reduce_mean(D, 0)\n",
        "d_mean"
      ],
      "metadata": {
        "id": "dB75qHxOljmv",
        "outputId": "02dd7e04-3d89-4d78-fa95-d284d4bf1283",
        "colab": {
          "base_uri": "https://localhost:8080/"
        }
      },
      "execution_count": 73,
      "outputs": [
        {
          "output_type": "execute_result",
          "data": {
            "text/plain": [
              "<tf.Tensor: shape=(), dtype=int32, numpy=-5>"
            ]
          },
          "metadata": {},
          "execution_count": 73
        }
      ]
    },
    {
      "cell_type": "code",
      "source": [
        "# sum\n",
        "# d_sum = tf.math.add_n(D) works on 1d tensor though\n",
        "d_sum = tf.math.reduce_sum(D)\n",
        "d_sum"
      ],
      "metadata": {
        "id": "Rsxy9Njcl57D",
        "outputId": "c3a09db8-411a-4fcf-a5c9-be78b72a8353",
        "colab": {
          "base_uri": "https://localhost:8080/"
        }
      },
      "execution_count": 74,
      "outputs": [
        {
          "output_type": "execute_result",
          "data": {
            "text/plain": [
              "<tf.Tensor: shape=(), dtype=int32, numpy=-11>"
            ]
          },
          "metadata": {},
          "execution_count": 74
        }
      ]
    },
    {
      "cell_type": "markdown",
      "source": [
        "Same on 2d tensor / matrix\n"
      ],
      "metadata": {
        "id": "S7GVn3lxmTBx"
      }
    },
    {
      "cell_type": "code",
      "source": [
        "# create a large-ish random 2d tensor (tensor of dimension 2)\n",
        "t = tf.constant(np.random.randint(0, 100, size=50))\n",
        "t = tf.reshape(t, shape=(5, 10))\n",
        "t, t.ndim"
      ],
      "metadata": {
        "id": "BJfciasSmaao",
        "outputId": "11b9675f-ecbb-4924-d52d-004fc3a911cf",
        "colab": {
          "base_uri": "https://localhost:8080/"
        }
      },
      "execution_count": 75,
      "outputs": [
        {
          "output_type": "execute_result",
          "data": {
            "text/plain": [
              "(<tf.Tensor: shape=(5, 10), dtype=int64, numpy=\n",
              " array([[ 8, 58, 78, 25, 37, 34, 29,  5, 61, 38],\n",
              "        [13, 97, 76, 83, 91, 48, 98, 70, 23, 47],\n",
              "        [93, 91, 49, 12, 36, 60, 32, 84, 15, 30],\n",
              "        [ 3, 91, 54, 72, 65, 78, 48, 73, 57, 65],\n",
              "        [95, 37, 71, 75,  2, 57, 92, 55, 64, 20]])>, 2)"
            ]
          },
          "metadata": {},
          "execution_count": 75
        }
      ]
    },
    {
      "cell_type": "code",
      "source": [
        "# Minimum of each row\n",
        "t_min_in_rows = tf.math.reduce_min(t, axis=1)\n",
        "t_min_in_rows"
      ],
      "metadata": {
        "id": "mR2nGjMimgFY",
        "outputId": "323a19f5-944d-4e11-9320-0185bd1c4d07",
        "colab": {
          "base_uri": "https://localhost:8080/"
        }
      },
      "execution_count": 76,
      "outputs": [
        {
          "output_type": "execute_result",
          "data": {
            "text/plain": [
              "<tf.Tensor: shape=(5,), dtype=int64, numpy=array([ 5, 13, 12,  3,  2])>"
            ]
          },
          "metadata": {},
          "execution_count": 76
        }
      ]
    },
    {
      "cell_type": "code",
      "source": [
        "# Minimum of each column\n",
        "t_min_in_cols = tf.math.reduce_min(t, axis=0)\n",
        "t_min_in_cols"
      ],
      "metadata": {
        "id": "WyBc2s2JnPoB",
        "outputId": "50c1df0d-2b51-4d6c-bb4c-be9a08abf180",
        "colab": {
          "base_uri": "https://localhost:8080/"
        }
      },
      "execution_count": 77,
      "outputs": [
        {
          "output_type": "execute_result",
          "data": {
            "text/plain": [
              "<tf.Tensor: shape=(10,), dtype=int64, numpy=array([ 3, 37, 49, 12,  2, 34, 29,  5, 15, 20])>"
            ]
          },
          "metadata": {},
          "execution_count": 77
        }
      ]
    },
    {
      "cell_type": "code",
      "source": [
        "# mean (rows)\n",
        "t_mean_rows = tf.math.reduce_mean(t, axis=1)\n",
        "t_mean_rows"
      ],
      "metadata": {
        "id": "Nh5fkvTOnjzH",
        "outputId": "00330666-f882-4c9b-c6c3-3ec4d86991b7",
        "colab": {
          "base_uri": "https://localhost:8080/"
        }
      },
      "execution_count": 78,
      "outputs": [
        {
          "output_type": "execute_result",
          "data": {
            "text/plain": [
              "<tf.Tensor: shape=(5,), dtype=int64, numpy=array([37, 64, 50, 60, 56])>"
            ]
          },
          "metadata": {},
          "execution_count": 78
        }
      ]
    },
    {
      "cell_type": "code",
      "source": [
        "# mean (columns)\n",
        "t_mean_columns = tf.math.reduce_mean(t, axis=0)\n",
        "t_mean_columns"
      ],
      "metadata": {
        "id": "MVem19Q-oSDV",
        "outputId": "14e25eda-aa75-4c90-f0be-2f8b96ae67da",
        "colab": {
          "base_uri": "https://localhost:8080/"
        }
      },
      "execution_count": 79,
      "outputs": [
        {
          "output_type": "execute_result",
          "data": {
            "text/plain": [
              "<tf.Tensor: shape=(10,), dtype=int64, numpy=array([42, 74, 65, 53, 46, 55, 59, 57, 44, 40])>"
            ]
          },
          "metadata": {},
          "execution_count": 79
        }
      ]
    },
    {
      "cell_type": "code",
      "source": [
        "# sum (rows)\n",
        "t_sum_rows = tf.math.reduce_sum(t, axis=1)\n",
        "t_sum_rows"
      ],
      "metadata": {
        "id": "xUQWOJ_0oZv8",
        "outputId": "8691156d-4aba-43e0-8708-68b5e087501a",
        "colab": {
          "base_uri": "https://localhost:8080/"
        }
      },
      "execution_count": 80,
      "outputs": [
        {
          "output_type": "execute_result",
          "data": {
            "text/plain": [
              "<tf.Tensor: shape=(5,), dtype=int64, numpy=array([373, 646, 502, 606, 568])>"
            ]
          },
          "metadata": {},
          "execution_count": 80
        }
      ]
    },
    {
      "cell_type": "markdown",
      "source": [
        "***Exercise***: find variance and standard deviation of `t`"
      ],
      "metadata": {
        "id": "-qDsequFpjwk"
      }
    },
    {
      "cell_type": "markdown",
      "source": [
        "#### Standard deviation\n",
        "\n",
        "The standard deviation is the average amount of variability in your data set. It tells you, on average, how far each score lies from the mean.\n",
        "\n",
        ">For a finite set of numbers, the population standard deviation is found by taking the square root of the average of the squared deviations of the values subtracted from their average value.\n",
        "\n",
        "[on wikipedia](https://en.wikipedia.org/wiki/Standard_deviation)\n",
        "\n",
        "[on khan academy](https://www.khanacademy.org/math/statistics-probability/summarizing-quantitative-data/variance-standard-deviation-population/a/calculating-standard-deviation-step-by-step)\n",
        "\n",
        "It is used to \n",
        "\n",
        "- detect outliers in a dataset (and remove them if necessary)\n",
        "- scale values in different datasets (e.g. house prices and number of rooms) to the same scale (dividing the difference between the mean and each value by the standard deviation of the data)\n",
        "\n"
      ],
      "metadata": {
        "id": "JiUp2urRsKA1"
      }
    },
    {
      "cell_type": "code",
      "source": [
        "# cast to float as necessary for finding standard deviation and variance\n",
        "t_float = tf.cast(t, dtype=tf.float64)\n",
        "t_float"
      ],
      "metadata": {
        "id": "Vxo4v6gIrXXN",
        "outputId": "14a0c821-a397-402b-cb6c-1b9b340dcdbd",
        "colab": {
          "base_uri": "https://localhost:8080/"
        }
      },
      "execution_count": 81,
      "outputs": [
        {
          "output_type": "execute_result",
          "data": {
            "text/plain": [
              "<tf.Tensor: shape=(5, 10), dtype=float64, numpy=\n",
              "array([[ 8., 58., 78., 25., 37., 34., 29.,  5., 61., 38.],\n",
              "       [13., 97., 76., 83., 91., 48., 98., 70., 23., 47.],\n",
              "       [93., 91., 49., 12., 36., 60., 32., 84., 15., 30.],\n",
              "       [ 3., 91., 54., 72., 65., 78., 48., 73., 57., 65.],\n",
              "       [95., 37., 71., 75.,  2., 57., 92., 55., 64., 20.]])>"
            ]
          },
          "metadata": {},
          "execution_count": 81
        }
      ]
    },
    {
      "cell_type": "code",
      "source": [
        "# find standard deviation of whole tensor\n",
        "t_standard_deviation = tf.math.reduce_std(t_float)\n",
        "t_standard_deviation"
      ],
      "metadata": {
        "id": "RU0TK0Qyquoy",
        "outputId": "12eb3c42-a81d-459e-9688-e0a23b728b21",
        "colab": {
          "base_uri": "https://localhost:8080/"
        }
      },
      "execution_count": 82,
      "outputs": [
        {
          "output_type": "execute_result",
          "data": {
            "text/plain": [
              "<tf.Tensor: shape=(), dtype=float64, numpy=27.993749302299612>"
            ]
          },
          "metadata": {},
          "execution_count": 82
        }
      ]
    },
    {
      "cell_type": "code",
      "source": [
        "# standard deviation of rows / columns\n",
        "print(tf.math.reduce_std(t_float, axis=1), \"\\n\") # rows\n",
        "print(tf.math.reduce_std(t_float, axis=0), \"\\n\") # columns"
      ],
      "metadata": {
        "id": "vkv5CN68rnjT",
        "outputId": "a4c72094-1166-4ad1-b76e-2bc70080bd86",
        "colab": {
          "base_uri": "https://localhost:8080/"
        }
      },
      "execution_count": 83,
      "outputs": [
        {
          "output_type": "stream",
          "name": "stdout",
          "text": [
            "tf.Tensor([21.8634398  28.87628785 28.94062888 22.54417885 28.34713389], shape=(5,), dtype=float64) \n",
            "\n",
            "tf.Tensor(\n",
            "[42.25446722 23.3615068  11.84229707 29.01447914 30.00933188 14.47204201\n",
            " 29.51880756 27.78920654 20.68816087 15.34926708], shape=(10,), dtype=float64) \n",
            "\n"
          ]
        }
      ]
    },
    {
      "cell_type": "markdown",
      "source": [
        "#### Variance\n",
        "\n",
        ">Population variance is a measure of how spread out a group of data points is. Specifically, it quantifies the average squared deviation from the mean. So, if all data points are very close to the mean, the variance will be small; if data points are spread out over a wide range, the variance will be larger. Created by Sal Khan.\n",
        "\n",
        "[source](https://www.khanacademy.org/math/statistics-probability/summarizing-quantitative-data/variance-standard-deviation-population/v/variance-of-a-population)\n"
      ],
      "metadata": {
        "id": "lAWkc_qgtEQL"
      }
    },
    {
      "cell_type": "code",
      "source": [
        "# variance whole tensor\n",
        "tf.math.reduce_variance(t_float)"
      ],
      "metadata": {
        "id": "Y0vlKsS8tdqK",
        "outputId": "1717a8c9-e20e-4ac7-cd20-2f8899e39994",
        "colab": {
          "base_uri": "https://localhost:8080/"
        }
      },
      "execution_count": 84,
      "outputs": [
        {
          "output_type": "execute_result",
          "data": {
            "text/plain": [
              "<tf.Tensor: shape=(), dtype=float64, numpy=783.65>"
            ]
          },
          "metadata": {},
          "execution_count": 84
        }
      ]
    },
    {
      "cell_type": "code",
      "source": [
        "# variance rows (for columns just change axis as before)\n",
        "tf.math.reduce_variance(t_float, axis=1)"
      ],
      "metadata": {
        "id": "hOnNvFN5trHr",
        "outputId": "28a54147-1236-44d5-ad0e-1c85f7dbf99f",
        "colab": {
          "base_uri": "https://localhost:8080/"
        }
      },
      "execution_count": 85,
      "outputs": [
        {
          "output_type": "execute_result",
          "data": {
            "text/plain": [
              "<tf.Tensor: shape=(5,), dtype=float64, numpy=array([478.01, 833.84, 837.56, 508.24, 803.56])>"
            ]
          },
          "metadata": {},
          "execution_count": 85
        }
      ]
    },
    {
      "cell_type": "markdown",
      "source": [
        "We can also use `tensorflow_probability` for these:"
      ],
      "metadata": {
        "id": "tAQAGzqpuO9G"
      }
    },
    {
      "cell_type": "code",
      "source": [
        "import tensorflow_probability as tfp\n",
        "print(tfp.stats.variance(t_float, sample_axis=1), \"\\n\")\n",
        "\n",
        "# we must specify an axis, so to use tfp.stats.variance on the whole matrix, we must reshape it to one dimension\n",
        "tfp.stats.variance(tf.reshape(t_float, shape=(50,)))"
      ],
      "metadata": {
        "id": "TCdUV7VfukLU",
        "outputId": "14f4c45a-bf61-45ee-d3a9-c4d095c2e9e8",
        "colab": {
          "base_uri": "https://localhost:8080/"
        }
      },
      "execution_count": 86,
      "outputs": [
        {
          "output_type": "stream",
          "name": "stdout",
          "text": [
            "tf.Tensor([478.01 833.84 837.56 508.24 803.56], shape=(5,), dtype=float64) \n",
            "\n"
          ]
        },
        {
          "output_type": "execute_result",
          "data": {
            "text/plain": [
              "<tf.Tensor: shape=(), dtype=float64, numpy=783.65>"
            ]
          },
          "metadata": {},
          "execution_count": 86
        }
      ]
    },
    {
      "cell_type": "markdown",
      "source": [
        "### Find the positional minimum and maximum\n",
        "\n",
        "- positional minimum: Returns the index with the smallest value across axes of a tensor. `tf.math.argmin`\n",
        "- positional maximum: Returns the index with the largest value across axes of a tensor. `tf.math.argmax`\n",
        "\n",
        "Use: when we have a matrix of prediction probabilites where the *columns* belong to labels and *rows* belong to the inputs:\n",
        "\n",
        "```\n",
        "# Spag   Ramen  Other\n",
        "[[0.983, 0.004, 0.013],\n",
        " [0.110, 0.235, 0.801],\n",
        " [0.023, 0.985, 0.27]]\n",
        "```\n",
        "\n",
        "we need the positional maximum - the index - to get the resulting label, e.g. row 3, index 1 => highest probability for input 3 is index 1 = Ramen\n"
      ],
      "metadata": {
        "id": "TjBQOdXGwFC1"
      }
    },
    {
      "cell_type": "code",
      "source": [
        "# tensor for finding positional min / max\n",
        "tf.random.set_seed(42)\n",
        "F = tf.random.uniform(shape=[50])\n",
        "F"
      ],
      "metadata": {
        "colab": {
          "base_uri": "https://localhost:8080/"
        },
        "id": "6SS2dtqsCiXV",
        "outputId": "6fac99ce-6ee7-473f-edb3-a67549302343"
      },
      "execution_count": 87,
      "outputs": [
        {
          "output_type": "execute_result",
          "data": {
            "text/plain": [
              "<tf.Tensor: shape=(50,), dtype=float32, numpy=\n",
              "array([0.6645621 , 0.44100678, 0.3528825 , 0.46448255, 0.03366041,\n",
              "       0.68467236, 0.74011743, 0.8724445 , 0.22632635, 0.22319686,\n",
              "       0.3103881 , 0.7223358 , 0.13318717, 0.5480639 , 0.5746088 ,\n",
              "       0.8996835 , 0.00946367, 0.5212307 , 0.6345445 , 0.1993283 ,\n",
              "       0.72942245, 0.54583454, 0.10756552, 0.6767061 , 0.6602763 ,\n",
              "       0.33695042, 0.60141766, 0.21062577, 0.8527372 , 0.44062173,\n",
              "       0.9485276 , 0.23752594, 0.81179297, 0.5263394 , 0.494308  ,\n",
              "       0.21612847, 0.8457197 , 0.8718841 , 0.3083862 , 0.6868038 ,\n",
              "       0.23764038, 0.7817228 , 0.9671384 , 0.06870162, 0.79873943,\n",
              "       0.66028714, 0.5871513 , 0.16461694, 0.7381023 , 0.32054043],\n",
              "      dtype=float32)>"
            ]
          },
          "metadata": {},
          "execution_count": 87
        }
      ]
    },
    {
      "cell_type": "code",
      "source": [
        "# find positional maximum and display its value\n",
        "tf.argmax(F), F[tf.argmax(F)]"
      ],
      "metadata": {
        "colab": {
          "base_uri": "https://localhost:8080/"
        },
        "id": "GMegqHp5C-gK",
        "outputId": "b7d8b298-8eb0-4ea0-c0f0-bfe4dd6c6f95"
      },
      "execution_count": 88,
      "outputs": [
        {
          "output_type": "execute_result",
          "data": {
            "text/plain": [
              "(<tf.Tensor: shape=(), dtype=int64, numpy=42>,\n",
              " <tf.Tensor: shape=(), dtype=float32, numpy=0.9671384>)"
            ]
          },
          "metadata": {},
          "execution_count": 88
        }
      ]
    },
    {
      "cell_type": "code",
      "source": [
        "# find positional minimum and display its value\n",
        "tf.argmin(F), F[tf.argmin(F)]"
      ],
      "metadata": {
        "colab": {
          "base_uri": "https://localhost:8080/"
        },
        "id": "RfyXLJysDdgN",
        "outputId": "b009888d-ce89-4e4b-8ccb-7faa45a90ea0"
      },
      "execution_count": 89,
      "outputs": [
        {
          "output_type": "execute_result",
          "data": {
            "text/plain": [
              "(<tf.Tensor: shape=(), dtype=int64, numpy=16>,\n",
              " <tf.Tensor: shape=(), dtype=float32, numpy=0.009463668>)"
            ]
          },
          "metadata": {},
          "execution_count": 89
        }
      ]
    },
    {
      "cell_type": "code",
      "source": [
        "# Find all positional maximums in a matrix\n",
        "F_2d = tf.random.uniform(shape=(5,5))\n",
        "print(F_2d, \"\\n\")\n",
        "max_indices = tf.argmax(F_2d, axis=0);\n",
        "print(\"max index for each row\\n\", max_indices)\n",
        "\n",
        "print(\"As table using python formatted string literals just for practice\")\n",
        "print([f\"{max_indices.numpy()[idx]}: {F_2d[idx, max_indices[idx]]}\" for idx in range(len(max_indices))])\n",
        "\n",
        "print(\"As pandas table\")\n",
        "import pandas as pd\n",
        "pd.DataFrame({\"index\": max_indices, \"val\": [F_2d[max_indices[idx], idx].numpy() for idx in range(len(max_indices))]})"
      ],
      "metadata": {
        "id": "Tkjpn1b_Dh5Z",
        "colab": {
          "base_uri": "https://localhost:8080/",
          "height": 414
        },
        "outputId": "91da64a0-19df-41cc-bcd0-772da0e208c4"
      },
      "execution_count": 90,
      "outputs": [
        {
          "output_type": "stream",
          "name": "stdout",
          "text": [
            "tf.Tensor(\n",
            "[[0.68789124 0.48447883 0.9309944  0.252187   0.73115396]\n",
            " [0.89256823 0.94674826 0.7493341  0.34925628 0.54718256]\n",
            " [0.26160395 0.69734323 0.11962581 0.53484344 0.7148968 ]\n",
            " [0.87501776 0.33967495 0.17377627 0.4418521  0.9008261 ]\n",
            " [0.13803864 0.12217975 0.5754491  0.9417181  0.9186585 ]], shape=(5, 5), dtype=float32) \n",
            "\n",
            "max index for each row\n",
            " tf.Tensor([1 1 0 4 4], shape=(5,), dtype=int64)\n",
            "As table using python formatted string literals just for practice\n",
            "['1: 0.48447883129119873', '1: 0.9467482566833496', '0: 0.2616039514541626', '4: 0.900826096534729', '4: 0.9186584949493408']\n",
            "As pandas table\n"
          ]
        },
        {
          "output_type": "execute_result",
          "data": {
            "text/plain": [
              "   index       val\n",
              "0      1  0.892568\n",
              "1      1  0.946748\n",
              "2      0  0.930994\n",
              "3      4  0.941718\n",
              "4      4  0.918658"
            ],
            "text/html": [
              "\n",
              "  <div id=\"df-7e02d672-7642-4708-badc-e968a93cd4b3\">\n",
              "    <div class=\"colab-df-container\">\n",
              "      <div>\n",
              "<style scoped>\n",
              "    .dataframe tbody tr th:only-of-type {\n",
              "        vertical-align: middle;\n",
              "    }\n",
              "\n",
              "    .dataframe tbody tr th {\n",
              "        vertical-align: top;\n",
              "    }\n",
              "\n",
              "    .dataframe thead th {\n",
              "        text-align: right;\n",
              "    }\n",
              "</style>\n",
              "<table border=\"1\" class=\"dataframe\">\n",
              "  <thead>\n",
              "    <tr style=\"text-align: right;\">\n",
              "      <th></th>\n",
              "      <th>index</th>\n",
              "      <th>val</th>\n",
              "    </tr>\n",
              "  </thead>\n",
              "  <tbody>\n",
              "    <tr>\n",
              "      <th>0</th>\n",
              "      <td>1</td>\n",
              "      <td>0.892568</td>\n",
              "    </tr>\n",
              "    <tr>\n",
              "      <th>1</th>\n",
              "      <td>1</td>\n",
              "      <td>0.946748</td>\n",
              "    </tr>\n",
              "    <tr>\n",
              "      <th>2</th>\n",
              "      <td>0</td>\n",
              "      <td>0.930994</td>\n",
              "    </tr>\n",
              "    <tr>\n",
              "      <th>3</th>\n",
              "      <td>4</td>\n",
              "      <td>0.941718</td>\n",
              "    </tr>\n",
              "    <tr>\n",
              "      <th>4</th>\n",
              "      <td>4</td>\n",
              "      <td>0.918658</td>\n",
              "    </tr>\n",
              "  </tbody>\n",
              "</table>\n",
              "</div>\n",
              "      <button class=\"colab-df-convert\" onclick=\"convertToInteractive('df-7e02d672-7642-4708-badc-e968a93cd4b3')\"\n",
              "              title=\"Convert this dataframe to an interactive table.\"\n",
              "              style=\"display:none;\">\n",
              "        \n",
              "  <svg xmlns=\"http://www.w3.org/2000/svg\" height=\"24px\"viewBox=\"0 0 24 24\"\n",
              "       width=\"24px\">\n",
              "    <path d=\"M0 0h24v24H0V0z\" fill=\"none\"/>\n",
              "    <path d=\"M18.56 5.44l.94 2.06.94-2.06 2.06-.94-2.06-.94-.94-2.06-.94 2.06-2.06.94zm-11 1L8.5 8.5l.94-2.06 2.06-.94-2.06-.94L8.5 2.5l-.94 2.06-2.06.94zm10 10l.94 2.06.94-2.06 2.06-.94-2.06-.94-.94-2.06-.94 2.06-2.06.94z\"/><path d=\"M17.41 7.96l-1.37-1.37c-.4-.4-.92-.59-1.43-.59-.52 0-1.04.2-1.43.59L10.3 9.45l-7.72 7.72c-.78.78-.78 2.05 0 2.83L4 21.41c.39.39.9.59 1.41.59.51 0 1.02-.2 1.41-.59l7.78-7.78 2.81-2.81c.8-.78.8-2.07 0-2.86zM5.41 20L4 18.59l7.72-7.72 1.47 1.35L5.41 20z\"/>\n",
              "  </svg>\n",
              "      </button>\n",
              "      \n",
              "  <style>\n",
              "    .colab-df-container {\n",
              "      display:flex;\n",
              "      flex-wrap:wrap;\n",
              "      gap: 12px;\n",
              "    }\n",
              "\n",
              "    .colab-df-convert {\n",
              "      background-color: #E8F0FE;\n",
              "      border: none;\n",
              "      border-radius: 50%;\n",
              "      cursor: pointer;\n",
              "      display: none;\n",
              "      fill: #1967D2;\n",
              "      height: 32px;\n",
              "      padding: 0 0 0 0;\n",
              "      width: 32px;\n",
              "    }\n",
              "\n",
              "    .colab-df-convert:hover {\n",
              "      background-color: #E2EBFA;\n",
              "      box-shadow: 0px 1px 2px rgba(60, 64, 67, 0.3), 0px 1px 3px 1px rgba(60, 64, 67, 0.15);\n",
              "      fill: #174EA6;\n",
              "    }\n",
              "\n",
              "    [theme=dark] .colab-df-convert {\n",
              "      background-color: #3B4455;\n",
              "      fill: #D2E3FC;\n",
              "    }\n",
              "\n",
              "    [theme=dark] .colab-df-convert:hover {\n",
              "      background-color: #434B5C;\n",
              "      box-shadow: 0px 1px 3px 1px rgba(0, 0, 0, 0.15);\n",
              "      filter: drop-shadow(0px 1px 2px rgba(0, 0, 0, 0.3));\n",
              "      fill: #FFFFFF;\n",
              "    }\n",
              "  </style>\n",
              "\n",
              "      <script>\n",
              "        const buttonEl =\n",
              "          document.querySelector('#df-7e02d672-7642-4708-badc-e968a93cd4b3 button.colab-df-convert');\n",
              "        buttonEl.style.display =\n",
              "          google.colab.kernel.accessAllowed ? 'block' : 'none';\n",
              "\n",
              "        async function convertToInteractive(key) {\n",
              "          const element = document.querySelector('#df-7e02d672-7642-4708-badc-e968a93cd4b3');\n",
              "          const dataTable =\n",
              "            await google.colab.kernel.invokeFunction('convertToInteractive',\n",
              "                                                     [key], {});\n",
              "          if (!dataTable) return;\n",
              "\n",
              "          const docLinkHtml = 'Like what you see? Visit the ' +\n",
              "            '<a target=\"_blank\" href=https://colab.research.google.com/notebooks/data_table.ipynb>data table notebook</a>'\n",
              "            + ' to learn more about interactive tables.';\n",
              "          element.innerHTML = '';\n",
              "          dataTable['output_type'] = 'display_data';\n",
              "          await google.colab.output.renderOutput(dataTable, element);\n",
              "          const docLink = document.createElement('div');\n",
              "          docLink.innerHTML = docLinkHtml;\n",
              "          element.appendChild(docLink);\n",
              "        }\n",
              "      </script>\n",
              "    </div>\n",
              "  </div>\n",
              "  "
            ]
          },
          "metadata": {},
          "execution_count": 90
        }
      ]
    },
    {
      "cell_type": "markdown",
      "source": [
        "No example for argmin as it's redundant."
      ],
      "metadata": {
        "id": "g3_X_-1BGKPA"
      }
    },
    {
      "cell_type": "markdown",
      "source": [
        "### Squeezing a tensor (removing all single dimensions)"
      ],
      "metadata": {
        "id": "7o-ZrR62KQ4A"
      }
    },
    {
      "cell_type": "code",
      "source": [
        "tf.random.set_seed(42)\n",
        "G = tf.constant(tf.random.uniform(shape=[50]), shape=[1, 1, 1, 1, 50])\n",
        "G, G.shape"
      ],
      "metadata": {
        "id": "H3FFCrEbKSWI",
        "colab": {
          "base_uri": "https://localhost:8080/"
        },
        "outputId": "9f779fee-2322-48b9-85cc-fc21450ebf18"
      },
      "execution_count": 91,
      "outputs": [
        {
          "output_type": "execute_result",
          "data": {
            "text/plain": [
              "(<tf.Tensor: shape=(1, 1, 1, 1, 50), dtype=float32, numpy=\n",
              " array([[[[[0.6645621 , 0.44100678, 0.3528825 , 0.46448255, 0.03366041,\n",
              "            0.68467236, 0.74011743, 0.8724445 , 0.22632635, 0.22319686,\n",
              "            0.3103881 , 0.7223358 , 0.13318717, 0.5480639 , 0.5746088 ,\n",
              "            0.8996835 , 0.00946367, 0.5212307 , 0.6345445 , 0.1993283 ,\n",
              "            0.72942245, 0.54583454, 0.10756552, 0.6767061 , 0.6602763 ,\n",
              "            0.33695042, 0.60141766, 0.21062577, 0.8527372 , 0.44062173,\n",
              "            0.9485276 , 0.23752594, 0.81179297, 0.5263394 , 0.494308  ,\n",
              "            0.21612847, 0.8457197 , 0.8718841 , 0.3083862 , 0.6868038 ,\n",
              "            0.23764038, 0.7817228 , 0.9671384 , 0.06870162, 0.79873943,\n",
              "            0.66028714, 0.5871513 , 0.16461694, 0.7381023 , 0.32054043]]]]],\n",
              "       dtype=float32)>, TensorShape([1, 1, 1, 1, 50]))"
            ]
          },
          "metadata": {},
          "execution_count": 91
        }
      ]
    },
    {
      "cell_type": "code",
      "source": [
        "# remove dimensions of size 1 from the shape of a tensor\n",
        "G_squeezed = tf.squeeze(G)\n",
        "G_squeezed, G_squeezed.shape"
      ],
      "metadata": {
        "colab": {
          "base_uri": "https://localhost:8080/"
        },
        "id": "BEL-z8b1LVrK",
        "outputId": "05b62166-cbd9-47c0-a43f-f106f9f13c6e"
      },
      "execution_count": 92,
      "outputs": [
        {
          "output_type": "execute_result",
          "data": {
            "text/plain": [
              "(<tf.Tensor: shape=(50,), dtype=float32, numpy=\n",
              " array([0.6645621 , 0.44100678, 0.3528825 , 0.46448255, 0.03366041,\n",
              "        0.68467236, 0.74011743, 0.8724445 , 0.22632635, 0.22319686,\n",
              "        0.3103881 , 0.7223358 , 0.13318717, 0.5480639 , 0.5746088 ,\n",
              "        0.8996835 , 0.00946367, 0.5212307 , 0.6345445 , 0.1993283 ,\n",
              "        0.72942245, 0.54583454, 0.10756552, 0.6767061 , 0.6602763 ,\n",
              "        0.33695042, 0.60141766, 0.21062577, 0.8527372 , 0.44062173,\n",
              "        0.9485276 , 0.23752594, 0.81179297, 0.5263394 , 0.494308  ,\n",
              "        0.21612847, 0.8457197 , 0.8718841 , 0.3083862 , 0.6868038 ,\n",
              "        0.23764038, 0.7817228 , 0.9671384 , 0.06870162, 0.79873943,\n",
              "        0.66028714, 0.5871513 , 0.16461694, 0.7381023 , 0.32054043],\n",
              "       dtype=float32)>, TensorShape([50]))"
            ]
          },
          "metadata": {},
          "execution_count": 92
        }
      ]
    },
    {
      "cell_type": "markdown",
      "source": [
        "### One-hot encoding tensors\n",
        "\n",
        "[good explanation](https://hackernoon.com/what-is-one-hot-encoding-why-and-when-do-you-have-to-use-it-e3c6186d008f)\n",
        "\n",
        "A form of numerical encoding of non-numeric input data.\n",
        "\n",
        "Gist:\n",
        "\n",
        "We have original data:\n",
        "```\n",
        "company price\n",
        "VW      19999\n",
        "Acura   10000\n",
        "Honda   29000\n",
        "Honda   ...\n",
        "Acura   \n",
        "```\n",
        "\n",
        "Add a categorical value (a number \"encoding\" of the company, basically a value from 0 to N-1 categories). Category here is the company.\n",
        "\n",
        "```\n",
        "company categoricalValue price\n",
        "VW      0                ...  \n",
        "Acura   1\n",
        "Honda   2\n",
        "Honda   2\n",
        "Acura   1\n",
        "```\n",
        "\n",
        "These can be **one-hot** (just binary) encoded by adding columns and encoding if the row belongs to a category using *1* (existant) and *0* (not existant):\n",
        "\n",
        "```\n",
        "VW  Acura  Honda  Price\n",
        "1   0      0      19999\n",
        "0   1      0      ...\n",
        "0   0      1      \n",
        "0   0      1\n",
        "0   1      0\n",
        "```\n",
        "\n",
        "If we just used the feature number, the ML algorithm would see it as one feature and would calculate stupid averages (e.g. the average of VW and Honda is 1.5).\n",
        "\n",
        "[more explanation](https://machinelearningmastery.com/why-one-hot-encode-data-in-machine-learning/)\n",
        "\n"
      ],
      "metadata": {
        "id": "PuJTJlotL1PC"
      }
    },
    {
      "cell_type": "code",
      "source": [
        "# Create a list of indices\n",
        "some_list = [0, 1, 2, 3, 3, 0]; # could be red, green, blue, purple\n",
        "\n",
        "# One hot encode list of indices\n",
        "# depth = \"A scalar defining the depth of the one hot dimension\". Basically, how many unique values there are\n",
        "tf.one_hot(some_list, depth=4)"
      ],
      "metadata": {
        "colab": {
          "base_uri": "https://localhost:8080/"
        },
        "id": "7-LacJBlPZ63",
        "outputId": "82685469-e0bd-41bb-b46e-6ebd520aca34"
      },
      "execution_count": 93,
      "outputs": [
        {
          "output_type": "execute_result",
          "data": {
            "text/plain": [
              "<tf.Tensor: shape=(6, 4), dtype=float32, numpy=\n",
              "array([[1., 0., 0., 0.],\n",
              "       [0., 1., 0., 0.],\n",
              "       [0., 0., 1., 0.],\n",
              "       [0., 0., 0., 1.],\n",
              "       [0., 0., 0., 1.],\n",
              "       [1., 0., 0., 0.]], dtype=float32)>"
            ]
          },
          "metadata": {},
          "execution_count": 93
        }
      ]
    },
    {
      "cell_type": "code",
      "source": [
        "# specify custom values for one hot encoding\n",
        "tf.one_hot(some_list, depth=6, on_value=\"x\", off_value=\"o\")"
      ],
      "metadata": {
        "colab": {
          "base_uri": "https://localhost:8080/"
        },
        "id": "NyyOm0nrP-Sp",
        "outputId": "ffaa218c-cc57-456c-85a8-8ba9b5960bed"
      },
      "execution_count": 94,
      "outputs": [
        {
          "output_type": "execute_result",
          "data": {
            "text/plain": [
              "<tf.Tensor: shape=(6, 6), dtype=string, numpy=\n",
              "array([[b'x', b'o', b'o', b'o', b'o', b'o'],\n",
              "       [b'o', b'x', b'o', b'o', b'o', b'o'],\n",
              "       [b'o', b'o', b'x', b'o', b'o', b'o'],\n",
              "       [b'o', b'o', b'o', b'x', b'o', b'o'],\n",
              "       [b'o', b'o', b'o', b'x', b'o', b'o'],\n",
              "       [b'x', b'o', b'o', b'o', b'o', b'o']], dtype=object)>"
            ]
          },
          "metadata": {},
          "execution_count": 94
        }
      ]
    },
    {
      "cell_type": "markdown",
      "source": [
        "### Squaring, log, square root"
      ],
      "metadata": {
        "id": "Z1llx2SXRSzS"
      }
    },
    {
      "cell_type": "code",
      "source": [
        "H = tf.range(1.,10.) # some math ops require floats\n",
        "H"
      ],
      "metadata": {
        "colab": {
          "base_uri": "https://localhost:8080/"
        },
        "id": "y_dHNOjkRWte",
        "outputId": "bf4e0339-9fd3-47fb-be65-324f4b86fa41"
      },
      "execution_count": 95,
      "outputs": [
        {
          "output_type": "execute_result",
          "data": {
            "text/plain": [
              "<tf.Tensor: shape=(9,), dtype=float32, numpy=array([1., 2., 3., 4., 5., 6., 7., 8., 9.], dtype=float32)>"
            ]
          },
          "metadata": {},
          "execution_count": 95
        }
      ]
    },
    {
      "cell_type": "code",
      "source": [
        "# square\n",
        "# might be useful to make data more distinct without changing the relative values\n",
        "tf.math.square(H)"
      ],
      "metadata": {
        "colab": {
          "base_uri": "https://localhost:8080/"
        },
        "id": "lBzSjZDoRbFo",
        "outputId": "7834be51-4ddd-4943-e133-25e61f01dec5"
      },
      "execution_count": 96,
      "outputs": [
        {
          "output_type": "execute_result",
          "data": {
            "text/plain": [
              "<tf.Tensor: shape=(9,), dtype=float32, numpy=array([ 1.,  4.,  9., 16., 25., 36., 49., 64., 81.], dtype=float32)>"
            ]
          },
          "metadata": {},
          "execution_count": 96
        }
      ]
    },
    {
      "cell_type": "code",
      "source": [
        "# assign values to a logarithmic scale\n",
        "tf.math.log(H)"
      ],
      "metadata": {
        "colab": {
          "base_uri": "https://localhost:8080/"
        },
        "id": "gB0ZVdc1Uoeg",
        "outputId": "d70f9038-9461-4631-cc8d-f651c5ab05f5"
      },
      "execution_count": 97,
      "outputs": [
        {
          "output_type": "execute_result",
          "data": {
            "text/plain": [
              "<tf.Tensor: shape=(9,), dtype=float32, numpy=\n",
              "array([0.       , 0.6931472, 1.0986123, 1.3862944, 1.609438 , 1.7917595,\n",
              "       1.9459102, 2.0794415, 2.1972246], dtype=float32)>"
            ]
          },
          "metadata": {},
          "execution_count": 97
        }
      ]
    },
    {
      "cell_type": "code",
      "source": [
        "# square root\n",
        "tf.math.sqrt(H)"
      ],
      "metadata": {
        "colab": {
          "base_uri": "https://localhost:8080/"
        },
        "id": "tTE2NefPU79t",
        "outputId": "c94aadb4-2c87-4794-d2bd-d950639171b4"
      },
      "execution_count": 98,
      "outputs": [
        {
          "output_type": "execute_result",
          "data": {
            "text/plain": [
              "<tf.Tensor: shape=(9,), dtype=float32, numpy=\n",
              "array([1.       , 1.4142135, 1.7320508, 2.       , 2.236068 , 2.4494898,\n",
              "       2.6457512, 2.828427 , 3.       ], dtype=float32)>"
            ]
          },
          "metadata": {},
          "execution_count": 98
        }
      ]
    },
    {
      "cell_type": "markdown",
      "source": [
        "### Exploring tensorflow and NumPys compatibility\n",
        "\n",
        "Tensorflow interacts nicely with NumPy, fundamental mathematical library of python, built on numpy arrays (type = `numpy.ndarray`).\n"
      ],
      "metadata": {
        "id": "9q3MkfYxVyO3"
      }
    },
    {
      "cell_type": "code",
      "source": [
        "# create a tensor from a numpy array\n",
        "J = tf.constant(np.array([1.,2.,3.]))\n",
        "J"
      ],
      "metadata": {
        "colab": {
          "base_uri": "https://localhost:8080/"
        },
        "id": "KdM0t7kGWHHP",
        "outputId": "ff31965d-96fc-479d-b50a-4daa7d53f20e"
      },
      "execution_count": 99,
      "outputs": [
        {
          "output_type": "execute_result",
          "data": {
            "text/plain": [
              "<tf.Tensor: shape=(3,), dtype=float64, numpy=array([1., 2., 3.])>"
            ]
          },
          "metadata": {},
          "execution_count": 99
        }
      ]
    },
    {
      "cell_type": "code",
      "source": [
        "# convert it back to a numpy array with various methods\n",
        "print(J.numpy(), \": \", type(J.numpy()), \"\\n\")\n",
        "print(np.array(J), \": \", type(np.array(J)), \"\\n\")"
      ],
      "metadata": {
        "colab": {
          "base_uri": "https://localhost:8080/"
        },
        "id": "1tG1x_jQWX-Z",
        "outputId": "d92762ff-ca61-43a6-960d-41704199a622"
      },
      "execution_count": 100,
      "outputs": [
        {
          "output_type": "stream",
          "name": "stdout",
          "text": [
            "[1. 2. 3.] :  <class 'numpy.ndarray'> \n",
            "\n",
            "[1. 2. 3.] :  <class 'numpy.ndarray'> \n",
            "\n"
          ]
        }
      ]
    },
    {
      "cell_type": "code",
      "source": [
        "J = tf.constant([3.])\n",
        "J.numpy()[0]"
      ],
      "metadata": {
        "colab": {
          "base_uri": "https://localhost:8080/"
        },
        "id": "34SVdqS1WdYh",
        "outputId": "8f37c3f1-1079-4896-804d-b6284bc3d80f"
      },
      "execution_count": 101,
      "outputs": [
        {
          "output_type": "execute_result",
          "data": {
            "text/plain": [
              "3.0"
            ]
          },
          "metadata": {},
          "execution_count": 101
        }
      ]
    },
    {
      "cell_type": "code",
      "source": [
        "# default types of tf an np are slightly different\n",
        "numpy_J = tf.constant(np.array([3., 7., 10.]))\n",
        "print(\"numpy_J (tensor from numpy array): \", numpy_J, \"\\n\") # defaults to float64\n",
        "tensor_J = tf.constant([3., 7., 10.])\n",
        "print(\"tensor_J (tensor from python array): \", tensor_J, \"\\n\") # defaults to float32"
      ],
      "metadata": {
        "colab": {
          "base_uri": "https://localhost:8080/"
        },
        "id": "h7qCclN2XTXw",
        "outputId": "cba3ada3-73b3-466d-9240-30013bd55924"
      },
      "execution_count": 102,
      "outputs": [
        {
          "output_type": "stream",
          "name": "stdout",
          "text": [
            "numpy_J (tensor from numpy array):  tf.Tensor([ 3.  7. 10.], shape=(3,), dtype=float64) \n",
            "\n",
            "tensor_J (tensor from python array):  tf.Tensor([ 3.  7. 10.], shape=(3,), dtype=float32) \n",
            "\n"
          ]
        }
      ]
    },
    {
      "cell_type": "markdown",
      "source": [
        "### Ensuring tensor operations can run on GPUs / TPUs\n",
        "\n",
        "The main difference between tensor and numpy array is that **a TensorFlow tensor can be run on a GPU or TPU**.\n",
        "\n"
      ],
      "metadata": {
        "id": "h44oEDwpZHl-"
      }
    },
    {
      "cell_type": "code",
      "source": [
        "# check physical devices\n",
        "tf.config.list_physical_devices()"
      ],
      "metadata": {
        "colab": {
          "base_uri": "https://localhost:8080/"
        },
        "id": "mM8H6kPHZd3j",
        "outputId": "3e6979fe-2252-4575-c168-abf46261c9da"
      },
      "execution_count": 103,
      "outputs": [
        {
          "output_type": "execute_result",
          "data": {
            "text/plain": [
              "[PhysicalDevice(name='/physical_device:CPU:0', device_type='CPU')]"
            ]
          },
          "metadata": {},
          "execution_count": 103
        }
      ]
    },
    {
      "cell_type": "code",
      "source": [
        "# check specific devices\n",
        "tf.config.list_physical_devices(\"GPU\")"
      ],
      "metadata": {
        "colab": {
          "base_uri": "https://localhost:8080/"
        },
        "id": "k4mBW_hfZqG6",
        "outputId": "6b0c25a5-b3cd-41de-99fd-cacdc3ce15b5"
      },
      "execution_count": 104,
      "outputs": [
        {
          "output_type": "execute_result",
          "data": {
            "text/plain": [
              "[]"
            ]
          },
          "metadata": {},
          "execution_count": 104
        }
      ]
    },
    {
      "cell_type": "markdown",
      "source": [
        "In google colab, we can switch between cpu, gpu and tpu (based on availability) in \"change runtime type\" at the bottom of the resources bar (\"view resources\" in the little menu beside the ram/disk usage indicator in the top right)."
      ],
      "metadata": {
        "id": "pgGNHKVBZ46x"
      }
    },
    {
      "cell_type": "code",
      "source": [
        "# ! runs commands on the command line\n",
        "!nvidia-smi"
      ],
      "metadata": {
        "colab": {
          "base_uri": "https://localhost:8080/"
        },
        "id": "l0nZrpdHasPM",
        "outputId": "a7f43aa1-addb-4e79-8227-6d67f2d8cfe8"
      },
      "execution_count": 105,
      "outputs": [
        {
          "output_type": "stream",
          "name": "stdout",
          "text": [
            "NVIDIA-SMI has failed because it couldn't communicate with the NVIDIA driver. Make sure that the latest NVIDIA driver is installed and running.\n",
            "\n"
          ]
        }
      ]
    },
    {
      "cell_type": "markdown",
      "source": [
        "**Note**: If you have access to a CUDA-enabled GPU, TensorFlow will automatically use it whenever possible."
      ],
      "metadata": {
        "id": "Esi6h6gXazvb"
      }
    },
    {
      "cell_type": "markdown",
      "source": [
        "### Exercises"
      ],
      "metadata": {
        "id": "0xNfxpf3yzRf"
      }
    },
    {
      "cell_type": "code",
      "source": [
        "# 1. Create a vector, scalar, matrix and tensor with values of your choosing using tf.constant().\n",
        "vector = tf.constant([1,2,3])\n",
        "scalar = tf.constant(42)\n",
        "matrix = tf.constant([[1,2,3],\n",
        "                      [4,5,6], \n",
        "                      [7,8,9]])\n",
        "tensor = tf.constant([[[1,2,3], # all others are tensors too of course\n",
        "                      [4,5,6], \n",
        "                      [7,8,9]],\n",
        "                      [[1,2,3],\n",
        "                      [4,5,6], \n",
        "                      [7,8,9]]])\n",
        "vector, scalar, matrix, tensor\n"
      ],
      "metadata": {
        "colab": {
          "base_uri": "https://localhost:8080/"
        },
        "id": "_NZYM1BHy3b0",
        "outputId": "92f90dca-d82c-42a1-a784-79245906729e"
      },
      "execution_count": 106,
      "outputs": [
        {
          "output_type": "execute_result",
          "data": {
            "text/plain": [
              "(<tf.Tensor: shape=(3,), dtype=int32, numpy=array([1, 2, 3], dtype=int32)>,\n",
              " <tf.Tensor: shape=(), dtype=int32, numpy=42>,\n",
              " <tf.Tensor: shape=(3, 3), dtype=int32, numpy=\n",
              " array([[1, 2, 3],\n",
              "        [4, 5, 6],\n",
              "        [7, 8, 9]], dtype=int32)>,\n",
              " <tf.Tensor: shape=(2, 3, 3), dtype=int32, numpy=\n",
              " array([[[1, 2, 3],\n",
              "         [4, 5, 6],\n",
              "         [7, 8, 9]],\n",
              " \n",
              "        [[1, 2, 3],\n",
              "         [4, 5, 6],\n",
              "         [7, 8, 9]]], dtype=int32)>)"
            ]
          },
          "metadata": {},
          "execution_count": 106
        }
      ]
    },
    {
      "cell_type": "code",
      "source": [
        "# 2. Find the shape, rank and size of the tensors you created in 1\n",
        "vector.shape, vector.ndim, tf.size(vector), tensor.shape, tensor.ndim, tf.size(tensor)"
      ],
      "metadata": {
        "colab": {
          "base_uri": "https://localhost:8080/"
        },
        "id": "uVSQqM_AzdSh",
        "outputId": "313730c3-059a-4c21-b512-0121eb63e737"
      },
      "execution_count": 107,
      "outputs": [
        {
          "output_type": "execute_result",
          "data": {
            "text/plain": [
              "(TensorShape([3]),\n",
              " 1,\n",
              " <tf.Tensor: shape=(), dtype=int32, numpy=3>,\n",
              " TensorShape([2, 3, 3]),\n",
              " 3,\n",
              " <tf.Tensor: shape=(), dtype=int32, numpy=18>)"
            ]
          },
          "metadata": {},
          "execution_count": 107
        }
      ]
    },
    {
      "cell_type": "code",
      "source": [
        "# 3. Create two tensors containing random values between 0 and 1 with shape [5, 300]\n",
        "r1 = tf.random.uniform(shape=[5, 300], minval=0, maxval=1)\n",
        "r2 = tf.random.uniform(shape=[5, 300], minval=0, maxval=1)\n",
        "r1, r2"
      ],
      "metadata": {
        "colab": {
          "base_uri": "https://localhost:8080/"
        },
        "id": "rOcbN2P-0D4D",
        "outputId": "21ce3b51-e81c-4648-e7c6-a5d5449892de"
      },
      "execution_count": 108,
      "outputs": [
        {
          "output_type": "execute_result",
          "data": {
            "text/plain": [
              "(<tf.Tensor: shape=(5, 300), dtype=float32, numpy=\n",
              " array([[0.68789124, 0.48447883, 0.9309944 , ..., 0.6920762 , 0.33180213,\n",
              "         0.9212563 ],\n",
              "        [0.27369928, 0.10631859, 0.6218617 , ..., 0.4382149 , 0.30427706,\n",
              "         0.51477313],\n",
              "        [0.00920248, 0.37280262, 0.8177401 , ..., 0.56786287, 0.49201214,\n",
              "         0.9892651 ],\n",
              "        [0.88608265, 0.08672249, 0.12160683, ..., 0.91770685, 0.72545695,\n",
              "         0.8280058 ],\n",
              "        [0.36690474, 0.9200133 , 0.9646884 , ..., 0.69012   , 0.7137332 ,\n",
              "         0.2584542 ]], dtype=float32)>,\n",
              " <tf.Tensor: shape=(5, 300), dtype=float32, numpy=\n",
              " array([[0.7413678 , 0.62854624, 0.01738465, ..., 0.4851334 , 0.21059811,\n",
              "         0.25082767],\n",
              "        [0.10842848, 0.48783147, 0.8240961 , ..., 0.9204427 , 0.36046863,\n",
              "         0.28176582],\n",
              "        [0.7326695 , 0.46489418, 0.13622475, ..., 0.28130388, 0.63987684,\n",
              "         0.9987265 ],\n",
              "        [0.01447165, 0.7845044 , 0.33475304, ..., 0.56194997, 0.0209924 ,\n",
              "         0.1740731 ],\n",
              "        [0.90936875, 0.19861352, 0.9481231 , ..., 0.3573054 , 0.13161755,\n",
              "         0.22565222]], dtype=float32)>)"
            ]
          },
          "metadata": {},
          "execution_count": 108
        }
      ]
    },
    {
      "cell_type": "code",
      "source": [
        "# 4. Multiply the two tensors you created in 3 using matrix multiplication.\n",
        "print(r1 @ tf.transpose(r2)) # using python operator\n",
        "print(tf.matmul(r1, tf.transpose(r2))) # using tensorflow"
      ],
      "metadata": {
        "colab": {
          "base_uri": "https://localhost:8080/"
        },
        "id": "oia5H0eP0y0g",
        "outputId": "0265d259-2e85-475f-c488-3f635cdff514"
      },
      "execution_count": 109,
      "outputs": [
        {
          "output_type": "stream",
          "name": "stdout",
          "text": [
            "tf.Tensor(\n",
            "[[75.714005 80.87824  78.32848  78.259705 79.130585]\n",
            " [70.12708  72.09945  70.1678   73.24609  74.277405]\n",
            " [75.16     79.52858  76.74644  78.14265  77.28679 ]\n",
            " [77.113556 75.401215 72.79378  75.066376 75.206535]\n",
            " [79.87284  83.40138  78.57373  79.025894 81.82093 ]], shape=(5, 5), dtype=float32)\n",
            "tf.Tensor(\n",
            "[[75.714005 80.87824  78.32848  78.259705 79.130585]\n",
            " [70.12708  72.09945  70.1678   73.24609  74.277405]\n",
            " [75.16     79.52858  76.74644  78.14265  77.28679 ]\n",
            " [77.113556 75.401215 72.79378  75.066376 75.206535]\n",
            " [79.87284  83.40138  78.57373  79.025894 81.82093 ]], shape=(5, 5), dtype=float32)\n"
          ]
        }
      ]
    },
    {
      "cell_type": "code",
      "source": [
        "# 5. Multiply the two tensors you created in 3 using dot product.\n",
        "tf.tensordot(r1, tf.transpose(r2), axes=1)"
      ],
      "metadata": {
        "colab": {
          "base_uri": "https://localhost:8080/"
        },
        "id": "KbcSXyuF1Mb-",
        "outputId": "1b32aa21-f0d8-404e-d1f7-b2f5b1b260d4"
      },
      "execution_count": 110,
      "outputs": [
        {
          "output_type": "execute_result",
          "data": {
            "text/plain": [
              "<tf.Tensor: shape=(5, 5), dtype=float32, numpy=\n",
              "array([[75.714005, 80.87824 , 78.32848 , 78.259705, 79.130585],\n",
              "       [70.12708 , 72.09945 , 70.1678  , 73.24609 , 74.277405],\n",
              "       [75.16    , 79.52858 , 76.74644 , 78.14265 , 77.28679 ],\n",
              "       [77.113556, 75.401215, 72.79378 , 75.066376, 75.206535],\n",
              "       [79.87284 , 83.40138 , 78.57373 , 79.025894, 81.82093 ]],\n",
              "      dtype=float32)>"
            ]
          },
          "metadata": {},
          "execution_count": 110
        }
      ]
    },
    {
      "cell_type": "code",
      "source": [
        "def print_short(t, length=200):\n",
        "  print(str(t)[:length], \"...\\n\")"
      ],
      "metadata": {
        "id": "ISOcCnvn4gZa"
      },
      "execution_count": 111,
      "outputs": []
    },
    {
      "cell_type": "code",
      "source": [
        "# 6. Create a tensor with random values between 0 and 1 with shape [224, 224, 3]\n",
        "r3 = tf.constant(tf.random.uniform(shape=(224,224,3), minval=0, maxval=1))\n",
        "print_short(r3)"
      ],
      "metadata": {
        "colab": {
          "base_uri": "https://localhost:8080/"
        },
        "id": "eNM2Cv9S2BJ6",
        "outputId": "07bf1cb2-6bc6-4050-fd8f-9b398f1da565"
      },
      "execution_count": 112,
      "outputs": [
        {
          "output_type": "stream",
          "name": "stdout",
          "text": [
            "tf.Tensor(\n",
            "[[[7.4023080e-01 3.3938193e-01 5.6925058e-01]\n",
            "  [4.4811392e-01 2.9285502e-01 4.2600560e-01]\n",
            "  [6.2890387e-01 6.9106102e-01 3.0925727e-01]\n",
            "  ...\n",
            "  [9.1063976e-04 6.9863999e-01 1.7180574e-01] ...\n",
            "\n"
          ]
        }
      ]
    },
    {
      "cell_type": "code",
      "source": [
        "# 7. Find the min and max values of the tensor you created in 6 along the first axis\n",
        "print_short(tf.math.reduce_min(r3, axis=0))\n",
        "print_short(tf.math.reduce_max(r3, axis=2))\n",
        "print(\"max value of the whole tensor: \", tf.math.reduce_max(r3).numpy())"
      ],
      "metadata": {
        "colab": {
          "base_uri": "https://localhost:8080/"
        },
        "id": "OoA9IEov2UWe",
        "outputId": "49bca780-6952-4423-8635-101c25683620"
      },
      "execution_count": 113,
      "outputs": [
        {
          "output_type": "stream",
          "name": "stdout",
          "text": [
            "tf.Tensor(\n",
            "[[2.03430653e-03 4.37009335e-03 3.90768051e-04]\n",
            " [3.51417065e-03 7.98487663e-03 3.59594822e-03]\n",
            " [6.48093224e-03 2.49707699e-03 8.29935074e-04]\n",
            " [1.56582594e-02 7.75694847e-04 9.87851620e-0 ...\n",
            "\n",
            "tf.Tensor(\n",
            "[[0.7402308  0.44811392 0.691061   ... 0.69864    0.8349292  0.6223943 ]\n",
            " [0.9706496  0.28982997 0.6559715  ... 0.95621395 0.98861516 0.7266861 ]\n",
            " [0.7669786  0.27192724 0.6145171  ... 0.84 ...\n",
            "\n",
            "max value of the whole tensor:  0.9999902\n"
          ]
        }
      ]
    },
    {
      "cell_type": "code",
      "source": [
        "# 8. Created a tensor with random values of shape [1, 224, 224, 3] then squeeze it to change the shape to [224, 224, 3].\n",
        "r4 = tf.random.uniform(shape=(1,224,224,3), minval=0, maxval=1)\n",
        "print_short(r4) # just show the first 100 characters of the result\n",
        "print_short(tf.squeeze(r4))\n",
        "tf.squeeze(r4).shape"
      ],
      "metadata": {
        "colab": {
          "base_uri": "https://localhost:8080/"
        },
        "id": "nFK3DfEg29gz",
        "outputId": "cb3dd3f6-3ae0-4ee8-df16-45a01848a124"
      },
      "execution_count": 114,
      "outputs": [
        {
          "output_type": "stream",
          "name": "stdout",
          "text": [
            "tf.Tensor(\n",
            "[[[[8.0315602e-01 4.9777734e-01 3.7054038e-01]\n",
            "   [9.1186738e-01 6.3764203e-01 1.8209696e-01]\n",
            "   [6.3791955e-01 2.7701473e-01 4.2271137e-02]\n",
            "   ...\n",
            "   [1.0830712e-01 4.5979273e-01 2.5716281 ...\n",
            "\n",
            "tf.Tensor(\n",
            "[[[8.0315602e-01 4.9777734e-01 3.7054038e-01]\n",
            "  [9.1186738e-01 6.3764203e-01 1.8209696e-01]\n",
            "  [6.3791955e-01 2.7701473e-01 4.2271137e-02]\n",
            "  ...\n",
            "  [1.0830712e-01 4.5979273e-01 2.5716281e-01] ...\n",
            "\n"
          ]
        },
        {
          "output_type": "execute_result",
          "data": {
            "text/plain": [
              "TensorShape([224, 224, 3])"
            ]
          },
          "metadata": {},
          "execution_count": 114
        }
      ]
    },
    {
      "cell_type": "code",
      "source": [
        "# 9. Create a tensor with shape [10] using your own choice of values, then find the index which has the maximum value.\n",
        "tensor = tf.random.shuffle(tf.constant(list(range(1,6)) + list(range(1,6))))\n",
        "tensor"
      ],
      "metadata": {
        "colab": {
          "base_uri": "https://localhost:8080/"
        },
        "id": "bpyMtbQ44Dpm",
        "outputId": "1c750695-4589-49e3-fccf-eeb579ca29a5"
      },
      "execution_count": 115,
      "outputs": [
        {
          "output_type": "execute_result",
          "data": {
            "text/plain": [
              "<tf.Tensor: shape=(10,), dtype=int32, numpy=array([5, 4, 5, 4, 3, 3, 2, 1, 2, 1], dtype=int32)>"
            ]
          },
          "metadata": {},
          "execution_count": 115
        }
      ]
    },
    {
      "cell_type": "code",
      "source": [
        "# 10. One-hot encode the tensor you created in 9\n",
        "pd.DataFrame(tf.one_hot(tensor, 5).numpy())"
      ],
      "metadata": {
        "colab": {
          "base_uri": "https://localhost:8080/",
          "height": 363
        },
        "id": "BmrdK5Sm4Tpk",
        "outputId": "835e5707-a2e7-42ae-99fe-154005d734ed"
      },
      "execution_count": 116,
      "outputs": [
        {
          "output_type": "execute_result",
          "data": {
            "text/plain": [
              "     0    1    2    3    4\n",
              "0  0.0  0.0  0.0  0.0  0.0\n",
              "1  0.0  0.0  0.0  0.0  1.0\n",
              "2  0.0  0.0  0.0  0.0  0.0\n",
              "3  0.0  0.0  0.0  0.0  1.0\n",
              "4  0.0  0.0  0.0  1.0  0.0\n",
              "5  0.0  0.0  0.0  1.0  0.0\n",
              "6  0.0  0.0  1.0  0.0  0.0\n",
              "7  0.0  1.0  0.0  0.0  0.0\n",
              "8  0.0  0.0  1.0  0.0  0.0\n",
              "9  0.0  1.0  0.0  0.0  0.0"
            ],
            "text/html": [
              "\n",
              "  <div id=\"df-98d15520-f89a-4298-bded-630adaab37fa\">\n",
              "    <div class=\"colab-df-container\">\n",
              "      <div>\n",
              "<style scoped>\n",
              "    .dataframe tbody tr th:only-of-type {\n",
              "        vertical-align: middle;\n",
              "    }\n",
              "\n",
              "    .dataframe tbody tr th {\n",
              "        vertical-align: top;\n",
              "    }\n",
              "\n",
              "    .dataframe thead th {\n",
              "        text-align: right;\n",
              "    }\n",
              "</style>\n",
              "<table border=\"1\" class=\"dataframe\">\n",
              "  <thead>\n",
              "    <tr style=\"text-align: right;\">\n",
              "      <th></th>\n",
              "      <th>0</th>\n",
              "      <th>1</th>\n",
              "      <th>2</th>\n",
              "      <th>3</th>\n",
              "      <th>4</th>\n",
              "    </tr>\n",
              "  </thead>\n",
              "  <tbody>\n",
              "    <tr>\n",
              "      <th>0</th>\n",
              "      <td>0.0</td>\n",
              "      <td>0.0</td>\n",
              "      <td>0.0</td>\n",
              "      <td>0.0</td>\n",
              "      <td>0.0</td>\n",
              "    </tr>\n",
              "    <tr>\n",
              "      <th>1</th>\n",
              "      <td>0.0</td>\n",
              "      <td>0.0</td>\n",
              "      <td>0.0</td>\n",
              "      <td>0.0</td>\n",
              "      <td>1.0</td>\n",
              "    </tr>\n",
              "    <tr>\n",
              "      <th>2</th>\n",
              "      <td>0.0</td>\n",
              "      <td>0.0</td>\n",
              "      <td>0.0</td>\n",
              "      <td>0.0</td>\n",
              "      <td>0.0</td>\n",
              "    </tr>\n",
              "    <tr>\n",
              "      <th>3</th>\n",
              "      <td>0.0</td>\n",
              "      <td>0.0</td>\n",
              "      <td>0.0</td>\n",
              "      <td>0.0</td>\n",
              "      <td>1.0</td>\n",
              "    </tr>\n",
              "    <tr>\n",
              "      <th>4</th>\n",
              "      <td>0.0</td>\n",
              "      <td>0.0</td>\n",
              "      <td>0.0</td>\n",
              "      <td>1.0</td>\n",
              "      <td>0.0</td>\n",
              "    </tr>\n",
              "    <tr>\n",
              "      <th>5</th>\n",
              "      <td>0.0</td>\n",
              "      <td>0.0</td>\n",
              "      <td>0.0</td>\n",
              "      <td>1.0</td>\n",
              "      <td>0.0</td>\n",
              "    </tr>\n",
              "    <tr>\n",
              "      <th>6</th>\n",
              "      <td>0.0</td>\n",
              "      <td>0.0</td>\n",
              "      <td>1.0</td>\n",
              "      <td>0.0</td>\n",
              "      <td>0.0</td>\n",
              "    </tr>\n",
              "    <tr>\n",
              "      <th>7</th>\n",
              "      <td>0.0</td>\n",
              "      <td>1.0</td>\n",
              "      <td>0.0</td>\n",
              "      <td>0.0</td>\n",
              "      <td>0.0</td>\n",
              "    </tr>\n",
              "    <tr>\n",
              "      <th>8</th>\n",
              "      <td>0.0</td>\n",
              "      <td>0.0</td>\n",
              "      <td>1.0</td>\n",
              "      <td>0.0</td>\n",
              "      <td>0.0</td>\n",
              "    </tr>\n",
              "    <tr>\n",
              "      <th>9</th>\n",
              "      <td>0.0</td>\n",
              "      <td>1.0</td>\n",
              "      <td>0.0</td>\n",
              "      <td>0.0</td>\n",
              "      <td>0.0</td>\n",
              "    </tr>\n",
              "  </tbody>\n",
              "</table>\n",
              "</div>\n",
              "      <button class=\"colab-df-convert\" onclick=\"convertToInteractive('df-98d15520-f89a-4298-bded-630adaab37fa')\"\n",
              "              title=\"Convert this dataframe to an interactive table.\"\n",
              "              style=\"display:none;\">\n",
              "        \n",
              "  <svg xmlns=\"http://www.w3.org/2000/svg\" height=\"24px\"viewBox=\"0 0 24 24\"\n",
              "       width=\"24px\">\n",
              "    <path d=\"M0 0h24v24H0V0z\" fill=\"none\"/>\n",
              "    <path d=\"M18.56 5.44l.94 2.06.94-2.06 2.06-.94-2.06-.94-.94-2.06-.94 2.06-2.06.94zm-11 1L8.5 8.5l.94-2.06 2.06-.94-2.06-.94L8.5 2.5l-.94 2.06-2.06.94zm10 10l.94 2.06.94-2.06 2.06-.94-2.06-.94-.94-2.06-.94 2.06-2.06.94z\"/><path d=\"M17.41 7.96l-1.37-1.37c-.4-.4-.92-.59-1.43-.59-.52 0-1.04.2-1.43.59L10.3 9.45l-7.72 7.72c-.78.78-.78 2.05 0 2.83L4 21.41c.39.39.9.59 1.41.59.51 0 1.02-.2 1.41-.59l7.78-7.78 2.81-2.81c.8-.78.8-2.07 0-2.86zM5.41 20L4 18.59l7.72-7.72 1.47 1.35L5.41 20z\"/>\n",
              "  </svg>\n",
              "      </button>\n",
              "      \n",
              "  <style>\n",
              "    .colab-df-container {\n",
              "      display:flex;\n",
              "      flex-wrap:wrap;\n",
              "      gap: 12px;\n",
              "    }\n",
              "\n",
              "    .colab-df-convert {\n",
              "      background-color: #E8F0FE;\n",
              "      border: none;\n",
              "      border-radius: 50%;\n",
              "      cursor: pointer;\n",
              "      display: none;\n",
              "      fill: #1967D2;\n",
              "      height: 32px;\n",
              "      padding: 0 0 0 0;\n",
              "      width: 32px;\n",
              "    }\n",
              "\n",
              "    .colab-df-convert:hover {\n",
              "      background-color: #E2EBFA;\n",
              "      box-shadow: 0px 1px 2px rgba(60, 64, 67, 0.3), 0px 1px 3px 1px rgba(60, 64, 67, 0.15);\n",
              "      fill: #174EA6;\n",
              "    }\n",
              "\n",
              "    [theme=dark] .colab-df-convert {\n",
              "      background-color: #3B4455;\n",
              "      fill: #D2E3FC;\n",
              "    }\n",
              "\n",
              "    [theme=dark] .colab-df-convert:hover {\n",
              "      background-color: #434B5C;\n",
              "      box-shadow: 0px 1px 3px 1px rgba(0, 0, 0, 0.15);\n",
              "      filter: drop-shadow(0px 1px 2px rgba(0, 0, 0, 0.3));\n",
              "      fill: #FFFFFF;\n",
              "    }\n",
              "  </style>\n",
              "\n",
              "      <script>\n",
              "        const buttonEl =\n",
              "          document.querySelector('#df-98d15520-f89a-4298-bded-630adaab37fa button.colab-df-convert');\n",
              "        buttonEl.style.display =\n",
              "          google.colab.kernel.accessAllowed ? 'block' : 'none';\n",
              "\n",
              "        async function convertToInteractive(key) {\n",
              "          const element = document.querySelector('#df-98d15520-f89a-4298-bded-630adaab37fa');\n",
              "          const dataTable =\n",
              "            await google.colab.kernel.invokeFunction('convertToInteractive',\n",
              "                                                     [key], {});\n",
              "          if (!dataTable) return;\n",
              "\n",
              "          const docLinkHtml = 'Like what you see? Visit the ' +\n",
              "            '<a target=\"_blank\" href=https://colab.research.google.com/notebooks/data_table.ipynb>data table notebook</a>'\n",
              "            + ' to learn more about interactive tables.';\n",
              "          element.innerHTML = '';\n",
              "          dataTable['output_type'] = 'display_data';\n",
              "          await google.colab.output.renderOutput(dataTable, element);\n",
              "          const docLink = document.createElement('div');\n",
              "          docLink.innerHTML = docLinkHtml;\n",
              "          element.appendChild(docLink);\n",
              "        }\n",
              "      </script>\n",
              "    </div>\n",
              "  </div>\n",
              "  "
            ]
          },
          "metadata": {},
          "execution_count": 116
        }
      ]
    },
    {
      "cell_type": "markdown",
      "source": [
        "### Extra curriculum"
      ],
      "metadata": {
        "id": "T3uk3BAc8QcI"
      }
    },
    {
      "cell_type": "markdown",
      "source": [
        "Read through the list of [TensorFlow Python APIs](https://www.tensorflow.org/api_docs/python/), pick one we haven't gone through in this notebook, reverse engineer it (write out the documentation code for yourself) and figure out what it does."
      ],
      "metadata": {
        "id": "4vQndA098Wgf"
      }
    },
    {
      "cell_type": "markdown",
      "source": [
        "Try to create a series of tensor functions to calculate your most recent grocery bill (it's okay if you don't use the names of the items, just the price in numerical form).\n",
        "\n",
        "- How would you calculate your grocery bill for the month and for the year using tensors?\n"
      ],
      "metadata": {
        "id": "93bgO_2285ds"
      }
    },
    {
      "cell_type": "markdown",
      "source": [
        "#### TensorFlow 2 quickstart for beginners\n",
        "\n",
        "Go through the TensorFlow 2.x quick start for beginners tutorial (be sure to type out all of the code yourself, even if you don't understand it).\n",
        "\n",
        "- Are there any functions we used in here that match what's used in there? Which are the same? Which haven't you seen before?\n"
      ],
      "metadata": {
        "id": "Uw2EfXka9CUU"
      }
    },
    {
      "cell_type": "code",
      "source": [
        "tf.__version__"
      ],
      "metadata": {
        "id": "n3Yh0jRyOBFo",
        "outputId": "bdc1c316-2b3b-4f20-db5e-211ff87abcac",
        "colab": {
          "base_uri": "https://localhost:8080/",
          "height": 35
        }
      },
      "execution_count": 117,
      "outputs": [
        {
          "output_type": "execute_result",
          "data": {
            "text/plain": [
              "'2.11.0'"
            ],
            "application/vnd.google.colaboratory.intrinsic+json": {
              "type": "string"
            }
          },
          "metadata": {},
          "execution_count": 117
        }
      ]
    },
    {
      "cell_type": "code",
      "source": [
        "# upgrade version as the tutorial uses tf 2.11\n",
        "# uncomment when running again on a different machine\n",
        "# !pip install --upgrade tensorflow "
      ],
      "metadata": {
        "id": "HvN4oZbaTf6w"
      },
      "execution_count": 118,
      "outputs": []
    },
    {
      "cell_type": "markdown",
      "source": [],
      "metadata": {
        "id": "OsOAEkIRSoVz"
      }
    },
    {
      "cell_type": "code",
      "source": [
        "# load and prepare mnist (handwritten digit) dataset\n",
        "mnist = tf.keras.datasets.mnist\n",
        "\n",
        "(x_train, y_train), (x_test, y_test) = mnist.load_data()\n",
        "print(\"shape\", \"\\n\", x_train[0].shape)\n",
        "x_train[0] # elements in x_train are 28*28 bitmaps with grayscale values"
      ],
      "metadata": {
        "id": "7mfLB5cSOY52",
        "outputId": "dbfc1d77-650c-4b69-8b16-f1fdd9a5fb77",
        "colab": {
          "base_uri": "https://localhost:8080/"
        }
      },
      "execution_count": 119,
      "outputs": [
        {
          "output_type": "stream",
          "name": "stdout",
          "text": [
            "shape \n",
            " (28, 28)\n"
          ]
        },
        {
          "output_type": "execute_result",
          "data": {
            "text/plain": [
              "array([[  0,   0,   0,   0,   0,   0,   0,   0,   0,   0,   0,   0,   0,\n",
              "          0,   0,   0,   0,   0,   0,   0,   0,   0,   0,   0,   0,   0,\n",
              "          0,   0],\n",
              "       [  0,   0,   0,   0,   0,   0,   0,   0,   0,   0,   0,   0,   0,\n",
              "          0,   0,   0,   0,   0,   0,   0,   0,   0,   0,   0,   0,   0,\n",
              "          0,   0],\n",
              "       [  0,   0,   0,   0,   0,   0,   0,   0,   0,   0,   0,   0,   0,\n",
              "          0,   0,   0,   0,   0,   0,   0,   0,   0,   0,   0,   0,   0,\n",
              "          0,   0],\n",
              "       [  0,   0,   0,   0,   0,   0,   0,   0,   0,   0,   0,   0,   0,\n",
              "          0,   0,   0,   0,   0,   0,   0,   0,   0,   0,   0,   0,   0,\n",
              "          0,   0],\n",
              "       [  0,   0,   0,   0,   0,   0,   0,   0,   0,   0,   0,   0,   0,\n",
              "          0,   0,   0,   0,   0,   0,   0,   0,   0,   0,   0,   0,   0,\n",
              "          0,   0],\n",
              "       [  0,   0,   0,   0,   0,   0,   0,   0,   0,   0,   0,   0,   3,\n",
              "         18,  18,  18, 126, 136, 175,  26, 166, 255, 247, 127,   0,   0,\n",
              "          0,   0],\n",
              "       [  0,   0,   0,   0,   0,   0,   0,   0,  30,  36,  94, 154, 170,\n",
              "        253, 253, 253, 253, 253, 225, 172, 253, 242, 195,  64,   0,   0,\n",
              "          0,   0],\n",
              "       [  0,   0,   0,   0,   0,   0,   0,  49, 238, 253, 253, 253, 253,\n",
              "        253, 253, 253, 253, 251,  93,  82,  82,  56,  39,   0,   0,   0,\n",
              "          0,   0],\n",
              "       [  0,   0,   0,   0,   0,   0,   0,  18, 219, 253, 253, 253, 253,\n",
              "        253, 198, 182, 247, 241,   0,   0,   0,   0,   0,   0,   0,   0,\n",
              "          0,   0],\n",
              "       [  0,   0,   0,   0,   0,   0,   0,   0,  80, 156, 107, 253, 253,\n",
              "        205,  11,   0,  43, 154,   0,   0,   0,   0,   0,   0,   0,   0,\n",
              "          0,   0],\n",
              "       [  0,   0,   0,   0,   0,   0,   0,   0,   0,  14,   1, 154, 253,\n",
              "         90,   0,   0,   0,   0,   0,   0,   0,   0,   0,   0,   0,   0,\n",
              "          0,   0],\n",
              "       [  0,   0,   0,   0,   0,   0,   0,   0,   0,   0,   0, 139, 253,\n",
              "        190,   2,   0,   0,   0,   0,   0,   0,   0,   0,   0,   0,   0,\n",
              "          0,   0],\n",
              "       [  0,   0,   0,   0,   0,   0,   0,   0,   0,   0,   0,  11, 190,\n",
              "        253,  70,   0,   0,   0,   0,   0,   0,   0,   0,   0,   0,   0,\n",
              "          0,   0],\n",
              "       [  0,   0,   0,   0,   0,   0,   0,   0,   0,   0,   0,   0,  35,\n",
              "        241, 225, 160, 108,   1,   0,   0,   0,   0,   0,   0,   0,   0,\n",
              "          0,   0],\n",
              "       [  0,   0,   0,   0,   0,   0,   0,   0,   0,   0,   0,   0,   0,\n",
              "         81, 240, 253, 253, 119,  25,   0,   0,   0,   0,   0,   0,   0,\n",
              "          0,   0],\n",
              "       [  0,   0,   0,   0,   0,   0,   0,   0,   0,   0,   0,   0,   0,\n",
              "          0,  45, 186, 253, 253, 150,  27,   0,   0,   0,   0,   0,   0,\n",
              "          0,   0],\n",
              "       [  0,   0,   0,   0,   0,   0,   0,   0,   0,   0,   0,   0,   0,\n",
              "          0,   0,  16,  93, 252, 253, 187,   0,   0,   0,   0,   0,   0,\n",
              "          0,   0],\n",
              "       [  0,   0,   0,   0,   0,   0,   0,   0,   0,   0,   0,   0,   0,\n",
              "          0,   0,   0,   0, 249, 253, 249,  64,   0,   0,   0,   0,   0,\n",
              "          0,   0],\n",
              "       [  0,   0,   0,   0,   0,   0,   0,   0,   0,   0,   0,   0,   0,\n",
              "          0,  46, 130, 183, 253, 253, 207,   2,   0,   0,   0,   0,   0,\n",
              "          0,   0],\n",
              "       [  0,   0,   0,   0,   0,   0,   0,   0,   0,   0,   0,   0,  39,\n",
              "        148, 229, 253, 253, 253, 250, 182,   0,   0,   0,   0,   0,   0,\n",
              "          0,   0],\n",
              "       [  0,   0,   0,   0,   0,   0,   0,   0,   0,   0,  24, 114, 221,\n",
              "        253, 253, 253, 253, 201,  78,   0,   0,   0,   0,   0,   0,   0,\n",
              "          0,   0],\n",
              "       [  0,   0,   0,   0,   0,   0,   0,   0,  23,  66, 213, 253, 253,\n",
              "        253, 253, 198,  81,   2,   0,   0,   0,   0,   0,   0,   0,   0,\n",
              "          0,   0],\n",
              "       [  0,   0,   0,   0,   0,   0,  18, 171, 219, 253, 253, 253, 253,\n",
              "        195,  80,   9,   0,   0,   0,   0,   0,   0,   0,   0,   0,   0,\n",
              "          0,   0],\n",
              "       [  0,   0,   0,   0,  55, 172, 226, 253, 253, 253, 253, 244, 133,\n",
              "         11,   0,   0,   0,   0,   0,   0,   0,   0,   0,   0,   0,   0,\n",
              "          0,   0],\n",
              "       [  0,   0,   0,   0, 136, 253, 253, 253, 212, 135, 132,  16,   0,\n",
              "          0,   0,   0,   0,   0,   0,   0,   0,   0,   0,   0,   0,   0,\n",
              "          0,   0],\n",
              "       [  0,   0,   0,   0,   0,   0,   0,   0,   0,   0,   0,   0,   0,\n",
              "          0,   0,   0,   0,   0,   0,   0,   0,   0,   0,   0,   0,   0,\n",
              "          0,   0],\n",
              "       [  0,   0,   0,   0,   0,   0,   0,   0,   0,   0,   0,   0,   0,\n",
              "          0,   0,   0,   0,   0,   0,   0,   0,   0,   0,   0,   0,   0,\n",
              "          0,   0],\n",
              "       [  0,   0,   0,   0,   0,   0,   0,   0,   0,   0,   0,   0,   0,\n",
              "          0,   0,   0,   0,   0,   0,   0,   0,   0,   0,   0,   0,   0,\n",
              "          0,   0]], dtype=uint8)"
            ]
          },
          "metadata": {},
          "execution_count": 119
        }
      ]
    },
    {
      "cell_type": "code",
      "source": [
        "from matplotlib import pyplot\n",
        "\n",
        "pyplot.imshow(x_train[0], cmap=pyplot.get_cmap('gray'))\n",
        "pyplot.show()"
      ],
      "metadata": {
        "id": "LpCbJkBRPPXw",
        "outputId": "21bdc99e-de45-4e8d-d3cd-54ed0b407fc6",
        "colab": {
          "base_uri": "https://localhost:8080/",
          "height": 265
        }
      },
      "execution_count": 120,
      "outputs": [
        {
          "output_type": "display_data",
          "data": {
            "text/plain": [
              "<Figure size 432x288 with 1 Axes>"
            ],
            "image/png": "[encoded data removed]"
          },
          "metadata": {
            "needs_background": "light"
          }
        }
      ]
    },
    {
      "cell_type": "code",
      "source": [
        "y_train[0] # y_train contains the correct numbers / letters for the training data"
      ],
      "metadata": {
        "id": "r4jY4LO7QwGu",
        "outputId": "2465a1af-7ec9-41c6-8bee-69f940f7f150",
        "colab": {
          "base_uri": "https://localhost:8080/"
        }
      },
      "execution_count": 121,
      "outputs": [
        {
          "output_type": "execute_result",
          "data": {
            "text/plain": [
              "5"
            ]
          },
          "metadata": {},
          "execution_count": 121
        }
      ]
    },
    {
      "cell_type": "code",
      "source": [
        "# Build a tf.keras.Sequential model by stacking layers.\n",
        "model = tf.keras.models.Sequential([\n",
        "    tf.keras.layers.Flatten(input_shape=(28,28)),\n",
        "    tf.keras.layers.Dense(128, activation='relu'),\n",
        "    tf.keras.layers.Dropout(0.2),\n",
        "    tf.keras.layers.Dense(10)\n",
        "])"
      ],
      "metadata": {
        "id": "uQY5A03VQ7Om"
      },
      "execution_count": 122,
      "outputs": []
    },
    {
      "cell_type": "markdown",
      "source": [
        "For each example, the model returns a vector of logits or log-odds scores, one for each class."
      ],
      "metadata": {
        "id": "Ryf-2VSsRe4z"
      }
    },
    {
      "cell_type": "code",
      "source": [
        "predictions = model(x_train[:1]).numpy() # get predictions for first image (a \"5\")\n",
        "predictions"
      ],
      "metadata": {
        "id": "nNbMYt7wRrD5",
        "outputId": "31e62fc6-fbe0-406f-d988-7c4f576556ef",
        "colab": {
          "base_uri": "https://localhost:8080/"
        }
      },
      "execution_count": 123,
      "outputs": [
        {
          "output_type": "execute_result",
          "data": {
            "text/plain": [
              "array([[-175.84702  , -166.35207  , -132.70569  ,  -22.333746 ,\n",
              "          90.2171   ,    9.537003 ,    0.5124817,  -78.127205 ,\n",
              "          33.458122 ,  -81.48904  ]], dtype=float32)"
            ]
          },
          "metadata": {},
          "execution_count": 123
        }
      ]
    },
    {
      "cell_type": "code",
      "source": [
        "# The tf.nn.softmax function converts these logits to probabilities for each class:\n",
        "tf.nn.softmax(predictions).numpy()"
      ],
      "metadata": {
        "id": "9zaouNuDSdKV",
        "outputId": "ef262bfa-9b67-4ffb-8dab-e96c6424d12f",
        "colab": {
          "base_uri": "https://localhost:8080/"
        }
      },
      "execution_count": 124,
      "outputs": [
        {
          "output_type": "execute_result",
          "data": {
            "text/plain": [
              "array([[0.0000000e+00, 0.0000000e+00, 0.0000000e+00, 0.0000000e+00,\n",
              "        1.0000000e+00, 9.1427739e-36, 0.0000000e+00, 0.0000000e+00,\n",
              "        2.2381453e-25, 0.0000000e+00]], dtype=float32)"
            ]
          },
          "metadata": {},
          "execution_count": 124
        }
      ]
    },
    {
      "cell_type": "markdown",
      "source": [
        "**Note**: I'm getting different results here as in the tutorial, even after upgrading tf to 2.11\n",
        "**solution** It's an *untrained* model so of course the result is more or less random for now"
      ],
      "metadata": {
        "id": "NKsG__JOUykd"
      }
    },
    {
      "cell_type": "markdown",
      "source": [
        "Define a loss function for training using `losses.SparseCategoricalCrossentropy`, which takes a vector of logits and a True index and returns a scalar loss for each example."
      ],
      "metadata": {
        "id": "ZaqDkA70SHcm"
      }
    },
    {
      "cell_type": "code",
      "source": [
        "loss_fn = tf.keras.losses.SparseCategoricalCrossentropy(from_logits=True)"
      ],
      "metadata": {
        "id": "ZRX-72S6Uoeb"
      },
      "execution_count": 126,
      "outputs": []
    },
    {
      "cell_type": "markdown",
      "source": [
        "This loss is equal to the negative log probability of the true class: The loss is zero if the model is sure of the correct class.\n",
        "\n",
        "\n",
        "This untrained model gives probabilities close to random (1/10 for each class), so the initial loss should be close to -tf.math.log(1/10) ~= 2.3."
      ],
      "metadata": {
        "id": "NEpOk9vVVRoa"
      }
    },
    {
      "cell_type": "code",
      "source": [
        "loss_fn(y_train[:1], predictions).numpy()"
      ],
      "metadata": {
        "id": "Fsy1mYxRVUde",
        "outputId": "236755fa-1fbe-42f2-cc81-51b556a3a11b",
        "colab": {
          "base_uri": "https://localhost:8080/"
        }
      },
      "execution_count": 130,
      "outputs": [
        {
          "output_type": "execute_result",
          "data": {
            "text/plain": [
              "80.6801"
            ]
          },
          "metadata": {},
          "execution_count": 130
        }
      ]
    },
    {
      "cell_type": "markdown",
      "source": [
        "Before you start training, configure and compile the model using Keras Model.compile. Set the optimizer class to adam, set the loss to the loss_fn function you defined earlier, and specify a metric to be evaluated for the model by setting the metrics parameter to accuracy."
      ],
      "metadata": {
        "id": "nPmE4MJNVgQa"
      }
    },
    {
      "cell_type": "code",
      "source": [
        "model.compile(optimizer='adam',\n",
        "              loss=loss_fn,\n",
        "              metrics=['accuracy'])\n"
      ],
      "metadata": {
        "id": "tqFMn5ThVinV"
      },
      "execution_count": 131,
      "outputs": []
    },
    {
      "cell_type": "markdown",
      "source": [
        "*Train and evaluate your model*\n",
        "\n",
        "Use the `Model.fit` method to adjust your model parameters and minimize the loss: "
      ],
      "metadata": {
        "id": "NhV19v4_VpRF"
      }
    },
    {
      "cell_type": "code",
      "source": [
        "model.fit(x_train, y_train, epochs=5)"
      ],
      "metadata": {
        "id": "CnTAKLozVwU9",
        "outputId": "7136b96c-3d95-4211-8e2d-74576c2cd85f",
        "colab": {
          "base_uri": "https://localhost:8080/"
        }
      },
      "execution_count": 132,
      "outputs": [
        {
          "output_type": "stream",
          "name": "stdout",
          "text": [
            "Epoch 1/5\n",
            "1875/1875 [==============================] - 16s 8ms/step - loss: 2.5572 - accuracy: 0.7329\n",
            "Epoch 2/5\n",
            "1875/1875 [==============================] - 8s 5ms/step - loss: 0.5946 - accuracy: 0.8382\n",
            "Epoch 3/5\n",
            "1875/1875 [==============================] - 9s 5ms/step - loss: 0.4627 - accuracy: 0.8719\n",
            "Epoch 4/5\n",
            "1875/1875 [==============================] - 9s 5ms/step - loss: 0.4252 - accuracy: 0.8870\n",
            "Epoch 5/5\n",
            "1875/1875 [==============================] - 10s 5ms/step - loss: 0.3962 - accuracy: 0.8949\n"
          ]
        },
        {
          "output_type": "execute_result",
          "data": {
            "text/plain": [
              "<keras.callbacks.History at 0x7fc8f3faaaf0>"
            ]
          },
          "metadata": {},
          "execution_count": 132
        }
      ]
    },
    {
      "cell_type": "markdown",
      "source": [
        "Evaluate the models performance with the test data using `Model.evaluate`"
      ],
      "metadata": {
        "id": "dvHOgHknV-gL"
      }
    },
    {
      "cell_type": "code",
      "source": [
        "model.evaluate(x_test, y_test, verbose=2)"
      ],
      "metadata": {
        "id": "lIkZylQwWHYx",
        "outputId": "05503d92-d70c-4b9b-925f-16c398b92d07",
        "colab": {
          "base_uri": "https://localhost:8080/"
        }
      },
      "execution_count": 133,
      "outputs": [
        {
          "output_type": "stream",
          "name": "stdout",
          "text": [
            "313/313 - 1s - loss: 0.2774 - accuracy: 0.9311 - 1s/epoch - 4ms/step\n"
          ]
        },
        {
          "output_type": "execute_result",
          "data": {
            "text/plain": [
              "[0.27737104892730713, 0.9311000108718872]"
            ]
          },
          "metadata": {},
          "execution_count": 133
        }
      ]
    },
    {
      "cell_type": "markdown",
      "source": [
        "The image classifier is now trained to ~93% accuracy on this dataset.\n",
        "\n",
        "For the trained model to return a probability, it can be wrapped it and attach a softmax to it:"
      ],
      "metadata": {
        "id": "WQEWjeeKWU-x"
      }
    },
    {
      "cell_type": "code",
      "source": [
        "probability_model = tf.keras.Sequential([\n",
        "    model,\n",
        "    tf.keras.layers.Softmax()\n",
        "])\n",
        "\n",
        "probability_model(x_test[:5]) # return probabilities for the first 5 items in the test dataset"
      ],
      "metadata": {
        "id": "MH_pCAc2Wk7H",
        "outputId": "1178a345-1399-40f3-a9af-3c6ea62ca045",
        "colab": {
          "base_uri": "https://localhost:8080/"
        }
      },
      "execution_count": 134,
      "outputs": [
        {
          "output_type": "execute_result",
          "data": {
            "text/plain": [
              "<tf.Tensor: shape=(5, 10), dtype=float32, numpy=\n",
              "array([[1.4674582e-30, 5.5729562e-20, 5.4447073e-06, 3.6719978e-11,\n",
              "        1.0614560e-14, 2.9474454e-22, 0.0000000e+00, 9.9999452e-01,\n",
              "        0.0000000e+00, 6.3350388e-12],\n",
              "       [1.2579211e-25, 3.5166134e-10, 1.0000000e+00, 1.3697429e-11,\n",
              "        0.0000000e+00, 5.9791103e-17, 1.0483130e-26, 3.7012533e-12,\n",
              "        6.6467188e-22, 0.0000000e+00],\n",
              "       [1.9003670e-28, 9.9992561e-01, 3.9110725e-11, 2.6818142e-31,\n",
              "        2.0632345e-24, 2.1487850e-14, 2.1194628e-28, 7.4340904e-05,\n",
              "        2.4065760e-10, 4.6448492e-19],\n",
              "       [9.9902761e-01, 1.8298787e-19, 8.7913241e-07, 1.2033315e-09,\n",
              "        2.6009038e-17, 9.5363741e-04, 3.1011787e-08, 1.7641654e-05,\n",
              "        1.2010146e-07, 5.1028561e-08],\n",
              "       [3.0504591e-19, 4.2787498e-09, 1.3467343e-07, 1.1287333e-08,\n",
              "        9.9986899e-01, 8.5935647e-10, 7.0781407e-14, 9.3049216e-08,\n",
              "        5.4319889e-11, 1.3078784e-04]], dtype=float32)>"
            ]
          },
          "metadata": {},
          "execution_count": 134
        }
      ]
    },
    {
      "cell_type": "markdown",
      "source": [
        "Quickstart Tutorial end"
      ],
      "metadata": {
        "id": "LxITxoppW_ht"
      }
    },
    {
      "cell_type": "markdown",
      "source": [
        "Watch the video [\"What's a tensor?\"](https://www.youtube.com/watch?v=f5liqUk0ZTw) - a great visual introduction to many of the concepts we've covered in this notebook.\n",
        "\n",
        "**done**"
      ],
      "metadata": {
        "id": "hyphuH5l9FOk"
      }
    }
  ]
}