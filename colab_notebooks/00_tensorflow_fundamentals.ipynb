{
  "nbformat": 4,
  "nbformat_minor": 0,
  "metadata": {
    "colab": {
      "provenance": [],
      "include_colab_link": true
    },
    "kernelspec": {
      "name": "python3",
      "display_name": "Python 3"
    },
    "language_info": {
      "name": "python"
    }
  },
  "cells": [
    {
      "cell_type": "markdown",
      "metadata": {
        "id": "view-in-github",
        "colab_type": "text"
      },
      "source": [
        "<a href=\"https://colab.research.google.com/github/pkro/tensorflow_cert_training/blob/main/colab_notebooks/00_tensorflow_fundamentals.ipynb\" target=\"_parent\"><img src=\"https://colab.research.google.com/assets/colab-badge.svg\" alt=\"Open In Colab\"/></a>"
      ]
    },
    {
      "cell_type": "markdown",
      "source": [
        "# tensor fundamentals using tensorflow\n",
        "\n",
        "- Introduction to tensors\n",
        "- getting information from tensor\n",
        "- manipulating tensors\n",
        "- tensors and NumPy\n",
        "- Using tf.function (speed up regular python functions)\n",
        "- using gpus / tpus with TensorFlow\n",
        "- Exercises\n"
      ],
      "metadata": {
        "id": "rfW-Q_3gB9is"
      }
    },
    {
      "cell_type": "markdown",
      "source": [
        "Introduction to tensors\n"
      ],
      "metadata": {
        "id": "LydiSCRtdXiz"
      }
    },
    {
      "cell_type": "code",
      "source": [
        "import tensorflow as tf\n",
        "\n",
        "print(tf.__version__)"
      ],
      "metadata": {
        "id": "uyKLNs_BeZTQ",
        "outputId": "0d95fcd9-2764-48cb-ad88-7ef87a456906",
        "colab": {
          "base_uri": "https://localhost:8080/"
        }
      },
      "execution_count": 2,
      "outputs": [
        {
          "output_type": "stream",
          "name": "stdout",
          "text": [
            "2.9.2\n"
          ]
        }
      ]
    },
    {
      "cell_type": "code",
      "execution_count": 3,
      "outputs": [
        {
          "output_type": "stream",
          "name": "stdout",
          "text": [
            "[]\n",
            "[name: \"/device:CPU:0\"\n",
            "device_type: \"CPU\"\n",
            "memory_limit: 268435456\n",
            "locality {\n",
            "}\n",
            "incarnation: 1117070062100935066\n",
            "xla_global_id: -1\n",
            "]\n"
          ]
        }
      ],
      "source": [
        "print(tf.config.list_physical_devices('GPU'))\n",
        "from tensorflow.python.client import device_lib\n",
        "print(device_lib.list_local_devices())"
      ],
      "metadata": {
        "id": "8f9oxvcHM9Q6",
        "outputId": "aaa072ab-2aa0-41f2-a532-9efed9ab6c4c",
        "colab": {
          "base_uri": "https://localhost:8080/"
        }
      }
    },
    {
      "cell_type": "code",
      "source": [
        "# Create tensors with tf.constant()\n",
        "scalar = tf.constant(7)\n",
        "scalar"
      ],
      "metadata": {
        "id": "hCbd8xyteuEm",
        "outputId": "74051db5-b7f1-4973-e4a3-8b446d1de782",
        "colab": {
          "base_uri": "https://localhost:8080/"
        }
      },
      "execution_count": 4,
      "outputs": [
        {
          "output_type": "execute_result",
          "data": {
            "text/plain": [
              "<tf.Tensor: shape=(), dtype=int32, numpy=7>"
            ]
          },
          "metadata": {},
          "execution_count": 4
        }
      ]
    },
    {
      "cell_type": "code",
      "source": [
        "#Check number of dimentsions of a tensor (ndim = Number of DIMensions)\n",
        "scalar.ndim, tf.rank(scalar).numpy() # ndim and tf.rank have the same value"
      ],
      "metadata": {
        "id": "kLO-PDiXfa43",
        "outputId": "1ee0dea9-5f00-44a3-b72f-318538037e61",
        "colab": {
          "base_uri": "https://localhost:8080/"
        }
      },
      "execution_count": 178,
      "outputs": [
        {
          "output_type": "execute_result",
          "data": {
            "text/plain": [
              "(0, 0)"
            ]
          },
          "metadata": {},
          "execution_count": 178
        }
      ]
    },
    {
      "cell_type": "code",
      "source": [
        "# create a vector\n",
        "vector = tf.constant([3,4])\n",
        "vector"
      ],
      "metadata": {
        "id": "8S-FoRqEgqID",
        "outputId": "0a2b89ad-3974-4d7f-dd45-5dbf7a0fbe57",
        "colab": {
          "base_uri": "https://localhost:8080/"
        }
      },
      "execution_count": 6,
      "outputs": [
        {
          "output_type": "execute_result",
          "data": {
            "text/plain": [
              "<tf.Tensor: shape=(2,), dtype=int32, numpy=array([3, 4], dtype=int32)>"
            ]
          },
          "metadata": {},
          "execution_count": 6
        }
      ]
    },
    {
      "cell_type": "code",
      "source": [
        "# check vector dimension\n",
        "vector.ndim"
      ],
      "metadata": {
        "id": "swLIIs4og_-k",
        "outputId": "f266eefd-4728-40af-d28f-ec1697e6a14d",
        "colab": {
          "base_uri": "https://localhost:8080/"
        }
      },
      "execution_count": 7,
      "outputs": [
        {
          "output_type": "execute_result",
          "data": {
            "text/plain": [
              "1"
            ]
          },
          "metadata": {},
          "execution_count": 7
        }
      ]
    },
    {
      "cell_type": "code",
      "source": [
        "# matrix (more than 1 dimension)\n",
        "matrix = tf.constant([[10,7],\n",
        "                      [7,10]])\n",
        "matrix"
      ],
      "metadata": {
        "id": "ij8egxnrhNJo",
        "outputId": "b52bcc4f-230e-47dd-efb5-85947e10bc1d",
        "colab": {
          "base_uri": "https://localhost:8080/"
        }
      },
      "execution_count": 8,
      "outputs": [
        {
          "output_type": "execute_result",
          "data": {
            "text/plain": [
              "<tf.Tensor: shape=(2, 2), dtype=int32, numpy=\n",
              "array([[10,  7],\n",
              "       [ 7, 10]], dtype=int32)>"
            ]
          },
          "metadata": {},
          "execution_count": 8
        }
      ]
    },
    {
      "cell_type": "code",
      "source": [
        "matrix.ndim"
      ],
      "metadata": {
        "id": "fmHk130Bhe5c",
        "outputId": "9f1970b7-3c72-4e92-e054-311c88db65f6",
        "colab": {
          "base_uri": "https://localhost:8080/"
        }
      },
      "execution_count": 9,
      "outputs": [
        {
          "output_type": "execute_result",
          "data": {
            "text/plain": [
              "2"
            ]
          },
          "metadata": {},
          "execution_count": 9
        }
      ]
    },
    {
      "cell_type": "markdown",
      "source": [
        "It seems the dimension of the tensors is related to the number of elements in the `shape` property of the tensor."
      ],
      "metadata": {
        "id": "qGXmyIK7hq22"
      }
    },
    {
      "cell_type": "code",
      "source": [
        "# Create another matrix and specify data tyoe\n",
        "another_matrix = tf.constant([[10.,7.],\n",
        "                              [8., 9.],\n",
        "                              [3., 4.]], dtype=tf.float16)\n",
        "another_matrix"
      ],
      "metadata": {
        "id": "Aw2TkfKSh9iB",
        "outputId": "304d34b7-5277-45f2-a32b-798d01bfe0bb",
        "colab": {
          "base_uri": "https://localhost:8080/"
        }
      },
      "execution_count": 10,
      "outputs": [
        {
          "output_type": "execute_result",
          "data": {
            "text/plain": [
              "<tf.Tensor: shape=(3, 2), dtype=float16, numpy=\n",
              "array([[10.,  7.],\n",
              "       [ 8.,  9.],\n",
              "       [ 3.,  4.]], dtype=float16)>"
            ]
          },
          "metadata": {},
          "execution_count": 10
        }
      ]
    },
    {
      "cell_type": "code",
      "source": [
        "another_matrix.ndim"
      ],
      "metadata": {
        "id": "JsV-H1DQiZ6D",
        "outputId": "8153a838-6392-47f1-edcf-137d999b91d2",
        "colab": {
          "base_uri": "https://localhost:8080/"
        }
      },
      "execution_count": 11,
      "outputs": [
        {
          "output_type": "execute_result",
          "data": {
            "text/plain": [
              "2"
            ]
          },
          "metadata": {},
          "execution_count": 11
        }
      ]
    },
    {
      "cell_type": "markdown",
      "source": [
        "The shape seems to have the format (rows, columns, ...);"
      ],
      "metadata": {
        "id": "PuJrayBDiy5s"
      }
    },
    {
      "cell_type": "code",
      "source": [
        "# note: all of the above were tensors too as e.g. a matrix is a subtype of a tensor\n",
        "tensor = tf.constant([\n",
        "    [[1,2,3], [4,5,6]],\n",
        "    [[7,8,9], [10,11,12]],\n",
        "    [[13,14,15], [16,17,18]]\n",
        "])\n",
        "tensor"
      ],
      "metadata": {
        "id": "3gvanxm9kQXm",
        "outputId": "efc73d47-45b4-4131-c882-0858a39a3f0f",
        "colab": {
          "base_uri": "https://localhost:8080/"
        }
      },
      "execution_count": 12,
      "outputs": [
        {
          "output_type": "execute_result",
          "data": {
            "text/plain": [
              "<tf.Tensor: shape=(3, 2, 3), dtype=int32, numpy=\n",
              "array([[[ 1,  2,  3],\n",
              "        [ 4,  5,  6]],\n",
              "\n",
              "       [[ 7,  8,  9],\n",
              "        [10, 11, 12]],\n",
              "\n",
              "       [[13, 14, 15],\n",
              "        [16, 17, 18]]], dtype=int32)>"
            ]
          },
          "metadata": {},
          "execution_count": 12
        }
      ]
    },
    {
      "cell_type": "code",
      "source": [
        "tensor.ndim"
      ],
      "metadata": {
        "id": "nVHqR0nYlDyM",
        "outputId": "f3e2a6e1-c20e-46a7-c193-2cac6bc9277a",
        "colab": {
          "base_uri": "https://localhost:8080/"
        }
      },
      "execution_count": 13,
      "outputs": [
        {
          "output_type": "execute_result",
          "data": {
            "text/plain": [
              "3"
            ]
          },
          "metadata": {},
          "execution_count": 13
        }
      ]
    },
    {
      "cell_type": "markdown",
      "source": [
        "### What we learned:\n",
        "\n",
        "- scalar: a single number\n",
        "- vector: a number with direction, e.g. wind speed and direction\n",
        "- matrix: 2-dimensional array of numbers\n",
        "- tensor: n-dimensional array of numbers (n = any number; a 0-dimensional tensor is a scalar, a 1-dimensional tensor is a vector)\n"
      ],
      "metadata": {
        "id": "GjxIPvQulcgg"
      }
    },
    {
      "cell_type": "markdown",
      "source": [
        "### Creating tensors with tf.Variable and tf.constant\n",
        "\n",
        ">A variable maintains shared, persistent state manipulated by a program.\n",
        "\n",
        "https://www.tensorflow.org/api_docs/python/tf/Variable\n",
        "\n",
        "When in doubt, use constant and change later if needed.\n",
        "\n",
        "In practice, creating variables / constants is taking care of by tf.\n",
        "\n",
        "*tensors created with tf.Variable don't seem to have an ndim property?*\n"
      ],
      "metadata": {
        "id": "41jAKofm2Kg8"
      }
    },
    {
      "cell_type": "code",
      "source": [
        "v = tf.Variable(1.)\n",
        "v"
      ],
      "metadata": {
        "id": "AMyy4O_52ban",
        "outputId": "dcda6cbe-f09e-4f97-a283-bf314948cef6",
        "colab": {
          "base_uri": "https://localhost:8080/"
        }
      },
      "execution_count": 14,
      "outputs": [
        {
          "output_type": "execute_result",
          "data": {
            "text/plain": [
              "<tf.Variable 'Variable:0' shape=() dtype=float32, numpy=1.0>"
            ]
          },
          "metadata": {},
          "execution_count": 14
        }
      ]
    },
    {
      "cell_type": "code",
      "source": [
        "# does not work, shape mismatch\n",
        "# v.assign([1,2])\n",
        "v.assign(5.) # works\n",
        "v"
      ],
      "metadata": {
        "id": "OA45NL8O2w81",
        "outputId": "b0d1f048-c8b7-4ce5-bd9d-db7d1d96a96e",
        "colab": {
          "base_uri": "https://localhost:8080/"
        }
      },
      "execution_count": 15,
      "outputs": [
        {
          "output_type": "execute_result",
          "data": {
            "text/plain": [
              "<tf.Variable 'Variable:0' shape=() dtype=float32, numpy=5.0>"
            ]
          },
          "metadata": {},
          "execution_count": 15
        }
      ]
    },
    {
      "cell_type": "code",
      "source": [
        "changeable_tensor = tf.Variable([10,7])\n",
        "unchangeable_tensor = tf.constant([4,5])\n",
        "changeable_tensor, unchangeable_tensor"
      ],
      "metadata": {
        "id": "hAiL4Qvk27Yt",
        "outputId": "572bd8ef-13aa-4a91-cc18-21b1ab8a6260",
        "colab": {
          "base_uri": "https://localhost:8080/"
        }
      },
      "execution_count": 16,
      "outputs": [
        {
          "output_type": "execute_result",
          "data": {
            "text/plain": [
              "(<tf.Variable 'Variable:0' shape=(2,) dtype=int32, numpy=array([10,  7], dtype=int32)>,\n",
              " <tf.Tensor: shape=(2,), dtype=int32, numpy=array([4, 5], dtype=int32)>)"
            ]
          },
          "metadata": {},
          "execution_count": 16
        }
      ]
    },
    {
      "cell_type": "code",
      "source": [
        "changeable_tensor[0]"
      ],
      "metadata": {
        "id": "Et3F3NHp3c8E",
        "outputId": "f20485f7-a1b1-44c9-e4cb-4004c9a513af",
        "colab": {
          "base_uri": "https://localhost:8080/"
        }
      },
      "execution_count": 17,
      "outputs": [
        {
          "output_type": "execute_result",
          "data": {
            "text/plain": [
              "<tf.Tensor: shape=(), dtype=int32, numpy=10>"
            ]
          },
          "metadata": {},
          "execution_count": 17
        }
      ]
    },
    {
      "cell_type": "code",
      "source": [
        "# changeable_tensor.assign([1,2,3]) # shape mismatch\n",
        "# unchangeable_tensor.assign([1,2]) # obviousle doesn't even have an assign method\n",
        "changeable_tensor.assign([1,2]) # works fine"
      ],
      "metadata": {
        "id": "OmvTMglI3jUi",
        "outputId": "747d46cb-a6a4-4eae-e429-b3378dd66945",
        "colab": {
          "base_uri": "https://localhost:8080/"
        }
      },
      "execution_count": 18,
      "outputs": [
        {
          "output_type": "execute_result",
          "data": {
            "text/plain": [
              "<tf.Variable 'UnreadVariable' shape=(2,) dtype=int32, numpy=array([1, 2], dtype=int32)>"
            ]
          },
          "metadata": {},
          "execution_count": 18
        }
      ]
    },
    {
      "cell_type": "code",
      "source": [
        "# We can also assign single elements\n",
        "changeable_tensor[0].assign(10)"
      ],
      "metadata": {
        "id": "zEqBtMPy31Hn",
        "outputId": "a1d80a23-dded-4ed6-d5fe-f6a732cd14cb",
        "colab": {
          "base_uri": "https://localhost:8080/"
        }
      },
      "execution_count": 19,
      "outputs": [
        {
          "output_type": "execute_result",
          "data": {
            "text/plain": [
              "<tf.Variable 'UnreadVariable' shape=(2,) dtype=int32, numpy=array([10,  2], dtype=int32)>"
            ]
          },
          "metadata": {},
          "execution_count": 19
        }
      ]
    },
    {
      "cell_type": "markdown",
      "source": [
        "### Creating random tensors with tf.Variable()\n",
        "\n",
        "Random tensors are tensors of arbitrary size containing random numbers.\n",
        "\n",
        "They are used to initialize the middle layer of the neural network (=representation = patterns = features = weights) and then tweak them by learning.\n",
        "\n",
        "![random initialization](https://github.com/pkro/tensorflow_cert_training/blob/main/readme_images/random_init.png?raw=1)\n",
        "\n",
        "Representation outputs are also referred to as prediction probabilities (the higher the number, the higher the probability.\n",
        "\n",
        "Example from picture:\n",
        "\n",
        "first column is Ramen, second column is Spagghetti, third is none. Rows are each of the inputs / pictures (from what i understand).\n",
        "\n"
      ],
      "metadata": {
        "id": "91l5bMn24xNh"
      }
    },
    {
      "cell_type": "code",
      "source": [
        "# create 2 random (but same) tensors\n",
        "random_1 = tf.random.Generator.from_seed(42); # set seed for reproducibility\n",
        "random_1 = random_1.normal(shape=(3,2)) # Outputs random values from a normal distribution.\n",
        "random_1"
      ],
      "metadata": {
        "id": "q7mtsJC8mRa4",
        "outputId": "06f48da7-94f0-45c0-abdb-af1c111134d5",
        "colab": {
          "base_uri": "https://localhost:8080/"
        }
      },
      "execution_count": 20,
      "outputs": [
        {
          "output_type": "execute_result",
          "data": {
            "text/plain": [
              "<tf.Tensor: shape=(3, 2), dtype=float32, numpy=\n",
              "array([[-0.7565803 , -0.06854702],\n",
              "       [ 0.07595026, -1.2573844 ],\n",
              "       [-0.23193763, -1.8107855 ]], dtype=float32)>"
            ]
          },
          "metadata": {},
          "execution_count": 20
        }
      ]
    },
    {
      "cell_type": "markdown",
      "source": [
        ">A normal distribution is a type of continuous probability distribution in which most data points cluster toward the middle of the range, while the rest taper off symmetrically toward either extreme. The middle of the range is also known as the mean of the distribution.\n",
        "[source](https://www.techtarget.com/whatis/definition/normal-distribution)\n",
        "\n",
        "Basically a bell curve."
      ],
      "metadata": {
        "id": "rQsRJDc2pa9G"
      }
    },
    {
      "cell_type": "code",
      "source": [
        "random_2 = tf.random.Generator.from_seed(42)\n",
        "random_2 = random_2.normal(shape=(3,2))\n",
        "random_1, random_2, random_1 == random_2 # same seed, same values"
      ],
      "metadata": {
        "id": "bbLrSF5Sps8k",
        "outputId": "ecca783d-54c2-4e8d-da1a-826646b1d40c",
        "colab": {
          "base_uri": "https://localhost:8080/"
        }
      },
      "execution_count": 21,
      "outputs": [
        {
          "output_type": "execute_result",
          "data": {
            "text/plain": [
              "(<tf.Tensor: shape=(3, 2), dtype=float32, numpy=\n",
              " array([[-0.7565803 , -0.06854702],\n",
              "        [ 0.07595026, -1.2573844 ],\n",
              "        [-0.23193763, -1.8107855 ]], dtype=float32)>,\n",
              " <tf.Tensor: shape=(3, 2), dtype=float32, numpy=\n",
              " array([[-0.7565803 , -0.06854702],\n",
              "        [ 0.07595026, -1.2573844 ],\n",
              "        [-0.23193763, -1.8107855 ]], dtype=float32)>,\n",
              " <tf.Tensor: shape=(3, 2), dtype=bool, numpy=\n",
              " array([[ True,  True],\n",
              "        [ True,  True],\n",
              "        [ True,  True]])>)"
            ]
          },
          "metadata": {},
          "execution_count": 21
        }
      ]
    },
    {
      "cell_type": "markdown",
      "source": [
        "### Shuffle the order of elements in a tensor\n",
        "\n",
        "Example use: if a NN has a list of 15000 images, the first 10.000 of Spagghetti and the last 5000 of Ramen, it might optimize too much on the Spagghetti recognition before reaching the Ramen images. It would be better to mix the input (images) so it learns both at the same time."
      ],
      "metadata": {
        "id": "rt333WCGqjCw"
      }
    },
    {
      "cell_type": "code",
      "source": [
        "# shuffle a tensor (valuable to shuffle data so the inherent order doesn't affect learning)\n",
        "not_shuffled = tf.constant([[10,7],\n",
        "                            [3,5],\n",
        "                            [1,9]])\n",
        "not_shuffled.ndim #2\n",
        "not_shuffled\n"
      ],
      "metadata": {
        "id": "z-n3bImVrf4T",
        "outputId": "b7dc14af-4c6a-40cd-b7ef-3ea96dcafbdd",
        "colab": {
          "base_uri": "https://localhost:8080/"
        }
      },
      "execution_count": 22,
      "outputs": [
        {
          "output_type": "execute_result",
          "data": {
            "text/plain": [
              "<tf.Tensor: shape=(3, 2), dtype=int32, numpy=\n",
              "array([[10,  7],\n",
              "       [ 3,  5],\n",
              "       [ 1,  9]], dtype=int32)>"
            ]
          },
          "metadata": {},
          "execution_count": 22
        }
      ]
    },
    {
      "cell_type": "code",
      "source": [
        "# shuffles only the first dimension (\"rows\"), content of sub-arrays stays the same!\n",
        "\n",
        "shuffled = tf.random.shuffle(not_shuffled)\n",
        "shuffled.ndim # also 2 of course\n",
        "print(\"random, without seed:\", shuffled)\n",
        "\n",
        "# can take a seed\n",
        "shuffled = tf.random.shuffle(not_shuffled, 42)\n",
        "shuffled.ndim # also 2 of course\n",
        "print(\"STILL random even with seed:\", shuffled)"
      ],
      "metadata": {
        "id": "lTDklxBNsKbI",
        "outputId": "8be6840e-88c6-49ce-9a2a-d002614c729f",
        "colab": {
          "base_uri": "https://localhost:8080/"
        }
      },
      "execution_count": 23,
      "outputs": [
        {
          "output_type": "stream",
          "name": "stdout",
          "text": [
            "random, without seed: tf.Tensor(\n",
            "[[ 3  5]\n",
            " [10  7]\n",
            " [ 1  9]], shape=(3, 2), dtype=int32)\n",
            "STILL random even with seed: tf.Tensor(\n",
            "[[ 1  9]\n",
            " [ 3  5]\n",
            " [10  7]], shape=(3, 2), dtype=int32)\n"
          ]
        }
      ]
    },
    {
      "cell_type": "markdown",
      "source": [
        ">\"Operations that rely on a random seed actually derive it from two seeds: the global and operation-level seeds. This sets the global seed.\"\n",
        "\n",
        "[more on the rules of how these seeds are used](https://www.tensorflow.org/api_docs/python/tf/random/set_seed)"
      ],
      "metadata": {
        "id": "Wij3kxjBuLf7"
      }
    },
    {
      "cell_type": "code",
      "source": [
        "tf.random.set_seed(99) # global seed\n",
        "shuffled = tf.random.shuffle(not_shuffled, seed=42) # operation level seed\n",
        "shuffled # stays in the same (random) order"
      ],
      "metadata": {
        "id": "pkhKjUUBunng",
        "outputId": "d61055b1-d1b8-45ff-806a-fba9de1eea4d",
        "colab": {
          "base_uri": "https://localhost:8080/"
        }
      },
      "execution_count": 24,
      "outputs": [
        {
          "output_type": "execute_result",
          "data": {
            "text/plain": [
              "<tf.Tensor: shape=(3, 2), dtype=int32, numpy=\n",
              "array([[10,  7],\n",
              "       [ 3,  5],\n",
              "       [ 1,  9]], dtype=int32)>"
            ]
          },
          "metadata": {},
          "execution_count": 24
        }
      ]
    },
    {
      "cell_type": "markdown",
      "source": [
        "For reproducibility of experiments, set both the global and operation level seed."
      ],
      "metadata": {
        "id": "b4RUvJYBwHiX"
      }
    },
    {
      "cell_type": "markdown",
      "source": [
        "### Other ways to make tensors"
      ],
      "metadata": {
        "id": "Q2GrinelvJuM"
      }
    },
    {
      "cell_type": "markdown",
      "source": [
        "### Creating tensors from NumPy arrays\n",
        "\n",
        "Note that tensorflow has many NumPy operations (such as `ones`) already built in."
      ],
      "metadata": {
        "id": "Pb9UEVELwioe"
      }
    },
    {
      "cell_type": "code",
      "source": [
        "# creates a tensor of a given shape where all elements are 1\n",
        "tf.ones(shape=(3,2), dtype=tf.int32)"
      ],
      "metadata": {
        "id": "3tIBGzgVw0Js",
        "outputId": "2ee3f75d-d253-4d42-dac5-1624ca444e7d",
        "colab": {
          "base_uri": "https://localhost:8080/"
        }
      },
      "execution_count": 25,
      "outputs": [
        {
          "output_type": "execute_result",
          "data": {
            "text/plain": [
              "<tf.Tensor: shape=(3, 2), dtype=int32, numpy=\n",
              "array([[1, 1],\n",
              "       [1, 1],\n",
              "       [1, 1]], dtype=int32)>"
            ]
          },
          "metadata": {},
          "execution_count": 25
        }
      ]
    },
    {
      "cell_type": "code",
      "source": [
        "# create a tensor of 0s\n",
        "tf.zeros(shape=(3,2), dtype=tf.int32)"
      ],
      "metadata": {
        "id": "K9Ao-_JJxPqL",
        "outputId": "0186cb46-96d0-4d10-8f6e-0564ff4d11ee",
        "colab": {
          "base_uri": "https://localhost:8080/"
        }
      },
      "execution_count": 26,
      "outputs": [
        {
          "output_type": "execute_result",
          "data": {
            "text/plain": [
              "<tf.Tensor: shape=(3, 2), dtype=int32, numpy=\n",
              "array([[0, 0],\n",
              "       [0, 0],\n",
              "       [0, 0]], dtype=int32)>"
            ]
          },
          "metadata": {},
          "execution_count": 26
        }
      ]
    },
    {
      "cell_type": "code",
      "source": [
        "# create a tensor filled with an arbitrary value\n",
        "tf.fill([3,2], value=99) # note that shape is passed as an array instead of a tupple here"
      ],
      "metadata": {
        "id": "VMDySSkgxd74",
        "outputId": "57b63cf7-b0e9-4982-824b-a66a9dbb0ab5",
        "colab": {
          "base_uri": "https://localhost:8080/"
        }
      },
      "execution_count": 27,
      "outputs": [
        {
          "output_type": "execute_result",
          "data": {
            "text/plain": [
              "<tf.Tensor: shape=(3, 2), dtype=int32, numpy=\n",
              "array([[99, 99],\n",
              "       [99, 99],\n",
              "       [99, 99]], dtype=int32)>"
            ]
          },
          "metadata": {},
          "execution_count": 27
        }
      ]
    },
    {
      "cell_type": "markdown",
      "source": [
        "### Turn a NumPy array into tensors\n",
        "\n",
        "Main difference between NumPy arrays and tf tensors: tensors can be run on a GPU, otherwise very similar\n"
      ],
      "metadata": {
        "id": "prjNVhtVx0_v"
      }
    },
    {
      "cell_type": "code",
      "source": [
        "import numpy as np\n",
        "\n",
        "numpy_a = np.arange(1, 25, dtype=np.int32)\n",
        "\n",
        "# Capitalization \"rules\":\n",
        "# A = tf.constant(some_matrix) # capital for matrix or tensor\n",
        "# a = tf.constant(vector) # lowercase for vector\n",
        "numpy_a #  numpy array"
      ],
      "metadata": {
        "id": "z0yolIsiyG61",
        "outputId": "9d21ccfd-1b4f-477b-e13f-11b2686fbca5",
        "colab": {
          "base_uri": "https://localhost:8080/"
        }
      },
      "execution_count": 28,
      "outputs": [
        {
          "output_type": "execute_result",
          "data": {
            "text/plain": [
              "array([ 1,  2,  3,  4,  5,  6,  7,  8,  9, 10, 11, 12, 13, 14, 15, 16, 17,\n",
              "       18, 19, 20, 21, 22, 23, 24], dtype=int32)"
            ]
          },
          "metadata": {},
          "execution_count": 28
        }
      ]
    },
    {
      "cell_type": "code",
      "source": [
        "# convert to tf tensor\n",
        "tensor_a = tf.constant(numpy_a)\n",
        "tensor_a"
      ],
      "metadata": {
        "id": "knbXEEvjysSr",
        "outputId": "6c52183e-35a0-4bdb-8672-249fd3f03bed",
        "colab": {
          "base_uri": "https://localhost:8080/"
        }
      },
      "execution_count": 29,
      "outputs": [
        {
          "output_type": "execute_result",
          "data": {
            "text/plain": [
              "<tf.Tensor: shape=(24,), dtype=int32, numpy=\n",
              "array([ 1,  2,  3,  4,  5,  6,  7,  8,  9, 10, 11, 12, 13, 14, 15, 16, 17,\n",
              "       18, 19, 20, 21, 22, 23, 24], dtype=int32)>"
            ]
          },
          "metadata": {},
          "execution_count": 29
        }
      ]
    },
    {
      "cell_type": "code",
      "source": [
        "# Change shape from vector to matrix from a one-dimensional array\n",
        "# the number of elements in the source array must add up to the elements required\n",
        "# by the shape\n",
        "A = tf.constant(numpy_a, shape=(3,8))\n",
        "B = tf.constant(numpy_a)\n",
        "A, A.ndim, B, B.ndim"
      ],
      "metadata": {
        "id": "CjzS_W7rzg-A",
        "outputId": "e93aef50-5009-42e6-e2db-b4fac11fea0d",
        "colab": {
          "base_uri": "https://localhost:8080/"
        }
      },
      "execution_count": 30,
      "outputs": [
        {
          "output_type": "execute_result",
          "data": {
            "text/plain": [
              "(<tf.Tensor: shape=(3, 8), dtype=int32, numpy=\n",
              " array([[ 1,  2,  3,  4,  5,  6,  7,  8],\n",
              "        [ 9, 10, 11, 12, 13, 14, 15, 16],\n",
              "        [17, 18, 19, 20, 21, 22, 23, 24]], dtype=int32)>,\n",
              " 2,\n",
              " <tf.Tensor: shape=(24,), dtype=int32, numpy=\n",
              " array([ 1,  2,  3,  4,  5,  6,  7,  8,  9, 10, 11, 12, 13, 14, 15, 16, 17,\n",
              "        18, 19, 20, 21, 22, 23, 24], dtype=int32)>,\n",
              " 1)"
            ]
          },
          "metadata": {},
          "execution_count": 30
        }
      ]
    },
    {
      "cell_type": "markdown",
      "source": [
        "### Getting information from tensors\n",
        "\n",
        "When dealing with tensors you need to be aware of the following attributes:\n",
        "\n",
        "- Shape\n",
        "- Rank\n",
        "- Axis or dimension\n",
        "- Size\n",
        "\n",
        "![attributes](https://github.com/pkro/tensorflow_cert_training/blob/main/readme_images/tensor_attributes.png?raw=1)"
      ],
      "metadata": {
        "id": "5WC0E4JL0YNQ"
      }
    },
    {
      "cell_type": "code",
      "execution_count": 31,
      "outputs": [
        {
          "output_type": "execute_result",
          "data": {
            "text/plain": [
              "(<tf.Tensor: shape=(2, 3, 4, 5), dtype=float32, numpy=\n",
              " array([[[[0., 0., 0., 0., 0.],\n",
              "          [0., 0., 0., 0., 0.],\n",
              "          [0., 0., 0., 0., 0.],\n",
              "          [0., 0., 0., 0., 0.]],\n",
              " \n",
              "         [[0., 0., 0., 0., 0.],\n",
              "          [0., 0., 0., 0., 0.],\n",
              "          [0., 0., 0., 0., 0.],\n",
              "          [0., 0., 0., 0., 0.]],\n",
              " \n",
              "         [[0., 0., 0., 0., 0.],\n",
              "          [0., 0., 0., 0., 0.],\n",
              "          [0., 0., 0., 0., 0.],\n",
              "          [0., 0., 0., 0., 0.]]],\n",
              " \n",
              " \n",
              "        [[[0., 0., 0., 0., 0.],\n",
              "          [0., 0., 0., 0., 0.],\n",
              "          [0., 0., 0., 0., 0.],\n",
              "          [0., 0., 0., 0., 0.]],\n",
              " \n",
              "         [[0., 0., 0., 0., 0.],\n",
              "          [0., 0., 0., 0., 0.],\n",
              "          [0., 0., 0., 0., 0.],\n",
              "          [0., 0., 0., 0., 0.]],\n",
              " \n",
              "         [[0., 0., 0., 0., 0.],\n",
              "          [0., 0., 0., 0., 0.],\n",
              "          [0., 0., 0., 0., 0.],\n",
              "          [0., 0., 0., 0., 0.]]]], dtype=float32)>, 'rank: ', 4)"
            ]
          },
          "metadata": {},
          "execution_count": 31
        }
      ],
      "source": [
        "# create rank 4 tensor\n",
        "rank_4_tensor = tf.zeros([2,3,4,5]) # 2*3*4*5 \"4d matrix\"\n",
        "rank_4_tensor, \"rank: \", rank_4_tensor.ndim"
      ],
      "metadata": {
        "id": "rsgNbwBvM9RE",
        "outputId": "89163685-18d1-405d-efa4-0694ebc41594",
        "colab": {
          "base_uri": "https://localhost:8080/"
        }
      }
    },
    {
      "cell_type": "code",
      "source": [
        "print(rank_4_tensor[0], \"\\n\")\n",
        "print(rank_4_tensor[0][0], \"\\n\") \n",
        "print(rank_4_tensor[0][0][0], \"\\n\") \n",
        "print(rank_4_tensor[0][0][0][0], \"\\n\") "
      ],
      "metadata": {
        "id": "T6A-zJ80UnTr",
        "outputId": "d2ee6bbc-928a-4036-f8d0-841e65d55907",
        "colab": {
          "base_uri": "https://localhost:8080/"
        }
      },
      "execution_count": 32,
      "outputs": [
        {
          "output_type": "stream",
          "name": "stdout",
          "text": [
            "tf.Tensor(\n",
            "[[[0. 0. 0. 0. 0.]\n",
            "  [0. 0. 0. 0. 0.]\n",
            "  [0. 0. 0. 0. 0.]\n",
            "  [0. 0. 0. 0. 0.]]\n",
            "\n",
            " [[0. 0. 0. 0. 0.]\n",
            "  [0. 0. 0. 0. 0.]\n",
            "  [0. 0. 0. 0. 0.]\n",
            "  [0. 0. 0. 0. 0.]]\n",
            "\n",
            " [[0. 0. 0. 0. 0.]\n",
            "  [0. 0. 0. 0. 0.]\n",
            "  [0. 0. 0. 0. 0.]\n",
            "  [0. 0. 0. 0. 0.]]], shape=(3, 4, 5), dtype=float32) \n",
            "\n",
            "tf.Tensor(\n",
            "[[0. 0. 0. 0. 0.]\n",
            " [0. 0. 0. 0. 0.]\n",
            " [0. 0. 0. 0. 0.]\n",
            " [0. 0. 0. 0. 0.]], shape=(4, 5), dtype=float32) \n",
            "\n",
            "tf.Tensor([0. 0. 0. 0. 0.], shape=(5,), dtype=float32) \n",
            "\n",
            "tf.Tensor(0.0, shape=(), dtype=float32) \n",
            "\n"
          ]
        }
      ]
    },
    {
      "cell_type": "code",
      "source": [
        "rank_4_tensor.shape, rank_4_tensor.ndim, tf.size(rank_4_tensor)"
      ],
      "metadata": {
        "id": "3CcquJ-iVfAr",
        "outputId": "6b7cf1c3-c544-4f25-8efe-1375253796c8",
        "colab": {
          "base_uri": "https://localhost:8080/"
        }
      },
      "execution_count": 33,
      "outputs": [
        {
          "output_type": "execute_result",
          "data": {
            "text/plain": [
              "(TensorShape([2, 3, 4, 5]), 4, <tf.Tensor: shape=(), dtype=int32, numpy=120>)"
            ]
          },
          "metadata": {},
          "execution_count": 33
        }
      ]
    },
    {
      "cell_type": "code",
      "source": [
        "# Get various attributes of our tensor\n",
        "def tensor_info(tensor):\n",
        "  print(\"Datatype of every element: \", tensor.dtype)\n",
        "  print(\"Number of dimensions (rank): \", tensor.ndim)\n",
        "  print(\"Shape: \", tensor.shape)\n",
        "  print(\"Elements along the 0 axis: \", tensor.shape[0])\n",
        "  print(\"Elements along the last axis: \", tensor.shape[-1])\n",
        "  print(\"Total number of elements: \", tf.size(tensor))\n",
        "  print(\"Total number of elements (plain): \", tf.size(tensor).numpy())\n",
        "\n",
        "tensor_info(rank_4_tensor)"
      ],
      "metadata": {
        "id": "XT8-ntmfV3dW",
        "outputId": "b387f58c-2cc4-42c0-85e2-8f59c77a793f",
        "colab": {
          "base_uri": "https://localhost:8080/"
        }
      },
      "execution_count": 34,
      "outputs": [
        {
          "output_type": "stream",
          "name": "stdout",
          "text": [
            "Datatype of every element:  <dtype: 'float32'>\n",
            "Number of dimensions (rank):  4\n",
            "Shape:  (2, 3, 4, 5)\n",
            "Elements along the 0 axis:  2\n",
            "Elements along the last axis:  5\n",
            "Total number of elements:  tf.Tensor(120, shape=(), dtype=int32)\n",
            "Total number of elements (plain):  120\n"
          ]
        }
      ]
    },
    {
      "cell_type": "markdown",
      "source": [
        "### Indexing and expanding tensors\n",
        "\n",
        "Tensors can be indexed like python lists\n"
      ],
      "metadata": {
        "id": "mNkGm2JFAGrl"
      }
    },
    {
      "cell_type": "code",
      "source": [
        "# get first 2 elements of each tensor dimension\n",
        "rank_4_tensor[:2, :2, :2, :2]"
      ],
      "metadata": {
        "id": "2z6hDQ2kAZUV",
        "outputId": "979b86f1-2958-48eb-fd70-7677378c0531",
        "colab": {
          "base_uri": "https://localhost:8080/"
        }
      },
      "execution_count": 35,
      "outputs": [
        {
          "output_type": "execute_result",
          "data": {
            "text/plain": [
              "<tf.Tensor: shape=(2, 2, 2, 2), dtype=float32, numpy=\n",
              "array([[[[0., 0.],\n",
              "         [0., 0.]],\n",
              "\n",
              "        [[0., 0.],\n",
              "         [0., 0.]]],\n",
              "\n",
              "\n",
              "       [[[0., 0.],\n",
              "         [0., 0.]],\n",
              "\n",
              "        [[0., 0.],\n",
              "         [0., 0.]]]], dtype=float32)>"
            ]
          },
          "metadata": {},
          "execution_count": 35
        }
      ]
    },
    {
      "cell_type": "code",
      "source": [
        "# Example: remove the first element of the innermost tensors\n",
        "rank_4_tensor[:, :, :, 1:]"
      ],
      "metadata": {
        "id": "an-9hv5aBWWk",
        "outputId": "71162e94-b389-4ff4-991e-1bff44dada06",
        "colab": {
          "base_uri": "https://localhost:8080/"
        }
      },
      "execution_count": 36,
      "outputs": [
        {
          "output_type": "execute_result",
          "data": {
            "text/plain": [
              "<tf.Tensor: shape=(2, 3, 4, 4), dtype=float32, numpy=\n",
              "array([[[[0., 0., 0., 0.],\n",
              "         [0., 0., 0., 0.],\n",
              "         [0., 0., 0., 0.],\n",
              "         [0., 0., 0., 0.]],\n",
              "\n",
              "        [[0., 0., 0., 0.],\n",
              "         [0., 0., 0., 0.],\n",
              "         [0., 0., 0., 0.],\n",
              "         [0., 0., 0., 0.]],\n",
              "\n",
              "        [[0., 0., 0., 0.],\n",
              "         [0., 0., 0., 0.],\n",
              "         [0., 0., 0., 0.],\n",
              "         [0., 0., 0., 0.]]],\n",
              "\n",
              "\n",
              "       [[[0., 0., 0., 0.],\n",
              "         [0., 0., 0., 0.],\n",
              "         [0., 0., 0., 0.],\n",
              "         [0., 0., 0., 0.]],\n",
              "\n",
              "        [[0., 0., 0., 0.],\n",
              "         [0., 0., 0., 0.],\n",
              "         [0., 0., 0., 0.],\n",
              "         [0., 0., 0., 0.]],\n",
              "\n",
              "        [[0., 0., 0., 0.],\n",
              "         [0., 0., 0., 0.],\n",
              "         [0., 0., 0., 0.],\n",
              "         [0., 0., 0., 0.]]]], dtype=float32)>"
            ]
          },
          "metadata": {},
          "execution_count": 36
        }
      ]
    },
    {
      "cell_type": "code",
      "source": [
        "# get the first element from except from the final one\n",
        "rank_4_tensor[:1, :1, :1]"
      ],
      "metadata": {
        "id": "9cLH_bk6BobI",
        "outputId": "65265ddc-26ba-4cca-b096-b7930fc55145",
        "colab": {
          "base_uri": "https://localhost:8080/"
        }
      },
      "execution_count": 37,
      "outputs": [
        {
          "output_type": "execute_result",
          "data": {
            "text/plain": [
              "<tf.Tensor: shape=(1, 1, 1, 5), dtype=float32, numpy=array([[[[0., 0., 0., 0., 0.]]]], dtype=float32)>"
            ]
          },
          "metadata": {},
          "execution_count": 37
        }
      ]
    },
    {
      "cell_type": "code",
      "source": [
        "# Create a rank 2 tensor\n",
        "rank_2_tensor = tf.constant([[1,2], [3,4]])\n",
        "tensor_info(rank_2_tensor), \"\\n\", rank_2_tensor"
      ],
      "metadata": {
        "id": "UnB8p3kaCbDt",
        "outputId": "23af1596-0a48-413c-e259-5f97468da296",
        "colab": {
          "base_uri": "https://localhost:8080/"
        }
      },
      "execution_count": 38,
      "outputs": [
        {
          "output_type": "stream",
          "name": "stdout",
          "text": [
            "Datatype of every element:  <dtype: 'int32'>\n",
            "Number of dimensions (rank):  2\n",
            "Shape:  (2, 2)\n",
            "Elements along the 0 axis:  2\n",
            "Elements along the last axis:  2\n",
            "Total number of elements:  tf.Tensor(4, shape=(), dtype=int32)\n",
            "Total number of elements (plain):  4\n"
          ]
        },
        {
          "output_type": "execute_result",
          "data": {
            "text/plain": [
              "(None, '\\n', <tf.Tensor: shape=(2, 2), dtype=int32, numpy=\n",
              " array([[1, 2],\n",
              "        [3, 4]], dtype=int32)>)"
            ]
          },
          "metadata": {},
          "execution_count": 38
        }
      ]
    },
    {
      "cell_type": "code",
      "source": [
        "# Get last item of each row\n",
        "rank_2_tensor[:, -1]"
      ],
      "metadata": {
        "id": "HEzogR2nD4hn",
        "outputId": "2c6f32df-2710-4e13-b025-27a202338813",
        "colab": {
          "base_uri": "https://localhost:8080/"
        }
      },
      "execution_count": 39,
      "outputs": [
        {
          "output_type": "execute_result",
          "data": {
            "text/plain": [
              "<tf.Tensor: shape=(2,), dtype=int32, numpy=array([2, 4], dtype=int32)>"
            ]
          },
          "metadata": {},
          "execution_count": 39
        }
      ]
    },
    {
      "cell_type": "code",
      "source": [
        "# Add extra dimension (important)\n",
        "\n",
        "# 1st alternative\n",
        "rank_3_tensor = rank_2_tensor[..., tf.newaxis] # ... = every previous axis, same as [:, :, tf.newaxis]\n",
        "rank_3_tensor"
      ],
      "metadata": {
        "id": "Z6ThKImXEMGt",
        "outputId": "75033ce6-11b9-475f-9f54-2e520a37fdd9",
        "colab": {
          "base_uri": "https://localhost:8080/"
        }
      },
      "execution_count": 40,
      "outputs": [
        {
          "output_type": "execute_result",
          "data": {
            "text/plain": [
              "<tf.Tensor: shape=(2, 2, 1), dtype=int32, numpy=\n",
              "array([[[1],\n",
              "        [2]],\n",
              "\n",
              "       [[3],\n",
              "        [4]]], dtype=int32)>"
            ]
          },
          "metadata": {},
          "execution_count": 40
        }
      ]
    },
    {
      "cell_type": "code",
      "source": [
        "# 2nd alternative\n",
        "tf.expand_dims(rank_2_tensor, axis=-1) # -1 = expand final axis"
      ],
      "metadata": {
        "id": "xBmt2enCFLLV",
        "outputId": "fef2b57f-0d51-4976-9adf-b3a09889b2bb",
        "colab": {
          "base_uri": "https://localhost:8080/"
        }
      },
      "execution_count": 41,
      "outputs": [
        {
          "output_type": "execute_result",
          "data": {
            "text/plain": [
              "<tf.Tensor: shape=(2, 2, 1), dtype=int32, numpy=\n",
              "array([[[1],\n",
              "        [2]],\n",
              "\n",
              "       [[3],\n",
              "        [4]]], dtype=int32)>"
            ]
          },
          "metadata": {},
          "execution_count": 41
        }
      ]
    },
    {
      "cell_type": "code",
      "source": [
        "tf.expand_dims(rank_2_tensor, axis=0) # expand 0-axis"
      ],
      "metadata": {
        "id": "5l6BjPGIF-zh",
        "outputId": "2965bb9d-6296-406f-d7f2-f0adb19057ff",
        "colab": {
          "base_uri": "https://localhost:8080/"
        }
      },
      "execution_count": 42,
      "outputs": [
        {
          "output_type": "execute_result",
          "data": {
            "text/plain": [
              "<tf.Tensor: shape=(1, 2, 2), dtype=int32, numpy=\n",
              "array([[[1, 2],\n",
              "        [3, 4]]], dtype=int32)>"
            ]
          },
          "metadata": {},
          "execution_count": 42
        }
      ]
    },
    {
      "cell_type": "markdown",
      "source": [
        "### Manipulating tensors (tensor operations)\n",
        "\n",
        "**Basic  operations**\n",
        "\n",
        "+, -, *, /"
      ],
      "metadata": {
        "id": "1pxwofqMGa6_"
      }
    },
    {
      "cell_type": "code",
      "source": [
        "# add values using the additon operator\n",
        "# the original tensor stays unchanged of course\n",
        "\n",
        "tensor = tf.constant([[10,7], [3,4]])\n",
        "tensor + 10 # adds 10 to all elements in the tensor\n"
      ],
      "metadata": {
        "id": "rKQr24yeGfEe",
        "outputId": "17db1fa2-3730-44f5-e655-19831fd39950",
        "colab": {
          "base_uri": "https://localhost:8080/"
        }
      },
      "execution_count": 43,
      "outputs": [
        {
          "output_type": "execute_result",
          "data": {
            "text/plain": [
              "<tf.Tensor: shape=(2, 2), dtype=int32, numpy=\n",
              "array([[20, 17],\n",
              "       [13, 14]], dtype=int32)>"
            ]
          },
          "metadata": {},
          "execution_count": 43
        }
      ]
    },
    {
      "cell_type": "code",
      "source": [
        "tensor - 1 # same for subtraction"
      ],
      "metadata": {
        "id": "sAO7ozQoHD1u",
        "outputId": "8d79a547-9661-44f3-9cb3-eafe208227c7",
        "colab": {
          "base_uri": "https://localhost:8080/"
        }
      },
      "execution_count": 44,
      "outputs": [
        {
          "output_type": "execute_result",
          "data": {
            "text/plain": [
              "<tf.Tensor: shape=(2, 2), dtype=int32, numpy=\n",
              "array([[9, 6],\n",
              "       [2, 3]], dtype=int32)>"
            ]
          },
          "metadata": {},
          "execution_count": 44
        }
      ]
    },
    {
      "cell_type": "code",
      "source": [
        "tensor * 3"
      ],
      "metadata": {
        "id": "6wTiGYy5HO38",
        "outputId": "cc944028-93e8-4044-ae14-9a2b1f3aa954",
        "colab": {
          "base_uri": "https://localhost:8080/"
        }
      },
      "execution_count": 45,
      "outputs": [
        {
          "output_type": "execute_result",
          "data": {
            "text/plain": [
              "<tf.Tensor: shape=(2, 2), dtype=int32, numpy=\n",
              "array([[30, 21],\n",
              "       [ 9, 12]], dtype=int32)>"
            ]
          },
          "metadata": {},
          "execution_count": 45
        }
      ]
    },
    {
      "cell_type": "code",
      "source": [
        "tensor / 3 # also automatically converts to float"
      ],
      "metadata": {
        "id": "zPSvPg3RHSnk",
        "outputId": "140cf005-2d6c-457b-97dc-a9ba767d644d",
        "colab": {
          "base_uri": "https://localhost:8080/"
        }
      },
      "execution_count": 46,
      "outputs": [
        {
          "output_type": "execute_result",
          "data": {
            "text/plain": [
              "<tf.Tensor: shape=(2, 2), dtype=float64, numpy=\n",
              "array([[3.33333333, 2.33333333],\n",
              "       [1.        , 1.33333333]])>"
            ]
          },
          "metadata": {},
          "execution_count": 46
        }
      ]
    },
    {
      "cell_type": "code",
      "source": [
        "# using tf methods (tf.math.* and tf.* are equivalent but not all math.* methods exist on tf.*)\n",
        "tf.multiply(tensor, 5), tf.math.add(tensor, 5)"
      ],
      "metadata": {
        "id": "vI0hUhMRHywJ",
        "outputId": "1cbefd0d-632f-4b18-b2fa-b8a1e18775ff",
        "colab": {
          "base_uri": "https://localhost:8080/"
        }
      },
      "execution_count": 47,
      "outputs": [
        {
          "output_type": "execute_result",
          "data": {
            "text/plain": [
              "(<tf.Tensor: shape=(2, 2), dtype=int32, numpy=\n",
              " array([[50, 35],\n",
              "        [15, 20]], dtype=int32)>, <tf.Tensor: shape=(2, 2), dtype=int32, numpy=\n",
              " array([[15, 12],\n",
              "        [ 8,  9]], dtype=int32)>)"
            ]
          },
          "metadata": {},
          "execution_count": 47
        }
      ]
    },
    {
      "cell_type": "markdown",
      "source": [
        "**For the engine to be able to split up operations, it is best to use the tf.* or tf.math.* methods, not the standard python operators**"
      ],
      "metadata": {
        "id": "HKFE8E_tIcP3"
      }
    },
    {
      "cell_type": "markdown",
      "source": [
        "### Matrix multiplication\n",
        "\n",
        "In machine learning, [matrix multiplication](https://www.mathsisfun.com/algebra/matrix-multiplying.html) is the most commoon tensor operation.\n",
        "\n",
        "A matrix multiplication is the result of the dot product (Skalarprodukt oder inneres Produkt) of rows and columns.\n",
        "\n",
        "![dot product](https://github.com/pkro/tensorflow_cert_training/blob/main/readme_images/dot_product.png?raw=1)\n",
        "\n",
        "[source](https://www.mathsisfun.com/algebra/matrix-multiplying.html)\n",
        "\n",
        "[Visualize matrix multiplication!](http://matrixmultiplication.xyz/)\n",
        "\n",
        "\n",
        "\n",
        "Rules: \n",
        "\n",
        "1) The *inner* dimensions must match, meaning that **the number of columns of the 1st matrix must equal the number of rows of the 2nd matrix.**\n",
        "\n",
        "2) The result will have the same number of rows as the 1st matrix and the same number of columns as the 2nd matrix (size is the same as the *outside* numbers)\n",
        "\n",
        "Inner / outer refers to the position of the dimensions in the multiplication:\n",
        "\n",
        "- **Inner**: Rows x **COLUMNS** * **ROWS** x Columns\n",
        "- **Outer**: **ROWS** x Columns * Rows x **COLUMNS**\n",
        "\n",
        "![matrix multiplication](https://github.com/pkro/tensorflow_cert_training/blob/main/readme_images/matrix_mult.png?raw=1)\n"
      ],
      "metadata": {
        "id": "KlKfC4EPI2bp"
      }
    },
    {
      "cell_type": "code",
      "source": [
        "# Matrix multiplication in tensorflow\n",
        "\n",
        "tf.matmul(tensor, tensor) # same as tf.linalg.matmul, used from here on out"
      ],
      "metadata": {
        "id": "ds6DXgObO3wy",
        "outputId": "82853918-b18e-4732-8166-98e44adc33e9",
        "colab": {
          "base_uri": "https://localhost:8080/"
        }
      },
      "execution_count": 48,
      "outputs": [
        {
          "output_type": "execute_result",
          "data": {
            "text/plain": [
              "<tf.Tensor: shape=(2, 2), dtype=int32, numpy=\n",
              "array([[121,  98],\n",
              "       [ 42,  37]], dtype=int32)>"
            ]
          },
          "metadata": {},
          "execution_count": 48
        }
      ]
    },
    {
      "cell_type": "code",
      "source": [
        "\n",
        "# \"real\" Matrix multiplication with python operator \"@\"\n",
        "tensor @ tensor"
      ],
      "metadata": {
        "id": "OK_oL8lTPSBT",
        "outputId": "9bf8df2c-a265-4529-ad94-fe41c40702f8",
        "colab": {
          "base_uri": "https://localhost:8080/"
        }
      },
      "execution_count": 49,
      "outputs": [
        {
          "output_type": "execute_result",
          "data": {
            "text/plain": [
              "<tf.Tensor: shape=(2, 2), dtype=int32, numpy=\n",
              "array([[121,  98],\n",
              "       [ 42,  37]], dtype=int32)>"
            ]
          },
          "metadata": {},
          "execution_count": 49
        }
      ]
    },
    {
      "cell_type": "code",
      "source": [
        "# Element-wise matrix multiplication with python operator \"*\"\n",
        "tensor * tensor # (10*10, 7*7, 3*3, 4*4)"
      ],
      "metadata": {
        "id": "oM61oWoNPkcY",
        "outputId": "7ed11e58-f374-415b-abc8-420963ea9038",
        "colab": {
          "base_uri": "https://localhost:8080/"
        }
      },
      "execution_count": 50,
      "outputs": [
        {
          "output_type": "execute_result",
          "data": {
            "text/plain": [
              "<tf.Tensor: shape=(2, 2), dtype=int32, numpy=\n",
              "array([[100,  49],\n",
              "       [  9,  16]], dtype=int32)>"
            ]
          },
          "metadata": {},
          "execution_count": 50
        }
      ]
    },
    {
      "cell_type": "code",
      "source": [
        "# Create 2 tensors of shape (3,2)\n",
        "X = tf.constant([[1,2], [3,4], [5,6]]) # 3 rows, 2 columns\n",
        "Y = tf.constant([[7,8], [9,10], [11,12]]) # 3 rows, 2 columns\n",
        "\n",
        "try:\n",
        "  tf.matmul(X, Y) # matrix size incompatible! See rule #1, inner dimensions must match - num rows m1 must be num cols m2\n",
        "except tf.errors.InvalidArgumentError as err:\n",
        "    print(err)"
      ],
      "metadata": {
        "id": "kIEH2eChP5hF",
        "outputId": "9bdba0ee-12f9-4544-bd07-f0f6bbe3ec85",
        "colab": {
          "base_uri": "https://localhost:8080/"
        }
      },
      "execution_count": 51,
      "outputs": [
        {
          "output_type": "stream",
          "name": "stdout",
          "text": [
            "Matrix size-incompatible: In[0]: [3,2], In[1]: [3,2] [Op:MatMul]\n"
          ]
        }
      ]
    },
    {
      "cell_type": "code",
      "source": [
        "# Let's change the shape of Y (doesn't the matrix have an entire different meaning then?)\n",
        "print(Y, \"\\n\")\n",
        "tf.reshape(Y, shape=(2,3))"
      ],
      "metadata": {
        "id": "LA1plGrESIk6",
        "outputId": "855c1129-4f65-476c-cc7e-c7d979bf4a07",
        "colab": {
          "base_uri": "https://localhost:8080/"
        }
      },
      "execution_count": 52,
      "outputs": [
        {
          "output_type": "stream",
          "name": "stdout",
          "text": [
            "tf.Tensor(\n",
            "[[ 7  8]\n",
            " [ 9 10]\n",
            " [11 12]], shape=(3, 2), dtype=int32) \n",
            "\n"
          ]
        },
        {
          "output_type": "execute_result",
          "data": {
            "text/plain": [
              "<tf.Tensor: shape=(2, 3), dtype=int32, numpy=\n",
              "array([[ 7,  8,  9],\n",
              "       [10, 11, 12]], dtype=int32)>"
            ]
          },
          "metadata": {},
          "execution_count": 52
        }
      ]
    },
    {
      "cell_type": "code",
      "source": [
        "# try to multipley X by reshaped Y\n",
        "X @ tf.reshape(X, shape=(2, 3))"
      ],
      "metadata": {
        "colab": {
          "base_uri": "https://localhost:8080/"
        },
        "id": "e64X77nBb2E_",
        "outputId": "1c60d1b2-1dfc-4c6e-b2c6-86a46a96f5ea"
      },
      "execution_count": 53,
      "outputs": [
        {
          "output_type": "execute_result",
          "data": {
            "text/plain": [
              "<tf.Tensor: shape=(3, 3), dtype=int32, numpy=\n",
              "array([[ 9, 12, 15],\n",
              "       [19, 26, 33],\n",
              "       [29, 40, 51]], dtype=int32)>"
            ]
          },
          "metadata": {},
          "execution_count": 53
        }
      ]
    },
    {
      "cell_type": "code",
      "source": [
        "X.shape, tf.reshape(Y, shape=(2,3)).shape"
      ],
      "metadata": {
        "colab": {
          "base_uri": "https://localhost:8080/"
        },
        "id": "j1xbeJKBcOKr",
        "outputId": "4ef46eb0-2cd0-4bec-de13-21261d1db1d7"
      },
      "execution_count": 54,
      "outputs": [
        {
          "output_type": "execute_result",
          "data": {
            "text/plain": [
              "(TensorShape([3, 2]), TensorShape([2, 3]))"
            ]
          },
          "metadata": {},
          "execution_count": 54
        }
      ]
    },
    {
      "cell_type": "code",
      "source": [
        "tf.matmul(X, tf.reshape(Y, shape=(2,3))) # works the same as @"
      ],
      "metadata": {
        "colab": {
          "base_uri": "https://localhost:8080/"
        },
        "id": "dRTm8jTOcbtJ",
        "outputId": "0d0d8d18-49be-444e-fd47-70647c207635"
      },
      "execution_count": 55,
      "outputs": [
        {
          "output_type": "execute_result",
          "data": {
            "text/plain": [
              "<tf.Tensor: shape=(3, 3), dtype=int32, numpy=\n",
              "array([[ 27,  30,  33],\n",
              "       [ 61,  68,  75],\n",
              "       [ 95, 106, 117]], dtype=int32)>"
            ]
          },
          "metadata": {},
          "execution_count": 55
        }
      ]
    },
    {
      "cell_type": "code",
      "source": [
        "# try changing X instead of Y\n",
        "tf.reshape(X, shape=(2,3)) @ Y"
      ],
      "metadata": {
        "colab": {
          "base_uri": "https://localhost:8080/"
        },
        "id": "hjV-bopecuhA",
        "outputId": "dec8d8f7-4357-4aaf-cee8-b46d80fb62c1"
      },
      "execution_count": 56,
      "outputs": [
        {
          "output_type": "execute_result",
          "data": {
            "text/plain": [
              "<tf.Tensor: shape=(2, 2), dtype=int32, numpy=\n",
              "array([[ 58,  64],\n",
              "       [139, 154]], dtype=int32)>"
            ]
          },
          "metadata": {},
          "execution_count": 56
        }
      ]
    },
    {
      "cell_type": "markdown",
      "source": [
        "-> Reshaping X works, too, but the result is different as now the *outer* dimensions is 2 for both."
      ],
      "metadata": {
        "id": "stNAt0-FdVMp"
      }
    },
    {
      "cell_type": "code",
      "source": [
        "# we can do the same with transpose, but it does a different thing than reshape\n",
        "X, tf.transpose(X), tf.reshape(X, shape=(2,3))"
      ],
      "metadata": {
        "colab": {
          "base_uri": "https://localhost:8080/"
        },
        "id": "H3CiSoZ-eB1m",
        "outputId": "d702d192-8f71-4e34-ba66-f8470f047f54"
      },
      "execution_count": 57,
      "outputs": [
        {
          "output_type": "execute_result",
          "data": {
            "text/plain": [
              "(<tf.Tensor: shape=(3, 2), dtype=int32, numpy=\n",
              " array([[1, 2],\n",
              "        [3, 4],\n",
              "        [5, 6]], dtype=int32)>, <tf.Tensor: shape=(2, 3), dtype=int32, numpy=\n",
              " array([[1, 3, 5],\n",
              "        [2, 4, 6]], dtype=int32)>, <tf.Tensor: shape=(2, 3), dtype=int32, numpy=\n",
              " array([[1, 2, 3],\n",
              "        [4, 5, 6]], dtype=int32)>)"
            ]
          },
          "metadata": {},
          "execution_count": 57
        }
      ]
    },
    {
      "cell_type": "markdown",
      "source": [
        "- [transpose](https://www.tensorflow.org/api_docs/python/tf/transpose) flips the axes' \n",
        "- [reshape](https://www.tensorflow.org/api_docs/python/tf/reshape) assigns the numbers lineary from top left to bottom right in the same order but in a different shape (\"Given tensor, this operation returns a new tf.Tensor that has the same values as tensor in the same order, except with a new shape given by shape.\")\n",
        "\n",
        "They don't give the same results in the resulting matrix or the multiplication result."
      ],
      "metadata": {
        "id": "K3VIhJs2eXvm"
      }
    },
    {
      "cell_type": "code",
      "source": [
        "# try multiplication with transpose rather than reshape\n",
        "tf.transpose(X) @ Y"
      ],
      "metadata": {
        "colab": {
          "base_uri": "https://localhost:8080/"
        },
        "id": "tAVs25wHfU5c",
        "outputId": "bacbcede-677e-493c-a394-d80722e62864"
      },
      "execution_count": 58,
      "outputs": [
        {
          "output_type": "execute_result",
          "data": {
            "text/plain": [
              "<tf.Tensor: shape=(2, 2), dtype=int32, numpy=\n",
              "array([[ 89,  98],\n",
              "       [116, 128]], dtype=int32)>"
            ]
          },
          "metadata": {},
          "execution_count": 58
        }
      ]
    },
    {
      "cell_type": "markdown",
      "source": [
        "**"
      ],
      "metadata": {
        "id": "-Z0nqvVsgDEz"
      }
    },
    {
      "cell_type": "markdown",
      "source": [
        "**The dot product**\n",
        "\n",
        "Matrix multiplication is also referred to as the dot product.\n",
        "\n",
        "You can perform matrix multiplication using:\n",
        "\n",
        "- `tf.matmul()`\n",
        "- [`tf.tensordot()`](https://www.tensorflow.org/api_docs/python/tf/tensordot)\n"
      ],
      "metadata": {
        "id": "cz4oiVgbgE3M"
      }
    },
    {
      "cell_type": "code",
      "source": [
        "X, Y # little reminder"
      ],
      "metadata": {
        "colab": {
          "base_uri": "https://localhost:8080/"
        },
        "id": "P-xYe4UlgrH6",
        "outputId": "96961612-cf9f-42a2-ed52-8f69b0434a50"
      },
      "execution_count": 59,
      "outputs": [
        {
          "output_type": "execute_result",
          "data": {
            "text/plain": [
              "(<tf.Tensor: shape=(3, 2), dtype=int32, numpy=\n",
              " array([[1, 2],\n",
              "        [3, 4],\n",
              "        [5, 6]], dtype=int32)>, <tf.Tensor: shape=(3, 2), dtype=int32, numpy=\n",
              " array([[ 7,  8],\n",
              "        [ 9, 10],\n",
              "        [11, 12]], dtype=int32)>)"
            ]
          },
          "metadata": {},
          "execution_count": 59
        }
      ]
    },
    {
      "cell_type": "code",
      "source": [
        "# Perfomr dot product on X and Y (requires X or Y to be transposed)\n",
        "tf.tensordot(tf.transpose(X), Y, axes=1)"
      ],
      "metadata": {
        "colab": {
          "base_uri": "https://localhost:8080/"
        },
        "id": "1Ux2SJBVgazF",
        "outputId": "58618559-715c-46a1-d038-8ad717121ab2"
      },
      "execution_count": 60,
      "outputs": [
        {
          "output_type": "execute_result",
          "data": {
            "text/plain": [
              "<tf.Tensor: shape=(2, 2), dtype=int32, numpy=\n",
              "array([[ 89,  98],\n",
              "       [116, 128]], dtype=int32)>"
            ]
          },
          "metadata": {},
          "execution_count": 60
        }
      ]
    },
    {
      "cell_type": "code",
      "source": [
        "# Perform matrix multiplication between X and Y (transposed)\n",
        "tf.matmul(X, tf.transpose(Y))"
      ],
      "metadata": {
        "colab": {
          "base_uri": "https://localhost:8080/"
        },
        "id": "8zmJGRYRhSIn",
        "outputId": "aa2a1ab4-7a98-466a-fcf5-9d5b63db3a61"
      },
      "execution_count": 61,
      "outputs": [
        {
          "output_type": "execute_result",
          "data": {
            "text/plain": [
              "<tf.Tensor: shape=(3, 3), dtype=int32, numpy=\n",
              "array([[ 23,  29,  35],\n",
              "       [ 53,  67,  81],\n",
              "       [ 83, 105, 127]], dtype=int32)>"
            ]
          },
          "metadata": {},
          "execution_count": 61
        }
      ]
    },
    {
      "cell_type": "code",
      "source": [
        "# Perform matrix multiplication between X and Y (reshaped)\n",
        "tf.matmul(X, tf.reshape(Y, shape=(2,3)))"
      ],
      "metadata": {
        "colab": {
          "base_uri": "https://localhost:8080/"
        },
        "id": "rhFfVMAVhkWU",
        "outputId": "873ada72-35c1-4f23-ce2c-f7c0d19fc29d"
      },
      "execution_count": 62,
      "outputs": [
        {
          "output_type": "execute_result",
          "data": {
            "text/plain": [
              "<tf.Tensor: shape=(3, 3), dtype=int32, numpy=\n",
              "array([[ 27,  30,  33],\n",
              "       [ 61,  68,  75],\n",
              "       [ 95, 106, 117]], dtype=int32)>"
            ]
          },
          "metadata": {},
          "execution_count": 62
        }
      ]
    },
    {
      "cell_type": "code",
      "source": [
        "# Check the values of Y, reshape Y and transpose Y\n",
        "print(\"Normal Y: \")\n",
        "print(Y, \"\\n\")\n",
        "\n",
        "print(\"Y reshaped to (2, 3): \")\n",
        "print(tf.reshape(Y, (2, 3)), \"\\n\")\n",
        "\n",
        "print(\"Y transposed: \")\n",
        "print(tf.transpose(Y), \"\\n\")"
      ],
      "metadata": {
        "colab": {
          "base_uri": "https://localhost:8080/"
        },
        "id": "j3Q5NWFdh1ET",
        "outputId": "557c6da5-788a-46f7-ee39-289785d830a9"
      },
      "execution_count": 63,
      "outputs": [
        {
          "output_type": "stream",
          "name": "stdout",
          "text": [
            "Normal Y: \n",
            "tf.Tensor(\n",
            "[[ 7  8]\n",
            " [ 9 10]\n",
            " [11 12]], shape=(3, 2), dtype=int32) \n",
            "\n",
            "Y reshaped to (2, 3): \n",
            "tf.Tensor(\n",
            "[[ 7  8  9]\n",
            " [10 11 12]], shape=(2, 3), dtype=int32) \n",
            "\n",
            "Y transposed: \n",
            "tf.Tensor(\n",
            "[[ 7  9 11]\n",
            " [ 8 10 12]], shape=(2, 3), dtype=int32) \n",
            "\n"
          ]
        }
      ]
    },
    {
      "cell_type": "code",
      "source": [
        "tf.matmul(X, tf.transpose(Y))"
      ],
      "metadata": {
        "colab": {
          "base_uri": "https://localhost:8080/"
        },
        "id": "KaBqQYyIiyi_",
        "outputId": "a34b3565-b8eb-41b6-8258-7f5f39e2c915"
      },
      "execution_count": 64,
      "outputs": [
        {
          "output_type": "execute_result",
          "data": {
            "text/plain": [
              "<tf.Tensor: shape=(3, 3), dtype=int32, numpy=\n",
              "array([[ 23,  29,  35],\n",
              "       [ 53,  67,  81],\n",
              "       [ 83, 105, 127]], dtype=int32)>"
            ]
          },
          "metadata": {},
          "execution_count": 64
        }
      ]
    },
    {
      "cell_type": "markdown",
      "source": [
        "Most matrix modification is done behind the scenes in tensorflow, meaning it doesn't have to be done by hand a lot.\n",
        "\n",
        "**Generally, if tensor dimensions don't line up, one of the tensors should be transposed and not reshaped to satisfy the matrix multiplication rules.**"
      ],
      "metadata": {
        "id": "PG7ImOtH29sd"
      }
    },
    {
      "cell_type": "markdown",
      "source": [
        "### Changing the datatype of tensors\n",
        "\n",
        "Default datatype is mostly int32 or float32, depending on the data inside the tensor. Models / data with lower precision types (or mixed precision) can run faster on gpus and in general.\n",
        "\n",
        "https://www.tensorflow.org/guide/mixed_precision\n"
      ],
      "metadata": {
        "id": "WckNTRy13nTa"
      }
    },
    {
      "cell_type": "code",
      "source": [
        "# create tensor with default datatype (float32 fpr floats)\n",
        "B = tf.constant([1.7, 7.4])\n",
        "B.dtype"
      ],
      "metadata": {
        "id": "Aym0Xp7b3yoQ",
        "outputId": "8f952764-f4ed-47cf-ef9c-68a25db67472",
        "colab": {
          "base_uri": "https://localhost:8080/"
        }
      },
      "execution_count": 65,
      "outputs": [
        {
          "output_type": "execute_result",
          "data": {
            "text/plain": [
              "tf.float32"
            ]
          },
          "metadata": {},
          "execution_count": 65
        }
      ]
    },
    {
      "cell_type": "code",
      "source": [
        "# int32 for integers\n",
        "C = tf.constant([7,10])\n",
        "C.dtype"
      ],
      "metadata": {
        "id": "rb84yfPx4RXm",
        "outputId": "e066afa1-869d-4283-e352-bc8d53d36d68",
        "colab": {
          "base_uri": "https://localhost:8080/"
        }
      },
      "execution_count": 66,
      "outputs": [
        {
          "output_type": "execute_result",
          "data": {
            "text/plain": [
              "tf.int32"
            ]
          },
          "metadata": {},
          "execution_count": 66
        }
      ]
    },
    {
      "cell_type": "code",
      "source": [
        "# change from float32 to float16 (reduced precission)\n",
        "D = tf.cast(C, tf.float16)\n",
        "D, D.dtype"
      ],
      "metadata": {
        "id": "f98CXH_34cBb",
        "outputId": "72e94a82-0529-44af-91d4-f9af0f3015f2",
        "colab": {
          "base_uri": "https://localhost:8080/"
        }
      },
      "execution_count": 67,
      "outputs": [
        {
          "output_type": "execute_result",
          "data": {
            "text/plain": [
              "(<tf.Tensor: shape=(2,), dtype=float16, numpy=array([ 7., 10.], dtype=float16)>,\n",
              " tf.float16)"
            ]
          },
          "metadata": {},
          "execution_count": 67
        }
      ]
    },
    {
      "cell_type": "code",
      "source": [
        "# change from int32 to float32\n",
        "E = tf.cast(C, dtype=tf.float32)\n",
        "E"
      ],
      "metadata": {
        "id": "2CG-eT9P3o0c",
        "outputId": "2c69aa6f-dbbf-4b76-9600-9ebb70bb35c0",
        "colab": {
          "base_uri": "https://localhost:8080/"
        }
      },
      "execution_count": 68,
      "outputs": [
        {
          "output_type": "execute_result",
          "data": {
            "text/plain": [
              "<tf.Tensor: shape=(2,), dtype=float32, numpy=array([ 7., 10.], dtype=float32)>"
            ]
          },
          "metadata": {},
          "execution_count": 68
        }
      ]
    },
    {
      "cell_type": "code",
      "source": [
        "# casting from float to int removes decimals\n",
        "F = tf.cast(B, dtype=tf.int32)\n",
        "F"
      ],
      "metadata": {
        "id": "b-wkbiU15_3k",
        "outputId": "e61f5887-bb07-4947-f0f8-0c43cc74bd0f",
        "colab": {
          "base_uri": "https://localhost:8080/"
        }
      },
      "execution_count": 69,
      "outputs": [
        {
          "output_type": "execute_result",
          "data": {
            "text/plain": [
              "<tf.Tensor: shape=(2,), dtype=int32, numpy=array([1, 7], dtype=int32)>"
            ]
          },
          "metadata": {},
          "execution_count": 69
        }
      ]
    },
    {
      "cell_type": "markdown",
      "source": [
        "### Aggregating tensors\n",
        "\n",
        "Aggregating tensors = condensing them from multiple values down to a smaller amount of values.\n"
      ],
      "metadata": {
        "id": "fB_Q9oTj6WBa"
      }
    },
    {
      "cell_type": "code",
      "source": [
        "# Get the absolute values\n",
        "D = tf.constant([-1, -10])\n",
        "D"
      ],
      "metadata": {
        "id": "O209aAUfjHkt",
        "outputId": "19155e68-63b8-4e3b-a586-ad79fbbee4a3",
        "colab": {
          "base_uri": "https://localhost:8080/"
        }
      },
      "execution_count": 70,
      "outputs": [
        {
          "output_type": "execute_result",
          "data": {
            "text/plain": [
              "<tf.Tensor: shape=(2,), dtype=int32, numpy=array([ -1, -10], dtype=int32)>"
            ]
          },
          "metadata": {},
          "execution_count": 70
        }
      ]
    },
    {
      "cell_type": "code",
      "source": [
        "# get the absolute values (turn negative into positive numbers)\n",
        "tf.abs(D)"
      ],
      "metadata": {
        "id": "hCLLaenwjPUK",
        "outputId": "9d7d9cff-6ca5-4b68-b860-00f7f92074d7",
        "colab": {
          "base_uri": "https://localhost:8080/"
        }
      },
      "execution_count": 71,
      "outputs": [
        {
          "output_type": "execute_result",
          "data": {
            "text/plain": [
              "<tf.Tensor: shape=(2,), dtype=int32, numpy=array([ 1, 10], dtype=int32)>"
            ]
          },
          "metadata": {},
          "execution_count": 71
        }
      ]
    },
    {
      "cell_type": "markdown",
      "source": [
        "More forms of aggregation:\n",
        "\n",
        "- get the minimum\n",
        "- get the maximum\n",
        "- get the mean\n",
        "- get the sum"
      ],
      "metadata": {
        "id": "w_9VUypSksKR"
      }
    },
    {
      "cell_type": "code",
      "source": [
        "# Minimum\n",
        "d_min = tf.math.reduce_min(D)\n",
        "d_min"
      ],
      "metadata": {
        "id": "wmOXy-PZk4Wa",
        "outputId": "eb8ac706-bd7c-4140-f808-da6fa8d886aa",
        "colab": {
          "base_uri": "https://localhost:8080/"
        }
      },
      "execution_count": 72,
      "outputs": [
        {
          "output_type": "execute_result",
          "data": {
            "text/plain": [
              "<tf.Tensor: shape=(), dtype=int32, numpy=-10>"
            ]
          },
          "metadata": {},
          "execution_count": 72
        }
      ]
    },
    {
      "cell_type": "code",
      "source": [
        "# Maximum\n",
        "d_min = tf.math.reduce_max(D)\n",
        "d_min"
      ],
      "metadata": {
        "id": "v_CflbIwlYho",
        "outputId": "a909b76d-f356-4279-f08f-844e1948b4ed",
        "colab": {
          "base_uri": "https://localhost:8080/"
        }
      },
      "execution_count": 73,
      "outputs": [
        {
          "output_type": "execute_result",
          "data": {
            "text/plain": [
              "<tf.Tensor: shape=(), dtype=int32, numpy=-1>"
            ]
          },
          "metadata": {},
          "execution_count": 73
        }
      ]
    },
    {
      "cell_type": "code",
      "source": [
        "# mean\n",
        "d_mean = tf.math.reduce_mean(D, 0)\n",
        "d_mean"
      ],
      "metadata": {
        "id": "dB75qHxOljmv",
        "outputId": "c85ccb8a-ff30-4e12-96e7-7c0af35a6f18",
        "colab": {
          "base_uri": "https://localhost:8080/"
        }
      },
      "execution_count": 74,
      "outputs": [
        {
          "output_type": "execute_result",
          "data": {
            "text/plain": [
              "<tf.Tensor: shape=(), dtype=int32, numpy=-5>"
            ]
          },
          "metadata": {},
          "execution_count": 74
        }
      ]
    },
    {
      "cell_type": "code",
      "source": [
        "# sum\n",
        "# d_sum = tf.math.add_n(D) works on 1d tensor though\n",
        "d_sum = tf.math.reduce_sum(D)\n",
        "d_sum"
      ],
      "metadata": {
        "id": "Rsxy9Njcl57D",
        "outputId": "190d4951-6489-4d4f-bbff-d95ba1ee08a5",
        "colab": {
          "base_uri": "https://localhost:8080/"
        }
      },
      "execution_count": 75,
      "outputs": [
        {
          "output_type": "execute_result",
          "data": {
            "text/plain": [
              "<tf.Tensor: shape=(), dtype=int32, numpy=-11>"
            ]
          },
          "metadata": {},
          "execution_count": 75
        }
      ]
    },
    {
      "cell_type": "markdown",
      "source": [
        "Same on 2d tensor / matrix\n"
      ],
      "metadata": {
        "id": "S7GVn3lxmTBx"
      }
    },
    {
      "cell_type": "code",
      "source": [
        "# create a large-ish random 2d tensor (tensor of dimension 2)\n",
        "t = tf.constant(np.random.randint(0, 100, size=50))\n",
        "t = tf.reshape(t, shape=(5, 10))\n",
        "t, t.ndim"
      ],
      "metadata": {
        "id": "BJfciasSmaao",
        "outputId": "89b324c5-16f9-4519-ede2-475c3ebff845",
        "colab": {
          "base_uri": "https://localhost:8080/"
        }
      },
      "execution_count": 76,
      "outputs": [
        {
          "output_type": "execute_result",
          "data": {
            "text/plain": [
              "(<tf.Tensor: shape=(5, 10), dtype=int64, numpy=\n",
              " array([[81, 67, 63, 50, 46,  8, 85, 16,  9, 86],\n",
              "        [91, 11, 45,  8, 72, 64, 36, 31, 61, 67],\n",
              "        [26, 98, 13,  5, 98, 83,  6, 16, 29, 60],\n",
              "        [90, 59,  9, 16, 96, 36,  2, 16, 66, 77],\n",
              "        [54, 78,  7, 48, 30, 71, 47, 86, 22, 56]])>, 2)"
            ]
          },
          "metadata": {},
          "execution_count": 76
        }
      ]
    },
    {
      "cell_type": "code",
      "source": [
        "# Minimum of each row\n",
        "t_min_in_rows = tf.math.reduce_min(t, axis=1)\n",
        "t_min_in_rows"
      ],
      "metadata": {
        "id": "mR2nGjMimgFY",
        "outputId": "d681a97d-dc32-4347-f465-4a68f813874c",
        "colab": {
          "base_uri": "https://localhost:8080/"
        }
      },
      "execution_count": 77,
      "outputs": [
        {
          "output_type": "execute_result",
          "data": {
            "text/plain": [
              "<tf.Tensor: shape=(5,), dtype=int64, numpy=array([8, 8, 5, 2, 7])>"
            ]
          },
          "metadata": {},
          "execution_count": 77
        }
      ]
    },
    {
      "cell_type": "code",
      "source": [
        "# Minimum of each column\n",
        "t_min_in_cols = tf.math.reduce_min(t, axis=0)\n",
        "t_min_in_cols"
      ],
      "metadata": {
        "id": "WyBc2s2JnPoB",
        "outputId": "f9901031-1c03-4383-f69c-5004fbcb374a",
        "colab": {
          "base_uri": "https://localhost:8080/"
        }
      },
      "execution_count": 78,
      "outputs": [
        {
          "output_type": "execute_result",
          "data": {
            "text/plain": [
              "<tf.Tensor: shape=(10,), dtype=int64, numpy=array([26, 11,  7,  5, 30,  8,  2, 16,  9, 56])>"
            ]
          },
          "metadata": {},
          "execution_count": 78
        }
      ]
    },
    {
      "cell_type": "code",
      "source": [
        "# mean (rows)\n",
        "t_mean_rows = tf.math.reduce_mean(t, axis=1)\n",
        "t_mean_rows"
      ],
      "metadata": {
        "id": "Nh5fkvTOnjzH",
        "outputId": "12fdbd82-0f0e-40c7-deb7-1584491c5a10",
        "colab": {
          "base_uri": "https://localhost:8080/"
        }
      },
      "execution_count": 79,
      "outputs": [
        {
          "output_type": "execute_result",
          "data": {
            "text/plain": [
              "<tf.Tensor: shape=(5,), dtype=int64, numpy=array([51, 48, 43, 46, 49])>"
            ]
          },
          "metadata": {},
          "execution_count": 79
        }
      ]
    },
    {
      "cell_type": "code",
      "source": [
        "# mean (columns)\n",
        "t_mean_columns = tf.math.reduce_mean(t, axis=0)\n",
        "t_mean_columns"
      ],
      "metadata": {
        "id": "MVem19Q-oSDV",
        "outputId": "c62e3fc7-ffc4-4d20-f01f-b34b023f976d",
        "colab": {
          "base_uri": "https://localhost:8080/"
        }
      },
      "execution_count": 80,
      "outputs": [
        {
          "output_type": "execute_result",
          "data": {
            "text/plain": [
              "<tf.Tensor: shape=(10,), dtype=int64, numpy=array([68, 62, 27, 25, 68, 52, 35, 33, 37, 69])>"
            ]
          },
          "metadata": {},
          "execution_count": 80
        }
      ]
    },
    {
      "cell_type": "code",
      "source": [
        "# sum (rows)\n",
        "t_sum_rows = tf.math.reduce_sum(t, axis=1)\n",
        "t_sum_rows"
      ],
      "metadata": {
        "id": "xUQWOJ_0oZv8",
        "outputId": "04e6bc31-e43e-4f3e-f538-f7ced8efa061",
        "colab": {
          "base_uri": "https://localhost:8080/"
        }
      },
      "execution_count": 81,
      "outputs": [
        {
          "output_type": "execute_result",
          "data": {
            "text/plain": [
              "<tf.Tensor: shape=(5,), dtype=int64, numpy=array([511, 486, 434, 467, 499])>"
            ]
          },
          "metadata": {},
          "execution_count": 81
        }
      ]
    },
    {
      "cell_type": "markdown",
      "source": [
        "***Exercise***: find variance and standard deviation of `t`"
      ],
      "metadata": {
        "id": "-qDsequFpjwk"
      }
    },
    {
      "cell_type": "markdown",
      "source": [
        "#### Standard deviation\n",
        "\n",
        "The standard deviation is the average amount of variability in your data set. It tells you, on average, how far each score lies from the mean.\n",
        "\n",
        ">For a finite set of numbers, the population standard deviation is found by taking the square root of the average of the squared deviations of the values subtracted from their average value.\n",
        "\n",
        "[on wikipedia](https://en.wikipedia.org/wiki/Standard_deviation)\n",
        "\n",
        "[on khan academy](https://www.khanacademy.org/math/statistics-probability/summarizing-quantitative-data/variance-standard-deviation-population/a/calculating-standard-deviation-step-by-step)\n",
        "\n",
        "It is used to \n",
        "\n",
        "- detect outliers in a dataset (and remove them if necessary)\n",
        "- scale values in different datasets (e.g. house prices and number of rooms) to the same scale (dividing the difference between the mean and each value by the standard deviation of the data)\n",
        "\n"
      ],
      "metadata": {
        "id": "JiUp2urRsKA1"
      }
    },
    {
      "cell_type": "code",
      "source": [
        "# cast to float as necessary for finding standard deviation and variance\n",
        "t_float = tf.cast(t, dtype=tf.float64)\n",
        "t_float"
      ],
      "metadata": {
        "id": "Vxo4v6gIrXXN",
        "outputId": "83f87d98-f82c-4510-a88f-d03be3c13ba8",
        "colab": {
          "base_uri": "https://localhost:8080/"
        }
      },
      "execution_count": 82,
      "outputs": [
        {
          "output_type": "execute_result",
          "data": {
            "text/plain": [
              "<tf.Tensor: shape=(5, 10), dtype=float64, numpy=\n",
              "array([[81., 67., 63., 50., 46.,  8., 85., 16.,  9., 86.],\n",
              "       [91., 11., 45.,  8., 72., 64., 36., 31., 61., 67.],\n",
              "       [26., 98., 13.,  5., 98., 83.,  6., 16., 29., 60.],\n",
              "       [90., 59.,  9., 16., 96., 36.,  2., 16., 66., 77.],\n",
              "       [54., 78.,  7., 48., 30., 71., 47., 86., 22., 56.]])>"
            ]
          },
          "metadata": {},
          "execution_count": 82
        }
      ]
    },
    {
      "cell_type": "code",
      "source": [
        "# find standard deviation of whole tensor\n",
        "t_standard_deviation = tf.math.reduce_std(t_float)\n",
        "t_standard_deviation"
      ],
      "metadata": {
        "id": "RU0TK0Qyquoy",
        "outputId": "a586568e-5a55-442d-fade-22e5cb8f7e49",
        "colab": {
          "base_uri": "https://localhost:8080/"
        }
      },
      "execution_count": 83,
      "outputs": [
        {
          "output_type": "execute_result",
          "data": {
            "text/plain": [
              "<tf.Tensor: shape=(), dtype=float64, numpy=30.05888221474644>"
            ]
          },
          "metadata": {},
          "execution_count": 83
        }
      ]
    },
    {
      "cell_type": "code",
      "source": [
        "# standard deviation of rows / columns\n",
        "print(tf.math.reduce_std(t_float, axis=1), \"\\n\") # rows\n",
        "print(tf.math.reduce_std(t_float, axis=0), \"\\n\") # columns"
      ],
      "metadata": {
        "id": "vkv5CN68rnjT",
        "outputId": "5fa92c6b-2c9f-49fd-849c-c0818e92aa9c",
        "colab": {
          "base_uri": "https://localhost:8080/"
        }
      },
      "execution_count": 84,
      "outputs": [
        {
          "output_type": "stream",
          "name": "stdout",
          "text": [
            "tf.Tensor([29.23166092 25.72625118 35.86697645 33.41571487 23.70421903], shape=(5,), dtype=float64) \n",
            "\n",
            "tf.Tensor(\n",
            "[25.06471624 28.93164358 22.53530563 19.61224108 26.93399339 27.04514744\n",
            " 30.24830574 27.12931993 22.31232843 11.01635148], shape=(10,), dtype=float64) \n",
            "\n"
          ]
        }
      ]
    },
    {
      "cell_type": "markdown",
      "source": [
        "#### Variance\n",
        "\n",
        ">Population variance is a measure of how spread out a group of data points is. Specifically, it quantifies the average squared deviation from the mean. So, if all data points are very close to the mean, the variance will be small; if data points are spread out over a wide range, the variance will be larger. Created by Sal Khan.\n",
        "\n",
        "[source](https://www.khanacademy.org/math/statistics-probability/summarizing-quantitative-data/variance-standard-deviation-population/v/variance-of-a-population)\n"
      ],
      "metadata": {
        "id": "lAWkc_qgtEQL"
      }
    },
    {
      "cell_type": "code",
      "source": [
        "# variance whole tensor\n",
        "tf.math.reduce_variance(t_float)"
      ],
      "metadata": {
        "id": "Y0vlKsS8tdqK",
        "outputId": "592cc34e-315e-4f1e-dd50-be1f73109b9b",
        "colab": {
          "base_uri": "https://localhost:8080/"
        }
      },
      "execution_count": 85,
      "outputs": [
        {
          "output_type": "execute_result",
          "data": {
            "text/plain": [
              "<tf.Tensor: shape=(), dtype=float64, numpy=903.5363999999998>"
            ]
          },
          "metadata": {},
          "execution_count": 85
        }
      ]
    },
    {
      "cell_type": "code",
      "source": [
        "# variance rows (for columns just change axis as before)\n",
        "tf.math.reduce_variance(t_float, axis=1)"
      ],
      "metadata": {
        "id": "hOnNvFN5trHr",
        "outputId": "372735a8-a4e2-4730-9464-ed0e1d2d8903",
        "colab": {
          "base_uri": "https://localhost:8080/"
        }
      },
      "execution_count": 86,
      "outputs": [
        {
          "output_type": "execute_result",
          "data": {
            "text/plain": [
              "<tf.Tensor: shape=(5,), dtype=float64, numpy=array([ 854.49,  661.84, 1286.44, 1116.61,  561.89])>"
            ]
          },
          "metadata": {},
          "execution_count": 86
        }
      ]
    },
    {
      "cell_type": "markdown",
      "source": [
        "We can also use `tensorflow_probability` for these:"
      ],
      "metadata": {
        "id": "tAQAGzqpuO9G"
      }
    },
    {
      "cell_type": "code",
      "source": [
        "import tensorflow_probability as tfp\n",
        "print(tfp.stats.variance(t_float, sample_axis=1), \"\\n\")\n",
        "\n",
        "# we must specify an axis, so to use tfp.stats.variance on the whole matrix, we must reshape it to one dimension\n",
        "tfp.stats.variance(tf.reshape(t_float, shape=(50,)))"
      ],
      "metadata": {
        "id": "TCdUV7VfukLU",
        "outputId": "f9638cb3-d191-4898-f83b-3c4912e7bbd9",
        "colab": {
          "base_uri": "https://localhost:8080/"
        }
      },
      "execution_count": 87,
      "outputs": [
        {
          "output_type": "stream",
          "name": "stdout",
          "text": [
            "tf.Tensor([ 854.49  661.84 1286.44 1116.61  561.89], shape=(5,), dtype=float64) \n",
            "\n"
          ]
        },
        {
          "output_type": "execute_result",
          "data": {
            "text/plain": [
              "<tf.Tensor: shape=(), dtype=float64, numpy=903.5363999999998>"
            ]
          },
          "metadata": {},
          "execution_count": 87
        }
      ]
    },
    {
      "cell_type": "markdown",
      "source": [
        "### Find the positional minimum and maximum\n",
        "\n",
        "- positional minimum: Returns the index with the smallest value across axes of a tensor. `tf.math.argmin`\n",
        "- positional maximum: Returns the index with the largest value across axes of a tensor. `tf.math.argmax`\n",
        "\n",
        "Use: when we have a matrix of prediction probabilites where the *columns* belong to labels and *rows* belong to the inputs:\n",
        "\n",
        "```\n",
        "# Spag   Ramen  Other\n",
        "[[0.983, 0.004, 0.013],\n",
        " [0.110, 0.235, 0.801],\n",
        " [0.023, 0.985, 0.27]]\n",
        "```\n",
        "\n",
        "we need the positional maximum - the index - to get the resulting label, e.g. row 3, index 1 => highest probability for input 3 is index 1 = Ramen\n"
      ],
      "metadata": {
        "id": "TjBQOdXGwFC1"
      }
    },
    {
      "cell_type": "code",
      "source": [
        "# tensor for finding positional min / max\n",
        "tf.random.set_seed(42)\n",
        "F = tf.random.uniform(shape=[50])\n",
        "F"
      ],
      "metadata": {
        "colab": {
          "base_uri": "https://localhost:8080/"
        },
        "id": "6SS2dtqsCiXV",
        "outputId": "e8f8089e-83eb-41fd-885d-b7d0302e2eff"
      },
      "execution_count": 88,
      "outputs": [
        {
          "output_type": "execute_result",
          "data": {
            "text/plain": [
              "<tf.Tensor: shape=(50,), dtype=float32, numpy=\n",
              "array([0.6645621 , 0.44100678, 0.3528825 , 0.46448255, 0.03366041,\n",
              "       0.68467236, 0.74011743, 0.8724445 , 0.22632635, 0.22319686,\n",
              "       0.3103881 , 0.7223358 , 0.13318717, 0.5480639 , 0.5746088 ,\n",
              "       0.8996835 , 0.00946367, 0.5212307 , 0.6345445 , 0.1993283 ,\n",
              "       0.72942245, 0.54583454, 0.10756552, 0.6767061 , 0.6602763 ,\n",
              "       0.33695042, 0.60141766, 0.21062577, 0.8527372 , 0.44062173,\n",
              "       0.9485276 , 0.23752594, 0.81179297, 0.5263394 , 0.494308  ,\n",
              "       0.21612847, 0.8457197 , 0.8718841 , 0.3083862 , 0.6868038 ,\n",
              "       0.23764038, 0.7817228 , 0.9671384 , 0.06870162, 0.79873943,\n",
              "       0.66028714, 0.5871513 , 0.16461694, 0.7381023 , 0.32054043],\n",
              "      dtype=float32)>"
            ]
          },
          "metadata": {},
          "execution_count": 88
        }
      ]
    },
    {
      "cell_type": "code",
      "source": [
        "# find positional maximum and display its value\n",
        "tf.argmax(F), F[tf.argmax(F)]"
      ],
      "metadata": {
        "colab": {
          "base_uri": "https://localhost:8080/"
        },
        "id": "GMegqHp5C-gK",
        "outputId": "d378bed3-708c-4970-dc3f-c69583172a18"
      },
      "execution_count": 89,
      "outputs": [
        {
          "output_type": "execute_result",
          "data": {
            "text/plain": [
              "(<tf.Tensor: shape=(), dtype=int64, numpy=42>,\n",
              " <tf.Tensor: shape=(), dtype=float32, numpy=0.9671384>)"
            ]
          },
          "metadata": {},
          "execution_count": 89
        }
      ]
    },
    {
      "cell_type": "code",
      "source": [
        "# find positional minimum and display its value\n",
        "tf.argmin(F), F[tf.argmin(F)]"
      ],
      "metadata": {
        "colab": {
          "base_uri": "https://localhost:8080/"
        },
        "id": "RfyXLJysDdgN",
        "outputId": "aca74002-71aa-49f5-a0ab-d1cef7f5233e"
      },
      "execution_count": 90,
      "outputs": [
        {
          "output_type": "execute_result",
          "data": {
            "text/plain": [
              "(<tf.Tensor: shape=(), dtype=int64, numpy=16>,\n",
              " <tf.Tensor: shape=(), dtype=float32, numpy=0.009463668>)"
            ]
          },
          "metadata": {},
          "execution_count": 90
        }
      ]
    },
    {
      "cell_type": "code",
      "source": [
        "# Find all positional maximums in a matrix\n",
        "F_2d = tf.random.uniform(shape=(5,5))\n",
        "print(F_2d, \"\\n\")\n",
        "max_indices = tf.argmax(F_2d, axis=0);\n",
        "print(\"max index for each row\\n\", max_indices)\n",
        "\n",
        "print(\"As table using python formatted string literals just for practice\")\n",
        "print([f\"{max_indices.numpy()[idx]}: {F_2d[idx, max_indices[idx]]}\" for idx in range(len(max_indices))])\n",
        "\n",
        "print(\"As pandas table\")\n",
        "import pandas as pd\n",
        "pd.DataFrame({\"index\": max_indices, \"val\": [F_2d[max_indices[idx], idx].numpy() for idx in range(len(max_indices))]})"
      ],
      "metadata": {
        "id": "Tkjpn1b_Dh5Z",
        "colab": {
          "base_uri": "https://localhost:8080/",
          "height": 414
        },
        "outputId": "452c0937-39f9-42b4-eaaf-b81ccd5f1e5b"
      },
      "execution_count": 91,
      "outputs": [
        {
          "output_type": "stream",
          "name": "stdout",
          "text": [
            "tf.Tensor(\n",
            "[[0.68789124 0.48447883 0.9309944  0.252187   0.73115396]\n",
            " [0.89256823 0.94674826 0.7493341  0.34925628 0.54718256]\n",
            " [0.26160395 0.69734323 0.11962581 0.53484344 0.7148968 ]\n",
            " [0.87501776 0.33967495 0.17377627 0.4418521  0.9008261 ]\n",
            " [0.13803864 0.12217975 0.5754491  0.9417181  0.9186585 ]], shape=(5, 5), dtype=float32) \n",
            "\n",
            "max index for each row\n",
            " tf.Tensor([1 1 0 4 4], shape=(5,), dtype=int64)\n",
            "As table using python formatted string literals just for practice\n",
            "['1: 0.48447883129119873', '1: 0.9467482566833496', '0: 0.2616039514541626', '4: 0.900826096534729', '4: 0.9186584949493408']\n",
            "As pandas table\n"
          ]
        },
        {
          "output_type": "execute_result",
          "data": {
            "text/plain": [
              "   index       val\n",
              "0      1  0.892568\n",
              "1      1  0.946748\n",
              "2      0  0.930994\n",
              "3      4  0.941718\n",
              "4      4  0.918658"
            ],
            "text/html": [
              "\n",
              "  <div id=\"df-9afb6fc3-7b69-4fe3-85e4-0103127bacb4\">\n",
              "    <div class=\"colab-df-container\">\n",
              "      <div>\n",
              "<style scoped>\n",
              "    .dataframe tbody tr th:only-of-type {\n",
              "        vertical-align: middle;\n",
              "    }\n",
              "\n",
              "    .dataframe tbody tr th {\n",
              "        vertical-align: top;\n",
              "    }\n",
              "\n",
              "    .dataframe thead th {\n",
              "        text-align: right;\n",
              "    }\n",
              "</style>\n",
              "<table border=\"1\" class=\"dataframe\">\n",
              "  <thead>\n",
              "    <tr style=\"text-align: right;\">\n",
              "      <th></th>\n",
              "      <th>index</th>\n",
              "      <th>val</th>\n",
              "    </tr>\n",
              "  </thead>\n",
              "  <tbody>\n",
              "    <tr>\n",
              "      <th>0</th>\n",
              "      <td>1</td>\n",
              "      <td>0.892568</td>\n",
              "    </tr>\n",
              "    <tr>\n",
              "      <th>1</th>\n",
              "      <td>1</td>\n",
              "      <td>0.946748</td>\n",
              "    </tr>\n",
              "    <tr>\n",
              "      <th>2</th>\n",
              "      <td>0</td>\n",
              "      <td>0.930994</td>\n",
              "    </tr>\n",
              "    <tr>\n",
              "      <th>3</th>\n",
              "      <td>4</td>\n",
              "      <td>0.941718</td>\n",
              "    </tr>\n",
              "    <tr>\n",
              "      <th>4</th>\n",
              "      <td>4</td>\n",
              "      <td>0.918658</td>\n",
              "    </tr>\n",
              "  </tbody>\n",
              "</table>\n",
              "</div>\n",
              "      <button class=\"colab-df-convert\" onclick=\"convertToInteractive('df-9afb6fc3-7b69-4fe3-85e4-0103127bacb4')\"\n",
              "              title=\"Convert this dataframe to an interactive table.\"\n",
              "              style=\"display:none;\">\n",
              "        \n",
              "  <svg xmlns=\"http://www.w3.org/2000/svg\" height=\"24px\"viewBox=\"0 0 24 24\"\n",
              "       width=\"24px\">\n",
              "    <path d=\"M0 0h24v24H0V0z\" fill=\"none\"/>\n",
              "    <path d=\"M18.56 5.44l.94 2.06.94-2.06 2.06-.94-2.06-.94-.94-2.06-.94 2.06-2.06.94zm-11 1L8.5 8.5l.94-2.06 2.06-.94-2.06-.94L8.5 2.5l-.94 2.06-2.06.94zm10 10l.94 2.06.94-2.06 2.06-.94-2.06-.94-.94-2.06-.94 2.06-2.06.94z\"/><path d=\"M17.41 7.96l-1.37-1.37c-.4-.4-.92-.59-1.43-.59-.52 0-1.04.2-1.43.59L10.3 9.45l-7.72 7.72c-.78.78-.78 2.05 0 2.83L4 21.41c.39.39.9.59 1.41.59.51 0 1.02-.2 1.41-.59l7.78-7.78 2.81-2.81c.8-.78.8-2.07 0-2.86zM5.41 20L4 18.59l7.72-7.72 1.47 1.35L5.41 20z\"/>\n",
              "  </svg>\n",
              "      </button>\n",
              "      \n",
              "  <style>\n",
              "    .colab-df-container {\n",
              "      display:flex;\n",
              "      flex-wrap:wrap;\n",
              "      gap: 12px;\n",
              "    }\n",
              "\n",
              "    .colab-df-convert {\n",
              "      background-color: #E8F0FE;\n",
              "      border: none;\n",
              "      border-radius: 50%;\n",
              "      cursor: pointer;\n",
              "      display: none;\n",
              "      fill: #1967D2;\n",
              "      height: 32px;\n",
              "      padding: 0 0 0 0;\n",
              "      width: 32px;\n",
              "    }\n",
              "\n",
              "    .colab-df-convert:hover {\n",
              "      background-color: #E2EBFA;\n",
              "      box-shadow: 0px 1px 2px rgba(60, 64, 67, 0.3), 0px 1px 3px 1px rgba(60, 64, 67, 0.15);\n",
              "      fill: #174EA6;\n",
              "    }\n",
              "\n",
              "    [theme=dark] .colab-df-convert {\n",
              "      background-color: #3B4455;\n",
              "      fill: #D2E3FC;\n",
              "    }\n",
              "\n",
              "    [theme=dark] .colab-df-convert:hover {\n",
              "      background-color: #434B5C;\n",
              "      box-shadow: 0px 1px 3px 1px rgba(0, 0, 0, 0.15);\n",
              "      filter: drop-shadow(0px 1px 2px rgba(0, 0, 0, 0.3));\n",
              "      fill: #FFFFFF;\n",
              "    }\n",
              "  </style>\n",
              "\n",
              "      <script>\n",
              "        const buttonEl =\n",
              "          document.querySelector('#df-9afb6fc3-7b69-4fe3-85e4-0103127bacb4 button.colab-df-convert');\n",
              "        buttonEl.style.display =\n",
              "          google.colab.kernel.accessAllowed ? 'block' : 'none';\n",
              "\n",
              "        async function convertToInteractive(key) {\n",
              "          const element = document.querySelector('#df-9afb6fc3-7b69-4fe3-85e4-0103127bacb4');\n",
              "          const dataTable =\n",
              "            await google.colab.kernel.invokeFunction('convertToInteractive',\n",
              "                                                     [key], {});\n",
              "          if (!dataTable) return;\n",
              "\n",
              "          const docLinkHtml = 'Like what you see? Visit the ' +\n",
              "            '<a target=\"_blank\" href=https://colab.research.google.com/notebooks/data_table.ipynb>data table notebook</a>'\n",
              "            + ' to learn more about interactive tables.';\n",
              "          element.innerHTML = '';\n",
              "          dataTable['output_type'] = 'display_data';\n",
              "          await google.colab.output.renderOutput(dataTable, element);\n",
              "          const docLink = document.createElement('div');\n",
              "          docLink.innerHTML = docLinkHtml;\n",
              "          element.appendChild(docLink);\n",
              "        }\n",
              "      </script>\n",
              "    </div>\n",
              "  </div>\n",
              "  "
            ]
          },
          "metadata": {},
          "execution_count": 91
        }
      ]
    },
    {
      "cell_type": "markdown",
      "source": [
        "No example for argmin as it's redundant."
      ],
      "metadata": {
        "id": "g3_X_-1BGKPA"
      }
    },
    {
      "cell_type": "markdown",
      "source": [
        "### Squeezing a tensor (removing all single dimensions)"
      ],
      "metadata": {
        "id": "7o-ZrR62KQ4A"
      }
    },
    {
      "cell_type": "code",
      "source": [
        "tf.random.set_seed(42)\n",
        "G = tf.constant(tf.random.uniform(shape=[50]), shape=[1, 1, 1, 1, 50])\n",
        "G, G.shape"
      ],
      "metadata": {
        "id": "H3FFCrEbKSWI",
        "colab": {
          "base_uri": "https://localhost:8080/"
        },
        "outputId": "36c01a97-6be8-4bc2-a693-65015832b899"
      },
      "execution_count": 92,
      "outputs": [
        {
          "output_type": "execute_result",
          "data": {
            "text/plain": [
              "(<tf.Tensor: shape=(1, 1, 1, 1, 50), dtype=float32, numpy=\n",
              " array([[[[[0.6645621 , 0.44100678, 0.3528825 , 0.46448255, 0.03366041,\n",
              "            0.68467236, 0.74011743, 0.8724445 , 0.22632635, 0.22319686,\n",
              "            0.3103881 , 0.7223358 , 0.13318717, 0.5480639 , 0.5746088 ,\n",
              "            0.8996835 , 0.00946367, 0.5212307 , 0.6345445 , 0.1993283 ,\n",
              "            0.72942245, 0.54583454, 0.10756552, 0.6767061 , 0.6602763 ,\n",
              "            0.33695042, 0.60141766, 0.21062577, 0.8527372 , 0.44062173,\n",
              "            0.9485276 , 0.23752594, 0.81179297, 0.5263394 , 0.494308  ,\n",
              "            0.21612847, 0.8457197 , 0.8718841 , 0.3083862 , 0.6868038 ,\n",
              "            0.23764038, 0.7817228 , 0.9671384 , 0.06870162, 0.79873943,\n",
              "            0.66028714, 0.5871513 , 0.16461694, 0.7381023 , 0.32054043]]]]],\n",
              "       dtype=float32)>, TensorShape([1, 1, 1, 1, 50]))"
            ]
          },
          "metadata": {},
          "execution_count": 92
        }
      ]
    },
    {
      "cell_type": "code",
      "source": [
        "# remove dimensions of size 1 from the shape of a tensor\n",
        "G_squeezed = tf.squeeze(G)\n",
        "G_squeezed, G_squeezed.shape"
      ],
      "metadata": {
        "colab": {
          "base_uri": "https://localhost:8080/"
        },
        "id": "BEL-z8b1LVrK",
        "outputId": "caab50a0-b151-425f-823d-8b258b78c001"
      },
      "execution_count": 93,
      "outputs": [
        {
          "output_type": "execute_result",
          "data": {
            "text/plain": [
              "(<tf.Tensor: shape=(50,), dtype=float32, numpy=\n",
              " array([0.6645621 , 0.44100678, 0.3528825 , 0.46448255, 0.03366041,\n",
              "        0.68467236, 0.74011743, 0.8724445 , 0.22632635, 0.22319686,\n",
              "        0.3103881 , 0.7223358 , 0.13318717, 0.5480639 , 0.5746088 ,\n",
              "        0.8996835 , 0.00946367, 0.5212307 , 0.6345445 , 0.1993283 ,\n",
              "        0.72942245, 0.54583454, 0.10756552, 0.6767061 , 0.6602763 ,\n",
              "        0.33695042, 0.60141766, 0.21062577, 0.8527372 , 0.44062173,\n",
              "        0.9485276 , 0.23752594, 0.81179297, 0.5263394 , 0.494308  ,\n",
              "        0.21612847, 0.8457197 , 0.8718841 , 0.3083862 , 0.6868038 ,\n",
              "        0.23764038, 0.7817228 , 0.9671384 , 0.06870162, 0.79873943,\n",
              "        0.66028714, 0.5871513 , 0.16461694, 0.7381023 , 0.32054043],\n",
              "       dtype=float32)>, TensorShape([50]))"
            ]
          },
          "metadata": {},
          "execution_count": 93
        }
      ]
    },
    {
      "cell_type": "markdown",
      "source": [
        "### One-hot encoding tensors\n",
        "\n",
        "[good explanation](https://hackernoon.com/what-is-one-hot-encoding-why-and-when-do-you-have-to-use-it-e3c6186d008f)\n",
        "\n",
        "A form of numerical encoding of non-numeric input data.\n",
        "\n",
        "Gist:\n",
        "\n",
        "We have original data:\n",
        "```\n",
        "company price\n",
        "VW      19999\n",
        "Acura   10000\n",
        "Honda   29000\n",
        "Honda   ...\n",
        "Acura   \n",
        "```\n",
        "\n",
        "Add a categorical value (a number \"encoding\" of the company, basically a value from 0 to N-1 categories). Category here is the company.\n",
        "\n",
        "```\n",
        "company categoricalValue price\n",
        "VW      0                ...  \n",
        "Acura   1\n",
        "Honda   2\n",
        "Honda   2\n",
        "Acura   1\n",
        "```\n",
        "\n",
        "These can be **one-hot** (just binary) encoded by adding columns and encoding if the row belongs to a category using *1* (existant) and *0* (not existant):\n",
        "\n",
        "```\n",
        "VW  Acura  Honda  Price\n",
        "1   0      0      19999\n",
        "0   1      0      ...\n",
        "0   0      1      \n",
        "0   0      1\n",
        "0   1      0\n",
        "```\n",
        "\n",
        "If we just used the feature number, the ML algorithm would see it as one feature and would calculate stupid averages (e.g. the average of VW and Honda is 1.5).\n",
        "\n",
        "[more explanation](https://machinelearningmastery.com/why-one-hot-encode-data-in-machine-learning/)\n",
        "\n"
      ],
      "metadata": {
        "id": "PuJTJlotL1PC"
      }
    },
    {
      "cell_type": "code",
      "source": [
        "# Create a list of indices\n",
        "some_list = [0, 1, 2, 3, 3, 0]; # could be red, green, blue, purple\n",
        "\n",
        "# One hot encode list of indices\n",
        "# depth = \"A scalar defining the depth of the one hot dimension\". Basically, how many unique values there are\n",
        "tf.one_hot(some_list, depth=4)"
      ],
      "metadata": {
        "colab": {
          "base_uri": "https://localhost:8080/"
        },
        "id": "7-LacJBlPZ63",
        "outputId": "80b86b22-4d20-4529-b560-60af489d4fe8"
      },
      "execution_count": 94,
      "outputs": [
        {
          "output_type": "execute_result",
          "data": {
            "text/plain": [
              "<tf.Tensor: shape=(6, 4), dtype=float32, numpy=\n",
              "array([[1., 0., 0., 0.],\n",
              "       [0., 1., 0., 0.],\n",
              "       [0., 0., 1., 0.],\n",
              "       [0., 0., 0., 1.],\n",
              "       [0., 0., 0., 1.],\n",
              "       [1., 0., 0., 0.]], dtype=float32)>"
            ]
          },
          "metadata": {},
          "execution_count": 94
        }
      ]
    },
    {
      "cell_type": "code",
      "source": [
        "# specify custom values for one hot encoding\n",
        "tf.one_hot(some_list, depth=6, on_value=\"x\", off_value=\"o\")"
      ],
      "metadata": {
        "colab": {
          "base_uri": "https://localhost:8080/"
        },
        "id": "NyyOm0nrP-Sp",
        "outputId": "4b58c1af-1996-43c5-dc85-d1795bda45d7"
      },
      "execution_count": 95,
      "outputs": [
        {
          "output_type": "execute_result",
          "data": {
            "text/plain": [
              "<tf.Tensor: shape=(6, 6), dtype=string, numpy=\n",
              "array([[b'x', b'o', b'o', b'o', b'o', b'o'],\n",
              "       [b'o', b'x', b'o', b'o', b'o', b'o'],\n",
              "       [b'o', b'o', b'x', b'o', b'o', b'o'],\n",
              "       [b'o', b'o', b'o', b'x', b'o', b'o'],\n",
              "       [b'o', b'o', b'o', b'x', b'o', b'o'],\n",
              "       [b'x', b'o', b'o', b'o', b'o', b'o']], dtype=object)>"
            ]
          },
          "metadata": {},
          "execution_count": 95
        }
      ]
    },
    {
      "cell_type": "markdown",
      "source": [
        "### Squaring, log, square root"
      ],
      "metadata": {
        "id": "Z1llx2SXRSzS"
      }
    },
    {
      "cell_type": "code",
      "source": [
        "H = tf.range(1.,10.) # some math ops require floats\n",
        "H"
      ],
      "metadata": {
        "colab": {
          "base_uri": "https://localhost:8080/"
        },
        "id": "y_dHNOjkRWte",
        "outputId": "21c00682-a71b-4b22-9cc6-aae464e5654f"
      },
      "execution_count": 96,
      "outputs": [
        {
          "output_type": "execute_result",
          "data": {
            "text/plain": [
              "<tf.Tensor: shape=(9,), dtype=float32, numpy=array([1., 2., 3., 4., 5., 6., 7., 8., 9.], dtype=float32)>"
            ]
          },
          "metadata": {},
          "execution_count": 96
        }
      ]
    },
    {
      "cell_type": "code",
      "source": [
        "# square\n",
        "# might be useful to make data more distinct without changing the relative values\n",
        "tf.math.square(H)"
      ],
      "metadata": {
        "colab": {
          "base_uri": "https://localhost:8080/"
        },
        "id": "lBzSjZDoRbFo",
        "outputId": "f16b0a57-9021-4fd1-ffe9-1e7285c47362"
      },
      "execution_count": 97,
      "outputs": [
        {
          "output_type": "execute_result",
          "data": {
            "text/plain": [
              "<tf.Tensor: shape=(9,), dtype=float32, numpy=array([ 1.,  4.,  9., 16., 25., 36., 49., 64., 81.], dtype=float32)>"
            ]
          },
          "metadata": {},
          "execution_count": 97
        }
      ]
    },
    {
      "cell_type": "code",
      "source": [
        "# assign values to a logarithmic scale\n",
        "tf.math.log(H)"
      ],
      "metadata": {
        "colab": {
          "base_uri": "https://localhost:8080/"
        },
        "id": "gB0ZVdc1Uoeg",
        "outputId": "b1048d21-2150-4789-9555-108c094de906"
      },
      "execution_count": 98,
      "outputs": [
        {
          "output_type": "execute_result",
          "data": {
            "text/plain": [
              "<tf.Tensor: shape=(9,), dtype=float32, numpy=\n",
              "array([0.       , 0.6931472, 1.0986123, 1.3862944, 1.609438 , 1.7917595,\n",
              "       1.9459102, 2.0794415, 2.1972246], dtype=float32)>"
            ]
          },
          "metadata": {},
          "execution_count": 98
        }
      ]
    },
    {
      "cell_type": "code",
      "source": [
        "# square root\n",
        "tf.math.sqrt(H)"
      ],
      "metadata": {
        "colab": {
          "base_uri": "https://localhost:8080/"
        },
        "id": "tTE2NefPU79t",
        "outputId": "987f4a78-64d2-43ef-e5bb-3db7147f4703"
      },
      "execution_count": 99,
      "outputs": [
        {
          "output_type": "execute_result",
          "data": {
            "text/plain": [
              "<tf.Tensor: shape=(9,), dtype=float32, numpy=\n",
              "array([1.       , 1.4142135, 1.7320508, 2.       , 2.236068 , 2.4494898,\n",
              "       2.6457512, 2.828427 , 3.       ], dtype=float32)>"
            ]
          },
          "metadata": {},
          "execution_count": 99
        }
      ]
    },
    {
      "cell_type": "markdown",
      "source": [
        "### Exploring tensorflow and NumPys compatibility\n",
        "\n",
        "Tensorflow interacts nicely with NumPy, fundamental mathematical library of python, built on numpy arrays (type = `numpy.ndarray`).\n"
      ],
      "metadata": {
        "id": "9q3MkfYxVyO3"
      }
    },
    {
      "cell_type": "code",
      "source": [
        "# create a tensor from a numpy array\n",
        "J = tf.constant(np.array([1.,2.,3.]))\n",
        "J"
      ],
      "metadata": {
        "colab": {
          "base_uri": "https://localhost:8080/"
        },
        "id": "KdM0t7kGWHHP",
        "outputId": "9bb997e5-ecdd-48cb-ef60-f6eedcf94528"
      },
      "execution_count": 100,
      "outputs": [
        {
          "output_type": "execute_result",
          "data": {
            "text/plain": [
              "<tf.Tensor: shape=(3,), dtype=float64, numpy=array([1., 2., 3.])>"
            ]
          },
          "metadata": {},
          "execution_count": 100
        }
      ]
    },
    {
      "cell_type": "code",
      "source": [
        "# convert it back to a numpy array with various methods\n",
        "print(J.numpy(), \": \", type(J.numpy()), \"\\n\")\n",
        "print(np.array(J), \": \", type(np.array(J)), \"\\n\")"
      ],
      "metadata": {
        "colab": {
          "base_uri": "https://localhost:8080/"
        },
        "id": "1tG1x_jQWX-Z",
        "outputId": "23ad0522-04ec-4adb-f737-1122736bf108"
      },
      "execution_count": 101,
      "outputs": [
        {
          "output_type": "stream",
          "name": "stdout",
          "text": [
            "[1. 2. 3.] :  <class 'numpy.ndarray'> \n",
            "\n",
            "[1. 2. 3.] :  <class 'numpy.ndarray'> \n",
            "\n"
          ]
        }
      ]
    },
    {
      "cell_type": "code",
      "source": [
        "J = tf.constant([3.])\n",
        "J.numpy()[0]"
      ],
      "metadata": {
        "colab": {
          "base_uri": "https://localhost:8080/"
        },
        "id": "34SVdqS1WdYh",
        "outputId": "0903cb45-528d-43cd-cf03-7f0723ba9e0e"
      },
      "execution_count": 102,
      "outputs": [
        {
          "output_type": "execute_result",
          "data": {
            "text/plain": [
              "3.0"
            ]
          },
          "metadata": {},
          "execution_count": 102
        }
      ]
    },
    {
      "cell_type": "code",
      "source": [
        "# default types of tf an np are slightly different\n",
        "numpy_J = tf.constant(np.array([3., 7., 10.]))\n",
        "print(\"numpy_J (tensor from numpy array): \", numpy_J, \"\\n\") # defaults to float64\n",
        "tensor_J = tf.constant([3., 7., 10.])\n",
        "print(\"tensor_J (tensor from python array): \", tensor_J, \"\\n\") # defaults to float32"
      ],
      "metadata": {
        "colab": {
          "base_uri": "https://localhost:8080/"
        },
        "id": "h7qCclN2XTXw",
        "outputId": "dda215c0-3279-44a6-c581-671b53aa78b0"
      },
      "execution_count": 103,
      "outputs": [
        {
          "output_type": "stream",
          "name": "stdout",
          "text": [
            "numpy_J (tensor from numpy array):  tf.Tensor([ 3.  7. 10.], shape=(3,), dtype=float64) \n",
            "\n",
            "tensor_J (tensor from python array):  tf.Tensor([ 3.  7. 10.], shape=(3,), dtype=float32) \n",
            "\n"
          ]
        }
      ]
    },
    {
      "cell_type": "markdown",
      "source": [
        "### Ensuring tensor operations can run on GPUs / TPUs\n",
        "\n",
        "The main difference between tensor and numpy array is that **a TensorFlow tensor can be run on a GPU or TPU**.\n",
        "\n"
      ],
      "metadata": {
        "id": "h44oEDwpZHl-"
      }
    },
    {
      "cell_type": "code",
      "source": [
        "# check physical devices\n",
        "tf.config.list_physical_devices()"
      ],
      "metadata": {
        "colab": {
          "base_uri": "https://localhost:8080/"
        },
        "id": "mM8H6kPHZd3j",
        "outputId": "1801002f-b842-4521-ea44-da58b82e69dd"
      },
      "execution_count": 104,
      "outputs": [
        {
          "output_type": "execute_result",
          "data": {
            "text/plain": [
              "[PhysicalDevice(name='/physical_device:CPU:0', device_type='CPU')]"
            ]
          },
          "metadata": {},
          "execution_count": 104
        }
      ]
    },
    {
      "cell_type": "code",
      "source": [
        "# check specific devices\n",
        "tf.config.list_physical_devices(\"GPU\")"
      ],
      "metadata": {
        "colab": {
          "base_uri": "https://localhost:8080/"
        },
        "id": "k4mBW_hfZqG6",
        "outputId": "361298d1-0245-461c-a82f-e2bc648c8b54"
      },
      "execution_count": 105,
      "outputs": [
        {
          "output_type": "execute_result",
          "data": {
            "text/plain": [
              "[]"
            ]
          },
          "metadata": {},
          "execution_count": 105
        }
      ]
    },
    {
      "cell_type": "markdown",
      "source": [
        "In google colab, we can switch between cpu, gpu and tpu (based on availability) in \"change runtime type\" at the bottom of the resources bar (\"view resources\" in the little menu beside the ram/disk usage indicator in the top right)."
      ],
      "metadata": {
        "id": "pgGNHKVBZ46x"
      }
    },
    {
      "cell_type": "code",
      "source": [
        "# ! runs commands on the command line\n",
        "!nvidia-smi"
      ],
      "metadata": {
        "colab": {
          "base_uri": "https://localhost:8080/"
        },
        "id": "l0nZrpdHasPM",
        "outputId": "e30da386-efa2-4b40-b6f9-3421cc36b9f7"
      },
      "execution_count": 106,
      "outputs": [
        {
          "output_type": "stream",
          "name": "stdout",
          "text": [
            "NVIDIA-SMI has failed because it couldn't communicate with the NVIDIA driver. Make sure that the latest NVIDIA driver is installed and running.\n",
            "\n"
          ]
        }
      ]
    },
    {
      "cell_type": "markdown",
      "source": [
        "**Note**: If you have access to a CUDA-enabled GPU, TensorFlow will automatically use it whenever possible."
      ],
      "metadata": {
        "id": "Esi6h6gXazvb"
      }
    },
    {
      "cell_type": "markdown",
      "source": [
        "### Exercises"
      ],
      "metadata": {
        "id": "0xNfxpf3yzRf"
      }
    },
    {
      "cell_type": "code",
      "source": [
        "# 1. Create a vector, scalar, matrix and tensor with values of your choosing using tf.constant().\n",
        "vector = tf.constant([1,2,3])\n",
        "scalar = tf.constant(42)\n",
        "matrix = tf.constant([[1,2,3],\n",
        "                      [4,5,6], \n",
        "                      [7,8,9]])\n",
        "tensor = tf.constant([[[1,2,3], # all others are tensors too of course\n",
        "                      [4,5,6], \n",
        "                      [7,8,9]],\n",
        "                      [[1,2,3],\n",
        "                      [4,5,6], \n",
        "                      [7,8,9]]])\n",
        "vector, scalar, matrix, tensor\n"
      ],
      "metadata": {
        "id": "_NZYM1BHy3b0",
        "outputId": "a99ade82-90e9-489b-a530-733be831b40a",
        "colab": {
          "base_uri": "https://localhost:8080/"
        }
      },
      "execution_count": 107,
      "outputs": [
        {
          "output_type": "execute_result",
          "data": {
            "text/plain": [
              "(<tf.Tensor: shape=(3,), dtype=int32, numpy=array([1, 2, 3], dtype=int32)>,\n",
              " <tf.Tensor: shape=(), dtype=int32, numpy=42>,\n",
              " <tf.Tensor: shape=(3, 3), dtype=int32, numpy=\n",
              " array([[1, 2, 3],\n",
              "        [4, 5, 6],\n",
              "        [7, 8, 9]], dtype=int32)>,\n",
              " <tf.Tensor: shape=(2, 3, 3), dtype=int32, numpy=\n",
              " array([[[1, 2, 3],\n",
              "         [4, 5, 6],\n",
              "         [7, 8, 9]],\n",
              " \n",
              "        [[1, 2, 3],\n",
              "         [4, 5, 6],\n",
              "         [7, 8, 9]]], dtype=int32)>)"
            ]
          },
          "metadata": {},
          "execution_count": 107
        }
      ]
    },
    {
      "cell_type": "code",
      "source": [
        "# 2. Find the shape, rank and size of the tensors you created in 1\n",
        "vector.shape, vector.ndim, tf.size(vector), tensor.shape, tensor.ndim, tf.size(tensor)"
      ],
      "metadata": {
        "id": "uVSQqM_AzdSh",
        "outputId": "b8fca1c8-641d-4fb3-f474-1db66c82c9d5",
        "colab": {
          "base_uri": "https://localhost:8080/"
        }
      },
      "execution_count": 172,
      "outputs": [
        {
          "output_type": "execute_result",
          "data": {
            "text/plain": [
              "(TensorShape([3]),\n",
              " <tf.Tensor: shape=(), dtype=int32, numpy=0>,\n",
              " <tf.Tensor: shape=(), dtype=int32, numpy=3>,\n",
              " TensorShape([10]),\n",
              " 1,\n",
              " <tf.Tensor: shape=(), dtype=int32, numpy=10>)"
            ]
          },
          "metadata": {},
          "execution_count": 172
        }
      ]
    },
    {
      "cell_type": "code",
      "source": [
        "# 3. Create two tensors containing random values between 0 and 1 with shape [5, 300]\n",
        "r1 = tf.random.uniform(shape=[5, 300], minval=0, maxval=1)\n",
        "r2 = tf.random.uniform(shape=[5, 300], minval=0, maxval=1)\n",
        "r1, r2"
      ],
      "metadata": {
        "id": "rOcbN2P-0D4D",
        "outputId": "df9d6e8e-b695-483a-af34-da3d7f7bdf5f",
        "colab": {
          "base_uri": "https://localhost:8080/"
        }
      },
      "execution_count": 120,
      "outputs": [
        {
          "output_type": "execute_result",
          "data": {
            "text/plain": [
              "(<tf.Tensor: shape=(5, 300), dtype=float32, numpy=\n",
              " array([[0.803156  , 0.49777734, 0.37054038, ..., 0.42893624, 0.49179256,\n",
              "         0.39297235],\n",
              "        [0.14517438, 0.72666824, 0.80103934, ..., 0.832801  , 0.649397  ,\n",
              "         0.29312778],\n",
              "        [0.4216962 , 0.6768439 , 0.5627917 , ..., 0.56929183, 0.90308595,\n",
              "         0.31530714],\n",
              "        [0.6198498 , 0.70206463, 0.994668  , ..., 0.03745186, 0.23192072,\n",
              "         0.23984468],\n",
              "        [0.01790595, 0.40531397, 0.5369972 , ..., 0.62693167, 0.47887897,\n",
              "         0.25383985]], dtype=float32)>,\n",
              " <tf.Tensor: shape=(5, 300), dtype=float32, numpy=\n",
              " array([[0.95831835, 0.01680839, 0.3156035 , ..., 0.67105925, 0.76730955,\n",
              "         0.20125735],\n",
              "        [0.09921694, 0.02475083, 0.47242153, ..., 0.9631474 , 0.34333456,\n",
              "         0.8129494 ],\n",
              "        [0.08817983, 0.9311962 , 0.2293179 , ..., 0.41450226, 0.008304  ,\n",
              "         0.02438807],\n",
              "        [0.54814565, 0.37019622, 0.5272658 , ..., 0.8656951 , 0.19644582,\n",
              "         0.5959221 ],\n",
              "        [0.8964087 , 0.15288067, 0.3360591 , ..., 0.5725572 , 0.4094149 ,\n",
              "         0.40059018]], dtype=float32)>)"
            ]
          },
          "metadata": {},
          "execution_count": 120
        }
      ]
    },
    {
      "cell_type": "code",
      "source": [
        "# 4. Multiply the two tensors you created in 3 using matrix multiplication.\n",
        "print(r1 @ tf.transpose(r2)) # using python operator\n",
        "print(tf.matmul(r1, tf.transpose(r2))) # using tensorflow"
      ],
      "metadata": {
        "id": "oia5H0eP0y0g",
        "outputId": "87245a6c-43ed-445e-903f-24e6e821c11e",
        "colab": {
          "base_uri": "https://localhost:8080/"
        }
      },
      "execution_count": 122,
      "outputs": [
        {
          "output_type": "stream",
          "name": "stdout",
          "text": [
            "tf.Tensor(\n",
            "[[70.66355  71.568405 77.19752  74.061646 73.22589 ]\n",
            " [72.2919   75.99318  82.135056 77.22684  77.293655]\n",
            " [67.845795 68.8657   76.16407  73.37637  73.11705 ]\n",
            " [68.15459  67.64961  76.78157  73.194916 71.7847  ]\n",
            " [70.88941  71.440285 77.61734  74.39661  72.28302 ]], shape=(5, 5), dtype=float32)\n",
            "tf.Tensor(\n",
            "[[70.66355  71.568405 77.19752  74.061646 73.22589 ]\n",
            " [72.2919   75.99318  82.135056 77.22684  77.293655]\n",
            " [67.845795 68.8657   76.16407  73.37637  73.11705 ]\n",
            " [68.15459  67.64961  76.78157  73.194916 71.7847  ]\n",
            " [70.88941  71.440285 77.61734  74.39661  72.28302 ]], shape=(5, 5), dtype=float32)\n"
          ]
        }
      ]
    },
    {
      "cell_type": "code",
      "source": [
        "# 5. Multiply the two tensors you created in 3 using dot product.\n",
        "tf.tensordot(r1, tf.transpose(r2), axes=1)"
      ],
      "metadata": {
        "id": "KbcSXyuF1Mb-",
        "outputId": "6f2c1bcc-6e76-476a-87e8-89f9d180735c",
        "colab": {
          "base_uri": "https://localhost:8080/"
        }
      },
      "execution_count": 127,
      "outputs": [
        {
          "output_type": "execute_result",
          "data": {
            "text/plain": [
              "<tf.Tensor: shape=(5, 5), dtype=float32, numpy=\n",
              "array([[70.66355 , 71.568405, 77.19752 , 74.061646, 73.22589 ],\n",
              "       [72.2919  , 75.99318 , 82.135056, 77.22684 , 77.293655],\n",
              "       [67.845795, 68.8657  , 76.16407 , 73.37637 , 73.11705 ],\n",
              "       [68.15459 , 67.64961 , 76.78157 , 73.194916, 71.7847  ],\n",
              "       [70.88941 , 71.440285, 77.61734 , 74.39661 , 72.28302 ]],\n",
              "      dtype=float32)>"
            ]
          },
          "metadata": {},
          "execution_count": 127
        }
      ]
    },
    {
      "cell_type": "code",
      "source": [
        "def print_short(t, length=200):\n",
        "  print(str(t)[:length], \"...\\n\")"
      ],
      "metadata": {
        "id": "ISOcCnvn4gZa"
      },
      "execution_count": 155,
      "outputs": []
    },
    {
      "cell_type": "code",
      "source": [
        "# 6. Create a tensor with random values between 0 and 1 with shape [224, 224, 3]\n",
        "r3 = tf.constant(tf.random.uniform(shape=(224,224,3), minval=0, maxval=1))\n",
        "print_short(r3)"
      ],
      "metadata": {
        "id": "eNM2Cv9S2BJ6",
        "outputId": "1a8c9243-c978-410b-c3be-5ba6f08dcc71",
        "colab": {
          "base_uri": "https://localhost:8080/"
        }
      },
      "execution_count": 156,
      "outputs": [
        {
          "output_type": "stream",
          "name": "stdout",
          "text": [
            "tf.Tensor(\n",
            "[[[0.52846456 0.68101954 0.9184692 ]\n",
            "  [0.4508164  0.809124   0.17267668]\n",
            "  [0.79487085 0.91110003 0.23809183]\n",
            "  ...\n",
            "  [0.16060352 0.7869284  0.81458366]\n",
            "  [0.2650144  0.0979389  0.90911496 ...\n",
            "\n"
          ]
        }
      ]
    },
    {
      "cell_type": "code",
      "source": [
        "# 7. Find the min and max values of the tensor you created in 6 along the first axis\n",
        "print_short(tf.math.reduce_min(r3, axis=0))\n",
        "print_short(tf.math.reduce_max(r3, axis=2))\n",
        "print(\"max value of the whole tensor: \", tf.math.reduce_max(r3).numpy())"
      ],
      "metadata": {
        "id": "OoA9IEov2UWe",
        "outputId": "fc71195d-b165-4ded-95d9-785b94074c3a",
        "colab": {
          "base_uri": "https://localhost:8080/"
        }
      },
      "execution_count": 181,
      "outputs": [
        {
          "output_type": "stream",
          "name": "stdout",
          "text": [
            "tf.Tensor(\n",
            "[[1.96135044e-03 3.54874134e-03 4.39381599e-03]\n",
            " [2.43735313e-03 4.52995300e-06 2.43628025e-03]\n",
            " [7.20739365e-04 5.07521629e-03 5.53715229e-03]\n",
            " [2.20727921e-03 3.79836559e-03 1.01876259e-0 ...\n",
            "\n",
            "tf.Tensor(\n",
            "[[0.9184692  0.809124   0.91110003 ... 0.81458366 0.90911496 0.8820367 ]\n",
            " [0.8373505  0.83119667 0.92805433 ... 0.86009264 0.9198828  0.52660894]\n",
            " [0.6702082  0.7234564  0.45222235 ... 0.62 ...\n",
            "\n",
            "max value of the whole tensor:  0.9999999\n"
          ]
        }
      ]
    },
    {
      "cell_type": "code",
      "source": [
        "# 8. Created a tensor with random values of shape [1, 224, 224, 3] then squeeze it to change the shape to [224, 224, 3].\n",
        "r4 = tf.random.uniform(shape=(1,224,224,3), minval=0, maxval=1)\n",
        "print_short(r4) # just show the first 100 characters of the result\n",
        "print_short(tf.squeeze(r4))\n",
        "tf.squeeze(r4).shape"
      ],
      "metadata": {
        "id": "nFK3DfEg29gz",
        "outputId": "dbb6711c-14cc-4ead-d195-6d9c8a8824cf",
        "colab": {
          "base_uri": "https://localhost:8080/"
        }
      },
      "execution_count": 183,
      "outputs": [
        {
          "output_type": "stream",
          "name": "stdout",
          "text": [
            "tf.Tensor(\n",
            "[[[[0.945282   0.39583874 0.69677305]\n",
            "   [0.6798897  0.4084903  0.37682545]\n",
            "   [0.7596059  0.30398154 0.29203534]\n",
            "   ...\n",
            "   [0.02029383 0.940127   0.7390568 ]\n",
            "   [0.32835436 0.53766775 0.46 ...\n",
            "\n",
            "tf.Tensor(\n",
            "[[[0.945282   0.39583874 0.69677305]\n",
            "  [0.6798897  0.4084903  0.37682545]\n",
            "  [0.7596059  0.30398154 0.29203534]\n",
            "  ...\n",
            "  [0.02029383 0.940127   0.7390568 ]\n",
            "  [0.32835436 0.53766775 0.46884882 ...\n",
            "\n"
          ]
        },
        {
          "output_type": "execute_result",
          "data": {
            "text/plain": [
              "TensorShape([224, 224, 3])"
            ]
          },
          "metadata": {},
          "execution_count": 183
        }
      ]
    },
    {
      "cell_type": "code",
      "source": [
        "# 9. Create a tensor with shape [10] using your own choice of values, then find the index which has the maximum value.\n",
        "tensor = tf.random.shuffle(tf.constant(list(range(1,6)) + list(range(1,6))))\n",
        "tensor"
      ],
      "metadata": {
        "id": "bpyMtbQ44Dpm",
        "outputId": "b625d19c-69c0-4c7c-cfb7-32578386e17f",
        "colab": {
          "base_uri": "https://localhost:8080/"
        }
      },
      "execution_count": 164,
      "outputs": [
        {
          "output_type": "execute_result",
          "data": {
            "text/plain": [
              "<tf.Tensor: shape=(10,), dtype=int32, numpy=array([2, 3, 1, 4, 3, 2, 4, 5, 1, 5], dtype=int32)>"
            ]
          },
          "metadata": {},
          "execution_count": 164
        }
      ]
    },
    {
      "cell_type": "code",
      "source": [
        "# 10. One-hot encode the tensor you created in 9\n",
        "pd.DataFrame(tf.one_hot(tensor, 5).numpy())"
      ],
      "metadata": {
        "id": "BmrdK5Sm4Tpk",
        "outputId": "2a3316e3-50b5-4bd5-e0c8-be15e0e51a48",
        "colab": {
          "base_uri": "https://localhost:8080/",
          "height": 363
        }
      },
      "execution_count": 171,
      "outputs": [
        {
          "output_type": "execute_result",
          "data": {
            "text/plain": [
              "     0    1    2    3    4\n",
              "0  0.0  0.0  1.0  0.0  0.0\n",
              "1  0.0  0.0  0.0  1.0  0.0\n",
              "2  0.0  1.0  0.0  0.0  0.0\n",
              "3  0.0  0.0  0.0  0.0  1.0\n",
              "4  0.0  0.0  0.0  1.0  0.0\n",
              "5  0.0  0.0  1.0  0.0  0.0\n",
              "6  0.0  0.0  0.0  0.0  1.0\n",
              "7  0.0  0.0  0.0  0.0  0.0\n",
              "8  0.0  1.0  0.0  0.0  0.0\n",
              "9  0.0  0.0  0.0  0.0  0.0"
            ],
            "text/html": [
              "\n",
              "  <div id=\"df-61c26efa-bf2c-4035-8dae-bbec830d21f2\">\n",
              "    <div class=\"colab-df-container\">\n",
              "      <div>\n",
              "<style scoped>\n",
              "    .dataframe tbody tr th:only-of-type {\n",
              "        vertical-align: middle;\n",
              "    }\n",
              "\n",
              "    .dataframe tbody tr th {\n",
              "        vertical-align: top;\n",
              "    }\n",
              "\n",
              "    .dataframe thead th {\n",
              "        text-align: right;\n",
              "    }\n",
              "</style>\n",
              "<table border=\"1\" class=\"dataframe\">\n",
              "  <thead>\n",
              "    <tr style=\"text-align: right;\">\n",
              "      <th></th>\n",
              "      <th>0</th>\n",
              "      <th>1</th>\n",
              "      <th>2</th>\n",
              "      <th>3</th>\n",
              "      <th>4</th>\n",
              "    </tr>\n",
              "  </thead>\n",
              "  <tbody>\n",
              "    <tr>\n",
              "      <th>0</th>\n",
              "      <td>0.0</td>\n",
              "      <td>0.0</td>\n",
              "      <td>1.0</td>\n",
              "      <td>0.0</td>\n",
              "      <td>0.0</td>\n",
              "    </tr>\n",
              "    <tr>\n",
              "      <th>1</th>\n",
              "      <td>0.0</td>\n",
              "      <td>0.0</td>\n",
              "      <td>0.0</td>\n",
              "      <td>1.0</td>\n",
              "      <td>0.0</td>\n",
              "    </tr>\n",
              "    <tr>\n",
              "      <th>2</th>\n",
              "      <td>0.0</td>\n",
              "      <td>1.0</td>\n",
              "      <td>0.0</td>\n",
              "      <td>0.0</td>\n",
              "      <td>0.0</td>\n",
              "    </tr>\n",
              "    <tr>\n",
              "      <th>3</th>\n",
              "      <td>0.0</td>\n",
              "      <td>0.0</td>\n",
              "      <td>0.0</td>\n",
              "      <td>0.0</td>\n",
              "      <td>1.0</td>\n",
              "    </tr>\n",
              "    <tr>\n",
              "      <th>4</th>\n",
              "      <td>0.0</td>\n",
              "      <td>0.0</td>\n",
              "      <td>0.0</td>\n",
              "      <td>1.0</td>\n",
              "      <td>0.0</td>\n",
              "    </tr>\n",
              "    <tr>\n",
              "      <th>5</th>\n",
              "      <td>0.0</td>\n",
              "      <td>0.0</td>\n",
              "      <td>1.0</td>\n",
              "      <td>0.0</td>\n",
              "      <td>0.0</td>\n",
              "    </tr>\n",
              "    <tr>\n",
              "      <th>6</th>\n",
              "      <td>0.0</td>\n",
              "      <td>0.0</td>\n",
              "      <td>0.0</td>\n",
              "      <td>0.0</td>\n",
              "      <td>1.0</td>\n",
              "    </tr>\n",
              "    <tr>\n",
              "      <th>7</th>\n",
              "      <td>0.0</td>\n",
              "      <td>0.0</td>\n",
              "      <td>0.0</td>\n",
              "      <td>0.0</td>\n",
              "      <td>0.0</td>\n",
              "    </tr>\n",
              "    <tr>\n",
              "      <th>8</th>\n",
              "      <td>0.0</td>\n",
              "      <td>1.0</td>\n",
              "      <td>0.0</td>\n",
              "      <td>0.0</td>\n",
              "      <td>0.0</td>\n",
              "    </tr>\n",
              "    <tr>\n",
              "      <th>9</th>\n",
              "      <td>0.0</td>\n",
              "      <td>0.0</td>\n",
              "      <td>0.0</td>\n",
              "      <td>0.0</td>\n",
              "      <td>0.0</td>\n",
              "    </tr>\n",
              "  </tbody>\n",
              "</table>\n",
              "</div>\n",
              "      <button class=\"colab-df-convert\" onclick=\"convertToInteractive('df-61c26efa-bf2c-4035-8dae-bbec830d21f2')\"\n",
              "              title=\"Convert this dataframe to an interactive table.\"\n",
              "              style=\"display:none;\">\n",
              "        \n",
              "  <svg xmlns=\"http://www.w3.org/2000/svg\" height=\"24px\"viewBox=\"0 0 24 24\"\n",
              "       width=\"24px\">\n",
              "    <path d=\"M0 0h24v24H0V0z\" fill=\"none\"/>\n",
              "    <path d=\"M18.56 5.44l.94 2.06.94-2.06 2.06-.94-2.06-.94-.94-2.06-.94 2.06-2.06.94zm-11 1L8.5 8.5l.94-2.06 2.06-.94-2.06-.94L8.5 2.5l-.94 2.06-2.06.94zm10 10l.94 2.06.94-2.06 2.06-.94-2.06-.94-.94-2.06-.94 2.06-2.06.94z\"/><path d=\"M17.41 7.96l-1.37-1.37c-.4-.4-.92-.59-1.43-.59-.52 0-1.04.2-1.43.59L10.3 9.45l-7.72 7.72c-.78.78-.78 2.05 0 2.83L4 21.41c.39.39.9.59 1.41.59.51 0 1.02-.2 1.41-.59l7.78-7.78 2.81-2.81c.8-.78.8-2.07 0-2.86zM5.41 20L4 18.59l7.72-7.72 1.47 1.35L5.41 20z\"/>\n",
              "  </svg>\n",
              "      </button>\n",
              "      \n",
              "  <style>\n",
              "    .colab-df-container {\n",
              "      display:flex;\n",
              "      flex-wrap:wrap;\n",
              "      gap: 12px;\n",
              "    }\n",
              "\n",
              "    .colab-df-convert {\n",
              "      background-color: #E8F0FE;\n",
              "      border: none;\n",
              "      border-radius: 50%;\n",
              "      cursor: pointer;\n",
              "      display: none;\n",
              "      fill: #1967D2;\n",
              "      height: 32px;\n",
              "      padding: 0 0 0 0;\n",
              "      width: 32px;\n",
              "    }\n",
              "\n",
              "    .colab-df-convert:hover {\n",
              "      background-color: #E2EBFA;\n",
              "      box-shadow: 0px 1px 2px rgba(60, 64, 67, 0.3), 0px 1px 3px 1px rgba(60, 64, 67, 0.15);\n",
              "      fill: #174EA6;\n",
              "    }\n",
              "\n",
              "    [theme=dark] .colab-df-convert {\n",
              "      background-color: #3B4455;\n",
              "      fill: #D2E3FC;\n",
              "    }\n",
              "\n",
              "    [theme=dark] .colab-df-convert:hover {\n",
              "      background-color: #434B5C;\n",
              "      box-shadow: 0px 1px 3px 1px rgba(0, 0, 0, 0.15);\n",
              "      filter: drop-shadow(0px 1px 2px rgba(0, 0, 0, 0.3));\n",
              "      fill: #FFFFFF;\n",
              "    }\n",
              "  </style>\n",
              "\n",
              "      <script>\n",
              "        const buttonEl =\n",
              "          document.querySelector('#df-61c26efa-bf2c-4035-8dae-bbec830d21f2 button.colab-df-convert');\n",
              "        buttonEl.style.display =\n",
              "          google.colab.kernel.accessAllowed ? 'block' : 'none';\n",
              "\n",
              "        async function convertToInteractive(key) {\n",
              "          const element = document.querySelector('#df-61c26efa-bf2c-4035-8dae-bbec830d21f2');\n",
              "          const dataTable =\n",
              "            await google.colab.kernel.invokeFunction('convertToInteractive',\n",
              "                                                     [key], {});\n",
              "          if (!dataTable) return;\n",
              "\n",
              "          const docLinkHtml = 'Like what you see? Visit the ' +\n",
              "            '<a target=\"_blank\" href=https://colab.research.google.com/notebooks/data_table.ipynb>data table notebook</a>'\n",
              "            + ' to learn more about interactive tables.';\n",
              "          element.innerHTML = '';\n",
              "          dataTable['output_type'] = 'display_data';\n",
              "          await google.colab.output.renderOutput(dataTable, element);\n",
              "          const docLink = document.createElement('div');\n",
              "          docLink.innerHTML = docLinkHtml;\n",
              "          element.appendChild(docLink);\n",
              "        }\n",
              "      </script>\n",
              "    </div>\n",
              "  </div>\n",
              "  "
            ]
          },
          "metadata": {},
          "execution_count": 171
        }
      ]
    },
    {
      "cell_type": "markdown",
      "source": [
        "### Extra curriculum"
      ],
      "metadata": {
        "id": "T3uk3BAc8QcI"
      }
    },
    {
      "cell_type": "markdown",
      "source": [
        "Read through the list of [TensorFlow Python APIs](https://www.tensorflow.org/api_docs/python/), pick one we haven't gone through in this notebook, reverse engineer it (write out the documentation code for yourself) and figure out what it does."
      ],
      "metadata": {
        "id": "4vQndA098Wgf"
      }
    },
    {
      "cell_type": "markdown",
      "source": [
        "Try to create a series of tensor functions to calculate your most recent grocery bill (it's okay if you don't use the names of the items, just the price in numerical form).\n",
        "\n",
        "- How would you calculate your grocery bill for the month and for the year using tensors?\n"
      ],
      "metadata": {
        "id": "93bgO_2285ds"
      }
    },
    {
      "cell_type": "markdown",
      "source": [
        "Go through the TensorFlow 2.x quick start for beginners tutorial (be sure to type out all of the code yourself, even if you don't understand it).\n",
        "\n",
        "- Are there any functions we used in here that match what's used in there? Which are the same? Which haven't you seen before?\n"
      ],
      "metadata": {
        "id": "Uw2EfXka9CUU"
      }
    },
    {
      "cell_type": "markdown",
      "source": [
        "Watch the video [\"What's a tensor?\"](https://www.youtube.com/watch?v=f5liqUk0ZTw) - a great visual introduction to many of the concepts we've covered in this notebook."
      ],
      "metadata": {
        "id": "hyphuH5l9FOk"
      }
    }
  ]
}