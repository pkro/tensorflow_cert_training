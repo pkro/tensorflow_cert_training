{
  "nbformat": 4,
  "nbformat_minor": 0,
  "metadata": {
    "colab": {
      "provenance": [],
      "authorship_tag": "ABX9TyPrZ8aDxbawKOsL/RyUdwC5",
      "include_colab_link": true
    },
    "kernelspec": {
      "name": "python3",
      "display_name": "Python 3"
    },
    "language_info": {
      "name": "python"
    }
  },
  "cells": [
    {
      "cell_type": "markdown",
      "metadata": {
        "id": "view-in-github",
        "colab_type": "text"
      },
      "source": [
        "<a href=\"https://colab.research.google.com/github/pkro/tensorflow_cert_training/blob/main/colab_notebooks/00_tensorflow_fundamentals.ipynb\" target=\"_parent\"><img src=\"https://colab.research.google.com/assets/colab-badge.svg\" alt=\"Open In Colab\"/></a>"
      ]
    },
    {
      "cell_type": "markdown",
      "source": [
        "# tensor fundamentals using tensorflow\n",
        "\n",
        "- Introduction to tensors\n",
        "- getting information from tensor\n",
        "- manipulating tensors\n",
        "- tensors and NumPy\n",
        "- Using tf.function (speed up regular python functions)\n",
        "- using gpus / tpus with TensorFlow\n",
        "- Exercises\n"
      ],
      "metadata": {
        "id": "rfW-Q_3gB9is"
      }
    },
    {
      "cell_type": "markdown",
      "source": [
        "Introduction to tensors\n"
      ],
      "metadata": {
        "id": "LydiSCRtdXiz"
      }
    },
    {
      "cell_type": "code",
      "source": [
        "import tensorflow as tf\n",
        "\n",
        "print(tf.__version__)"
      ],
      "metadata": {
        "id": "uyKLNs_BeZTQ",
        "outputId": "de0561c6-dbac-4fd5-ec70-370ca9c01073",
        "colab": {
          "base_uri": "https://localhost:8080/"
        }
      },
      "execution_count": null,
      "outputs": [
        {
          "output_type": "stream",
          "name": "stdout",
          "text": [
            "2.9.2\n"
          ]
        }
      ]
    },
    {
      "cell_type": "code",
      "source": [
        "# Create tensors with tf.constant()\n",
        "scalar = tf.constant(7)\n",
        "scalar"
      ],
      "metadata": {
        "id": "hCbd8xyteuEm",
        "outputId": "ea90dc5c-5347-4f0f-e5ff-2c53feb73196",
        "colab": {
          "base_uri": "https://localhost:8080/"
        }
      },
      "execution_count": null,
      "outputs": [
        {
          "output_type": "execute_result",
          "data": {
            "text/plain": [
              "<tf.Tensor: shape=(), dtype=int32, numpy=7>"
            ]
          },
          "metadata": {},
          "execution_count": 3
        }
      ]
    },
    {
      "cell_type": "code",
      "source": [
        "#Check number of dimentsions of a tensor (ndim = Number of DIMensions)\n",
        "scalar.ndim"
      ],
      "metadata": {
        "id": "kLO-PDiXfa43",
        "outputId": "8445a4cb-071c-40b8-9013-5079f3ccb9b8",
        "colab": {
          "base_uri": "https://localhost:8080/"
        }
      },
      "execution_count": null,
      "outputs": [
        {
          "output_type": "execute_result",
          "data": {
            "text/plain": [
              "0"
            ]
          },
          "metadata": {},
          "execution_count": 5
        }
      ]
    },
    {
      "cell_type": "code",
      "source": [
        "# create a vector\n",
        "vector = tf.constant([3,4])\n",
        "vector"
      ],
      "metadata": {
        "id": "8S-FoRqEgqID",
        "outputId": "7d4783e7-16e4-4f1d-8274-2eb0a893d313",
        "colab": {
          "base_uri": "https://localhost:8080/"
        }
      },
      "execution_count": null,
      "outputs": [
        {
          "output_type": "execute_result",
          "data": {
            "text/plain": [
              "<tf.Tensor: shape=(2,), dtype=int32, numpy=array([3, 4], dtype=int32)>"
            ]
          },
          "metadata": {},
          "execution_count": 7
        }
      ]
    },
    {
      "cell_type": "code",
      "source": [
        "# check vector dimension\n",
        "vector.ndim"
      ],
      "metadata": {
        "id": "swLIIs4og_-k",
        "outputId": "286023d8-0f63-4feb-827b-e05a857b3aa7",
        "colab": {
          "base_uri": "https://localhost:8080/"
        }
      },
      "execution_count": null,
      "outputs": [
        {
          "output_type": "execute_result",
          "data": {
            "text/plain": [
              "1"
            ]
          },
          "metadata": {},
          "execution_count": 8
        }
      ]
    },
    {
      "cell_type": "code",
      "source": [
        "# matrix (more than 1 dimension)\n",
        "matrix = tf.constant([[10,7],\n",
        "                      [7,10]])\n",
        "matrix"
      ],
      "metadata": {
        "id": "ij8egxnrhNJo",
        "outputId": "b0b6e742-d247-4e9d-c368-5262533e20fe",
        "colab": {
          "base_uri": "https://localhost:8080/"
        }
      },
      "execution_count": null,
      "outputs": [
        {
          "output_type": "execute_result",
          "data": {
            "text/plain": [
              "<tf.Tensor: shape=(2, 2), dtype=int32, numpy=\n",
              "array([[10,  7],\n",
              "       [ 7, 10]], dtype=int32)>"
            ]
          },
          "metadata": {},
          "execution_count": 10
        }
      ]
    },
    {
      "cell_type": "code",
      "source": [
        "matrix.ndim"
      ],
      "metadata": {
        "id": "fmHk130Bhe5c",
        "outputId": "187eac06-897a-4441-a766-06fd6d2fbc22",
        "colab": {
          "base_uri": "https://localhost:8080/"
        }
      },
      "execution_count": null,
      "outputs": [
        {
          "output_type": "execute_result",
          "data": {
            "text/plain": [
              "2"
            ]
          },
          "metadata": {},
          "execution_count": 12
        }
      ]
    },
    {
      "cell_type": "markdown",
      "source": [
        "It seems the dimension of the tensors is related to the number of elements in the `shape` property of the tensor."
      ],
      "metadata": {
        "id": "qGXmyIK7hq22"
      }
    },
    {
      "cell_type": "code",
      "source": [
        "# Create another matrix and specify data tyoe\n",
        "another_matrix = tf.constant([[10.,7.],\n",
        "                              [8., 9.],\n",
        "                              [3., 4.]], dtype=tf.float16)\n",
        "another_matrix"
      ],
      "metadata": {
        "id": "Aw2TkfKSh9iB"
      },
      "execution_count": null,
      "outputs": []
    },
    {
      "cell_type": "code",
      "source": [
        "another_matrix.ndim"
      ],
      "metadata": {
        "id": "JsV-H1DQiZ6D",
        "outputId": "769280ae-fa23-4930-e736-a8694681aeb1",
        "colab": {
          "base_uri": "https://localhost:8080/"
        }
      },
      "execution_count": null,
      "outputs": [
        {
          "output_type": "execute_result",
          "data": {
            "text/plain": [
              "2"
            ]
          },
          "metadata": {},
          "execution_count": 17
        }
      ]
    },
    {
      "cell_type": "markdown",
      "source": [
        "The shape seems to have the format (rows, columns, ...);"
      ],
      "metadata": {
        "id": "PuJrayBDiy5s"
      }
    },
    {
      "cell_type": "code",
      "source": [
        "# note: all of the above were tensors too as e.g. a matrix is a subtype of a tensor\n",
        "tensor = tf.constant([\n",
        "    [[1,2,3], [4,5,6]], \n",
        "    [[7,8,9], [10,11,12]],\n",
        "    [[13,14,15], [16,17,18]]\n",
        "])\n",
        "tensor"
      ],
      "metadata": {
        "id": "3gvanxm9kQXm",
        "outputId": "8a90e638-397f-408c-944d-6c3f784b66d2",
        "colab": {
          "base_uri": "https://localhost:8080/"
        }
      },
      "execution_count": null,
      "outputs": [
        {
          "output_type": "execute_result",
          "data": {
            "text/plain": [
              "<tf.Tensor: shape=(3, 2, 3), dtype=int32, numpy=\n",
              "array([[[ 1,  2,  3],\n",
              "        [ 4,  5,  6]],\n",
              "\n",
              "       [[ 7,  8,  9],\n",
              "        [10, 11, 12]],\n",
              "\n",
              "       [[13, 14, 15],\n",
              "        [16, 17, 18]]], dtype=int32)>"
            ]
          },
          "metadata": {},
          "execution_count": 22
        }
      ]
    },
    {
      "cell_type": "code",
      "source": [
        "tensor.ndim"
      ],
      "metadata": {
        "id": "nVHqR0nYlDyM",
        "outputId": "b1b5acb7-527d-4391-8547-ea845cbf96f7",
        "colab": {
          "base_uri": "https://localhost:8080/"
        }
      },
      "execution_count": null,
      "outputs": [
        {
          "output_type": "execute_result",
          "data": {
            "text/plain": [
              "3"
            ]
          },
          "metadata": {},
          "execution_count": 23
        }
      ]
    },
    {
      "cell_type": "markdown",
      "source": [
        "### What we learned:\n",
        "\n",
        "- scalar: a single number\n",
        "- vector: a number with direction, e.g. wind speed and direction\n",
        "- matrix: 2-dimensional array of numbers\n",
        "- tensor: n-dimensional array of numbers (n = any number; a 0-dimensional tensor is a scalar, a 1-dimensional tensor is a vector)\n"
      ],
      "metadata": {
        "id": "GjxIPvQulcgg"
      }
    },
    {
      "cell_type": "markdown",
      "source": [
        "### Creating tensors with tf.Variable and tf.constant\n",
        "\n",
        ">A variable maintains shared, persistent state manipulated by a program.\n",
        "\n",
        "https://www.tensorflow.org/api_docs/python/tf/Variable\n"
      ],
      "metadata": {
        "id": "41jAKofm2Kg8"
      }
    },
    {
      "cell_type": "code",
      "source": [
        "v = tf.Variable(1.)\n",
        "v"
      ],
      "metadata": {
        "id": "AMyy4O_52ban",
        "outputId": "16dc3df5-5db6-4a16-c1f1-dae4863cb434",
        "colab": {
          "base_uri": "https://localhost:8080/"
        }
      },
      "execution_count": 25,
      "outputs": [
        {
          "output_type": "execute_result",
          "data": {
            "text/plain": [
              "<tf.Variable 'Variable:0' shape=() dtype=float32, numpy=1.0>"
            ]
          },
          "metadata": {},
          "execution_count": 25
        }
      ]
    },
    {
      "cell_type": "code",
      "source": [
        "# does not work, shape mismatch\n",
        "# v.assign([1,2])\n",
        "v.assign(5.) # works\n",
        "v"
      ],
      "metadata": {
        "id": "OA45NL8O2w81",
        "outputId": "4245c639-b51b-49a6-d646-0e974a1d6dee",
        "colab": {
          "base_uri": "https://localhost:8080/"
        }
      },
      "execution_count": 27,
      "outputs": [
        {
          "output_type": "execute_result",
          "data": {
            "text/plain": [
              "<tf.Variable 'Variable:0' shape=() dtype=float32, numpy=5.0>"
            ]
          },
          "metadata": {},
          "execution_count": 27
        }
      ]
    },
    {
      "cell_type": "code",
      "source": [
        "changeable_tensor = tf.Variable([10,7])\n",
        "unchangeable_tensor = tf.constant([4,5])\n",
        "changeable_tensor, unchangeable_tensor"
      ],
      "metadata": {
        "id": "hAiL4Qvk27Yt",
        "outputId": "6fa8e183-c8ab-4a3f-ac8e-9a22bb8ddc11",
        "colab": {
          "base_uri": "https://localhost:8080/"
        }
      },
      "execution_count": 29,
      "outputs": [
        {
          "output_type": "execute_result",
          "data": {
            "text/plain": [
              "(<tf.Variable 'Variable:0' shape=(2,) dtype=int32, numpy=array([10,  7], dtype=int32)>,\n",
              " <tf.Tensor: shape=(2,), dtype=int32, numpy=array([4, 5], dtype=int32)>)"
            ]
          },
          "metadata": {},
          "execution_count": 29
        }
      ]
    },
    {
      "cell_type": "code",
      "source": [
        "changeable_tensor[0]"
      ],
      "metadata": {
        "id": "Et3F3NHp3c8E",
        "outputId": "a2be938f-8867-4f62-f7c1-9f3c17b9d36f",
        "colab": {
          "base_uri": "https://localhost:8080/"
        }
      },
      "execution_count": 30,
      "outputs": [
        {
          "output_type": "execute_result",
          "data": {
            "text/plain": [
              "<tf.Tensor: shape=(), dtype=int32, numpy=10>"
            ]
          },
          "metadata": {},
          "execution_count": 30
        }
      ]
    },
    {
      "cell_type": "code",
      "source": [
        "# changeable_tensor.assign([1,2,3]) # shape mismatch\n",
        "# unchangeable_tensor.assign([1,2]) # obviousle doesn't even have an assign method\n",
        "changeable_tensor.assign([1,2]) # works fine"
      ],
      "metadata": {
        "id": "OmvTMglI3jUi",
        "outputId": "19fec8bf-ea28-4bab-d51d-7f91ca8c4310",
        "colab": {
          "base_uri": "https://localhost:8080/"
        }
      },
      "execution_count": 34,
      "outputs": [
        {
          "output_type": "execute_result",
          "data": {
            "text/plain": [
              "<tf.Variable 'UnreadVariable' shape=(2,) dtype=int32, numpy=array([1, 2], dtype=int32)>"
            ]
          },
          "metadata": {},
          "execution_count": 34
        }
      ]
    },
    {
      "cell_type": "code",
      "source": [
        "# We can also assign single elements\n",
        "changeable_tensor[0].assign(10)"
      ],
      "metadata": {
        "id": "zEqBtMPy31Hn",
        "outputId": "79f3a117-a3e4-468a-8d3e-d47a83236078",
        "colab": {
          "base_uri": "https://localhost:8080/"
        }
      },
      "execution_count": 35,
      "outputs": [
        {
          "output_type": "execute_result",
          "data": {
            "text/plain": [
              "<tf.Variable 'UnreadVariable' shape=(2,) dtype=int32, numpy=array([10,  2], dtype=int32)>"
            ]
          },
          "metadata": {},
          "execution_count": 35
        }
      ]
    },
    {
      "cell_type": "markdown",
      "source": [
        "### Creating random tensors with tf.Variable()\n"
      ],
      "metadata": {
        "id": "91l5bMn24xNh"
      }
    }
  ]
}