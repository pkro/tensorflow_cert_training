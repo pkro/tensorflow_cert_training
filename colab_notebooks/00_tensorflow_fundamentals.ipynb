{
  "nbformat": 4,
  "nbformat_minor": 0,
  "metadata": {
    "colab": {
      "provenance": [],
      "include_colab_link": true
    },
    "kernelspec": {
      "name": "python3",
      "display_name": "Python 3"
    },
    "language_info": {
      "name": "python"
    }
  },
  "cells": [
    {
      "cell_type": "markdown",
      "metadata": {
        "id": "view-in-github",
        "colab_type": "text"
      },
      "source": [
        "<a href=\"https://colab.research.google.com/github/pkro/tensorflow_cert_training/blob/main/colab_notebooks/00_tensorflow_fundamentals.ipynb\" target=\"_parent\"><img src=\"https://colab.research.google.com/assets/colab-badge.svg\" alt=\"Open In Colab\"/></a>"
      ]
    },
    {
      "cell_type": "markdown",
      "source": [
        "# tensor fundamentals using tensorflow\n",
        "\n",
        "- Introduction to tensors\n",
        "- getting information from tensor\n",
        "- manipulating tensors\n",
        "- tensors and NumPy\n",
        "- Using tf.function (speed up regular python functions)\n",
        "- using gpus / tpus with TensorFlow\n",
        "- Exercises\n"
      ],
      "metadata": {
        "id": "rfW-Q_3gB9is"
      }
    },
    {
      "cell_type": "markdown",
      "source": [
        "Introduction to tensors\n"
      ],
      "metadata": {
        "id": "LydiSCRtdXiz"
      }
    },
    {
      "cell_type": "code",
      "source": [
        "import tensorflow as tf\n",
        "\n",
        "print(tf.__version__)"
      ],
      "metadata": {
        "id": "uyKLNs_BeZTQ",
        "outputId": "0bbfe62e-37a4-4c56-fc2d-020523e2065b",
        "colab": {
          "base_uri": "https://localhost:8080/"
        }
      },
      "execution_count": 1,
      "outputs": [
        {
          "output_type": "stream",
          "name": "stdout",
          "text": [
            "2.9.2\n"
          ]
        }
      ]
    },
    {
      "cell_type": "code",
      "execution_count": 2,
      "outputs": [
        {
          "output_type": "stream",
          "name": "stdout",
          "text": [
            "[]\n",
            "[name: \"/device:CPU:0\"\n",
            "device_type: \"CPU\"\n",
            "memory_limit: 268435456\n",
            "locality {\n",
            "}\n",
            "incarnation: 16700796691180663644\n",
            "xla_global_id: -1\n",
            "]\n"
          ]
        }
      ],
      "source": [
        "print(tf.config.list_physical_devices('GPU'))\n",
        "from tensorflow.python.client import device_lib\n",
        "print(device_lib.list_local_devices())"
      ],
      "metadata": {
        "id": "8f9oxvcHM9Q6",
        "outputId": "22fd9a40-f1ad-4b8c-a808-d3e9172ea462",
        "colab": {
          "base_uri": "https://localhost:8080/"
        }
      }
    },
    {
      "cell_type": "code",
      "source": [
        "# Create tensors with tf.constant()\n",
        "scalar = tf.constant(7)\n",
        "scalar"
      ],
      "metadata": {
        "id": "hCbd8xyteuEm",
        "outputId": "4d89f303-bb81-4a52-eab3-c1c5184d7eb9",
        "colab": {
          "base_uri": "https://localhost:8080/"
        }
      },
      "execution_count": 3,
      "outputs": [
        {
          "output_type": "execute_result",
          "data": {
            "text/plain": [
              "<tf.Tensor: shape=(), dtype=int32, numpy=7>"
            ]
          },
          "metadata": {},
          "execution_count": 3
        }
      ]
    },
    {
      "cell_type": "code",
      "source": [
        "#Check number of dimentsions of a tensor (ndim = Number of DIMensions)\n",
        "scalar.ndim"
      ],
      "metadata": {
        "id": "kLO-PDiXfa43",
        "outputId": "12cf8e4d-a9ae-4335-abb3-abc3999451a0",
        "colab": {
          "base_uri": "https://localhost:8080/"
        }
      },
      "execution_count": 4,
      "outputs": [
        {
          "output_type": "execute_result",
          "data": {
            "text/plain": [
              "0"
            ]
          },
          "metadata": {},
          "execution_count": 4
        }
      ]
    },
    {
      "cell_type": "code",
      "source": [
        "# create a vector\n",
        "vector = tf.constant([3,4])\n",
        "vector"
      ],
      "metadata": {
        "id": "8S-FoRqEgqID",
        "outputId": "59c99eb4-d36d-4f79-9254-44ecf778912c",
        "colab": {
          "base_uri": "https://localhost:8080/"
        }
      },
      "execution_count": 5,
      "outputs": [
        {
          "output_type": "execute_result",
          "data": {
            "text/plain": [
              "<tf.Tensor: shape=(2,), dtype=int32, numpy=array([3, 4], dtype=int32)>"
            ]
          },
          "metadata": {},
          "execution_count": 5
        }
      ]
    },
    {
      "cell_type": "code",
      "source": [
        "# check vector dimension\n",
        "vector.ndim"
      ],
      "metadata": {
        "id": "swLIIs4og_-k",
        "outputId": "dcb36820-283c-4c3f-8165-b71d44525daf",
        "colab": {
          "base_uri": "https://localhost:8080/"
        }
      },
      "execution_count": 6,
      "outputs": [
        {
          "output_type": "execute_result",
          "data": {
            "text/plain": [
              "1"
            ]
          },
          "metadata": {},
          "execution_count": 6
        }
      ]
    },
    {
      "cell_type": "code",
      "source": [
        "# matrix (more than 1 dimension)\n",
        "matrix = tf.constant([[10,7],\n",
        "                      [7,10]])\n",
        "matrix"
      ],
      "metadata": {
        "id": "ij8egxnrhNJo",
        "outputId": "315e2c20-0115-46d4-fe39-2ff4b87e0583",
        "colab": {
          "base_uri": "https://localhost:8080/"
        }
      },
      "execution_count": 7,
      "outputs": [
        {
          "output_type": "execute_result",
          "data": {
            "text/plain": [
              "<tf.Tensor: shape=(2, 2), dtype=int32, numpy=\n",
              "array([[10,  7],\n",
              "       [ 7, 10]], dtype=int32)>"
            ]
          },
          "metadata": {},
          "execution_count": 7
        }
      ]
    },
    {
      "cell_type": "code",
      "source": [
        "matrix.ndim"
      ],
      "metadata": {
        "id": "fmHk130Bhe5c",
        "outputId": "1e16a272-c9d2-41d5-df52-53b0221272b1",
        "colab": {
          "base_uri": "https://localhost:8080/"
        }
      },
      "execution_count": 8,
      "outputs": [
        {
          "output_type": "execute_result",
          "data": {
            "text/plain": [
              "2"
            ]
          },
          "metadata": {},
          "execution_count": 8
        }
      ]
    },
    {
      "cell_type": "markdown",
      "source": [
        "It seems the dimension of the tensors is related to the number of elements in the `shape` property of the tensor."
      ],
      "metadata": {
        "id": "qGXmyIK7hq22"
      }
    },
    {
      "cell_type": "code",
      "source": [
        "# Create another matrix and specify data tyoe\n",
        "another_matrix = tf.constant([[10.,7.],\n",
        "                              [8., 9.],\n",
        "                              [3., 4.]], dtype=tf.float16)\n",
        "another_matrix"
      ],
      "metadata": {
        "id": "Aw2TkfKSh9iB",
        "outputId": "7d1cdb61-feb3-41c7-9a83-ad424cd4491a",
        "colab": {
          "base_uri": "https://localhost:8080/"
        }
      },
      "execution_count": 9,
      "outputs": [
        {
          "output_type": "execute_result",
          "data": {
            "text/plain": [
              "<tf.Tensor: shape=(3, 2), dtype=float16, numpy=\n",
              "array([[10.,  7.],\n",
              "       [ 8.,  9.],\n",
              "       [ 3.,  4.]], dtype=float16)>"
            ]
          },
          "metadata": {},
          "execution_count": 9
        }
      ]
    },
    {
      "cell_type": "code",
      "source": [
        "another_matrix.ndim"
      ],
      "metadata": {
        "id": "JsV-H1DQiZ6D",
        "outputId": "a2e78a00-fa34-4383-9fcf-7bc6f6b2a78b",
        "colab": {
          "base_uri": "https://localhost:8080/"
        }
      },
      "execution_count": 10,
      "outputs": [
        {
          "output_type": "execute_result",
          "data": {
            "text/plain": [
              "2"
            ]
          },
          "metadata": {},
          "execution_count": 10
        }
      ]
    },
    {
      "cell_type": "markdown",
      "source": [
        "The shape seems to have the format (rows, columns, ...);"
      ],
      "metadata": {
        "id": "PuJrayBDiy5s"
      }
    },
    {
      "cell_type": "code",
      "source": [
        "# note: all of the above were tensors too as e.g. a matrix is a subtype of a tensor\n",
        "tensor = tf.constant([\n",
        "    [[1,2,3], [4,5,6]],\n",
        "    [[7,8,9], [10,11,12]],\n",
        "    [[13,14,15], [16,17,18]]\n",
        "])\n",
        "tensor"
      ],
      "metadata": {
        "id": "3gvanxm9kQXm",
        "outputId": "d98aefe0-3147-46e9-cadc-512be783fc4a",
        "colab": {
          "base_uri": "https://localhost:8080/"
        }
      },
      "execution_count": 11,
      "outputs": [
        {
          "output_type": "execute_result",
          "data": {
            "text/plain": [
              "<tf.Tensor: shape=(3, 2, 3), dtype=int32, numpy=\n",
              "array([[[ 1,  2,  3],\n",
              "        [ 4,  5,  6]],\n",
              "\n",
              "       [[ 7,  8,  9],\n",
              "        [10, 11, 12]],\n",
              "\n",
              "       [[13, 14, 15],\n",
              "        [16, 17, 18]]], dtype=int32)>"
            ]
          },
          "metadata": {},
          "execution_count": 11
        }
      ]
    },
    {
      "cell_type": "code",
      "source": [
        "tensor.ndim"
      ],
      "metadata": {
        "id": "nVHqR0nYlDyM",
        "outputId": "3f7a4468-70df-4f76-85c9-5bf5252200cf",
        "colab": {
          "base_uri": "https://localhost:8080/"
        }
      },
      "execution_count": 12,
      "outputs": [
        {
          "output_type": "execute_result",
          "data": {
            "text/plain": [
              "3"
            ]
          },
          "metadata": {},
          "execution_count": 12
        }
      ]
    },
    {
      "cell_type": "markdown",
      "source": [
        "### What we learned:\n",
        "\n",
        "- scalar: a single number\n",
        "- vector: a number with direction, e.g. wind speed and direction\n",
        "- matrix: 2-dimensional array of numbers\n",
        "- tensor: n-dimensional array of numbers (n = any number; a 0-dimensional tensor is a scalar, a 1-dimensional tensor is a vector)\n"
      ],
      "metadata": {
        "id": "GjxIPvQulcgg"
      }
    },
    {
      "cell_type": "markdown",
      "source": [
        "### Creating tensors with tf.Variable and tf.constant\n",
        "\n",
        ">A variable maintains shared, persistent state manipulated by a program.\n",
        "\n",
        "https://www.tensorflow.org/api_docs/python/tf/Variable\n",
        "\n",
        "When in doubt, use constant and change later if needed.\n",
        "\n",
        "In practice, creating variables / constants is taking care of by tf.\n",
        "\n",
        "*tensors created with tf.Variable don't seem to have an ndim property?*\n"
      ],
      "metadata": {
        "id": "41jAKofm2Kg8"
      }
    },
    {
      "cell_type": "code",
      "source": [
        "v = tf.Variable(1.)\n",
        "v"
      ],
      "metadata": {
        "id": "AMyy4O_52ban",
        "outputId": "1920a76c-6857-415f-d526-de7bae6dbd54",
        "colab": {
          "base_uri": "https://localhost:8080/"
        }
      },
      "execution_count": 13,
      "outputs": [
        {
          "output_type": "execute_result",
          "data": {
            "text/plain": [
              "<tf.Variable 'Variable:0' shape=() dtype=float32, numpy=1.0>"
            ]
          },
          "metadata": {},
          "execution_count": 13
        }
      ]
    },
    {
      "cell_type": "code",
      "source": [
        "# does not work, shape mismatch\n",
        "# v.assign([1,2])\n",
        "v.assign(5.) # works\n",
        "v"
      ],
      "metadata": {
        "id": "OA45NL8O2w81",
        "outputId": "efb5d494-ab45-49e1-9649-29975ed90b11",
        "colab": {
          "base_uri": "https://localhost:8080/"
        }
      },
      "execution_count": 14,
      "outputs": [
        {
          "output_type": "execute_result",
          "data": {
            "text/plain": [
              "<tf.Variable 'Variable:0' shape=() dtype=float32, numpy=5.0>"
            ]
          },
          "metadata": {},
          "execution_count": 14
        }
      ]
    },
    {
      "cell_type": "code",
      "source": [
        "changeable_tensor = tf.Variable([10,7])\n",
        "unchangeable_tensor = tf.constant([4,5])\n",
        "changeable_tensor, unchangeable_tensor"
      ],
      "metadata": {
        "id": "hAiL4Qvk27Yt",
        "outputId": "74db042f-ce4c-4afd-e2b5-bf1e9b7b8e22",
        "colab": {
          "base_uri": "https://localhost:8080/"
        }
      },
      "execution_count": 15,
      "outputs": [
        {
          "output_type": "execute_result",
          "data": {
            "text/plain": [
              "(<tf.Variable 'Variable:0' shape=(2,) dtype=int32, numpy=array([10,  7], dtype=int32)>,\n",
              " <tf.Tensor: shape=(2,), dtype=int32, numpy=array([4, 5], dtype=int32)>)"
            ]
          },
          "metadata": {},
          "execution_count": 15
        }
      ]
    },
    {
      "cell_type": "code",
      "source": [
        "changeable_tensor[0]"
      ],
      "metadata": {
        "id": "Et3F3NHp3c8E",
        "outputId": "875e0dd2-8187-4988-e3f7-8c1163d5cde3",
        "colab": {
          "base_uri": "https://localhost:8080/"
        }
      },
      "execution_count": 16,
      "outputs": [
        {
          "output_type": "execute_result",
          "data": {
            "text/plain": [
              "<tf.Tensor: shape=(), dtype=int32, numpy=10>"
            ]
          },
          "metadata": {},
          "execution_count": 16
        }
      ]
    },
    {
      "cell_type": "code",
      "source": [
        "# changeable_tensor.assign([1,2,3]) # shape mismatch\n",
        "# unchangeable_tensor.assign([1,2]) # obviousle doesn't even have an assign method\n",
        "changeable_tensor.assign([1,2]) # works fine"
      ],
      "metadata": {
        "id": "OmvTMglI3jUi",
        "outputId": "c8fb91b7-209d-4446-de95-1ffcf9284cc9",
        "colab": {
          "base_uri": "https://localhost:8080/"
        }
      },
      "execution_count": 17,
      "outputs": [
        {
          "output_type": "execute_result",
          "data": {
            "text/plain": [
              "<tf.Variable 'UnreadVariable' shape=(2,) dtype=int32, numpy=array([1, 2], dtype=int32)>"
            ]
          },
          "metadata": {},
          "execution_count": 17
        }
      ]
    },
    {
      "cell_type": "code",
      "source": [
        "# We can also assign single elements\n",
        "changeable_tensor[0].assign(10)"
      ],
      "metadata": {
        "id": "zEqBtMPy31Hn",
        "outputId": "4cdcb159-a708-41b7-ff5e-080ca587daf5",
        "colab": {
          "base_uri": "https://localhost:8080/"
        }
      },
      "execution_count": 18,
      "outputs": [
        {
          "output_type": "execute_result",
          "data": {
            "text/plain": [
              "<tf.Variable 'UnreadVariable' shape=(2,) dtype=int32, numpy=array([10,  2], dtype=int32)>"
            ]
          },
          "metadata": {},
          "execution_count": 18
        }
      ]
    },
    {
      "cell_type": "markdown",
      "source": [
        "### Creating random tensors with tf.Variable()\n",
        "\n",
        "Random tensors are tensors of arbitrary size containing random numbers.\n",
        "\n",
        "They are used to initialize the middle layer of the neural network (=representation = patterns = features = weights) and then tweak them by learning.\n",
        "\n",
        "![random initialization](https://github.com/pkro/tensorflow_cert_training/blob/main/readme_images/random_init.png?raw=1)\n",
        "\n",
        "Representation outputs are also referred to as prediction probabilities (the higher the number, the higher the probability.\n",
        "\n",
        "Example from picture:\n",
        "\n",
        "first column is Ramen, second column is Spagghetti, third is none. Rows are each of the inputs / pictures (from what i understand).\n",
        "\n"
      ],
      "metadata": {
        "id": "91l5bMn24xNh"
      }
    },
    {
      "cell_type": "code",
      "source": [
        "# create 2 random (but same) tensors\n",
        "random_1 = tf.random.Generator.from_seed(42); # set seed for reproducibility\n",
        "random_1 = random_1.normal(shape=(3,2)) # Outputs random values from a normal distribution.\n",
        "random_1"
      ],
      "metadata": {
        "id": "q7mtsJC8mRa4",
        "outputId": "c17053f7-4ca9-4a4c-a734-570cc78333cb",
        "colab": {
          "base_uri": "https://localhost:8080/"
        }
      },
      "execution_count": 19,
      "outputs": [
        {
          "output_type": "execute_result",
          "data": {
            "text/plain": [
              "<tf.Tensor: shape=(3, 2), dtype=float32, numpy=\n",
              "array([[-0.7565803 , -0.06854702],\n",
              "       [ 0.07595026, -1.2573844 ],\n",
              "       [-0.23193763, -1.8107855 ]], dtype=float32)>"
            ]
          },
          "metadata": {},
          "execution_count": 19
        }
      ]
    },
    {
      "cell_type": "markdown",
      "source": [
        ">A normal distribution is a type of continuous probability distribution in which most data points cluster toward the middle of the range, while the rest taper off symmetrically toward either extreme. The middle of the range is also known as the mean of the distribution.\n",
        "[source](https://www.techtarget.com/whatis/definition/normal-distribution)\n",
        "\n",
        "Basically a bell curve."
      ],
      "metadata": {
        "id": "rQsRJDc2pa9G"
      }
    },
    {
      "cell_type": "code",
      "source": [
        "random_2 = tf.random.Generator.from_seed(42)\n",
        "random_2 = random_2.normal(shape=(3,2))\n",
        "random_1, random_2, random_1 == random_2 # same seed, same values"
      ],
      "metadata": {
        "id": "bbLrSF5Sps8k",
        "outputId": "39103274-cade-41c1-a5e3-877f68ed533d",
        "colab": {
          "base_uri": "https://localhost:8080/"
        }
      },
      "execution_count": 20,
      "outputs": [
        {
          "output_type": "execute_result",
          "data": {
            "text/plain": [
              "(<tf.Tensor: shape=(3, 2), dtype=float32, numpy=\n",
              " array([[-0.7565803 , -0.06854702],\n",
              "        [ 0.07595026, -1.2573844 ],\n",
              "        [-0.23193763, -1.8107855 ]], dtype=float32)>,\n",
              " <tf.Tensor: shape=(3, 2), dtype=float32, numpy=\n",
              " array([[-0.7565803 , -0.06854702],\n",
              "        [ 0.07595026, -1.2573844 ],\n",
              "        [-0.23193763, -1.8107855 ]], dtype=float32)>,\n",
              " <tf.Tensor: shape=(3, 2), dtype=bool, numpy=\n",
              " array([[ True,  True],\n",
              "        [ True,  True],\n",
              "        [ True,  True]])>)"
            ]
          },
          "metadata": {},
          "execution_count": 20
        }
      ]
    },
    {
      "cell_type": "markdown",
      "source": [
        "### Shuffle the order of elements in a tensor\n",
        "\n",
        "Example use: if a NN has a list of 15000 images, the first 10.000 of Spagghetti and the last 5000 of Ramen, it might optimize too much on the Spagghetti recognition before reaching the Ramen images. It would be better to mix the input (images) so it learns both at the same time."
      ],
      "metadata": {
        "id": "rt333WCGqjCw"
      }
    },
    {
      "cell_type": "code",
      "source": [
        "# shuffle a tensor (valuable to shuffle data so the inherent order doesn't affect learning)\n",
        "not_shuffled = tf.constant([[10,7],\n",
        "                            [3,5],\n",
        "                            [1,9]])\n",
        "not_shuffled.ndim #2\n",
        "not_shuffled\n"
      ],
      "metadata": {
        "id": "z-n3bImVrf4T",
        "outputId": "6b82ed99-c500-48ed-e6c4-ae65ccbf7eab",
        "colab": {
          "base_uri": "https://localhost:8080/"
        }
      },
      "execution_count": 21,
      "outputs": [
        {
          "output_type": "execute_result",
          "data": {
            "text/plain": [
              "<tf.Tensor: shape=(3, 2), dtype=int32, numpy=\n",
              "array([[10,  7],\n",
              "       [ 3,  5],\n",
              "       [ 1,  9]], dtype=int32)>"
            ]
          },
          "metadata": {},
          "execution_count": 21
        }
      ]
    },
    {
      "cell_type": "code",
      "source": [
        "# shuffles only the first dimension (\"rows\"), content of sub-arrays stays the same!\n",
        "\n",
        "shuffled = tf.random.shuffle(not_shuffled)\n",
        "shuffled.ndim # also 2 of course\n",
        "print(\"random, without seed:\", shuffled)\n",
        "\n",
        "# can take a seed\n",
        "shuffled = tf.random.shuffle(not_shuffled, 42)\n",
        "shuffled.ndim # also 2 of course\n",
        "print(\"STILL random even with seed:\", shuffled)"
      ],
      "metadata": {
        "id": "lTDklxBNsKbI",
        "outputId": "7a2ea9bc-10c3-49ac-9bc0-74f9a934d742",
        "colab": {
          "base_uri": "https://localhost:8080/"
        }
      },
      "execution_count": 22,
      "outputs": [
        {
          "output_type": "stream",
          "name": "stdout",
          "text": [
            "random, without seed: tf.Tensor(\n",
            "[[ 3  5]\n",
            " [10  7]\n",
            " [ 1  9]], shape=(3, 2), dtype=int32)\n",
            "STILL random even with seed: tf.Tensor(\n",
            "[[ 1  9]\n",
            " [ 3  5]\n",
            " [10  7]], shape=(3, 2), dtype=int32)\n"
          ]
        }
      ]
    },
    {
      "cell_type": "markdown",
      "source": [
        ">\"Operations that rely on a random seed actually derive it from two seeds: the global and operation-level seeds. This sets the global seed.\"\n",
        "\n",
        "[more on the rules of how these seeds are used](https://www.tensorflow.org/api_docs/python/tf/random/set_seed)"
      ],
      "metadata": {
        "id": "Wij3kxjBuLf7"
      }
    },
    {
      "cell_type": "code",
      "source": [
        "tf.random.set_seed(99) # global seed\n",
        "shuffled = tf.random.shuffle(not_shuffled, seed=42) # operation level seed\n",
        "shuffled # stays in the same (random) order"
      ],
      "metadata": {
        "id": "pkhKjUUBunng",
        "outputId": "032073cc-22fc-4806-d1e2-9a87ca4f8664",
        "colab": {
          "base_uri": "https://localhost:8080/"
        }
      },
      "execution_count": 23,
      "outputs": [
        {
          "output_type": "execute_result",
          "data": {
            "text/plain": [
              "<tf.Tensor: shape=(3, 2), dtype=int32, numpy=\n",
              "array([[10,  7],\n",
              "       [ 3,  5],\n",
              "       [ 1,  9]], dtype=int32)>"
            ]
          },
          "metadata": {},
          "execution_count": 23
        }
      ]
    },
    {
      "cell_type": "markdown",
      "source": [
        "For reproducibility of experiments, set both the global and operation level seed."
      ],
      "metadata": {
        "id": "b4RUvJYBwHiX"
      }
    },
    {
      "cell_type": "markdown",
      "source": [
        "### Other ways to make tensors"
      ],
      "metadata": {
        "id": "Q2GrinelvJuM"
      }
    },
    {
      "cell_type": "markdown",
      "source": [
        "### Creating tensors from NumPy arrays\n",
        "\n",
        "Note that tensorflow has many NumPy operations (such as `ones`) already built in."
      ],
      "metadata": {
        "id": "Pb9UEVELwioe"
      }
    },
    {
      "cell_type": "code",
      "source": [
        "# creates a tensor of a given shape where all elements are 1\n",
        "tf.ones(shape=(3,2), dtype=tf.int32)"
      ],
      "metadata": {
        "id": "3tIBGzgVw0Js",
        "outputId": "add03988-cb76-427b-98fa-c2298c3afcce",
        "colab": {
          "base_uri": "https://localhost:8080/"
        }
      },
      "execution_count": 24,
      "outputs": [
        {
          "output_type": "execute_result",
          "data": {
            "text/plain": [
              "<tf.Tensor: shape=(3, 2), dtype=int32, numpy=\n",
              "array([[1, 1],\n",
              "       [1, 1],\n",
              "       [1, 1]], dtype=int32)>"
            ]
          },
          "metadata": {},
          "execution_count": 24
        }
      ]
    },
    {
      "cell_type": "code",
      "source": [
        "# create a tensor of 0s\n",
        "tf.zeros(shape=(3,2), dtype=tf.int32)"
      ],
      "metadata": {
        "id": "K9Ao-_JJxPqL",
        "outputId": "7521434e-de9d-4612-e1d1-054c3de0a52a",
        "colab": {
          "base_uri": "https://localhost:8080/"
        }
      },
      "execution_count": 25,
      "outputs": [
        {
          "output_type": "execute_result",
          "data": {
            "text/plain": [
              "<tf.Tensor: shape=(3, 2), dtype=int32, numpy=\n",
              "array([[0, 0],\n",
              "       [0, 0],\n",
              "       [0, 0]], dtype=int32)>"
            ]
          },
          "metadata": {},
          "execution_count": 25
        }
      ]
    },
    {
      "cell_type": "code",
      "source": [
        "# create a tensor filled with an arbitrary value\n",
        "tf.fill([3,2], value=99) # note that shape is passed as an array instead of a tupple here"
      ],
      "metadata": {
        "id": "VMDySSkgxd74",
        "outputId": "62083c41-ca10-4e36-e044-d581ff0012c1",
        "colab": {
          "base_uri": "https://localhost:8080/"
        }
      },
      "execution_count": 26,
      "outputs": [
        {
          "output_type": "execute_result",
          "data": {
            "text/plain": [
              "<tf.Tensor: shape=(3, 2), dtype=int32, numpy=\n",
              "array([[99, 99],\n",
              "       [99, 99],\n",
              "       [99, 99]], dtype=int32)>"
            ]
          },
          "metadata": {},
          "execution_count": 26
        }
      ]
    },
    {
      "cell_type": "markdown",
      "source": [
        "### Turn a NumPy array into tensors\n",
        "\n",
        "Main difference between NumPy arrays and tf tensors: tensors can be run on a GPU, otherwise very similar\n"
      ],
      "metadata": {
        "id": "prjNVhtVx0_v"
      }
    },
    {
      "cell_type": "code",
      "source": [
        "import numpy as np\n",
        "\n",
        "numpy_a = np.arange(1, 25, dtype=np.int32)\n",
        "\n",
        "# Capitalization \"rules\":\n",
        "# A = tf.constant(some_matrix) # capital for matrix or tensor\n",
        "# a = tf.constant(vector) # lowercase for vector\n",
        "numpy_a #  numpy array"
      ],
      "metadata": {
        "id": "z0yolIsiyG61",
        "outputId": "18da8b5d-6750-4575-ca32-6a604835200d",
        "colab": {
          "base_uri": "https://localhost:8080/"
        }
      },
      "execution_count": 27,
      "outputs": [
        {
          "output_type": "execute_result",
          "data": {
            "text/plain": [
              "array([ 1,  2,  3,  4,  5,  6,  7,  8,  9, 10, 11, 12, 13, 14, 15, 16, 17,\n",
              "       18, 19, 20, 21, 22, 23, 24], dtype=int32)"
            ]
          },
          "metadata": {},
          "execution_count": 27
        }
      ]
    },
    {
      "cell_type": "code",
      "source": [
        "# convert to tf tensor\n",
        "tensor_a = tf.constant(numpy_a)\n",
        "tensor_a"
      ],
      "metadata": {
        "id": "knbXEEvjysSr",
        "outputId": "460f23fa-8aaa-4942-dde3-35ecdf60f369",
        "colab": {
          "base_uri": "https://localhost:8080/"
        }
      },
      "execution_count": 28,
      "outputs": [
        {
          "output_type": "execute_result",
          "data": {
            "text/plain": [
              "<tf.Tensor: shape=(24,), dtype=int32, numpy=\n",
              "array([ 1,  2,  3,  4,  5,  6,  7,  8,  9, 10, 11, 12, 13, 14, 15, 16, 17,\n",
              "       18, 19, 20, 21, 22, 23, 24], dtype=int32)>"
            ]
          },
          "metadata": {},
          "execution_count": 28
        }
      ]
    },
    {
      "cell_type": "code",
      "source": [
        "# Change shape from vector to matrix from a one-dimensional array\n",
        "# the number of elements in the source array must add up to the elements required\n",
        "# by the shape\n",
        "A = tf.constant(numpy_a, shape=(3,8))\n",
        "B = tf.constant(numpy_a)\n",
        "A, A.ndim, B, B.ndim"
      ],
      "metadata": {
        "id": "CjzS_W7rzg-A",
        "outputId": "6811762d-98a6-4ddd-d37c-605e43ae36ea",
        "colab": {
          "base_uri": "https://localhost:8080/"
        }
      },
      "execution_count": 29,
      "outputs": [
        {
          "output_type": "execute_result",
          "data": {
            "text/plain": [
              "(<tf.Tensor: shape=(3, 8), dtype=int32, numpy=\n",
              " array([[ 1,  2,  3,  4,  5,  6,  7,  8],\n",
              "        [ 9, 10, 11, 12, 13, 14, 15, 16],\n",
              "        [17, 18, 19, 20, 21, 22, 23, 24]], dtype=int32)>,\n",
              " 2,\n",
              " <tf.Tensor: shape=(24,), dtype=int32, numpy=\n",
              " array([ 1,  2,  3,  4,  5,  6,  7,  8,  9, 10, 11, 12, 13, 14, 15, 16, 17,\n",
              "        18, 19, 20, 21, 22, 23, 24], dtype=int32)>,\n",
              " 1)"
            ]
          },
          "metadata": {},
          "execution_count": 29
        }
      ]
    },
    {
      "cell_type": "markdown",
      "source": [
        "### Getting information from tensors\n",
        "\n",
        "When dealing with tensors you need to be aware of the following attributes:\n",
        "\n",
        "- Shape\n",
        "- Rank\n",
        "- Axis or dimension\n",
        "- Size\n",
        "\n",
        "![attributes](https://github.com/pkro/tensorflow_cert_training/blob/main/readme_images/tensor_attributes.png?raw=1)"
      ],
      "metadata": {
        "id": "5WC0E4JL0YNQ"
      }
    },
    {
      "cell_type": "code",
      "execution_count": 30,
      "outputs": [
        {
          "output_type": "execute_result",
          "data": {
            "text/plain": [
              "(<tf.Tensor: shape=(2, 3, 4, 5), dtype=float32, numpy=\n",
              " array([[[[0., 0., 0., 0., 0.],\n",
              "          [0., 0., 0., 0., 0.],\n",
              "          [0., 0., 0., 0., 0.],\n",
              "          [0., 0., 0., 0., 0.]],\n",
              " \n",
              "         [[0., 0., 0., 0., 0.],\n",
              "          [0., 0., 0., 0., 0.],\n",
              "          [0., 0., 0., 0., 0.],\n",
              "          [0., 0., 0., 0., 0.]],\n",
              " \n",
              "         [[0., 0., 0., 0., 0.],\n",
              "          [0., 0., 0., 0., 0.],\n",
              "          [0., 0., 0., 0., 0.],\n",
              "          [0., 0., 0., 0., 0.]]],\n",
              " \n",
              " \n",
              "        [[[0., 0., 0., 0., 0.],\n",
              "          [0., 0., 0., 0., 0.],\n",
              "          [0., 0., 0., 0., 0.],\n",
              "          [0., 0., 0., 0., 0.]],\n",
              " \n",
              "         [[0., 0., 0., 0., 0.],\n",
              "          [0., 0., 0., 0., 0.],\n",
              "          [0., 0., 0., 0., 0.],\n",
              "          [0., 0., 0., 0., 0.]],\n",
              " \n",
              "         [[0., 0., 0., 0., 0.],\n",
              "          [0., 0., 0., 0., 0.],\n",
              "          [0., 0., 0., 0., 0.],\n",
              "          [0., 0., 0., 0., 0.]]]], dtype=float32)>, 'rank: ', 4)"
            ]
          },
          "metadata": {},
          "execution_count": 30
        }
      ],
      "source": [
        "# create rank 4 tensor\n",
        "rank_4_tensor = tf.zeros([2,3,4,5]) # 2*3*4*5 \"4d matrix\"\n",
        "rank_4_tensor, \"rank: \", rank_4_tensor.ndim"
      ],
      "metadata": {
        "id": "rsgNbwBvM9RE",
        "outputId": "90ae5743-9015-4ef3-8b92-c3dcf4b9c340",
        "colab": {
          "base_uri": "https://localhost:8080/"
        }
      }
    },
    {
      "cell_type": "code",
      "source": [
        "print(rank_4_tensor[0], \"\\n\")\n",
        "print(rank_4_tensor[0][0], \"\\n\") \n",
        "print(rank_4_tensor[0][0][0], \"\\n\") \n",
        "print(rank_4_tensor[0][0][0][0], \"\\n\") "
      ],
      "metadata": {
        "id": "T6A-zJ80UnTr",
        "outputId": "2d857bf5-d8e5-498a-970e-cfddbb2e0dff",
        "colab": {
          "base_uri": "https://localhost:8080/"
        }
      },
      "execution_count": 31,
      "outputs": [
        {
          "output_type": "stream",
          "name": "stdout",
          "text": [
            "tf.Tensor(\n",
            "[[[0. 0. 0. 0. 0.]\n",
            "  [0. 0. 0. 0. 0.]\n",
            "  [0. 0. 0. 0. 0.]\n",
            "  [0. 0. 0. 0. 0.]]\n",
            "\n",
            " [[0. 0. 0. 0. 0.]\n",
            "  [0. 0. 0. 0. 0.]\n",
            "  [0. 0. 0. 0. 0.]\n",
            "  [0. 0. 0. 0. 0.]]\n",
            "\n",
            " [[0. 0. 0. 0. 0.]\n",
            "  [0. 0. 0. 0. 0.]\n",
            "  [0. 0. 0. 0. 0.]\n",
            "  [0. 0. 0. 0. 0.]]], shape=(3, 4, 5), dtype=float32) \n",
            "\n",
            "tf.Tensor(\n",
            "[[0. 0. 0. 0. 0.]\n",
            " [0. 0. 0. 0. 0.]\n",
            " [0. 0. 0. 0. 0.]\n",
            " [0. 0. 0. 0. 0.]], shape=(4, 5), dtype=float32) \n",
            "\n",
            "tf.Tensor([0. 0. 0. 0. 0.], shape=(5,), dtype=float32) \n",
            "\n",
            "tf.Tensor(0.0, shape=(), dtype=float32) \n",
            "\n"
          ]
        }
      ]
    },
    {
      "cell_type": "code",
      "source": [
        "rank_4_tensor.shape, rank_4_tensor.ndim, tf.size(rank_4_tensor)"
      ],
      "metadata": {
        "id": "3CcquJ-iVfAr",
        "outputId": "3870c426-31f5-4038-a6da-4faa8132cbc7",
        "colab": {
          "base_uri": "https://localhost:8080/"
        }
      },
      "execution_count": 32,
      "outputs": [
        {
          "output_type": "execute_result",
          "data": {
            "text/plain": [
              "(TensorShape([2, 3, 4, 5]), 4, <tf.Tensor: shape=(), dtype=int32, numpy=120>)"
            ]
          },
          "metadata": {},
          "execution_count": 32
        }
      ]
    },
    {
      "cell_type": "code",
      "source": [
        "# Get various attributes of our tensor\n",
        "def tensor_info(tensor):\n",
        "  print(\"Datatype of every element: \", tensor.dtype)\n",
        "  print(\"Number of dimensions (rank): \", tensor.ndim)\n",
        "  print(\"Shape: \", tensor.shape)\n",
        "  print(\"Elements along the 0 axis: \", tensor.shape[0])\n",
        "  print(\"Elements along the last axis: \", tensor.shape[-1])\n",
        "  print(\"Total number of elements: \", tf.size(tensor))\n",
        "  print(\"Total number of elements (plain): \", tf.size(tensor).numpy())\n",
        "\n",
        "tensor_info(rank_4_tensor)"
      ],
      "metadata": {
        "id": "XT8-ntmfV3dW",
        "outputId": "3a148ca1-038e-482b-c68b-d7c76b4d3819",
        "colab": {
          "base_uri": "https://localhost:8080/"
        }
      },
      "execution_count": 33,
      "outputs": [
        {
          "output_type": "stream",
          "name": "stdout",
          "text": [
            "Datatype of every element:  <dtype: 'float32'>\n",
            "Number of dimensions (rank):  4\n",
            "Shape:  (2, 3, 4, 5)\n",
            "Elements along the 0 axis:  2\n",
            "Elements along the last axis:  5\n",
            "Total number of elements:  tf.Tensor(120, shape=(), dtype=int32)\n",
            "Total number of elements (plain):  120\n"
          ]
        }
      ]
    },
    {
      "cell_type": "markdown",
      "source": [
        "### Indexing and expanding tensors\n",
        "\n",
        "Tensors can be indexed like python lists\n"
      ],
      "metadata": {
        "id": "mNkGm2JFAGrl"
      }
    },
    {
      "cell_type": "code",
      "source": [
        "# get first 2 elements of each tensor dimension\n",
        "rank_4_tensor[:2, :2, :2, :2]"
      ],
      "metadata": {
        "id": "2z6hDQ2kAZUV",
        "outputId": "d1b0ac91-1fee-473f-fdbe-ed5beb43a6cc",
        "colab": {
          "base_uri": "https://localhost:8080/"
        }
      },
      "execution_count": 34,
      "outputs": [
        {
          "output_type": "execute_result",
          "data": {
            "text/plain": [
              "<tf.Tensor: shape=(2, 2, 2, 2), dtype=float32, numpy=\n",
              "array([[[[0., 0.],\n",
              "         [0., 0.]],\n",
              "\n",
              "        [[0., 0.],\n",
              "         [0., 0.]]],\n",
              "\n",
              "\n",
              "       [[[0., 0.],\n",
              "         [0., 0.]],\n",
              "\n",
              "        [[0., 0.],\n",
              "         [0., 0.]]]], dtype=float32)>"
            ]
          },
          "metadata": {},
          "execution_count": 34
        }
      ]
    },
    {
      "cell_type": "code",
      "source": [
        "# Example: remove the first element of the innermost tensors\n",
        "rank_4_tensor[:, :, :, 1:]"
      ],
      "metadata": {
        "id": "an-9hv5aBWWk",
        "outputId": "bd353ffd-d60f-4956-cb2d-977e49a7506c",
        "colab": {
          "base_uri": "https://localhost:8080/"
        }
      },
      "execution_count": 35,
      "outputs": [
        {
          "output_type": "execute_result",
          "data": {
            "text/plain": [
              "<tf.Tensor: shape=(2, 3, 4, 4), dtype=float32, numpy=\n",
              "array([[[[0., 0., 0., 0.],\n",
              "         [0., 0., 0., 0.],\n",
              "         [0., 0., 0., 0.],\n",
              "         [0., 0., 0., 0.]],\n",
              "\n",
              "        [[0., 0., 0., 0.],\n",
              "         [0., 0., 0., 0.],\n",
              "         [0., 0., 0., 0.],\n",
              "         [0., 0., 0., 0.]],\n",
              "\n",
              "        [[0., 0., 0., 0.],\n",
              "         [0., 0., 0., 0.],\n",
              "         [0., 0., 0., 0.],\n",
              "         [0., 0., 0., 0.]]],\n",
              "\n",
              "\n",
              "       [[[0., 0., 0., 0.],\n",
              "         [0., 0., 0., 0.],\n",
              "         [0., 0., 0., 0.],\n",
              "         [0., 0., 0., 0.]],\n",
              "\n",
              "        [[0., 0., 0., 0.],\n",
              "         [0., 0., 0., 0.],\n",
              "         [0., 0., 0., 0.],\n",
              "         [0., 0., 0., 0.]],\n",
              "\n",
              "        [[0., 0., 0., 0.],\n",
              "         [0., 0., 0., 0.],\n",
              "         [0., 0., 0., 0.],\n",
              "         [0., 0., 0., 0.]]]], dtype=float32)>"
            ]
          },
          "metadata": {},
          "execution_count": 35
        }
      ]
    },
    {
      "cell_type": "code",
      "source": [
        "# get the first element from except from the final one\n",
        "rank_4_tensor[:1, :1, :1]"
      ],
      "metadata": {
        "id": "9cLH_bk6BobI",
        "outputId": "2ba7d6ab-4767-4917-de1c-306130d2adb4",
        "colab": {
          "base_uri": "https://localhost:8080/"
        }
      },
      "execution_count": 36,
      "outputs": [
        {
          "output_type": "execute_result",
          "data": {
            "text/plain": [
              "<tf.Tensor: shape=(1, 1, 1, 5), dtype=float32, numpy=array([[[[0., 0., 0., 0., 0.]]]], dtype=float32)>"
            ]
          },
          "metadata": {},
          "execution_count": 36
        }
      ]
    },
    {
      "cell_type": "code",
      "source": [
        "# Create a rank 2 tensor\n",
        "rank_2_tensor = tf.constant([[1,2], [3,4]])\n",
        "tensor_info(rank_2_tensor), \"\\n\", rank_2_tensor"
      ],
      "metadata": {
        "id": "UnB8p3kaCbDt",
        "outputId": "6dc514cd-dc2f-4b31-e530-737c628ba993",
        "colab": {
          "base_uri": "https://localhost:8080/"
        }
      },
      "execution_count": 37,
      "outputs": [
        {
          "output_type": "stream",
          "name": "stdout",
          "text": [
            "Datatype of every element:  <dtype: 'int32'>\n",
            "Number of dimensions (rank):  2\n",
            "Shape:  (2, 2)\n",
            "Elements along the 0 axis:  2\n",
            "Elements along the last axis:  2\n",
            "Total number of elements:  tf.Tensor(4, shape=(), dtype=int32)\n",
            "Total number of elements (plain):  4\n"
          ]
        },
        {
          "output_type": "execute_result",
          "data": {
            "text/plain": [
              "(None, '\\n', <tf.Tensor: shape=(2, 2), dtype=int32, numpy=\n",
              " array([[1, 2],\n",
              "        [3, 4]], dtype=int32)>)"
            ]
          },
          "metadata": {},
          "execution_count": 37
        }
      ]
    },
    {
      "cell_type": "code",
      "source": [
        "# Get last item of each row\n",
        "rank_2_tensor[:, -1]"
      ],
      "metadata": {
        "id": "HEzogR2nD4hn",
        "outputId": "ca1cfa16-9f25-4b9d-ed04-05bf94eac5f0",
        "colab": {
          "base_uri": "https://localhost:8080/"
        }
      },
      "execution_count": 38,
      "outputs": [
        {
          "output_type": "execute_result",
          "data": {
            "text/plain": [
              "<tf.Tensor: shape=(2,), dtype=int32, numpy=array([2, 4], dtype=int32)>"
            ]
          },
          "metadata": {},
          "execution_count": 38
        }
      ]
    },
    {
      "cell_type": "code",
      "source": [
        "# Add extra dimension (important)\n",
        "\n",
        "# 1st alternative\n",
        "rank_3_tensor = rank_2_tensor[..., tf.newaxis] # ... = every previous axis, same as [:, :, tf.newaxis]\n",
        "rank_3_tensor"
      ],
      "metadata": {
        "id": "Z6ThKImXEMGt",
        "outputId": "6f11e5d0-f13b-4f11-98a9-7a2621a82e4c",
        "colab": {
          "base_uri": "https://localhost:8080/"
        }
      },
      "execution_count": 39,
      "outputs": [
        {
          "output_type": "execute_result",
          "data": {
            "text/plain": [
              "<tf.Tensor: shape=(2, 2, 1), dtype=int32, numpy=\n",
              "array([[[1],\n",
              "        [2]],\n",
              "\n",
              "       [[3],\n",
              "        [4]]], dtype=int32)>"
            ]
          },
          "metadata": {},
          "execution_count": 39
        }
      ]
    },
    {
      "cell_type": "code",
      "source": [
        "# 2nd alternative\n",
        "tf.expand_dims(rank_2_tensor, axis=-1) # -1 = expand final axis"
      ],
      "metadata": {
        "id": "xBmt2enCFLLV",
        "outputId": "06e09e3d-5b9c-4606-d95f-5706637cbb5b",
        "colab": {
          "base_uri": "https://localhost:8080/"
        }
      },
      "execution_count": 40,
      "outputs": [
        {
          "output_type": "execute_result",
          "data": {
            "text/plain": [
              "<tf.Tensor: shape=(2, 2, 1), dtype=int32, numpy=\n",
              "array([[[1],\n",
              "        [2]],\n",
              "\n",
              "       [[3],\n",
              "        [4]]], dtype=int32)>"
            ]
          },
          "metadata": {},
          "execution_count": 40
        }
      ]
    },
    {
      "cell_type": "code",
      "source": [
        "tf.expand_dims(rank_2_tensor, axis=0) # expand 0-axis"
      ],
      "metadata": {
        "id": "5l6BjPGIF-zh",
        "outputId": "b26d26d1-0c24-41de-dbac-a8c553228819",
        "colab": {
          "base_uri": "https://localhost:8080/"
        }
      },
      "execution_count": 41,
      "outputs": [
        {
          "output_type": "execute_result",
          "data": {
            "text/plain": [
              "<tf.Tensor: shape=(1, 2, 2), dtype=int32, numpy=\n",
              "array([[[1, 2],\n",
              "        [3, 4]]], dtype=int32)>"
            ]
          },
          "metadata": {},
          "execution_count": 41
        }
      ]
    },
    {
      "cell_type": "markdown",
      "source": [
        "### Manipulating tensors (tensor operations)\n",
        "\n",
        "**Basic  operations**\n",
        "\n",
        "+, -, *, /"
      ],
      "metadata": {
        "id": "1pxwofqMGa6_"
      }
    },
    {
      "cell_type": "code",
      "source": [
        "# add values using the additon operator\n",
        "# the original tensor stays unchanged of course\n",
        "\n",
        "tensor = tf.constant([[10,7], [3,4]])\n",
        "tensor + 10 # adds 10 to all elements in the tensor\n"
      ],
      "metadata": {
        "id": "rKQr24yeGfEe",
        "outputId": "a17245ee-803b-46da-fa6a-dc17c61dcbfd",
        "colab": {
          "base_uri": "https://localhost:8080/"
        }
      },
      "execution_count": 42,
      "outputs": [
        {
          "output_type": "execute_result",
          "data": {
            "text/plain": [
              "<tf.Tensor: shape=(2, 2), dtype=int32, numpy=\n",
              "array([[20, 17],\n",
              "       [13, 14]], dtype=int32)>"
            ]
          },
          "metadata": {},
          "execution_count": 42
        }
      ]
    },
    {
      "cell_type": "code",
      "source": [
        "tensor - 1 # same for subtraction"
      ],
      "metadata": {
        "id": "sAO7ozQoHD1u",
        "outputId": "9469e5f3-fd27-4218-f0ec-61ae67828725",
        "colab": {
          "base_uri": "https://localhost:8080/"
        }
      },
      "execution_count": 43,
      "outputs": [
        {
          "output_type": "execute_result",
          "data": {
            "text/plain": [
              "<tf.Tensor: shape=(2, 2), dtype=int32, numpy=\n",
              "array([[9, 6],\n",
              "       [2, 3]], dtype=int32)>"
            ]
          },
          "metadata": {},
          "execution_count": 43
        }
      ]
    },
    {
      "cell_type": "code",
      "source": [
        "tensor * 3"
      ],
      "metadata": {
        "id": "6wTiGYy5HO38",
        "outputId": "6f780869-1e50-4257-ce56-4dfbc5407e8f",
        "colab": {
          "base_uri": "https://localhost:8080/"
        }
      },
      "execution_count": 44,
      "outputs": [
        {
          "output_type": "execute_result",
          "data": {
            "text/plain": [
              "<tf.Tensor: shape=(2, 2), dtype=int32, numpy=\n",
              "array([[30, 21],\n",
              "       [ 9, 12]], dtype=int32)>"
            ]
          },
          "metadata": {},
          "execution_count": 44
        }
      ]
    },
    {
      "cell_type": "code",
      "source": [
        "tensor / 3 # also automatically converts to float"
      ],
      "metadata": {
        "id": "zPSvPg3RHSnk",
        "outputId": "bf04eb5f-a30a-429e-cb09-f439806a5e49",
        "colab": {
          "base_uri": "https://localhost:8080/"
        }
      },
      "execution_count": 45,
      "outputs": [
        {
          "output_type": "execute_result",
          "data": {
            "text/plain": [
              "<tf.Tensor: shape=(2, 2), dtype=float64, numpy=\n",
              "array([[3.33333333, 2.33333333],\n",
              "       [1.        , 1.33333333]])>"
            ]
          },
          "metadata": {},
          "execution_count": 45
        }
      ]
    },
    {
      "cell_type": "code",
      "source": [
        "# using tf methods (tf.math.* and tf.* are equivalent but not all math.* methods exist on tf.*)\n",
        "tf.multiply(tensor, 5), tf.math.add(tensor, 5)"
      ],
      "metadata": {
        "id": "vI0hUhMRHywJ",
        "outputId": "083ab638-c33b-4c55-ff9a-96d1646a9927",
        "colab": {
          "base_uri": "https://localhost:8080/"
        }
      },
      "execution_count": 46,
      "outputs": [
        {
          "output_type": "execute_result",
          "data": {
            "text/plain": [
              "(<tf.Tensor: shape=(2, 2), dtype=int32, numpy=\n",
              " array([[50, 35],\n",
              "        [15, 20]], dtype=int32)>, <tf.Tensor: shape=(2, 2), dtype=int32, numpy=\n",
              " array([[15, 12],\n",
              "        [ 8,  9]], dtype=int32)>)"
            ]
          },
          "metadata": {},
          "execution_count": 46
        }
      ]
    },
    {
      "cell_type": "markdown",
      "source": [
        "**For the engine to be able to split up operations, it is best to use the tf.* or tf.math.* methods, not the standard python operators**"
      ],
      "metadata": {
        "id": "HKFE8E_tIcP3"
      }
    },
    {
      "cell_type": "markdown",
      "source": [
        "### Matrix multiplication\n",
        "\n",
        "In machine learning, [matrix multiplication](https://www.mathsisfun.com/algebra/matrix-multiplying.html) is the most commoon tensor operation.\n",
        "\n",
        "A matrix multiplication is the result of the dot product (Skalarprodukt oder inneres Produkt) of rows and columns.\n",
        "\n",
        "![dot product](https://github.com/pkro/tensorflow_cert_training/blob/main/readme_images/dot_product.png?raw=1)\n",
        "\n",
        "[source](https://www.mathsisfun.com/algebra/matrix-multiplying.html)\n",
        "\n",
        "[Visualize matrix multiplication!](http://matrixmultiplication.xyz/)\n",
        "\n",
        "\n",
        "\n",
        "Rules: \n",
        "\n",
        "1) The *inner* dimensions must match, meaning that **the number of columns of the 1st matrix must equal the number of rows of the 2nd matrix.**\n",
        "\n",
        "2) The result will have the same number of rows as the 1st matrix and the same number of columns as the 2nd matrix (size is the same as the *outside* numbers)\n",
        "\n",
        "Inner / outer refers to the position of the dimensions in the multiplication:\n",
        "\n",
        "- **Inner**: Rows x **COLUMNS** * **ROWS** x Columns\n",
        "- **Outer**: **ROWS** x Columns * Rows x **COLUMNS**\n",
        "\n",
        "![matrix multiplication](https://github.com/pkro/tensorflow_cert_training/blob/main/readme_images/matrix_mult.png?raw=1)\n"
      ],
      "metadata": {
        "id": "KlKfC4EPI2bp"
      }
    },
    {
      "cell_type": "code",
      "source": [
        "# Matrix multiplication in tensorflow\n",
        "\n",
        "tf.matmul(tensor, tensor) # same as tf.linalg.matmul, used from here on out"
      ],
      "metadata": {
        "id": "ds6DXgObO3wy",
        "outputId": "059f79e8-5983-4332-d146-b5407db68170",
        "colab": {
          "base_uri": "https://localhost:8080/"
        }
      },
      "execution_count": 47,
      "outputs": [
        {
          "output_type": "execute_result",
          "data": {
            "text/plain": [
              "<tf.Tensor: shape=(2, 2), dtype=int32, numpy=\n",
              "array([[121,  98],\n",
              "       [ 42,  37]], dtype=int32)>"
            ]
          },
          "metadata": {},
          "execution_count": 47
        }
      ]
    },
    {
      "cell_type": "code",
      "source": [
        "\n",
        "# \"reak\" Matrix multiplication with python operator \"@\"\n",
        "tensor @ tensor"
      ],
      "metadata": {
        "id": "OK_oL8lTPSBT",
        "outputId": "bbdde044-c95a-4248-cb7b-0c816a6586db",
        "colab": {
          "base_uri": "https://localhost:8080/"
        }
      },
      "execution_count": 48,
      "outputs": [
        {
          "output_type": "execute_result",
          "data": {
            "text/plain": [
              "<tf.Tensor: shape=(2, 2), dtype=int32, numpy=\n",
              "array([[121,  98],\n",
              "       [ 42,  37]], dtype=int32)>"
            ]
          },
          "metadata": {},
          "execution_count": 48
        }
      ]
    },
    {
      "cell_type": "code",
      "source": [
        "# Element-wise matrix multiplication with python operator \"*\"\n",
        "tensor * tensor # (10*10, 7*7, 3*3, 4*4)"
      ],
      "metadata": {
        "id": "oM61oWoNPkcY",
        "outputId": "0d7b757f-aa1d-4bca-e282-4ccb5eb2dab1",
        "colab": {
          "base_uri": "https://localhost:8080/"
        }
      },
      "execution_count": 49,
      "outputs": [
        {
          "output_type": "execute_result",
          "data": {
            "text/plain": [
              "<tf.Tensor: shape=(2, 2), dtype=int32, numpy=\n",
              "array([[100,  49],\n",
              "       [  9,  16]], dtype=int32)>"
            ]
          },
          "metadata": {},
          "execution_count": 49
        }
      ]
    },
    {
      "cell_type": "code",
      "source": [
        "# Create 2 tensors of shape (3,2)\n",
        "X = tf.constant([[1,2], [3,4], [5,6]]) # 3 rows, 2 columns\n",
        "Y = tf.constant([[7,8], [9,10], [11,12]]) # 3 rows, 2 columns\n",
        "\n",
        "try:\n",
        "  tf.matmul(X, Y) # matrix size incompatible! See rule #1, inner dimensions must match - num rows m1 must be num cols m2\n",
        "except tf.errors.InvalidArgumentError as err:\n",
        "    print(err)"
      ],
      "metadata": {
        "id": "kIEH2eChP5hF",
        "outputId": "4a3646e3-0bb9-40fe-8e77-a258c78feff2",
        "colab": {
          "base_uri": "https://localhost:8080/"
        }
      },
      "execution_count": 50,
      "outputs": [
        {
          "output_type": "stream",
          "name": "stdout",
          "text": [
            "Matrix size-incompatible: In[0]: [3,2], In[1]: [3,2] [Op:MatMul]\n"
          ]
        }
      ]
    },
    {
      "cell_type": "code",
      "source": [
        "# Let's change the shape of Y (doesn't the matrix have an entire different meaning then?)\n",
        "print(Y, \"\\n\")\n",
        "tf.reshape(Y, shape=(2,3))"
      ],
      "metadata": {
        "id": "LA1plGrESIk6",
        "outputId": "91635023-19fc-4995-92ab-a3dd38dd36c3",
        "colab": {
          "base_uri": "https://localhost:8080/"
        }
      },
      "execution_count": 51,
      "outputs": [
        {
          "output_type": "stream",
          "name": "stdout",
          "text": [
            "tf.Tensor(\n",
            "[[ 7  8]\n",
            " [ 9 10]\n",
            " [11 12]], shape=(3, 2), dtype=int32) \n",
            "\n"
          ]
        },
        {
          "output_type": "execute_result",
          "data": {
            "text/plain": [
              "<tf.Tensor: shape=(2, 3), dtype=int32, numpy=\n",
              "array([[ 7,  8,  9],\n",
              "       [10, 11, 12]], dtype=int32)>"
            ]
          },
          "metadata": {},
          "execution_count": 51
        }
      ]
    },
    {
      "cell_type": "code",
      "source": [
        "# try to multipley X by reshaped Y\n",
        "X @ tf.reshape(X, shape=(2, 3))"
      ],
      "metadata": {
        "colab": {
          "base_uri": "https://localhost:8080/"
        },
        "id": "e64X77nBb2E_",
        "outputId": "88e0ac71-3c0a-4c8a-db43-870e0ac3148f"
      },
      "execution_count": 52,
      "outputs": [
        {
          "output_type": "execute_result",
          "data": {
            "text/plain": [
              "<tf.Tensor: shape=(3, 3), dtype=int32, numpy=\n",
              "array([[ 9, 12, 15],\n",
              "       [19, 26, 33],\n",
              "       [29, 40, 51]], dtype=int32)>"
            ]
          },
          "metadata": {},
          "execution_count": 52
        }
      ]
    },
    {
      "cell_type": "code",
      "source": [
        "X.shape, tf.reshape(Y, shape=(2,3)).shape"
      ],
      "metadata": {
        "colab": {
          "base_uri": "https://localhost:8080/"
        },
        "id": "j1xbeJKBcOKr",
        "outputId": "88701431-4364-4f47-c3de-b777991f4165"
      },
      "execution_count": 53,
      "outputs": [
        {
          "output_type": "execute_result",
          "data": {
            "text/plain": [
              "(TensorShape([3, 2]), TensorShape([2, 3]))"
            ]
          },
          "metadata": {},
          "execution_count": 53
        }
      ]
    },
    {
      "cell_type": "code",
      "source": [
        "tf.matmul(X, tf.reshape(Y, shape=(2,3))) # works the same as @"
      ],
      "metadata": {
        "colab": {
          "base_uri": "https://localhost:8080/"
        },
        "id": "dRTm8jTOcbtJ",
        "outputId": "1288b86a-d0fb-439a-d6b9-55cf4c99f3fa"
      },
      "execution_count": 54,
      "outputs": [
        {
          "output_type": "execute_result",
          "data": {
            "text/plain": [
              "<tf.Tensor: shape=(3, 3), dtype=int32, numpy=\n",
              "array([[ 27,  30,  33],\n",
              "       [ 61,  68,  75],\n",
              "       [ 95, 106, 117]], dtype=int32)>"
            ]
          },
          "metadata": {},
          "execution_count": 54
        }
      ]
    },
    {
      "cell_type": "code",
      "source": [
        "# try changing X instead of Y\n",
        "tf.reshape(X, shape=(2,3)) @ Y"
      ],
      "metadata": {
        "colab": {
          "base_uri": "https://localhost:8080/"
        },
        "id": "hjV-bopecuhA",
        "outputId": "89e5a257-bb14-4178-a644-f6f1b2962c9b"
      },
      "execution_count": 55,
      "outputs": [
        {
          "output_type": "execute_result",
          "data": {
            "text/plain": [
              "<tf.Tensor: shape=(2, 2), dtype=int32, numpy=\n",
              "array([[ 58,  64],\n",
              "       [139, 154]], dtype=int32)>"
            ]
          },
          "metadata": {},
          "execution_count": 55
        }
      ]
    },
    {
      "cell_type": "markdown",
      "source": [
        "-> Reshaping X works, too, but the result is different as now the *outer* dimensions is 2 for both."
      ],
      "metadata": {
        "id": "stNAt0-FdVMp"
      }
    },
    {
      "cell_type": "code",
      "source": [
        "# we can do the same with transpose, but it does a different thing than reshape\n",
        "X, tf.transpose(X), tf.reshape(X, shape=(2,3))"
      ],
      "metadata": {
        "colab": {
          "base_uri": "https://localhost:8080/"
        },
        "id": "H3CiSoZ-eB1m",
        "outputId": "f5fcf77e-cd81-4ae1-d02f-938c81b19d7d"
      },
      "execution_count": 56,
      "outputs": [
        {
          "output_type": "execute_result",
          "data": {
            "text/plain": [
              "(<tf.Tensor: shape=(3, 2), dtype=int32, numpy=\n",
              " array([[1, 2],\n",
              "        [3, 4],\n",
              "        [5, 6]], dtype=int32)>, <tf.Tensor: shape=(2, 3), dtype=int32, numpy=\n",
              " array([[1, 3, 5],\n",
              "        [2, 4, 6]], dtype=int32)>, <tf.Tensor: shape=(2, 3), dtype=int32, numpy=\n",
              " array([[1, 2, 3],\n",
              "        [4, 5, 6]], dtype=int32)>)"
            ]
          },
          "metadata": {},
          "execution_count": 56
        }
      ]
    },
    {
      "cell_type": "markdown",
      "source": [
        "- [transpose](https://www.tensorflow.org/api_docs/python/tf/transpose) flips the axes' \n",
        "- [reshape](https://www.tensorflow.org/api_docs/python/tf/reshape) assigns the numbers lineary from top left to bottom right in the same order but in a different shape (\"Given tensor, this operation returns a new tf.Tensor that has the same values as tensor in the same order, except with a new shape given by shape.\")\n",
        "\n",
        "They don't give the same results in the resulting matrix or the multiplication result."
      ],
      "metadata": {
        "id": "K3VIhJs2eXvm"
      }
    },
    {
      "cell_type": "code",
      "source": [
        "# try multiplication with transpose rather than reshape\n",
        "tf.transpose(X) @ Y"
      ],
      "metadata": {
        "colab": {
          "base_uri": "https://localhost:8080/"
        },
        "id": "tAVs25wHfU5c",
        "outputId": "4788ef12-fe34-4819-cd1b-75b4113fa438"
      },
      "execution_count": 57,
      "outputs": [
        {
          "output_type": "execute_result",
          "data": {
            "text/plain": [
              "<tf.Tensor: shape=(2, 2), dtype=int32, numpy=\n",
              "array([[ 89,  98],\n",
              "       [116, 128]], dtype=int32)>"
            ]
          },
          "metadata": {},
          "execution_count": 57
        }
      ]
    },
    {
      "cell_type": "markdown",
      "source": [
        "**"
      ],
      "metadata": {
        "id": "-Z0nqvVsgDEz"
      }
    },
    {
      "cell_type": "markdown",
      "source": [
        "**The dot product**\n",
        "\n",
        "Matrix multiplication is also referred to as the dot product.\n",
        "\n",
        "You can perform matrix multiplication using:\n",
        "\n",
        "- `tf.matmul()`\n",
        "- [`tf.tensordot()`](https://www.tensorflow.org/api_docs/python/tf/tensordot)\n"
      ],
      "metadata": {
        "id": "cz4oiVgbgE3M"
      }
    },
    {
      "cell_type": "code",
      "source": [
        "X, Y # little reminder"
      ],
      "metadata": {
        "colab": {
          "base_uri": "https://localhost:8080/"
        },
        "id": "P-xYe4UlgrH6",
        "outputId": "0c51abd8-1937-41bc-c240-bcd7f5a0b2cc"
      },
      "execution_count": 58,
      "outputs": [
        {
          "output_type": "execute_result",
          "data": {
            "text/plain": [
              "(<tf.Tensor: shape=(3, 2), dtype=int32, numpy=\n",
              " array([[1, 2],\n",
              "        [3, 4],\n",
              "        [5, 6]], dtype=int32)>, <tf.Tensor: shape=(3, 2), dtype=int32, numpy=\n",
              " array([[ 7,  8],\n",
              "        [ 9, 10],\n",
              "        [11, 12]], dtype=int32)>)"
            ]
          },
          "metadata": {},
          "execution_count": 58
        }
      ]
    },
    {
      "cell_type": "code",
      "source": [
        "# Perfomr dot product on X and Y (requires X or Y to be transposed)\n",
        "tf.tensordot(tf.transpose(X), Y, axes=1)"
      ],
      "metadata": {
        "colab": {
          "base_uri": "https://localhost:8080/"
        },
        "id": "1Ux2SJBVgazF",
        "outputId": "e6f7309e-6b2f-4404-a473-b17a456d25d0"
      },
      "execution_count": 59,
      "outputs": [
        {
          "output_type": "execute_result",
          "data": {
            "text/plain": [
              "<tf.Tensor: shape=(2, 2), dtype=int32, numpy=\n",
              "array([[ 89,  98],\n",
              "       [116, 128]], dtype=int32)>"
            ]
          },
          "metadata": {},
          "execution_count": 59
        }
      ]
    },
    {
      "cell_type": "code",
      "source": [
        "# Perform matrix multiplication between X and Y (transposed)\n",
        "tf.matmul(X, tf.transpose(Y))"
      ],
      "metadata": {
        "colab": {
          "base_uri": "https://localhost:8080/"
        },
        "id": "8zmJGRYRhSIn",
        "outputId": "ae3a77df-9ae1-49cd-cfa3-50e98212aa6a"
      },
      "execution_count": 60,
      "outputs": [
        {
          "output_type": "execute_result",
          "data": {
            "text/plain": [
              "<tf.Tensor: shape=(3, 3), dtype=int32, numpy=\n",
              "array([[ 23,  29,  35],\n",
              "       [ 53,  67,  81],\n",
              "       [ 83, 105, 127]], dtype=int32)>"
            ]
          },
          "metadata": {},
          "execution_count": 60
        }
      ]
    },
    {
      "cell_type": "code",
      "source": [
        "# Perform matrix multiplication between X and Y (reshaped)\n",
        "tf.matmul(X, tf.reshape(Y, shape=(2,3)))"
      ],
      "metadata": {
        "colab": {
          "base_uri": "https://localhost:8080/"
        },
        "id": "rhFfVMAVhkWU",
        "outputId": "56e3d10c-b1ad-4427-f9ef-5bda77497c3d"
      },
      "execution_count": 61,
      "outputs": [
        {
          "output_type": "execute_result",
          "data": {
            "text/plain": [
              "<tf.Tensor: shape=(3, 3), dtype=int32, numpy=\n",
              "array([[ 27,  30,  33],\n",
              "       [ 61,  68,  75],\n",
              "       [ 95, 106, 117]], dtype=int32)>"
            ]
          },
          "metadata": {},
          "execution_count": 61
        }
      ]
    },
    {
      "cell_type": "code",
      "source": [
        "# Check the values of Y, reshape Y and transpose Y\n",
        "print(\"Normal Y: \")\n",
        "print(Y, \"\\n\")\n",
        "\n",
        "print(\"Y reshaped to (2, 3): \")\n",
        "print(tf.reshape(Y, (2, 3)), \"\\n\")\n",
        "\n",
        "print(\"Y transposed: \")\n",
        "print(tf.transpose(Y), \"\\n\")"
      ],
      "metadata": {
        "colab": {
          "base_uri": "https://localhost:8080/"
        },
        "id": "j3Q5NWFdh1ET",
        "outputId": "ac299a59-67f9-4989-c86d-0af422d0944c"
      },
      "execution_count": 62,
      "outputs": [
        {
          "output_type": "stream",
          "name": "stdout",
          "text": [
            "Normal Y: \n",
            "tf.Tensor(\n",
            "[[ 7  8]\n",
            " [ 9 10]\n",
            " [11 12]], shape=(3, 2), dtype=int32) \n",
            "\n",
            "Y reshaped to (2, 3): \n",
            "tf.Tensor(\n",
            "[[ 7  8  9]\n",
            " [10 11 12]], shape=(2, 3), dtype=int32) \n",
            "\n",
            "Y transposed: \n",
            "tf.Tensor(\n",
            "[[ 7  9 11]\n",
            " [ 8 10 12]], shape=(2, 3), dtype=int32) \n",
            "\n"
          ]
        }
      ]
    },
    {
      "cell_type": "code",
      "source": [
        "tf.matmul(X, tf.transpose(Y))"
      ],
      "metadata": {
        "colab": {
          "base_uri": "https://localhost:8080/"
        },
        "id": "KaBqQYyIiyi_",
        "outputId": "9611e899-8505-4f05-d9b4-da7ff468d409"
      },
      "execution_count": 63,
      "outputs": [
        {
          "output_type": "execute_result",
          "data": {
            "text/plain": [
              "<tf.Tensor: shape=(3, 3), dtype=int32, numpy=\n",
              "array([[ 23,  29,  35],\n",
              "       [ 53,  67,  81],\n",
              "       [ 83, 105, 127]], dtype=int32)>"
            ]
          },
          "metadata": {},
          "execution_count": 63
        }
      ]
    },
    {
      "cell_type": "markdown",
      "source": [
        "Most matrix modification is done behind the scenes in tensorflow, meaning it doesn't have to be done by hand a lot.\n",
        "\n",
        "**Generally, if tensor dimensions don't line up, one of the tensors should be transposed and not reshaped to satisfy the matrix multiplication rules.**"
      ],
      "metadata": {
        "id": "PG7ImOtH29sd"
      }
    },
    {
      "cell_type": "markdown",
      "source": [
        "### Changing the datatype of tensors\n",
        "\n",
        "Default datatype is mostly int32 or float32, depending on the data inside the tensor. Models / data with lower precision types (or mixed precision) can run faster on gpus and in general.\n",
        "\n",
        "https://www.tensorflow.org/guide/mixed_precision\n"
      ],
      "metadata": {
        "id": "WckNTRy13nTa"
      }
    },
    {
      "cell_type": "code",
      "source": [
        "# create tensor with default datatype (float32 fpr floats)\n",
        "B = tf.constant([1.7, 7.4])\n",
        "B.dtype"
      ],
      "metadata": {
        "id": "Aym0Xp7b3yoQ",
        "outputId": "fa2d5e94-210e-4cfb-c758-211f6fa47d85",
        "colab": {
          "base_uri": "https://localhost:8080/"
        }
      },
      "execution_count": 64,
      "outputs": [
        {
          "output_type": "execute_result",
          "data": {
            "text/plain": [
              "tf.float32"
            ]
          },
          "metadata": {},
          "execution_count": 64
        }
      ]
    },
    {
      "cell_type": "code",
      "source": [
        "# int32 for integers\n",
        "C = tf.constant([7,10])\n",
        "C.dtype"
      ],
      "metadata": {
        "id": "rb84yfPx4RXm",
        "outputId": "0f874ff3-be17-4754-9f04-6e0c486bfd4e",
        "colab": {
          "base_uri": "https://localhost:8080/"
        }
      },
      "execution_count": 65,
      "outputs": [
        {
          "output_type": "execute_result",
          "data": {
            "text/plain": [
              "tf.int32"
            ]
          },
          "metadata": {},
          "execution_count": 65
        }
      ]
    },
    {
      "cell_type": "code",
      "source": [
        "# change from float32 to float16 (reduced precission)\n",
        "D = tf.cast(C, tf.float16)\n",
        "D, D.dtype"
      ],
      "metadata": {
        "id": "f98CXH_34cBb",
        "outputId": "3d133646-248f-4278-f229-e96cb0d6fc34",
        "colab": {
          "base_uri": "https://localhost:8080/"
        }
      },
      "execution_count": 66,
      "outputs": [
        {
          "output_type": "execute_result",
          "data": {
            "text/plain": [
              "(<tf.Tensor: shape=(2,), dtype=float16, numpy=array([ 7., 10.], dtype=float16)>,\n",
              " tf.float16)"
            ]
          },
          "metadata": {},
          "execution_count": 66
        }
      ]
    },
    {
      "cell_type": "code",
      "source": [
        "# change from int32 to float32\n",
        "E = tf.cast(C, dtype=tf.float32)\n",
        "E"
      ],
      "metadata": {
        "id": "2CG-eT9P3o0c",
        "outputId": "b6ef74a7-05a4-44cf-85fc-5428284a5126",
        "colab": {
          "base_uri": "https://localhost:8080/"
        }
      },
      "execution_count": 67,
      "outputs": [
        {
          "output_type": "execute_result",
          "data": {
            "text/plain": [
              "<tf.Tensor: shape=(2,), dtype=float32, numpy=array([ 7., 10.], dtype=float32)>"
            ]
          },
          "metadata": {},
          "execution_count": 67
        }
      ]
    },
    {
      "cell_type": "code",
      "source": [
        "# casting from float to int removes decimals\n",
        "F = tf.cast(B, dtype=tf.int32)\n",
        "F"
      ],
      "metadata": {
        "id": "b-wkbiU15_3k",
        "outputId": "f84ab391-d710-4bd9-d292-794dbb0f40c5",
        "colab": {
          "base_uri": "https://localhost:8080/"
        }
      },
      "execution_count": 68,
      "outputs": [
        {
          "output_type": "execute_result",
          "data": {
            "text/plain": [
              "<tf.Tensor: shape=(2,), dtype=int32, numpy=array([1, 7], dtype=int32)>"
            ]
          },
          "metadata": {},
          "execution_count": 68
        }
      ]
    },
    {
      "cell_type": "markdown",
      "source": [
        "### Aggregating tensors\n",
        "\n",
        "Aggregating tensors = condensing them from multiple values down to a smaller amount of values.\n"
      ],
      "metadata": {
        "id": "fB_Q9oTj6WBa"
      }
    },
    {
      "cell_type": "code",
      "source": [
        "# Get the absolute values\n",
        "D = tf.constant([-1, -10])\n",
        "D"
      ],
      "metadata": {
        "id": "O209aAUfjHkt",
        "outputId": "5fb3122f-5d0f-4210-f7a5-8230e5bf4cd4",
        "colab": {
          "base_uri": "https://localhost:8080/"
        }
      },
      "execution_count": 69,
      "outputs": [
        {
          "output_type": "execute_result",
          "data": {
            "text/plain": [
              "<tf.Tensor: shape=(2,), dtype=int32, numpy=array([ -1, -10], dtype=int32)>"
            ]
          },
          "metadata": {},
          "execution_count": 69
        }
      ]
    },
    {
      "cell_type": "code",
      "source": [
        "# get the absolute values (turn negative into positive numbers)\n",
        "tf.abs(D)"
      ],
      "metadata": {
        "id": "hCLLaenwjPUK",
        "outputId": "2dc79b35-8881-4673-f31f-aa01a8773282",
        "colab": {
          "base_uri": "https://localhost:8080/"
        }
      },
      "execution_count": 70,
      "outputs": [
        {
          "output_type": "execute_result",
          "data": {
            "text/plain": [
              "<tf.Tensor: shape=(2,), dtype=int32, numpy=array([ 1, 10], dtype=int32)>"
            ]
          },
          "metadata": {},
          "execution_count": 70
        }
      ]
    },
    {
      "cell_type": "markdown",
      "source": [
        "More forms of aggregation:\n",
        "\n",
        "- get the minimum\n",
        "- get the maximum\n",
        "- get the mean\n",
        "- get the sum"
      ],
      "metadata": {
        "id": "w_9VUypSksKR"
      }
    },
    {
      "cell_type": "code",
      "source": [
        "# Minimum\n",
        "d_min = tf.math.reduce_min(D)\n",
        "d_min"
      ],
      "metadata": {
        "id": "wmOXy-PZk4Wa",
        "outputId": "c830acc3-c174-4fea-abe7-153294a8c3c8",
        "colab": {
          "base_uri": "https://localhost:8080/"
        }
      },
      "execution_count": 71,
      "outputs": [
        {
          "output_type": "execute_result",
          "data": {
            "text/plain": [
              "<tf.Tensor: shape=(), dtype=int32, numpy=-10>"
            ]
          },
          "metadata": {},
          "execution_count": 71
        }
      ]
    },
    {
      "cell_type": "code",
      "source": [
        "# Maximum\n",
        "d_min = tf.math.reduce_max(D)\n",
        "d_min"
      ],
      "metadata": {
        "id": "v_CflbIwlYho",
        "outputId": "dfc045f2-fc19-4185-9b8a-7c57013c49ba",
        "colab": {
          "base_uri": "https://localhost:8080/"
        }
      },
      "execution_count": 72,
      "outputs": [
        {
          "output_type": "execute_result",
          "data": {
            "text/plain": [
              "<tf.Tensor: shape=(), dtype=int32, numpy=-1>"
            ]
          },
          "metadata": {},
          "execution_count": 72
        }
      ]
    },
    {
      "cell_type": "code",
      "source": [
        "# mean\n",
        "d_mean = tf.math.reduce_mean(D, 0)\n",
        "d_mean"
      ],
      "metadata": {
        "id": "dB75qHxOljmv",
        "outputId": "ccf9ee57-5478-4bd5-caf2-dd85810c395a",
        "colab": {
          "base_uri": "https://localhost:8080/"
        }
      },
      "execution_count": 73,
      "outputs": [
        {
          "output_type": "execute_result",
          "data": {
            "text/plain": [
              "<tf.Tensor: shape=(), dtype=int32, numpy=-5>"
            ]
          },
          "metadata": {},
          "execution_count": 73
        }
      ]
    },
    {
      "cell_type": "code",
      "source": [
        "# sum\n",
        "# d_sum = tf.math.add_n(D) works on 1d tensor though\n",
        "d_sum = tf.math.reduce_sum(D)\n",
        "d_sum"
      ],
      "metadata": {
        "id": "Rsxy9Njcl57D",
        "outputId": "69e5b3bc-7563-416c-c38f-9f728f1ccb3a",
        "colab": {
          "base_uri": "https://localhost:8080/"
        }
      },
      "execution_count": 74,
      "outputs": [
        {
          "output_type": "execute_result",
          "data": {
            "text/plain": [
              "<tf.Tensor: shape=(), dtype=int32, numpy=-11>"
            ]
          },
          "metadata": {},
          "execution_count": 74
        }
      ]
    },
    {
      "cell_type": "markdown",
      "source": [
        "Same on 2d tensor / matrix\n"
      ],
      "metadata": {
        "id": "S7GVn3lxmTBx"
      }
    },
    {
      "cell_type": "code",
      "source": [
        "# create a large-ish random 2d tensor (tensor of dimension 2)\n",
        "t = tf.constant(np.random.randint(0, 100, size=50))\n",
        "t = tf.reshape(t, shape=(5, 10))\n",
        "t, t.ndim"
      ],
      "metadata": {
        "id": "BJfciasSmaao",
        "outputId": "04ebaf56-9402-45e7-8780-07cf2e3db530",
        "colab": {
          "base_uri": "https://localhost:8080/"
        }
      },
      "execution_count": 75,
      "outputs": [
        {
          "output_type": "execute_result",
          "data": {
            "text/plain": [
              "(<tf.Tensor: shape=(5, 10), dtype=int64, numpy=\n",
              " array([[ 7, 18, 60, 33, 99, 61, 59, 41, 25,  1],\n",
              "        [56, 95, 67, 58, 31, 29, 96, 48, 19, 80],\n",
              "        [ 7, 29, 13, 91, 54, 69, 83, 87,  5,  9],\n",
              "        [32, 38, 66, 75, 88, 65, 83,  7, 56, 44],\n",
              "        [79, 65, 44, 20, 11, 28, 27, 72, 60,  4]])>, 2)"
            ]
          },
          "metadata": {},
          "execution_count": 75
        }
      ]
    },
    {
      "cell_type": "code",
      "source": [
        "# Minimum of each row\n",
        "t_min_in_rows = tf.math.reduce_min(t, axis=1)\n",
        "t_min_in_rows"
      ],
      "metadata": {
        "id": "mR2nGjMimgFY",
        "outputId": "19f9d000-fa76-48bf-ff55-5e112a7593f4",
        "colab": {
          "base_uri": "https://localhost:8080/"
        }
      },
      "execution_count": 76,
      "outputs": [
        {
          "output_type": "execute_result",
          "data": {
            "text/plain": [
              "<tf.Tensor: shape=(5,), dtype=int64, numpy=array([ 1, 19,  5,  7,  4])>"
            ]
          },
          "metadata": {},
          "execution_count": 76
        }
      ]
    },
    {
      "cell_type": "code",
      "source": [
        "# Minimum of each column\n",
        "t_min_in_cols = tf.math.reduce_min(t, axis=0)\n",
        "t_min_in_cols"
      ],
      "metadata": {
        "id": "WyBc2s2JnPoB",
        "outputId": "f0ece625-acb2-490e-a85f-99d64ad4446b",
        "colab": {
          "base_uri": "https://localhost:8080/"
        }
      },
      "execution_count": 77,
      "outputs": [
        {
          "output_type": "execute_result",
          "data": {
            "text/plain": [
              "<tf.Tensor: shape=(10,), dtype=int64, numpy=array([ 7, 18, 13, 20, 11, 28, 27,  7,  5,  1])>"
            ]
          },
          "metadata": {},
          "execution_count": 77
        }
      ]
    },
    {
      "cell_type": "code",
      "source": [
        "# mean (rows)\n",
        "t_mean_rows = tf.math.reduce_mean(t, axis=1)\n",
        "t_mean_rows"
      ],
      "metadata": {
        "id": "Nh5fkvTOnjzH",
        "outputId": "ff5c7ba0-2bfb-4150-e25c-a2186a8dcfab",
        "colab": {
          "base_uri": "https://localhost:8080/"
        }
      },
      "execution_count": 78,
      "outputs": [
        {
          "output_type": "execute_result",
          "data": {
            "text/plain": [
              "<tf.Tensor: shape=(5,), dtype=int64, numpy=array([40, 57, 44, 55, 41])>"
            ]
          },
          "metadata": {},
          "execution_count": 78
        }
      ]
    },
    {
      "cell_type": "code",
      "source": [
        "# mean (columns)\n",
        "t_mean_columns = tf.math.reduce_mean(t, axis=0)\n",
        "t_mean_columns"
      ],
      "metadata": {
        "id": "MVem19Q-oSDV",
        "outputId": "2a0452c7-459f-4fb8-a6c4-961f5bdbc999",
        "colab": {
          "base_uri": "https://localhost:8080/"
        }
      },
      "execution_count": 79,
      "outputs": [
        {
          "output_type": "execute_result",
          "data": {
            "text/plain": [
              "<tf.Tensor: shape=(10,), dtype=int64, numpy=array([36, 49, 50, 55, 56, 50, 69, 51, 33, 27])>"
            ]
          },
          "metadata": {},
          "execution_count": 79
        }
      ]
    },
    {
      "cell_type": "code",
      "source": [
        "# sum (rows)\n",
        "t_sum_rows = tf.math.reduce_sum(t, axis=1)\n",
        "t_sum_rows"
      ],
      "metadata": {
        "id": "xUQWOJ_0oZv8",
        "outputId": "bcca685d-91c3-4cb7-fdc9-2a7fb1f9f390",
        "colab": {
          "base_uri": "https://localhost:8080/"
        }
      },
      "execution_count": 80,
      "outputs": [
        {
          "output_type": "execute_result",
          "data": {
            "text/plain": [
              "<tf.Tensor: shape=(5,), dtype=int64, numpy=array([404, 579, 447, 554, 410])>"
            ]
          },
          "metadata": {},
          "execution_count": 80
        }
      ]
    },
    {
      "cell_type": "markdown",
      "source": [
        "***Exercise***: find variance and standard deviation of `t`"
      ],
      "metadata": {
        "id": "-qDsequFpjwk"
      }
    },
    {
      "cell_type": "markdown",
      "source": [
        "#### Standard deviation\n",
        "\n",
        "The standard deviation is the average amount of variability in your data set. It tells you, on average, how far each score lies from the mean.\n",
        "\n",
        ">For a finite set of numbers, the population standard deviation is found by taking the square root of the average of the squared deviations of the values subtracted from their average value.\n",
        "\n",
        "[on wikipedia](https://en.wikipedia.org/wiki/Standard_deviation)\n",
        "\n",
        "[on khan academy](https://www.khanacademy.org/math/statistics-probability/summarizing-quantitative-data/variance-standard-deviation-population/a/calculating-standard-deviation-step-by-step)\n",
        "\n",
        "It is used to \n",
        "\n",
        "- detect outliers in a dataset (and remove them if necessary)\n",
        "- scale values in different datasets (e.g. house prices and number of rooms) to the same scale (dividing the difference between the mean and each value by the standard deviation of the data)\n",
        "\n"
      ],
      "metadata": {
        "id": "JiUp2urRsKA1"
      }
    },
    {
      "cell_type": "code",
      "source": [
        "# cast to float as necessary for finding standard deviation and variance\n",
        "t_float = tf.cast(t, dtype=tf.float64)\n",
        "t_float"
      ],
      "metadata": {
        "id": "Vxo4v6gIrXXN",
        "outputId": "aec02e5d-d4e4-4546-a948-0774284d35ad",
        "colab": {
          "base_uri": "https://localhost:8080/"
        }
      },
      "execution_count": 81,
      "outputs": [
        {
          "output_type": "execute_result",
          "data": {
            "text/plain": [
              "<tf.Tensor: shape=(5, 10), dtype=float64, numpy=\n",
              "array([[ 7., 18., 60., 33., 99., 61., 59., 41., 25.,  1.],\n",
              "       [56., 95., 67., 58., 31., 29., 96., 48., 19., 80.],\n",
              "       [ 7., 29., 13., 91., 54., 69., 83., 87.,  5.,  9.],\n",
              "       [32., 38., 66., 75., 88., 65., 83.,  7., 56., 44.],\n",
              "       [79., 65., 44., 20., 11., 28., 27., 72., 60.,  4.]])>"
            ]
          },
          "metadata": {},
          "execution_count": 81
        }
      ]
    },
    {
      "cell_type": "code",
      "source": [
        "# find standard deviation of whole tensor\n",
        "t_standard_deviation = tf.math.reduce_std(t_float)\n",
        "t_standard_deviation"
      ],
      "metadata": {
        "id": "RU0TK0Qyquoy",
        "outputId": "787302fc-b9a7-4aac-e430-2a469609b278",
        "colab": {
          "base_uri": "https://localhost:8080/"
        }
      },
      "execution_count": 82,
      "outputs": [
        {
          "output_type": "execute_result",
          "data": {
            "text/plain": [
              "<tf.Tensor: shape=(), dtype=float64, numpy=28.666803100450526>"
            ]
          },
          "metadata": {},
          "execution_count": 82
        }
      ]
    },
    {
      "cell_type": "code",
      "source": [
        "# standard deviation of rows / columns\n",
        "print(tf.math.reduce_std(t_float, axis=1), \"\\n\") # rows\n",
        "print(tf.math.reduce_std(t_float, axis=0), \"\\n\") # columns"
      ],
      "metadata": {
        "id": "vkv5CN68rnjT",
        "outputId": "bbb59426-64da-4e08-c9d2-4751aa202d7f",
        "colab": {
          "base_uri": "https://localhost:8080/"
        }
      },
      "execution_count": 83,
      "outputs": [
        {
          "output_type": "stream",
          "name": "stdout",
          "text": [
            "tf.Tensor([28.37322682 25.6376676  34.05891954 23.95078287 25.34955621], shape=(5,), dtype=float64) \n",
            "\n",
            "tf.Tensor(\n",
            "[28.09555125 27.76328511 20.24845673 26.12738027 33.24214193 18.06211505\n",
            " 24.42621543 27.50272714 21.45693361 30.41447024], shape=(10,), dtype=float64) \n",
            "\n"
          ]
        }
      ]
    },
    {
      "cell_type": "markdown",
      "source": [
        "#### Variance\n",
        "\n",
        ">Population variance is a measure of how spread out a group of data points is. Specifically, it quantifies the average squared deviation from the mean. So, if all data points are very close to the mean, the variance will be small; if data points are spread out over a wide range, the variance will be larger. Created by Sal Khan.\n",
        "\n",
        "[source](https://www.khanacademy.org/math/statistics-probability/summarizing-quantitative-data/variance-standard-deviation-population/v/variance-of-a-population)\n"
      ],
      "metadata": {
        "id": "lAWkc_qgtEQL"
      }
    },
    {
      "cell_type": "code",
      "source": [
        "# variance whole tensor\n",
        "tf.math.reduce_variance(t_float)"
      ],
      "metadata": {
        "id": "Y0vlKsS8tdqK",
        "outputId": "539b6c2d-1192-411b-da47-05541cee95b6",
        "colab": {
          "base_uri": "https://localhost:8080/"
        }
      },
      "execution_count": 85,
      "outputs": [
        {
          "output_type": "execute_result",
          "data": {
            "text/plain": [
              "<tf.Tensor: shape=(), dtype=float64, numpy=821.7855999999999>"
            ]
          },
          "metadata": {},
          "execution_count": 85
        }
      ]
    },
    {
      "cell_type": "code",
      "source": [
        "# variance rows (for columns just change axis as before)\n",
        "tf.math.reduce_variance(t_float, axis=1)"
      ],
      "metadata": {
        "id": "hOnNvFN5trHr",
        "outputId": "135b7ba3-ac26-457b-d24b-da0d8d75e0b8",
        "colab": {
          "base_uri": "https://localhost:8080/"
        }
      },
      "execution_count": 86,
      "outputs": [
        {
          "output_type": "execute_result",
          "data": {
            "text/plain": [
              "<tf.Tensor: shape=(5,), dtype=float64, numpy=array([ 805.04,  657.29, 1160.01,  573.64,  642.6 ])>"
            ]
          },
          "metadata": {},
          "execution_count": 86
        }
      ]
    },
    {
      "cell_type": "markdown",
      "source": [
        "We can also use `tensorflow_probability` for these:"
      ],
      "metadata": {
        "id": "tAQAGzqpuO9G"
      }
    },
    {
      "cell_type": "code",
      "source": [
        "import tensorflow_probability as tfp\n",
        "print(tfp.stats.variance(t_float, sample_axis=1), \"\\n\")\n",
        "\n",
        "# we must specify an axis, so to use tfp.stats.variance on the whole matrix, we must reshape it to one dimension\n",
        "tfp.stats.variance(tf.reshape(t_float, shape=(50,)))"
      ],
      "metadata": {
        "id": "TCdUV7VfukLU",
        "outputId": "84c0e0db-c053-4380-fda6-648a07130693",
        "colab": {
          "base_uri": "https://localhost:8080/"
        }
      },
      "execution_count": 87,
      "outputs": [
        {
          "output_type": "stream",
          "name": "stdout",
          "text": [
            "tf.Tensor([ 805.04  657.29 1160.01  573.64  642.6 ], shape=(5,), dtype=float64) \n",
            "\n"
          ]
        },
        {
          "output_type": "execute_result",
          "data": {
            "text/plain": [
              "<tf.Tensor: shape=(), dtype=float64, numpy=821.7855999999999>"
            ]
          },
          "metadata": {},
          "execution_count": 87
        }
      ]
    },
    {
      "cell_type": "markdown",
      "source": [
        "### Find the positional minimum and maximum\n",
        "\n",
        "- positional minimum: Returns the index with the smallest value across axes of a tensor. `tf.math.argmin`\n",
        "- positional maximum: Returns the index with the largest value across axes of a tensor. `tf.math.argmax`\n",
        "\n",
        "Use: when we have a matrix of prediction probabilites where the *columns* belong to labels and *rows* belong to the inputs:\n",
        "\n",
        "```\n",
        "# Spag   Ramen  Other\n",
        "[[0.983, 0.004, 0.013],\n",
        " [0.110, 0.235, 0.801],\n",
        " [0.023, 0.985, 0.27]]\n",
        "```\n",
        "\n",
        "we need the positional maximum - the index - to get the resulting label, e.g. row 3, index 1 => highest probability for input 3 is index 1 = Ramen\n"
      ],
      "metadata": {
        "id": "TjBQOdXGwFC1"
      }
    },
    {
      "cell_type": "code",
      "source": [
        "# tensor for finding positional min / max\n",
        "tf.random.set_seed(42)\n",
        "F = tf.random.uniform(shape=[50])\n",
        "F"
      ],
      "metadata": {
        "id": "6SS2dtqsCiXV",
        "outputId": "2aebe313-2258-4c1d-dbd0-4e4de17976e3",
        "colab": {
          "base_uri": "https://localhost:8080/"
        }
      },
      "execution_count": 90,
      "outputs": [
        {
          "output_type": "execute_result",
          "data": {
            "text/plain": [
              "<tf.Tensor: shape=(50,), dtype=float32, numpy=\n",
              "array([0.6645621 , 0.44100678, 0.3528825 , 0.46448255, 0.03366041,\n",
              "       0.68467236, 0.74011743, 0.8724445 , 0.22632635, 0.22319686,\n",
              "       0.3103881 , 0.7223358 , 0.13318717, 0.5480639 , 0.5746088 ,\n",
              "       0.8996835 , 0.00946367, 0.5212307 , 0.6345445 , 0.1993283 ,\n",
              "       0.72942245, 0.54583454, 0.10756552, 0.6767061 , 0.6602763 ,\n",
              "       0.33695042, 0.60141766, 0.21062577, 0.8527372 , 0.44062173,\n",
              "       0.9485276 , 0.23752594, 0.81179297, 0.5263394 , 0.494308  ,\n",
              "       0.21612847, 0.8457197 , 0.8718841 , 0.3083862 , 0.6868038 ,\n",
              "       0.23764038, 0.7817228 , 0.9671384 , 0.06870162, 0.79873943,\n",
              "       0.66028714, 0.5871513 , 0.16461694, 0.7381023 , 0.32054043],\n",
              "      dtype=float32)>"
            ]
          },
          "metadata": {},
          "execution_count": 90
        }
      ]
    },
    {
      "cell_type": "code",
      "source": [
        "# find positional maximum and display its value\n",
        "tf.argmax(F), F[tf.argmax(F)]"
      ],
      "metadata": {
        "id": "GMegqHp5C-gK",
        "outputId": "9e7b1de1-b4ff-4212-f07d-612e40ce279c",
        "colab": {
          "base_uri": "https://localhost:8080/"
        }
      },
      "execution_count": 94,
      "outputs": [
        {
          "output_type": "execute_result",
          "data": {
            "text/plain": [
              "(<tf.Tensor: shape=(), dtype=int64, numpy=42>,\n",
              " <tf.Tensor: shape=(), dtype=float32, numpy=0.9671384>)"
            ]
          },
          "metadata": {},
          "execution_count": 94
        }
      ]
    },
    {
      "cell_type": "code",
      "source": [
        "# find positional minimum and display its value\n",
        "tf.argmin(F), F[tf.argmin(F)]"
      ],
      "metadata": {
        "id": "RfyXLJysDdgN",
        "outputId": "454769e8-95ce-41ae-e91e-e4d10696634c",
        "colab": {
          "base_uri": "https://localhost:8080/"
        }
      },
      "execution_count": 95,
      "outputs": [
        {
          "output_type": "execute_result",
          "data": {
            "text/plain": [
              "(<tf.Tensor: shape=(), dtype=int64, numpy=16>,\n",
              " <tf.Tensor: shape=(), dtype=float32, numpy=0.009463668>)"
            ]
          },
          "metadata": {},
          "execution_count": 95
        }
      ]
    },
    {
      "cell_type": "code",
      "source": [
        "# Find all positional maximums in a matrix\n",
        "F_2d = tf.random.uniform(shape=(5,5))\n",
        "print(F_2d, \"\\n\")\n",
        "max_indices = tf.argmax(F_2d, axis=0);\n",
        "print(\"max index for each row\\n\", max_indices)\n",
        "\n",
        "print(\"As table using python formatted string literals just for practice\")\n",
        "print([f\"{max_indices.numpy()[idx]}: {F_2d[idx, max_indices[idx]]}\" for idx in range(len(max_indices))])\n",
        "\n",
        "print(\"As pandas table\")\n",
        "import pandas as pd\n",
        "pd.DataFrame({\"index\": max_indices, \"val\": [F_2d[max_indices[idx], idx].numpy() for idx in range(len(max_indices))]})"
      ],
      "metadata": {
        "id": "Tkjpn1b_Dh5Z",
        "outputId": "f2eabe9c-99c7-4904-bf91-81b208913df9",
        "colab": {
          "base_uri": "https://localhost:8080/",
          "height": 414
        }
      },
      "execution_count": 134,
      "outputs": [
        {
          "output_type": "stream",
          "name": "stdout",
          "text": [
            "tf.Tensor(\n",
            "[[0.20039237 0.47802567 0.11818981 0.6317961  0.65255797]\n",
            " [0.6096504  0.5574657  0.5515188  0.49565804 0.7736659 ]\n",
            " [0.5635923  0.08634567 0.46899498 0.8509065  0.25217032]\n",
            " [0.36198926 0.8828119  0.52352357 0.2056495  0.77271354]\n",
            " [0.97151446 0.27547157 0.7494055  0.9686092  0.1789974 ]], shape=(5, 5), dtype=float32) \n",
            "\n",
            "max index for each row\n",
            " tf.Tensor([4 3 4 4 1], shape=(5,), dtype=int64)\n",
            "As table using python formatted string literals just for practice\n",
            "['4: 0.6525579690933228', '3: 0.4956580400466919', '4: 0.2521703243255615', '4: 0.7727135419845581', '1: 0.275471568107605']\n",
            "As pandas table\n"
          ]
        },
        {
          "output_type": "execute_result",
          "data": {
            "text/plain": [
              "   index       val\n",
              "0      4  0.971514\n",
              "1      3  0.882812\n",
              "2      4  0.749406\n",
              "3      4  0.968609\n",
              "4      1  0.773666"
            ],
            "text/html": [
              "\n",
              "  <div id=\"df-e689ad5d-2b84-4d3b-9efd-60652a5d05b8\">\n",
              "    <div class=\"colab-df-container\">\n",
              "      <div>\n",
              "<style scoped>\n",
              "    .dataframe tbody tr th:only-of-type {\n",
              "        vertical-align: middle;\n",
              "    }\n",
              "\n",
              "    .dataframe tbody tr th {\n",
              "        vertical-align: top;\n",
              "    }\n",
              "\n",
              "    .dataframe thead th {\n",
              "        text-align: right;\n",
              "    }\n",
              "</style>\n",
              "<table border=\"1\" class=\"dataframe\">\n",
              "  <thead>\n",
              "    <tr style=\"text-align: right;\">\n",
              "      <th></th>\n",
              "      <th>index</th>\n",
              "      <th>val</th>\n",
              "    </tr>\n",
              "  </thead>\n",
              "  <tbody>\n",
              "    <tr>\n",
              "      <th>0</th>\n",
              "      <td>4</td>\n",
              "      <td>0.971514</td>\n",
              "    </tr>\n",
              "    <tr>\n",
              "      <th>1</th>\n",
              "      <td>3</td>\n",
              "      <td>0.882812</td>\n",
              "    </tr>\n",
              "    <tr>\n",
              "      <th>2</th>\n",
              "      <td>4</td>\n",
              "      <td>0.749406</td>\n",
              "    </tr>\n",
              "    <tr>\n",
              "      <th>3</th>\n",
              "      <td>4</td>\n",
              "      <td>0.968609</td>\n",
              "    </tr>\n",
              "    <tr>\n",
              "      <th>4</th>\n",
              "      <td>1</td>\n",
              "      <td>0.773666</td>\n",
              "    </tr>\n",
              "  </tbody>\n",
              "</table>\n",
              "</div>\n",
              "      <button class=\"colab-df-convert\" onclick=\"convertToInteractive('df-e689ad5d-2b84-4d3b-9efd-60652a5d05b8')\"\n",
              "              title=\"Convert this dataframe to an interactive table.\"\n",
              "              style=\"display:none;\">\n",
              "        \n",
              "  <svg xmlns=\"http://www.w3.org/2000/svg\" height=\"24px\"viewBox=\"0 0 24 24\"\n",
              "       width=\"24px\">\n",
              "    <path d=\"M0 0h24v24H0V0z\" fill=\"none\"/>\n",
              "    <path d=\"M18.56 5.44l.94 2.06.94-2.06 2.06-.94-2.06-.94-.94-2.06-.94 2.06-2.06.94zm-11 1L8.5 8.5l.94-2.06 2.06-.94-2.06-.94L8.5 2.5l-.94 2.06-2.06.94zm10 10l.94 2.06.94-2.06 2.06-.94-2.06-.94-.94-2.06-.94 2.06-2.06.94z\"/><path d=\"M17.41 7.96l-1.37-1.37c-.4-.4-.92-.59-1.43-.59-.52 0-1.04.2-1.43.59L10.3 9.45l-7.72 7.72c-.78.78-.78 2.05 0 2.83L4 21.41c.39.39.9.59 1.41.59.51 0 1.02-.2 1.41-.59l7.78-7.78 2.81-2.81c.8-.78.8-2.07 0-2.86zM5.41 20L4 18.59l7.72-7.72 1.47 1.35L5.41 20z\"/>\n",
              "  </svg>\n",
              "      </button>\n",
              "      \n",
              "  <style>\n",
              "    .colab-df-container {\n",
              "      display:flex;\n",
              "      flex-wrap:wrap;\n",
              "      gap: 12px;\n",
              "    }\n",
              "\n",
              "    .colab-df-convert {\n",
              "      background-color: #E8F0FE;\n",
              "      border: none;\n",
              "      border-radius: 50%;\n",
              "      cursor: pointer;\n",
              "      display: none;\n",
              "      fill: #1967D2;\n",
              "      height: 32px;\n",
              "      padding: 0 0 0 0;\n",
              "      width: 32px;\n",
              "    }\n",
              "\n",
              "    .colab-df-convert:hover {\n",
              "      background-color: #E2EBFA;\n",
              "      box-shadow: 0px 1px 2px rgba(60, 64, 67, 0.3), 0px 1px 3px 1px rgba(60, 64, 67, 0.15);\n",
              "      fill: #174EA6;\n",
              "    }\n",
              "\n",
              "    [theme=dark] .colab-df-convert {\n",
              "      background-color: #3B4455;\n",
              "      fill: #D2E3FC;\n",
              "    }\n",
              "\n",
              "    [theme=dark] .colab-df-convert:hover {\n",
              "      background-color: #434B5C;\n",
              "      box-shadow: 0px 1px 3px 1px rgba(0, 0, 0, 0.15);\n",
              "      filter: drop-shadow(0px 1px 2px rgba(0, 0, 0, 0.3));\n",
              "      fill: #FFFFFF;\n",
              "    }\n",
              "  </style>\n",
              "\n",
              "      <script>\n",
              "        const buttonEl =\n",
              "          document.querySelector('#df-e689ad5d-2b84-4d3b-9efd-60652a5d05b8 button.colab-df-convert');\n",
              "        buttonEl.style.display =\n",
              "          google.colab.kernel.accessAllowed ? 'block' : 'none';\n",
              "\n",
              "        async function convertToInteractive(key) {\n",
              "          const element = document.querySelector('#df-e689ad5d-2b84-4d3b-9efd-60652a5d05b8');\n",
              "          const dataTable =\n",
              "            await google.colab.kernel.invokeFunction('convertToInteractive',\n",
              "                                                     [key], {});\n",
              "          if (!dataTable) return;\n",
              "\n",
              "          const docLinkHtml = 'Like what you see? Visit the ' +\n",
              "            '<a target=\"_blank\" href=https://colab.research.google.com/notebooks/data_table.ipynb>data table notebook</a>'\n",
              "            + ' to learn more about interactive tables.';\n",
              "          element.innerHTML = '';\n",
              "          dataTable['output_type'] = 'display_data';\n",
              "          await google.colab.output.renderOutput(dataTable, element);\n",
              "          const docLink = document.createElement('div');\n",
              "          docLink.innerHTML = docLinkHtml;\n",
              "          element.appendChild(docLink);\n",
              "        }\n",
              "      </script>\n",
              "    </div>\n",
              "  </div>\n",
              "  "
            ]
          },
          "metadata": {},
          "execution_count": 134
        }
      ]
    },
    {
      "cell_type": "markdown",
      "source": [
        "No example for argmin as it's redundant."
      ],
      "metadata": {
        "id": "g3_X_-1BGKPA"
      }
    },
    {
      "cell_type": "markdown",
      "source": [
        "### Squeezing a tensor (removing all single dimensions)"
      ],
      "metadata": {
        "id": "7o-ZrR62KQ4A"
      }
    },
    {
      "cell_type": "code",
      "source": [
        "tf.random.set_seed(42)\n",
        "G = tf.constant(tf.random.uniform(shape=[50]), shape=[1, 1, 1, 1, 50])\n",
        "G, G.shape"
      ],
      "metadata": {
        "id": "H3FFCrEbKSWI",
        "outputId": "a984df7d-369e-4659-fc96-45d710571ad6",
        "colab": {
          "base_uri": "https://localhost:8080/"
        }
      },
      "execution_count": 142,
      "outputs": [
        {
          "output_type": "execute_result",
          "data": {
            "text/plain": [
              "(<tf.Tensor: shape=(1, 1, 1, 1, 50), dtype=float32, numpy=\n",
              " array([[[[[0.6645621 , 0.44100678, 0.3528825 , 0.46448255, 0.03366041,\n",
              "            0.68467236, 0.74011743, 0.8724445 , 0.22632635, 0.22319686,\n",
              "            0.3103881 , 0.7223358 , 0.13318717, 0.5480639 , 0.5746088 ,\n",
              "            0.8996835 , 0.00946367, 0.5212307 , 0.6345445 , 0.1993283 ,\n",
              "            0.72942245, 0.54583454, 0.10756552, 0.6767061 , 0.6602763 ,\n",
              "            0.33695042, 0.60141766, 0.21062577, 0.8527372 , 0.44062173,\n",
              "            0.9485276 , 0.23752594, 0.81179297, 0.5263394 , 0.494308  ,\n",
              "            0.21612847, 0.8457197 , 0.8718841 , 0.3083862 , 0.6868038 ,\n",
              "            0.23764038, 0.7817228 , 0.9671384 , 0.06870162, 0.79873943,\n",
              "            0.66028714, 0.5871513 , 0.16461694, 0.7381023 , 0.32054043]]]]],\n",
              "       dtype=float32)>, TensorShape([1, 1, 1, 1, 50]))"
            ]
          },
          "metadata": {},
          "execution_count": 142
        }
      ]
    },
    {
      "cell_type": "code",
      "source": [
        "# remove dimensions of size 1 from the shape of a tensor\n",
        "G_squeezed = tf.squeeze(G)\n",
        "G_squeezed, G_squeezed.shape"
      ],
      "metadata": {
        "id": "BEL-z8b1LVrK",
        "outputId": "b6dd2754-ddcf-48ad-d3dd-e01cb35d7589",
        "colab": {
          "base_uri": "https://localhost:8080/"
        }
      },
      "execution_count": 143,
      "outputs": [
        {
          "output_type": "execute_result",
          "data": {
            "text/plain": [
              "(<tf.Tensor: shape=(50,), dtype=float32, numpy=\n",
              " array([0.6645621 , 0.44100678, 0.3528825 , 0.46448255, 0.03366041,\n",
              "        0.68467236, 0.74011743, 0.8724445 , 0.22632635, 0.22319686,\n",
              "        0.3103881 , 0.7223358 , 0.13318717, 0.5480639 , 0.5746088 ,\n",
              "        0.8996835 , 0.00946367, 0.5212307 , 0.6345445 , 0.1993283 ,\n",
              "        0.72942245, 0.54583454, 0.10756552, 0.6767061 , 0.6602763 ,\n",
              "        0.33695042, 0.60141766, 0.21062577, 0.8527372 , 0.44062173,\n",
              "        0.9485276 , 0.23752594, 0.81179297, 0.5263394 , 0.494308  ,\n",
              "        0.21612847, 0.8457197 , 0.8718841 , 0.3083862 , 0.6868038 ,\n",
              "        0.23764038, 0.7817228 , 0.9671384 , 0.06870162, 0.79873943,\n",
              "        0.66028714, 0.5871513 , 0.16461694, 0.7381023 , 0.32054043],\n",
              "       dtype=float32)>, TensorShape([50]))"
            ]
          },
          "metadata": {},
          "execution_count": 143
        }
      ]
    },
    {
      "cell_type": "markdown",
      "source": [
        "### One-hot encoding tensors\n",
        "\n",
        "[good explanation](https://hackernoon.com/what-is-one-hot-encoding-why-and-when-do-you-have-to-use-it-e3c6186d008f)\n",
        "\n",
        "A form of numerical encoding of non-numeric input data.\n",
        "\n",
        "Gist:\n",
        "\n",
        "We have original data:\n",
        "```\n",
        "company price\n",
        "VW      19999\n",
        "Acura   10000\n",
        "Honda   29000\n",
        "Honda   ...\n",
        "Acura   \n",
        "```\n",
        "\n",
        "Add a categorical value (a number \"encoding\" of the company, basically a value from 0 to N-1 categories). Category here is the company.\n",
        "\n",
        "```\n",
        "company categoricalValue price\n",
        "VW      0                ...  \n",
        "Acura   1\n",
        "Honda   2\n",
        "Honda   2\n",
        "Acura   1\n",
        "```\n",
        "\n",
        "These can be **one-hot** (just binary) encoded by adding columns and encoding if the row belongs to a category using *1* (existant) and *0* (not existant):\n",
        "\n",
        "```\n",
        "VW  Acura  Honda  Price\n",
        "1   0      0      19999\n",
        "0   1      0      ...\n",
        "0   0      1      \n",
        "0   0      1\n",
        "0   1      0\n",
        "```\n",
        "\n",
        "If we just used the feature number, the ML algorithm would see it as one feature and would calculate stupid averages (e.g. the average of VW and Honda is 1.5).\n",
        "\n",
        "[more explanation](https://machinelearningmastery.com/why-one-hot-encode-data-in-machine-learning/)\n",
        "\n"
      ],
      "metadata": {
        "id": "PuJTJlotL1PC"
      }
    },
    {
      "cell_type": "code",
      "source": [
        "# Create a list of indices\n",
        "some_list = [0, 1, 2, 3, 3, 0]; # could be red, green, blue, purple\n",
        "\n",
        "# One hot encode list of indices\n",
        "# depth = \"A scalar defining the depth of the one hot dimension\". Basically, how many unique values there are\n",
        "tf.one_hot(some_list, depth=4)"
      ],
      "metadata": {
        "id": "7-LacJBlPZ63",
        "outputId": "97ed6220-7c9c-49cf-c944-8d2c1fc72be5",
        "colab": {
          "base_uri": "https://localhost:8080/"
        }
      },
      "execution_count": 155,
      "outputs": [
        {
          "output_type": "execute_result",
          "data": {
            "text/plain": [
              "<tf.Tensor: shape=(6, 4), dtype=float32, numpy=\n",
              "array([[1., 0., 0., 0.],\n",
              "       [0., 1., 0., 0.],\n",
              "       [0., 0., 1., 0.],\n",
              "       [0., 0., 0., 1.],\n",
              "       [0., 0., 0., 1.],\n",
              "       [1., 0., 0., 0.]], dtype=float32)>"
            ]
          },
          "metadata": {},
          "execution_count": 155
        }
      ]
    },
    {
      "cell_type": "code",
      "source": [
        "# specify custom values for one hot encoding\n",
        "tf.one_hot(some_list, depth=6, on_value=\"x\", off_value=\"o\")"
      ],
      "metadata": {
        "id": "NyyOm0nrP-Sp",
        "outputId": "7bbaff41-6001-4eb1-c8de-601b53ff5a4a",
        "colab": {
          "base_uri": "https://localhost:8080/"
        }
      },
      "execution_count": 149,
      "outputs": [
        {
          "output_type": "execute_result",
          "data": {
            "text/plain": [
              "<tf.Tensor: shape=(6, 6), dtype=string, numpy=\n",
              "array([[b'x', b'o', b'o', b'o', b'o', b'o'],\n",
              "       [b'o', b'x', b'o', b'o', b'o', b'o'],\n",
              "       [b'o', b'o', b'x', b'o', b'o', b'o'],\n",
              "       [b'o', b'o', b'o', b'x', b'o', b'o'],\n",
              "       [b'o', b'o', b'o', b'x', b'o', b'o'],\n",
              "       [b'x', b'o', b'o', b'o', b'o', b'o']], dtype=object)>"
            ]
          },
          "metadata": {},
          "execution_count": 149
        }
      ]
    },
    {
      "cell_type": "markdown",
      "source": [
        "### Squaring, log, square root"
      ],
      "metadata": {
        "id": "Z1llx2SXRSzS"
      }
    },
    {
      "cell_type": "code",
      "source": [
        "H = tf.range(1.,10.) # some math ops require floats\n",
        "H"
      ],
      "metadata": {
        "id": "y_dHNOjkRWte",
        "outputId": "0b63b7bf-7e18-446a-b139-a653c3d3748d",
        "colab": {
          "base_uri": "https://localhost:8080/"
        }
      },
      "execution_count": 161,
      "outputs": [
        {
          "output_type": "execute_result",
          "data": {
            "text/plain": [
              "<tf.Tensor: shape=(9,), dtype=float32, numpy=array([1., 2., 3., 4., 5., 6., 7., 8., 9.], dtype=float32)>"
            ]
          },
          "metadata": {},
          "execution_count": 161
        }
      ]
    },
    {
      "cell_type": "code",
      "source": [
        "# square\n",
        "# might be useful to make data more distinct without changing the relative values\n",
        "tf.math.square(H)"
      ],
      "metadata": {
        "id": "lBzSjZDoRbFo",
        "outputId": "f8bdf7d4-a416-4b43-b791-50f28ea58834",
        "colab": {
          "base_uri": "https://localhost:8080/"
        }
      },
      "execution_count": 162,
      "outputs": [
        {
          "output_type": "execute_result",
          "data": {
            "text/plain": [
              "<tf.Tensor: shape=(9,), dtype=float32, numpy=array([ 1.,  4.,  9., 16., 25., 36., 49., 64., 81.], dtype=float32)>"
            ]
          },
          "metadata": {},
          "execution_count": 162
        }
      ]
    },
    {
      "cell_type": "code",
      "source": [
        "# assign values to a logarithmic scale\n",
        "tf.math.log(H)"
      ],
      "metadata": {
        "id": "gB0ZVdc1Uoeg",
        "outputId": "32497273-5a3e-42a9-cabc-dcf5ddd21626",
        "colab": {
          "base_uri": "https://localhost:8080/"
        }
      },
      "execution_count": 163,
      "outputs": [
        {
          "output_type": "execute_result",
          "data": {
            "text/plain": [
              "<tf.Tensor: shape=(9,), dtype=float32, numpy=\n",
              "array([0.       , 0.6931472, 1.0986123, 1.3862944, 1.609438 , 1.7917595,\n",
              "       1.9459102, 2.0794415, 2.1972246], dtype=float32)>"
            ]
          },
          "metadata": {},
          "execution_count": 163
        }
      ]
    },
    {
      "cell_type": "code",
      "source": [
        "# square root\n",
        "tf.math.sqrt(H)"
      ],
      "metadata": {
        "id": "tTE2NefPU79t",
        "outputId": "a9aaf0bd-564f-49d8-b28f-0a1deed5b43e",
        "colab": {
          "base_uri": "https://localhost:8080/"
        }
      },
      "execution_count": 164,
      "outputs": [
        {
          "output_type": "execute_result",
          "data": {
            "text/plain": [
              "<tf.Tensor: shape=(9,), dtype=float32, numpy=\n",
              "array([1.       , 1.4142135, 1.7320508, 2.       , 2.236068 , 2.4494898,\n",
              "       2.6457512, 2.828427 , 3.       ], dtype=float32)>"
            ]
          },
          "metadata": {},
          "execution_count": 164
        }
      ]
    },
    {
      "cell_type": "markdown",
      "source": [
        "### Exploring tensorflow and NumPys compatibility\n",
        "\n",
        "Tensorflow interacts nicely with NumPy, fundamental mathematical library of python, built on numpy arrays (type = `numpy.ndarray`).\n"
      ],
      "metadata": {
        "id": "9q3MkfYxVyO3"
      }
    },
    {
      "cell_type": "code",
      "source": [
        "# create a tensor from a numpy array\n",
        "J = tf.constant(np.array([1.,2.,3.]))\n",
        "J"
      ],
      "metadata": {
        "id": "KdM0t7kGWHHP",
        "outputId": "c0cd338b-3a42-4a60-95db-2056f28cbab0",
        "colab": {
          "base_uri": "https://localhost:8080/"
        }
      },
      "execution_count": 167,
      "outputs": [
        {
          "output_type": "execute_result",
          "data": {
            "text/plain": [
              "<tf.Tensor: shape=(3,), dtype=float64, numpy=array([1., 2., 3.])>"
            ]
          },
          "metadata": {},
          "execution_count": 167
        }
      ]
    },
    {
      "cell_type": "code",
      "source": [
        "# convert it back to a numpy array with various methods\n",
        "print(J.numpy(), \": \", type(J.numpy()), \"\\n\")\n",
        "print(np.array(J), \": \", type(np.array(J)), \"\\n\")"
      ],
      "metadata": {
        "id": "1tG1x_jQWX-Z",
        "outputId": "aa3e7ada-ceaf-453d-d4c0-8345af002216",
        "colab": {
          "base_uri": "https://localhost:8080/"
        }
      },
      "execution_count": 171,
      "outputs": [
        {
          "output_type": "stream",
          "name": "stdout",
          "text": [
            "[1. 2. 3.] :  <class 'numpy.ndarray'> \n",
            "\n",
            "[1. 2. 3.] :  <class 'numpy.ndarray'> \n",
            "\n"
          ]
        }
      ]
    },
    {
      "cell_type": "code",
      "source": [
        "J = tf.constant([3.])\n",
        "J.numpy()[0]"
      ],
      "metadata": {
        "id": "34SVdqS1WdYh",
        "outputId": "b9b7b408-1e08-455d-b043-cf8a9fab4ee1",
        "colab": {
          "base_uri": "https://localhost:8080/"
        }
      },
      "execution_count": 173,
      "outputs": [
        {
          "output_type": "execute_result",
          "data": {
            "text/plain": [
              "3.0"
            ]
          },
          "metadata": {},
          "execution_count": 173
        }
      ]
    },
    {
      "cell_type": "code",
      "source": [
        "# default types of tf an np are slightly different\n",
        "numpy_J = tf.constant(np.array([3., 7., 10.]))\n",
        "print(\"numpy_J (tensor from numpy array): \", numpy_J, \"\\n\") # defaults to float64\n",
        "tensor_J = tf.constant([3., 7., 10.])\n",
        "print(\"tensor_J (tensor from python array): \", tensor_J, \"\\n\") # defaults to float32"
      ],
      "metadata": {
        "id": "h7qCclN2XTXw",
        "outputId": "559207c1-b753-4899-8d9a-77e5d5aa1a28",
        "colab": {
          "base_uri": "https://localhost:8080/"
        }
      },
      "execution_count": 175,
      "outputs": [
        {
          "output_type": "stream",
          "name": "stdout",
          "text": [
            "numpy_J (tensor from numpy array):  tf.Tensor([ 3.  7. 10.], shape=(3,), dtype=float64) \n",
            "\n",
            "tensor_J (tensor from python array):  tf.Tensor([ 3.  7. 10.], shape=(3,), dtype=float32) \n",
            "\n"
          ]
        }
      ]
    },
    {
      "cell_type": "markdown",
      "source": [
        "### Ensuring tensor operations can run on GPUs / TPUs\n",
        "\n",
        "The main difference between tensor and numpy array is that **a TensorFlow tensor can be run on a GPU or TPU**.\n",
        "\n"
      ],
      "metadata": {
        "id": "h44oEDwpZHl-"
      }
    },
    {
      "cell_type": "code",
      "source": [
        "# check physical devices\n",
        "tf.config.list_physical_devices()"
      ],
      "metadata": {
        "id": "mM8H6kPHZd3j",
        "outputId": "e0f0b0eb-3bff-43ad-f4e7-c4e123ed1d9a",
        "colab": {
          "base_uri": "https://localhost:8080/"
        }
      },
      "execution_count": 177,
      "outputs": [
        {
          "output_type": "execute_result",
          "data": {
            "text/plain": [
              "[PhysicalDevice(name='/physical_device:CPU:0', device_type='CPU')]"
            ]
          },
          "metadata": {},
          "execution_count": 177
        }
      ]
    },
    {
      "cell_type": "code",
      "source": [
        "# check specific devices\n",
        "tf.config.list_physical_devices(\"GPU\")"
      ],
      "metadata": {
        "id": "k4mBW_hfZqG6",
        "outputId": "7caf891e-b9d3-4fde-db00-7dac0b9f1067",
        "colab": {
          "base_uri": "https://localhost:8080/"
        }
      },
      "execution_count": 179,
      "outputs": [
        {
          "output_type": "execute_result",
          "data": {
            "text/plain": [
              "[]"
            ]
          },
          "metadata": {},
          "execution_count": 179
        }
      ]
    },
    {
      "cell_type": "markdown",
      "source": [
        "In google colab, we can switch between cpu, gpu and tpu (based on availability) in \"change runtime type\" at the bottom of the resources bar (\"view resources\" in the little menu beside the ram/disk usage indicator in the top right)."
      ],
      "metadata": {
        "id": "pgGNHKVBZ46x"
      }
    },
    {
      "cell_type": "code",
      "source": [
        "# ! runs commands on the command line\n",
        "!nvidia-smi"
      ],
      "metadata": {
        "id": "l0nZrpdHasPM"
      },
      "execution_count": null,
      "outputs": []
    },
    {
      "cell_type": "markdown",
      "source": [
        "**Note**: If you have access to a CUDA-enabled GPU, TensorFlow will automatically use it whenever possible."
      ],
      "metadata": {
        "id": "Esi6h6gXazvb"
      }
    }
  ]
}