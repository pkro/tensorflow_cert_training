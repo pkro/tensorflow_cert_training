{
  "nbformat": 4,
  "nbformat_minor": 0,
  "metadata": {
    "colab": {
      "provenance": [],
      "include_colab_link": true
    },
    "kernelspec": {
      "name": "python3",
      "display_name": "Python 3"
    },
    "language_info": {
      "name": "python"
    }
  },
  "cells": [
    {
      "cell_type": "markdown",
      "metadata": {
        "id": "view-in-github",
        "colab_type": "text"
      },
      "source": [
        "<a href=\"https://colab.research.google.com/github/pkro/tensorflow_cert_training/blob/main/colab_notebooks/00_tensorflow_fundamentals.ipynb\" target=\"_parent\"><img src=\"https://colab.research.google.com/assets/colab-badge.svg\" alt=\"Open In Colab\"/></a>"
      ]
    },
    {
      "cell_type": "markdown",
      "source": [
        "# tensor fundamentals using tensorflow\n",
        "\n",
        "- Introduction to tensors\n",
        "- getting information from tensor\n",
        "- manipulating tensors\n",
        "- tensors and NumPy\n",
        "- Using tf.function (speed up regular python functions)\n",
        "- using gpus / tpus with TensorFlow\n",
        "- Exercises\n"
      ],
      "metadata": {
        "id": "rfW-Q_3gB9is"
      }
    },
    {
      "cell_type": "markdown",
      "source": [
        "Introduction to tensors\n"
      ],
      "metadata": {
        "id": "LydiSCRtdXiz"
      }
    },
    {
      "cell_type": "code",
      "source": [
        "import tensorflow as tf\n",
        "\n",
        "print(tf.__version__)"
      ],
      "metadata": {
        "id": "uyKLNs_BeZTQ",
        "outputId": "7fd42bdd-5b13-4bf9-8c5d-0269d4891168",
        "colab": {
          "base_uri": "https://localhost:8080/"
        }
      },
      "execution_count": 1,
      "outputs": [
        {
          "output_type": "stream",
          "name": "stdout",
          "text": [
            "2.9.2\n"
          ]
        }
      ]
    },
    {
      "cell_type": "code",
      "execution_count": 2,
      "outputs": [
        {
          "output_type": "stream",
          "name": "stdout",
          "text": [
            "[]\n",
            "[name: \"/device:CPU:0\"\n",
            "device_type: \"CPU\"\n",
            "memory_limit: 268435456\n",
            "locality {\n",
            "}\n",
            "incarnation: 1993800861790547560\n",
            "xla_global_id: -1\n",
            "]\n"
          ]
        }
      ],
      "source": [
        "print(tf.config.list_physical_devices('GPU'))\n",
        "from tensorflow.python.client import device_lib\n",
        "print(device_lib.list_local_devices())"
      ],
      "metadata": {
        "id": "8f9oxvcHM9Q6",
        "outputId": "f8b762e3-19b0-49ff-bd99-40bed0216ddd",
        "colab": {
          "base_uri": "https://localhost:8080/"
        }
      }
    },
    {
      "cell_type": "code",
      "source": [
        "# Create tensors with tf.constant()\n",
        "scalar = tf.constant(7)\n",
        "scalar"
      ],
      "metadata": {
        "id": "hCbd8xyteuEm",
        "outputId": "141805a1-84a5-450f-fee8-18bfbc9ff8fd",
        "colab": {
          "base_uri": "https://localhost:8080/"
        }
      },
      "execution_count": 3,
      "outputs": [
        {
          "output_type": "execute_result",
          "data": {
            "text/plain": [
              "<tf.Tensor: shape=(), dtype=int32, numpy=7>"
            ]
          },
          "metadata": {},
          "execution_count": 3
        }
      ]
    },
    {
      "cell_type": "code",
      "source": [
        "#Check number of dimentsions of a tensor (ndim = Number of DIMensions)\n",
        "scalar.ndim"
      ],
      "metadata": {
        "id": "kLO-PDiXfa43",
        "outputId": "74944d53-0792-4e65-b364-cb62b92cd04b",
        "colab": {
          "base_uri": "https://localhost:8080/"
        }
      },
      "execution_count": 4,
      "outputs": [
        {
          "output_type": "execute_result",
          "data": {
            "text/plain": [
              "0"
            ]
          },
          "metadata": {},
          "execution_count": 4
        }
      ]
    },
    {
      "cell_type": "code",
      "source": [
        "# create a vector\n",
        "vector = tf.constant([3,4])\n",
        "vector"
      ],
      "metadata": {
        "id": "8S-FoRqEgqID",
        "outputId": "93c3eb87-5b12-4f83-f476-8f27c74882b3",
        "colab": {
          "base_uri": "https://localhost:8080/"
        }
      },
      "execution_count": 5,
      "outputs": [
        {
          "output_type": "execute_result",
          "data": {
            "text/plain": [
              "<tf.Tensor: shape=(2,), dtype=int32, numpy=array([3, 4], dtype=int32)>"
            ]
          },
          "metadata": {},
          "execution_count": 5
        }
      ]
    },
    {
      "cell_type": "code",
      "source": [
        "# check vector dimension\n",
        "vector.ndim"
      ],
      "metadata": {
        "id": "swLIIs4og_-k",
        "outputId": "ba766e27-20bd-40b5-b029-4fdd3b44f859",
        "colab": {
          "base_uri": "https://localhost:8080/"
        }
      },
      "execution_count": 6,
      "outputs": [
        {
          "output_type": "execute_result",
          "data": {
            "text/plain": [
              "1"
            ]
          },
          "metadata": {},
          "execution_count": 6
        }
      ]
    },
    {
      "cell_type": "code",
      "source": [
        "# matrix (more than 1 dimension)\n",
        "matrix = tf.constant([[10,7],\n",
        "                      [7,10]])\n",
        "matrix"
      ],
      "metadata": {
        "id": "ij8egxnrhNJo",
        "outputId": "e3212517-3c4b-4b00-8602-23d7264ede04",
        "colab": {
          "base_uri": "https://localhost:8080/"
        }
      },
      "execution_count": 7,
      "outputs": [
        {
          "output_type": "execute_result",
          "data": {
            "text/plain": [
              "<tf.Tensor: shape=(2, 2), dtype=int32, numpy=\n",
              "array([[10,  7],\n",
              "       [ 7, 10]], dtype=int32)>"
            ]
          },
          "metadata": {},
          "execution_count": 7
        }
      ]
    },
    {
      "cell_type": "code",
      "source": [
        "matrix.ndim"
      ],
      "metadata": {
        "id": "fmHk130Bhe5c",
        "outputId": "b2f8202f-3165-4947-e990-b4100bd8aedf",
        "colab": {
          "base_uri": "https://localhost:8080/"
        }
      },
      "execution_count": 8,
      "outputs": [
        {
          "output_type": "execute_result",
          "data": {
            "text/plain": [
              "2"
            ]
          },
          "metadata": {},
          "execution_count": 8
        }
      ]
    },
    {
      "cell_type": "markdown",
      "source": [
        "It seems the dimension of the tensors is related to the number of elements in the `shape` property of the tensor."
      ],
      "metadata": {
        "id": "qGXmyIK7hq22"
      }
    },
    {
      "cell_type": "code",
      "source": [
        "# Create another matrix and specify data tyoe\n",
        "another_matrix = tf.constant([[10.,7.],\n",
        "                              [8., 9.],\n",
        "                              [3., 4.]], dtype=tf.float16)\n",
        "another_matrix"
      ],
      "metadata": {
        "id": "Aw2TkfKSh9iB",
        "outputId": "81cb1a3e-b6d4-4c21-ad58-8106ca346035",
        "colab": {
          "base_uri": "https://localhost:8080/"
        }
      },
      "execution_count": 9,
      "outputs": [
        {
          "output_type": "execute_result",
          "data": {
            "text/plain": [
              "<tf.Tensor: shape=(3, 2), dtype=float16, numpy=\n",
              "array([[10.,  7.],\n",
              "       [ 8.,  9.],\n",
              "       [ 3.,  4.]], dtype=float16)>"
            ]
          },
          "metadata": {},
          "execution_count": 9
        }
      ]
    },
    {
      "cell_type": "code",
      "source": [
        "another_matrix.ndim"
      ],
      "metadata": {
        "id": "JsV-H1DQiZ6D",
        "outputId": "3fea7ce8-ed8b-40cc-f9ef-dc05c172cf3d",
        "colab": {
          "base_uri": "https://localhost:8080/"
        }
      },
      "execution_count": 10,
      "outputs": [
        {
          "output_type": "execute_result",
          "data": {
            "text/plain": [
              "2"
            ]
          },
          "metadata": {},
          "execution_count": 10
        }
      ]
    },
    {
      "cell_type": "markdown",
      "source": [
        "The shape seems to have the format (rows, columns, ...);"
      ],
      "metadata": {
        "id": "PuJrayBDiy5s"
      }
    },
    {
      "cell_type": "code",
      "source": [
        "# note: all of the above were tensors too as e.g. a matrix is a subtype of a tensor\n",
        "tensor = tf.constant([\n",
        "    [[1,2,3], [4,5,6]],\n",
        "    [[7,8,9], [10,11,12]],\n",
        "    [[13,14,15], [16,17,18]]\n",
        "])\n",
        "tensor"
      ],
      "metadata": {
        "id": "3gvanxm9kQXm",
        "outputId": "46a8e605-7508-4209-b661-909dbe90c2ac",
        "colab": {
          "base_uri": "https://localhost:8080/"
        }
      },
      "execution_count": 11,
      "outputs": [
        {
          "output_type": "execute_result",
          "data": {
            "text/plain": [
              "<tf.Tensor: shape=(3, 2, 3), dtype=int32, numpy=\n",
              "array([[[ 1,  2,  3],\n",
              "        [ 4,  5,  6]],\n",
              "\n",
              "       [[ 7,  8,  9],\n",
              "        [10, 11, 12]],\n",
              "\n",
              "       [[13, 14, 15],\n",
              "        [16, 17, 18]]], dtype=int32)>"
            ]
          },
          "metadata": {},
          "execution_count": 11
        }
      ]
    },
    {
      "cell_type": "code",
      "source": [
        "tensor.ndim"
      ],
      "metadata": {
        "id": "nVHqR0nYlDyM",
        "outputId": "ad008c19-114d-4ed5-b28a-b74ecacdd4f6",
        "colab": {
          "base_uri": "https://localhost:8080/"
        }
      },
      "execution_count": 12,
      "outputs": [
        {
          "output_type": "execute_result",
          "data": {
            "text/plain": [
              "3"
            ]
          },
          "metadata": {},
          "execution_count": 12
        }
      ]
    },
    {
      "cell_type": "markdown",
      "source": [
        "### What we learned:\n",
        "\n",
        "- scalar: a single number\n",
        "- vector: a number with direction, e.g. wind speed and direction\n",
        "- matrix: 2-dimensional array of numbers\n",
        "- tensor: n-dimensional array of numbers (n = any number; a 0-dimensional tensor is a scalar, a 1-dimensional tensor is a vector)\n"
      ],
      "metadata": {
        "id": "GjxIPvQulcgg"
      }
    },
    {
      "cell_type": "markdown",
      "source": [
        "### Creating tensors with tf.Variable and tf.constant\n",
        "\n",
        ">A variable maintains shared, persistent state manipulated by a program.\n",
        "\n",
        "https://www.tensorflow.org/api_docs/python/tf/Variable\n",
        "\n",
        "When in doubt, use constant and change later if needed.\n",
        "\n",
        "In practice, creating variables / constants is taking care of by tf.\n"
      ],
      "metadata": {
        "id": "41jAKofm2Kg8"
      }
    },
    {
      "cell_type": "code",
      "source": [
        "v = tf.Variable(1.)\n",
        "v"
      ],
      "metadata": {
        "id": "AMyy4O_52ban",
        "outputId": "d67535dd-72c4-4e4c-f08f-8ef1f21fc7d9",
        "colab": {
          "base_uri": "https://localhost:8080/"
        }
      },
      "execution_count": 13,
      "outputs": [
        {
          "output_type": "execute_result",
          "data": {
            "text/plain": [
              "<tf.Variable 'Variable:0' shape=() dtype=float32, numpy=1.0>"
            ]
          },
          "metadata": {},
          "execution_count": 13
        }
      ]
    },
    {
      "cell_type": "code",
      "source": [
        "# does not work, shape mismatch\n",
        "# v.assign([1,2])\n",
        "v.assign(5.) # works\n",
        "v"
      ],
      "metadata": {
        "id": "OA45NL8O2w81",
        "outputId": "d03340d5-1865-42a3-bf21-9f74d9aacafa",
        "colab": {
          "base_uri": "https://localhost:8080/"
        }
      },
      "execution_count": 14,
      "outputs": [
        {
          "output_type": "execute_result",
          "data": {
            "text/plain": [
              "<tf.Variable 'Variable:0' shape=() dtype=float32, numpy=5.0>"
            ]
          },
          "metadata": {},
          "execution_count": 14
        }
      ]
    },
    {
      "cell_type": "code",
      "source": [
        "changeable_tensor = tf.Variable([10,7])\n",
        "unchangeable_tensor = tf.constant([4,5])\n",
        "changeable_tensor, unchangeable_tensor"
      ],
      "metadata": {
        "id": "hAiL4Qvk27Yt",
        "outputId": "4d76fb24-5f32-49b9-b313-bdbea935df97",
        "colab": {
          "base_uri": "https://localhost:8080/"
        }
      },
      "execution_count": 15,
      "outputs": [
        {
          "output_type": "execute_result",
          "data": {
            "text/plain": [
              "(<tf.Variable 'Variable:0' shape=(2,) dtype=int32, numpy=array([10,  7], dtype=int32)>,\n",
              " <tf.Tensor: shape=(2,), dtype=int32, numpy=array([4, 5], dtype=int32)>)"
            ]
          },
          "metadata": {},
          "execution_count": 15
        }
      ]
    },
    {
      "cell_type": "code",
      "source": [
        "changeable_tensor[0]"
      ],
      "metadata": {
        "id": "Et3F3NHp3c8E",
        "outputId": "90f51562-e8ef-42e8-d67e-a41f9f2e4f6d",
        "colab": {
          "base_uri": "https://localhost:8080/"
        }
      },
      "execution_count": 16,
      "outputs": [
        {
          "output_type": "execute_result",
          "data": {
            "text/plain": [
              "<tf.Tensor: shape=(), dtype=int32, numpy=10>"
            ]
          },
          "metadata": {},
          "execution_count": 16
        }
      ]
    },
    {
      "cell_type": "code",
      "source": [
        "# changeable_tensor.assign([1,2,3]) # shape mismatch\n",
        "# unchangeable_tensor.assign([1,2]) # obviousle doesn't even have an assign method\n",
        "changeable_tensor.assign([1,2]) # works fine"
      ],
      "metadata": {
        "id": "OmvTMglI3jUi",
        "outputId": "aec73ee3-ffca-4c86-9313-f484ffd04b3a",
        "colab": {
          "base_uri": "https://localhost:8080/"
        }
      },
      "execution_count": 17,
      "outputs": [
        {
          "output_type": "execute_result",
          "data": {
            "text/plain": [
              "<tf.Variable 'UnreadVariable' shape=(2,) dtype=int32, numpy=array([1, 2], dtype=int32)>"
            ]
          },
          "metadata": {},
          "execution_count": 17
        }
      ]
    },
    {
      "cell_type": "code",
      "source": [
        "# We can also assign single elements\n",
        "changeable_tensor[0].assign(10)"
      ],
      "metadata": {
        "id": "zEqBtMPy31Hn",
        "outputId": "1c1abfc7-1151-4e9c-ad94-7c2b03bf5dbe",
        "colab": {
          "base_uri": "https://localhost:8080/"
        }
      },
      "execution_count": 18,
      "outputs": [
        {
          "output_type": "execute_result",
          "data": {
            "text/plain": [
              "<tf.Variable 'UnreadVariable' shape=(2,) dtype=int32, numpy=array([10,  2], dtype=int32)>"
            ]
          },
          "metadata": {},
          "execution_count": 18
        }
      ]
    },
    {
      "cell_type": "markdown",
      "source": [
        "### Creating random tensors with tf.Variable()\n",
        "\n",
        "Random tensors are tensors of arbitrary size containing random numbers.\n",
        "\n",
        "They are used to initialize the middle layer of the neural network (=representation = patterns = features = weights) and then tweak them by learning.\n",
        "\n",
        "![random initialization](https://github.com/pkro/tensorflow_cert_training/blob/main/readme_images/random_init.png?raw=1)\n"
      ],
      "metadata": {
        "id": "91l5bMn24xNh"
      }
    },
    {
      "cell_type": "code",
      "source": [
        "# create 2 random (but same) tensors\n",
        "random_1 = tf.random.Generator.from_seed(42); # set seed for reproducibility\n",
        "random_1 = random_1.normal(shape=(3,2)) # Outputs random values from a normal distribution.\n",
        "random_1"
      ],
      "metadata": {
        "id": "q7mtsJC8mRa4",
        "outputId": "a9fba55a-fe46-442f-aad8-c67371b15ff5",
        "colab": {
          "base_uri": "https://localhost:8080/"
        }
      },
      "execution_count": 19,
      "outputs": [
        {
          "output_type": "execute_result",
          "data": {
            "text/plain": [
              "<tf.Tensor: shape=(3, 2), dtype=float32, numpy=\n",
              "array([[-0.7565803 , -0.06854702],\n",
              "       [ 0.07595026, -1.2573844 ],\n",
              "       [-0.23193763, -1.8107855 ]], dtype=float32)>"
            ]
          },
          "metadata": {},
          "execution_count": 19
        }
      ]
    },
    {
      "cell_type": "markdown",
      "source": [
        ">A normal distribution is a type of continuous probability distribution in which most data points cluster toward the middle of the range, while the rest taper off symmetrically toward either extreme. The middle of the range is also known as the mean of the distribution.\n",
        "[source](https://www.techtarget.com/whatis/definition/normal-distribution)\n",
        "\n",
        "Basically a bell curve."
      ],
      "metadata": {
        "id": "rQsRJDc2pa9G"
      }
    },
    {
      "cell_type": "code",
      "source": [
        "random_2 = tf.random.Generator.from_seed(42)\n",
        "random_2 = random_2.normal(shape=(3,2))\n",
        "random_1, random_2, random_1 == random_2 # same seed, same values"
      ],
      "metadata": {
        "id": "bbLrSF5Sps8k",
        "outputId": "934de06e-549c-47aa-a8f7-4815299c2781",
        "colab": {
          "base_uri": "https://localhost:8080/"
        }
      },
      "execution_count": 20,
      "outputs": [
        {
          "output_type": "execute_result",
          "data": {
            "text/plain": [
              "(<tf.Tensor: shape=(3, 2), dtype=float32, numpy=\n",
              " array([[-0.7565803 , -0.06854702],\n",
              "        [ 0.07595026, -1.2573844 ],\n",
              "        [-0.23193763, -1.8107855 ]], dtype=float32)>,\n",
              " <tf.Tensor: shape=(3, 2), dtype=float32, numpy=\n",
              " array([[-0.7565803 , -0.06854702],\n",
              "        [ 0.07595026, -1.2573844 ],\n",
              "        [-0.23193763, -1.8107855 ]], dtype=float32)>,\n",
              " <tf.Tensor: shape=(3, 2), dtype=bool, numpy=\n",
              " array([[ True,  True],\n",
              "        [ True,  True],\n",
              "        [ True,  True]])>)"
            ]
          },
          "metadata": {},
          "execution_count": 20
        }
      ]
    },
    {
      "cell_type": "markdown",
      "source": [
        "### Shuffle the order of elements in a tensor\n",
        "\n",
        "Example use: if a NN has a list of 15000 images, the first 10.000 of Spagghetti and the last 5000 of Ramen, it might optimize too much on the Spagghetti recognition before reaching the Ramen images. It would be better to mix the input (images) so it learns both at the same time."
      ],
      "metadata": {
        "id": "rt333WCGqjCw"
      }
    },
    {
      "cell_type": "code",
      "source": [
        "# shuffle a tensor (valuable to shuffle data so the inherent order doesn't affect learning)\n",
        "not_shuffled = tf.constant([[10,7],\n",
        "                            [3,5],\n",
        "                            [1,9]])\n",
        "not_shuffled.ndim #2\n",
        "not_shuffled\n"
      ],
      "metadata": {
        "id": "z-n3bImVrf4T",
        "outputId": "80ec302c-d5bd-4930-f19b-f9a746ef0e83",
        "colab": {
          "base_uri": "https://localhost:8080/"
        }
      },
      "execution_count": 21,
      "outputs": [
        {
          "output_type": "execute_result",
          "data": {
            "text/plain": [
              "<tf.Tensor: shape=(3, 2), dtype=int32, numpy=\n",
              "array([[10,  7],\n",
              "       [ 3,  5],\n",
              "       [ 1,  9]], dtype=int32)>"
            ]
          },
          "metadata": {},
          "execution_count": 21
        }
      ]
    },
    {
      "cell_type": "code",
      "source": [
        "# shuffles only the first dimension (\"rows\"), content of sub-arrays stays the same!\n",
        "\n",
        "shuffled = tf.random.shuffle(not_shuffled)\n",
        "shuffled.ndim # also 2 of course\n",
        "print(\"random, without seed:\", shuffled)\n",
        "\n",
        "# can take a seed\n",
        "shuffled = tf.random.shuffle(not_shuffled, 42)\n",
        "shuffled.ndim # also 2 of course\n",
        "print(\"STILL random even with seed:\", shuffled)"
      ],
      "metadata": {
        "id": "lTDklxBNsKbI",
        "outputId": "3aa9e161-2d76-4533-8413-d88e11af7276",
        "colab": {
          "base_uri": "https://localhost:8080/"
        }
      },
      "execution_count": 22,
      "outputs": [
        {
          "output_type": "stream",
          "name": "stdout",
          "text": [
            "random, without seed: tf.Tensor(\n",
            "[[ 3  5]\n",
            " [ 1  9]\n",
            " [10  7]], shape=(3, 2), dtype=int32)\n",
            "STILL random even with seed: tf.Tensor(\n",
            "[[ 1  9]\n",
            " [ 3  5]\n",
            " [10  7]], shape=(3, 2), dtype=int32)\n"
          ]
        }
      ]
    },
    {
      "cell_type": "markdown",
      "source": [
        ">\"Operations that rely on a random seed actually derive it from two seeds: the global and operation-level seeds. This sets the global seed.\"\n",
        "\n",
        "[more on the rules of how these seeds are used](https://www.tensorflow.org/api_docs/python/tf/random/set_seed)"
      ],
      "metadata": {
        "id": "Wij3kxjBuLf7"
      }
    },
    {
      "cell_type": "code",
      "source": [
        "tf.random.set_seed(99) # global seed\n",
        "shuffled = tf.random.shuffle(not_shuffled, seed=42) # operation level seed\n",
        "shuffled # stays in the same (random) order"
      ],
      "metadata": {
        "id": "pkhKjUUBunng",
        "outputId": "32cc55ea-a2c7-4a12-f1d2-9bb86f4229c3",
        "colab": {
          "base_uri": "https://localhost:8080/"
        }
      },
      "execution_count": 23,
      "outputs": [
        {
          "output_type": "execute_result",
          "data": {
            "text/plain": [
              "<tf.Tensor: shape=(3, 2), dtype=int32, numpy=\n",
              "array([[10,  7],\n",
              "       [ 3,  5],\n",
              "       [ 1,  9]], dtype=int32)>"
            ]
          },
          "metadata": {},
          "execution_count": 23
        }
      ]
    },
    {
      "cell_type": "markdown",
      "source": [
        "For reproducibility of experiments, set both the global and operation level seed."
      ],
      "metadata": {
        "id": "b4RUvJYBwHiX"
      }
    },
    {
      "cell_type": "markdown",
      "source": [
        "### Other ways to make tensors"
      ],
      "metadata": {
        "id": "Q2GrinelvJuM"
      }
    },
    {
      "cell_type": "markdown",
      "source": [
        "### Creating tensors from NumPy arrays\n",
        "\n",
        "Note that tensorflow has many NumPy operations (such as `ones`) already built in."
      ],
      "metadata": {
        "id": "Pb9UEVELwioe"
      }
    },
    {
      "cell_type": "code",
      "source": [
        "# creates a tensor of a given shape where all elements are 1\n",
        "tf.ones(shape=(3,2), dtype=tf.int32)"
      ],
      "metadata": {
        "id": "3tIBGzgVw0Js",
        "outputId": "31fe4974-65eb-4f9b-fa8d-1e6cf3fbb41b",
        "colab": {
          "base_uri": "https://localhost:8080/"
        }
      },
      "execution_count": 24,
      "outputs": [
        {
          "output_type": "execute_result",
          "data": {
            "text/plain": [
              "<tf.Tensor: shape=(3, 2), dtype=int32, numpy=\n",
              "array([[1, 1],\n",
              "       [1, 1],\n",
              "       [1, 1]], dtype=int32)>"
            ]
          },
          "metadata": {},
          "execution_count": 24
        }
      ]
    },
    {
      "cell_type": "code",
      "source": [
        "# create a tensor of 0s\n",
        "tf.zeros(shape=(3,2), dtype=tf.int32)"
      ],
      "metadata": {
        "id": "K9Ao-_JJxPqL",
        "outputId": "641c8229-5f77-4a8f-9b96-2b89f3065519",
        "colab": {
          "base_uri": "https://localhost:8080/"
        }
      },
      "execution_count": 25,
      "outputs": [
        {
          "output_type": "execute_result",
          "data": {
            "text/plain": [
              "<tf.Tensor: shape=(3, 2), dtype=int32, numpy=\n",
              "array([[0, 0],\n",
              "       [0, 0],\n",
              "       [0, 0]], dtype=int32)>"
            ]
          },
          "metadata": {},
          "execution_count": 25
        }
      ]
    },
    {
      "cell_type": "code",
      "source": [
        "# create a tensor filled with an arbitrary value\n",
        "tf.fill([3,2], value=99) # note that shape is passed as an array instead of a tupple here"
      ],
      "metadata": {
        "id": "VMDySSkgxd74",
        "outputId": "d155b723-f01a-4896-84c2-68397a7403a9",
        "colab": {
          "base_uri": "https://localhost:8080/"
        }
      },
      "execution_count": 26,
      "outputs": [
        {
          "output_type": "execute_result",
          "data": {
            "text/plain": [
              "<tf.Tensor: shape=(3, 2), dtype=int32, numpy=\n",
              "array([[99, 99],\n",
              "       [99, 99],\n",
              "       [99, 99]], dtype=int32)>"
            ]
          },
          "metadata": {},
          "execution_count": 26
        }
      ]
    },
    {
      "cell_type": "markdown",
      "source": [
        "### Turn a NumPy array into tensors\n",
        "\n",
        "Main difference between NumPy arrays and tf tensors: tensors can be run on a GPU, otherwise very similar\n"
      ],
      "metadata": {
        "id": "prjNVhtVx0_v"
      }
    },
    {
      "cell_type": "code",
      "source": [
        "import numpy as np\n",
        "\n",
        "numpy_a = np.arange(1, 25, dtype=np.int32)\n",
        "\n",
        "# Capitalization \"rules\":\n",
        "# A = tf.constant(some_matrix) # capital for matrix or tensor\n",
        "# a = tf.constant(vector) # lowercase for vector\n",
        "numpy_a #  numpy array"
      ],
      "metadata": {
        "id": "z0yolIsiyG61",
        "outputId": "38511b30-29b6-4bf8-f3f3-ae4de5e865a3",
        "colab": {
          "base_uri": "https://localhost:8080/"
        }
      },
      "execution_count": 27,
      "outputs": [
        {
          "output_type": "execute_result",
          "data": {
            "text/plain": [
              "array([ 1,  2,  3,  4,  5,  6,  7,  8,  9, 10, 11, 12, 13, 14, 15, 16, 17,\n",
              "       18, 19, 20, 21, 22, 23, 24], dtype=int32)"
            ]
          },
          "metadata": {},
          "execution_count": 27
        }
      ]
    },
    {
      "cell_type": "code",
      "source": [
        "# convert to tf tensor\n",
        "tensor_a = tf.constant(numpy_a)\n",
        "tensor_a"
      ],
      "metadata": {
        "id": "knbXEEvjysSr",
        "outputId": "12bb3950-e92a-4e2e-ea3a-3eb5f77ea7fa",
        "colab": {
          "base_uri": "https://localhost:8080/"
        }
      },
      "execution_count": 28,
      "outputs": [
        {
          "output_type": "execute_result",
          "data": {
            "text/plain": [
              "<tf.Tensor: shape=(24,), dtype=int32, numpy=\n",
              "array([ 1,  2,  3,  4,  5,  6,  7,  8,  9, 10, 11, 12, 13, 14, 15, 16, 17,\n",
              "       18, 19, 20, 21, 22, 23, 24], dtype=int32)>"
            ]
          },
          "metadata": {},
          "execution_count": 28
        }
      ]
    },
    {
      "cell_type": "code",
      "source": [
        "# Change shape from vector to matrix from a one-dimensional array\n",
        "# the number of elements in the source array must add up to the elements required\n",
        "# by the shape\n",
        "A = tf.constant(numpy_a, shape=(3,8))\n",
        "B = tf.constant(numpy_a)\n",
        "A, A.ndim, B, B.ndim"
      ],
      "metadata": {
        "id": "CjzS_W7rzg-A",
        "outputId": "8aa595e9-b0bb-4f7c-c44b-271fe31c86fb",
        "colab": {
          "base_uri": "https://localhost:8080/"
        }
      },
      "execution_count": 33,
      "outputs": [
        {
          "output_type": "execute_result",
          "data": {
            "text/plain": [
              "(<tf.Tensor: shape=(3, 8), dtype=int32, numpy=\n",
              " array([[ 1,  2,  3,  4,  5,  6,  7,  8],\n",
              "        [ 9, 10, 11, 12, 13, 14, 15, 16],\n",
              "        [17, 18, 19, 20, 21, 22, 23, 24]], dtype=int32)>,\n",
              " 2,\n",
              " <tf.Tensor: shape=(24,), dtype=int32, numpy=\n",
              " array([ 1,  2,  3,  4,  5,  6,  7,  8,  9, 10, 11, 12, 13, 14, 15, 16, 17,\n",
              "        18, 19, 20, 21, 22, 23, 24], dtype=int32)>,\n",
              " 1)"
            ]
          },
          "metadata": {},
          "execution_count": 33
        }
      ]
    },
    {
      "cell_type": "markdown",
      "source": [
        "### Getting information from tensors\n",
        "\n",
        "When dealing with tensors you need to be aware of the following attributes:\n",
        "\n",
        "- Shape\n",
        "- Rank\n",
        "- Axis or dimension\n",
        "- Size\n",
        "\n",
        "![attributes](https://github.com/pkro/tensorflow_cert_training/blob/main/readme_images/tensor_attributes.png?raw=1)"
      ],
      "metadata": {
        "id": "5WC0E4JL0YNQ"
      }
    },
    {
      "cell_type": "code",
      "execution_count": 37,
      "outputs": [
        {
          "output_type": "execute_result",
          "data": {
            "text/plain": [
              "(<tf.Tensor: shape=(2, 3, 4, 5), dtype=float32, numpy=\n",
              " array([[[[0., 0., 0., 0., 0.],\n",
              "          [0., 0., 0., 0., 0.],\n",
              "          [0., 0., 0., 0., 0.],\n",
              "          [0., 0., 0., 0., 0.]],\n",
              " \n",
              "         [[0., 0., 0., 0., 0.],\n",
              "          [0., 0., 0., 0., 0.],\n",
              "          [0., 0., 0., 0., 0.],\n",
              "          [0., 0., 0., 0., 0.]],\n",
              " \n",
              "         [[0., 0., 0., 0., 0.],\n",
              "          [0., 0., 0., 0., 0.],\n",
              "          [0., 0., 0., 0., 0.],\n",
              "          [0., 0., 0., 0., 0.]]],\n",
              " \n",
              " \n",
              "        [[[0., 0., 0., 0., 0.],\n",
              "          [0., 0., 0., 0., 0.],\n",
              "          [0., 0., 0., 0., 0.],\n",
              "          [0., 0., 0., 0., 0.]],\n",
              " \n",
              "         [[0., 0., 0., 0., 0.],\n",
              "          [0., 0., 0., 0., 0.],\n",
              "          [0., 0., 0., 0., 0.],\n",
              "          [0., 0., 0., 0., 0.]],\n",
              " \n",
              "         [[0., 0., 0., 0., 0.],\n",
              "          [0., 0., 0., 0., 0.],\n",
              "          [0., 0., 0., 0., 0.],\n",
              "          [0., 0., 0., 0., 0.]]]], dtype=float32)>, 'rank: ', 4)"
            ]
          },
          "metadata": {},
          "execution_count": 37
        }
      ],
      "source": [
        "# create rank 4 tensor\n",
        "rank_4_tensor = tf.zeros([2,3,4,5]) # 2*3*4*5 \"4d matrix\"\n",
        "rank_4_tensor, \"rank: \", rank_4_tensor.ndim"
      ],
      "metadata": {
        "id": "rsgNbwBvM9RE",
        "outputId": "274f8385-b9a0-404d-cf7e-328c0794b9b7",
        "colab": {
          "base_uri": "https://localhost:8080/"
        }
      }
    },
    {
      "cell_type": "code",
      "source": [
        "print(rank_4_tensor[0], \"\\n\")\n",
        "print(rank_4_tensor[0][0], \"\\n\") \n",
        "print(rank_4_tensor[0][0][0], \"\\n\") \n",
        "print(rank_4_tensor[0][0][0][0], \"\\n\") "
      ],
      "metadata": {
        "id": "T6A-zJ80UnTr",
        "outputId": "e1c8dc85-49da-46f1-f648-376e29de8fe6",
        "colab": {
          "base_uri": "https://localhost:8080/"
        }
      },
      "execution_count": 45,
      "outputs": [
        {
          "output_type": "stream",
          "name": "stdout",
          "text": [
            "tf.Tensor(\n",
            "[[[0. 0. 0. 0. 0.]\n",
            "  [0. 0. 0. 0. 0.]\n",
            "  [0. 0. 0. 0. 0.]\n",
            "  [0. 0. 0. 0. 0.]]\n",
            "\n",
            " [[0. 0. 0. 0. 0.]\n",
            "  [0. 0. 0. 0. 0.]\n",
            "  [0. 0. 0. 0. 0.]\n",
            "  [0. 0. 0. 0. 0.]]\n",
            "\n",
            " [[0. 0. 0. 0. 0.]\n",
            "  [0. 0. 0. 0. 0.]\n",
            "  [0. 0. 0. 0. 0.]\n",
            "  [0. 0. 0. 0. 0.]]], shape=(3, 4, 5), dtype=float32) \n",
            "\n",
            "tf.Tensor(\n",
            "[[0. 0. 0. 0. 0.]\n",
            " [0. 0. 0. 0. 0.]\n",
            " [0. 0. 0. 0. 0.]\n",
            " [0. 0. 0. 0. 0.]], shape=(4, 5), dtype=float32) \n",
            "\n",
            "tf.Tensor([0. 0. 0. 0. 0.], shape=(5,), dtype=float32) \n",
            "\n",
            "tf.Tensor(0.0, shape=(), dtype=float32) \n",
            "\n"
          ]
        }
      ]
    },
    {
      "cell_type": "code",
      "source": [
        "rank_4_tensor.shape, rank_4_tensor.ndim, tf.size(rank_4_tensor)"
      ],
      "metadata": {
        "id": "3CcquJ-iVfAr",
        "outputId": "f1b691e9-aa83-4b93-905d-4b62c7715110",
        "colab": {
          "base_uri": "https://localhost:8080/"
        }
      },
      "execution_count": 46,
      "outputs": [
        {
          "output_type": "execute_result",
          "data": {
            "text/plain": [
              "(TensorShape([2, 3, 4, 5]), 4, <tf.Tensor: shape=(), dtype=int32, numpy=120>)"
            ]
          },
          "metadata": {},
          "execution_count": 46
        }
      ]
    },
    {
      "cell_type": "code",
      "source": [
        "# Get various attributes of our tensor\n",
        "def tensor_info(tensor):\n",
        "  print(\"Datatype of every element: \", tensor.dtype)\n",
        "  print(\"Number of dimensions (rank): \", tensor.ndim)\n",
        "  print(\"Shape: \", tensor.shape)\n",
        "  print(\"Elements along the 0 axis: \", tensor.shape[0])\n",
        "  print(\"Elements along the last axis: \", tensor.shape[-1])\n",
        "  print(\"Total number of elements: \", tf.size(tensor))\n",
        "  print(\"Total number of elements (plain): \", tf.size(tensor).numpy())\n",
        "\n",
        "tensor_info(rank_4_tensor)"
      ],
      "metadata": {
        "id": "XT8-ntmfV3dW",
        "outputId": "cbc8b3a6-d0d1-411f-e23a-81210949dc42",
        "colab": {
          "base_uri": "https://localhost:8080/"
        }
      },
      "execution_count": 53,
      "outputs": [
        {
          "output_type": "stream",
          "name": "stdout",
          "text": [
            "Datatype of every element:  <dtype: 'float32'>\n",
            "Number of dimensions (rank):  4\n",
            "Shape:  (2, 3, 4, 5)\n",
            "Elements along the 0 axis:  2\n",
            "Elements along the last axis:  5\n",
            "Total number of elements:  tf.Tensor(120, shape=(), dtype=int32)\n",
            "Total number of elements (converted):  120\n"
          ]
        }
      ]
    }
  ]
}