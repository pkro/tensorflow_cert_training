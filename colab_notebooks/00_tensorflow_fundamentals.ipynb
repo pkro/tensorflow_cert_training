{
  "nbformat": 4,
  "nbformat_minor": 0,
  "metadata": {
    "colab": {
      "provenance": [],
      "authorship_tag": "ABX9TyMubpqfZdqX4QdCkyObNBN3",
      "include_colab_link": true
    },
    "kernelspec": {
      "name": "python3",
      "display_name": "Python 3"
    },
    "language_info": {
      "name": "python"
    }
  },
  "cells": [
    {
      "cell_type": "markdown",
      "metadata": {
        "id": "view-in-github",
        "colab_type": "text"
      },
      "source": [
        "<a href=\"https://colab.research.google.com/github/pkro/tensorflow_cert_training/blob/main/colab_notebooks/00_tensorflow_fundamentals.ipynb\" target=\"_parent\"><img src=\"https://colab.research.google.com/assets/colab-badge.svg\" alt=\"Open In Colab\"/></a>"
      ]
    },
    {
      "cell_type": "markdown",
      "source": [
        "# tensor fundamentals using tensorflow\n",
        "\n",
        "- Introduction to tensors\n",
        "- getting information from tensor\n",
        "- manipulating tensors\n",
        "- tensors and NumPy\n",
        "- Using tf.function (speed up regular python functions)\n",
        "- using gpus / tpus with TensorFlow\n",
        "- Exercises\n"
      ],
      "metadata": {
        "id": "rfW-Q_3gB9is"
      }
    },
    {
      "cell_type": "markdown",
      "source": [
        "Introduction to tensors\n"
      ],
      "metadata": {
        "id": "LydiSCRtdXiz"
      }
    },
    {
      "cell_type": "code",
      "source": [
        "import tensorflow as tf\n",
        "\n",
        "print(tf.__version__)"
      ],
      "metadata": {
        "id": "uyKLNs_BeZTQ",
        "outputId": "0fe18225-c36b-4e2e-ef79-57620fe286ef",
        "colab": {
          "base_uri": "https://localhost:8080/"
        }
      },
      "execution_count": 2,
      "outputs": [
        {
          "output_type": "stream",
          "name": "stdout",
          "text": [
            "2.9.2\n"
          ]
        }
      ]
    },
    {
      "cell_type": "code",
      "source": [
        "# Create tensors with tf.constant()\n",
        "scalar = tf.constant(7)\n",
        "scalar"
      ],
      "metadata": {
        "id": "hCbd8xyteuEm",
        "outputId": "ea90dc5c-5347-4f0f-e5ff-2c53feb73196",
        "colab": {
          "base_uri": "https://localhost:8080/"
        }
      },
      "execution_count": null,
      "outputs": [
        {
          "output_type": "execute_result",
          "data": {
            "text/plain": [
              "<tf.Tensor: shape=(), dtype=int32, numpy=7>"
            ]
          },
          "metadata": {},
          "execution_count": 3
        }
      ]
    },
    {
      "cell_type": "code",
      "source": [
        "#Check number of dimentsions of a tensor (ndim = Number of DIMensions)\n",
        "scalar.ndim"
      ],
      "metadata": {
        "id": "kLO-PDiXfa43",
        "outputId": "8445a4cb-071c-40b8-9013-5079f3ccb9b8",
        "colab": {
          "base_uri": "https://localhost:8080/"
        }
      },
      "execution_count": null,
      "outputs": [
        {
          "output_type": "execute_result",
          "data": {
            "text/plain": [
              "0"
            ]
          },
          "metadata": {},
          "execution_count": 5
        }
      ]
    },
    {
      "cell_type": "code",
      "source": [
        "# create a vector\n",
        "vector = tf.constant([3,4])\n",
        "vector"
      ],
      "metadata": {
        "id": "8S-FoRqEgqID",
        "outputId": "7d4783e7-16e4-4f1d-8274-2eb0a893d313",
        "colab": {
          "base_uri": "https://localhost:8080/"
        }
      },
      "execution_count": null,
      "outputs": [
        {
          "output_type": "execute_result",
          "data": {
            "text/plain": [
              "<tf.Tensor: shape=(2,), dtype=int32, numpy=array([3, 4], dtype=int32)>"
            ]
          },
          "metadata": {},
          "execution_count": 7
        }
      ]
    },
    {
      "cell_type": "code",
      "source": [
        "# check vector dimension\n",
        "vector.ndim"
      ],
      "metadata": {
        "id": "swLIIs4og_-k",
        "outputId": "286023d8-0f63-4feb-827b-e05a857b3aa7",
        "colab": {
          "base_uri": "https://localhost:8080/"
        }
      },
      "execution_count": null,
      "outputs": [
        {
          "output_type": "execute_result",
          "data": {
            "text/plain": [
              "1"
            ]
          },
          "metadata": {},
          "execution_count": 8
        }
      ]
    },
    {
      "cell_type": "code",
      "source": [
        "# matrix (more than 1 dimension)\n",
        "matrix = tf.constant([[10,7],\n",
        "                      [7,10]])\n",
        "matrix"
      ],
      "metadata": {
        "id": "ij8egxnrhNJo",
        "outputId": "b0b6e742-d247-4e9d-c368-5262533e20fe",
        "colab": {
          "base_uri": "https://localhost:8080/"
        }
      },
      "execution_count": null,
      "outputs": [
        {
          "output_type": "execute_result",
          "data": {
            "text/plain": [
              "<tf.Tensor: shape=(2, 2), dtype=int32, numpy=\n",
              "array([[10,  7],\n",
              "       [ 7, 10]], dtype=int32)>"
            ]
          },
          "metadata": {},
          "execution_count": 10
        }
      ]
    },
    {
      "cell_type": "code",
      "source": [
        "matrix.ndim"
      ],
      "metadata": {
        "id": "fmHk130Bhe5c",
        "outputId": "187eac06-897a-4441-a766-06fd6d2fbc22",
        "colab": {
          "base_uri": "https://localhost:8080/"
        }
      },
      "execution_count": null,
      "outputs": [
        {
          "output_type": "execute_result",
          "data": {
            "text/plain": [
              "2"
            ]
          },
          "metadata": {},
          "execution_count": 12
        }
      ]
    },
    {
      "cell_type": "markdown",
      "source": [
        "It seems the dimension of the tensors is related to the number of elements in the `shape` property of the tensor."
      ],
      "metadata": {
        "id": "qGXmyIK7hq22"
      }
    },
    {
      "cell_type": "code",
      "source": [
        "# Create another matrix and specify data tyoe\n",
        "another_matrix = tf.constant([[10.,7.],\n",
        "                              [8., 9.],\n",
        "                              [3., 4.]], dtype=tf.float16)\n",
        "another_matrix"
      ],
      "metadata": {
        "id": "Aw2TkfKSh9iB"
      },
      "execution_count": null,
      "outputs": []
    },
    {
      "cell_type": "code",
      "source": [
        "another_matrix.ndim"
      ],
      "metadata": {
        "id": "JsV-H1DQiZ6D",
        "outputId": "769280ae-fa23-4930-e736-a8694681aeb1",
        "colab": {
          "base_uri": "https://localhost:8080/"
        }
      },
      "execution_count": null,
      "outputs": [
        {
          "output_type": "execute_result",
          "data": {
            "text/plain": [
              "2"
            ]
          },
          "metadata": {},
          "execution_count": 17
        }
      ]
    },
    {
      "cell_type": "markdown",
      "source": [
        "The shape seems to have the format (rows, columns, ...);"
      ],
      "metadata": {
        "id": "PuJrayBDiy5s"
      }
    },
    {
      "cell_type": "code",
      "source": [
        "# note: all of the above were tensors too as e.g. a matrix is a subtype of a tensor\n",
        "tensor = tf.constant([\n",
        "    [[1,2,3], [4,5,6]], \n",
        "    [[7,8,9], [10,11,12]],\n",
        "    [[13,14,15], [16,17,18]]\n",
        "])\n",
        "tensor"
      ],
      "metadata": {
        "id": "3gvanxm9kQXm",
        "outputId": "8a90e638-397f-408c-944d-6c3f784b66d2",
        "colab": {
          "base_uri": "https://localhost:8080/"
        }
      },
      "execution_count": null,
      "outputs": [
        {
          "output_type": "execute_result",
          "data": {
            "text/plain": [
              "<tf.Tensor: shape=(3, 2, 3), dtype=int32, numpy=\n",
              "array([[[ 1,  2,  3],\n",
              "        [ 4,  5,  6]],\n",
              "\n",
              "       [[ 7,  8,  9],\n",
              "        [10, 11, 12]],\n",
              "\n",
              "       [[13, 14, 15],\n",
              "        [16, 17, 18]]], dtype=int32)>"
            ]
          },
          "metadata": {},
          "execution_count": 22
        }
      ]
    },
    {
      "cell_type": "code",
      "source": [
        "tensor.ndim"
      ],
      "metadata": {
        "id": "nVHqR0nYlDyM",
        "outputId": "b1b5acb7-527d-4391-8547-ea845cbf96f7",
        "colab": {
          "base_uri": "https://localhost:8080/"
        }
      },
      "execution_count": null,
      "outputs": [
        {
          "output_type": "execute_result",
          "data": {
            "text/plain": [
              "3"
            ]
          },
          "metadata": {},
          "execution_count": 23
        }
      ]
    },
    {
      "cell_type": "markdown",
      "source": [
        "### What we learned:\n",
        "\n",
        "- scalar: a single number\n",
        "- vector: a number with direction, e.g. wind speed and direction\n",
        "- matrix: 2-dimensional array of numbers\n",
        "- tensor: n-dimensional array of numbers (n = any number; a 0-dimensional tensor is a scalar, a 1-dimensional tensor is a vector)\n"
      ],
      "metadata": {
        "id": "GjxIPvQulcgg"
      }
    },
    {
      "cell_type": "markdown",
      "source": [
        "### Creating tensors with tf.Variable and tf.constant\n",
        "\n",
        ">A variable maintains shared, persistent state manipulated by a program.\n",
        "\n",
        "https://www.tensorflow.org/api_docs/python/tf/Variable\n",
        "\n",
        "When in doubt, use constant and change later if needed.\n",
        "\n",
        "In practice, creating variables / constants is taking care of by tf. \n"
      ],
      "metadata": {
        "id": "41jAKofm2Kg8"
      }
    },
    {
      "cell_type": "code",
      "source": [
        "v = tf.Variable(1.)\n",
        "v"
      ],
      "metadata": {
        "id": "AMyy4O_52ban",
        "outputId": "16dc3df5-5db6-4a16-c1f1-dae4863cb434",
        "colab": {
          "base_uri": "https://localhost:8080/"
        }
      },
      "execution_count": null,
      "outputs": [
        {
          "output_type": "execute_result",
          "data": {
            "text/plain": [
              "<tf.Variable 'Variable:0' shape=() dtype=float32, numpy=1.0>"
            ]
          },
          "metadata": {},
          "execution_count": 25
        }
      ]
    },
    {
      "cell_type": "code",
      "source": [
        "# does not work, shape mismatch\n",
        "# v.assign([1,2])\n",
        "v.assign(5.) # works\n",
        "v"
      ],
      "metadata": {
        "id": "OA45NL8O2w81",
        "outputId": "4245c639-b51b-49a6-d646-0e974a1d6dee",
        "colab": {
          "base_uri": "https://localhost:8080/"
        }
      },
      "execution_count": null,
      "outputs": [
        {
          "output_type": "execute_result",
          "data": {
            "text/plain": [
              "<tf.Variable 'Variable:0' shape=() dtype=float32, numpy=5.0>"
            ]
          },
          "metadata": {},
          "execution_count": 27
        }
      ]
    },
    {
      "cell_type": "code",
      "source": [
        "changeable_tensor = tf.Variable([10,7])\n",
        "unchangeable_tensor = tf.constant([4,5])\n",
        "changeable_tensor, unchangeable_tensor"
      ],
      "metadata": {
        "id": "hAiL4Qvk27Yt",
        "outputId": "6fa8e183-c8ab-4a3f-ac8e-9a22bb8ddc11",
        "colab": {
          "base_uri": "https://localhost:8080/"
        }
      },
      "execution_count": null,
      "outputs": [
        {
          "output_type": "execute_result",
          "data": {
            "text/plain": [
              "(<tf.Variable 'Variable:0' shape=(2,) dtype=int32, numpy=array([10,  7], dtype=int32)>,\n",
              " <tf.Tensor: shape=(2,), dtype=int32, numpy=array([4, 5], dtype=int32)>)"
            ]
          },
          "metadata": {},
          "execution_count": 29
        }
      ]
    },
    {
      "cell_type": "code",
      "source": [
        "changeable_tensor[0]"
      ],
      "metadata": {
        "id": "Et3F3NHp3c8E",
        "outputId": "a2be938f-8867-4f62-f7c1-9f3c17b9d36f",
        "colab": {
          "base_uri": "https://localhost:8080/"
        }
      },
      "execution_count": null,
      "outputs": [
        {
          "output_type": "execute_result",
          "data": {
            "text/plain": [
              "<tf.Tensor: shape=(), dtype=int32, numpy=10>"
            ]
          },
          "metadata": {},
          "execution_count": 30
        }
      ]
    },
    {
      "cell_type": "code",
      "source": [
        "# changeable_tensor.assign([1,2,3]) # shape mismatch\n",
        "# unchangeable_tensor.assign([1,2]) # obviousle doesn't even have an assign method\n",
        "changeable_tensor.assign([1,2]) # works fine"
      ],
      "metadata": {
        "id": "OmvTMglI3jUi",
        "outputId": "19fec8bf-ea28-4bab-d51d-7f91ca8c4310",
        "colab": {
          "base_uri": "https://localhost:8080/"
        }
      },
      "execution_count": null,
      "outputs": [
        {
          "output_type": "execute_result",
          "data": {
            "text/plain": [
              "<tf.Variable 'UnreadVariable' shape=(2,) dtype=int32, numpy=array([1, 2], dtype=int32)>"
            ]
          },
          "metadata": {},
          "execution_count": 34
        }
      ]
    },
    {
      "cell_type": "code",
      "source": [
        "# We can also assign single elements\n",
        "changeable_tensor[0].assign(10)"
      ],
      "metadata": {
        "id": "zEqBtMPy31Hn",
        "outputId": "79f3a117-a3e4-468a-8d3e-d47a83236078",
        "colab": {
          "base_uri": "https://localhost:8080/"
        }
      },
      "execution_count": null,
      "outputs": [
        {
          "output_type": "execute_result",
          "data": {
            "text/plain": [
              "<tf.Variable 'UnreadVariable' shape=(2,) dtype=int32, numpy=array([10,  2], dtype=int32)>"
            ]
          },
          "metadata": {},
          "execution_count": 35
        }
      ]
    },
    {
      "cell_type": "markdown",
      "source": [
        "### Creating random tensors with tf.Variable()\n",
        "\n",
        "Random tensors are tensors of arbitrary size containing random numbers.\n",
        "\n",
        "They are used to initialize the middle layer of the neural network (=representation = patterns = features = weights) and then tweak them by learning.\n",
        "\n",
        "![random initialization](https://github.com/pkro/tensorflow_cert_training/blob/main/readme_images/random_init.png?raw=1)\n"
      ],
      "metadata": {
        "id": "91l5bMn24xNh"
      }
    },
    {
      "cell_type": "code",
      "source": [
        "# create 2 random (but same) tensors\n",
        "random_1 = tf.random.Generator.from_seed(42); # set seed for reproducibility\n",
        "random_1 = random_1.normal(shape=(3,2)) # Outputs random values from a normal distribution.\n",
        "random_1"
      ],
      "metadata": {
        "id": "q7mtsJC8mRa4",
        "outputId": "6cd90dcd-2a16-48b2-dc9e-7602bf7098ba",
        "colab": {
          "base_uri": "https://localhost:8080/"
        }
      },
      "execution_count": 3,
      "outputs": [
        {
          "output_type": "execute_result",
          "data": {
            "text/plain": [
              "<tf.Tensor: shape=(3, 2), dtype=float32, numpy=\n",
              "array([[-0.7565803 , -0.06854702],\n",
              "       [ 0.07595026, -1.2573844 ],\n",
              "       [-0.23193763, -1.8107855 ]], dtype=float32)>"
            ]
          },
          "metadata": {},
          "execution_count": 3
        }
      ]
    },
    {
      "cell_type": "markdown",
      "source": [
        ">A normal distribution is a type of continuous probability distribution in which most data points cluster toward the middle of the range, while the rest taper off symmetrically toward either extreme. The middle of the range is also known as the mean of the distribution.\n",
        "[source](https://www.techtarget.com/whatis/definition/normal-distribution)\n",
        "\n",
        "Basically a bell curve."
      ],
      "metadata": {
        "id": "rQsRJDc2pa9G"
      }
    },
    {
      "cell_type": "code",
      "source": [
        "random_2 = tf.random.Generator.from_seed(42)\n",
        "random_2 = random_2.normal(shape=(3,2))\n",
        "random_1, random_2, random_1 == random_2 # same seed, same values"
      ],
      "metadata": {
        "id": "bbLrSF5Sps8k",
        "outputId": "9c63b780-3f1b-407c-d1f3-23292ab83c34",
        "colab": {
          "base_uri": "https://localhost:8080/"
        }
      },
      "execution_count": 6,
      "outputs": [
        {
          "output_type": "execute_result",
          "data": {
            "text/plain": [
              "(<tf.Tensor: shape=(3, 2), dtype=float32, numpy=\n",
              " array([[-0.7565803 , -0.06854702],\n",
              "        [ 0.07595026, -1.2573844 ],\n",
              "        [-0.23193763, -1.8107855 ]], dtype=float32)>,\n",
              " <tf.Tensor: shape=(3, 2), dtype=float32, numpy=\n",
              " array([[-0.7565803 , -0.06854702],\n",
              "        [ 0.07595026, -1.2573844 ],\n",
              "        [-0.23193763, -1.8107855 ]], dtype=float32)>,\n",
              " <tf.Tensor: shape=(3, 2), dtype=bool, numpy=\n",
              " array([[ True,  True],\n",
              "        [ True,  True],\n",
              "        [ True,  True]])>)"
            ]
          },
          "metadata": {},
          "execution_count": 6
        }
      ]
    },
    {
      "cell_type": "markdown",
      "source": [
        "### Shuffle the order of elements in a tensor\n",
        "\n",
        "Example use: if a NN has a list of 15000 images, the first 10.000 of Spagghetti and the last 5000 of Ramen, it might optimize too much on the Spagghetti recognition before reaching the Ramen images. It would be better to mix the input (images) so it learns both at the same time."
      ],
      "metadata": {
        "id": "rt333WCGqjCw"
      }
    },
    {
      "cell_type": "code",
      "source": [
        "# shuffle a tensor (valuable to shuffle data so the inherent order doesn't affect learning)\n",
        "not_shuffled = tf.constant([[10,7], \n",
        "                            [3,5], \n",
        "                            [1,9]])\n",
        "not_shuffled.ndim #2\n",
        "not_shuffled\n"
      ],
      "metadata": {
        "id": "z-n3bImVrf4T",
        "outputId": "a4fe094f-085a-4771-b204-b357edb21ec7",
        "colab": {
          "base_uri": "https://localhost:8080/"
        }
      },
      "execution_count": 11,
      "outputs": [
        {
          "output_type": "execute_result",
          "data": {
            "text/plain": [
              "<tf.Tensor: shape=(3, 2), dtype=int32, numpy=\n",
              "array([[10,  7],\n",
              "       [ 3,  5],\n",
              "       [ 1,  9]], dtype=int32)>"
            ]
          },
          "metadata": {},
          "execution_count": 11
        }
      ]
    },
    {
      "cell_type": "code",
      "source": [
        "# shuffles only the first dimension (\"rows\"), content of sub-arrays stays the same!\n",
        "\n",
        "shuffled = tf.random.shuffle(not_shuffled)\n",
        "shuffled.ndim # also 2 of course\n",
        "print(\"random, without seed:\", shuffled)\n",
        "\n",
        "# can take a seed\n",
        "shuffled = tf.random.shuffle(not_shuffled, 42)\n",
        "shuffled.ndim # also 2 of course\n",
        "print(\"STILL random even with seed:\", shuffled)"
      ],
      "metadata": {
        "id": "lTDklxBNsKbI",
        "outputId": "c375e8f4-1d10-46c3-8cc4-12ea140c9d49",
        "colab": {
          "base_uri": "https://localhost:8080/"
        }
      },
      "execution_count": 22,
      "outputs": [
        {
          "output_type": "stream",
          "name": "stdout",
          "text": [
            "random, without seed: tf.Tensor(\n",
            "[[ 1  9]\n",
            " [ 3  5]\n",
            " [10  7]], shape=(3, 2), dtype=int32)\n",
            "STILL random even with seed: tf.Tensor(\n",
            "[[ 3  5]\n",
            " [10  7]\n",
            " [ 1  9]], shape=(3, 2), dtype=int32)\n"
          ]
        }
      ]
    },
    {
      "cell_type": "markdown",
      "source": [
        ">\"Operations that rely on a random seed actually derive it from two seeds: the global and operation-level seeds. This sets the global seed.\"\n",
        "\n",
        "[more on the rules of how these seeds are used](https://www.tensorflow.org/api_docs/python/tf/random/set_seed)"
      ],
      "metadata": {
        "id": "Wij3kxjBuLf7"
      }
    },
    {
      "cell_type": "code",
      "source": [
        "tf.random.set_seed(99) # global seed\n",
        "shuffled = tf.random.shuffle(not_shuffled, seed=42) # operation level seed\n",
        "shuffled # stays in the same (random) order"
      ],
      "metadata": {
        "id": "pkhKjUUBunng",
        "outputId": "d34d5e95-9760-43da-c4b2-62f69b4c9d9f",
        "colab": {
          "base_uri": "https://localhost:8080/"
        }
      },
      "execution_count": 31,
      "outputs": [
        {
          "output_type": "execute_result",
          "data": {
            "text/plain": [
              "<tf.Tensor: shape=(3, 2), dtype=int32, numpy=\n",
              "array([[10,  7],\n",
              "       [ 3,  5],\n",
              "       [ 1,  9]], dtype=int32)>"
            ]
          },
          "metadata": {},
          "execution_count": 31
        }
      ]
    },
    {
      "cell_type": "markdown",
      "source": [
        "For reproducibility of experiments, set both the global and operation level seed."
      ],
      "metadata": {
        "id": "b4RUvJYBwHiX"
      }
    },
    {
      "cell_type": "markdown",
      "source": [
        "### Other ways to make tensors"
      ],
      "metadata": {
        "id": "Q2GrinelvJuM"
      }
    },
    {
      "cell_type": "markdown",
      "source": [
        "### Creating tensors from NumPy arrays\n",
        "\n",
        "Note that tensorflow has many NumPy operations (such as `ones`) already built in."
      ],
      "metadata": {
        "id": "Pb9UEVELwioe"
      }
    },
    {
      "cell_type": "code",
      "source": [
        "# creates a tensor of a given shape where all elements are 1\n",
        "tf.ones(shape=(3,2), dtype=tf.int32)"
      ],
      "metadata": {
        "id": "3tIBGzgVw0Js",
        "outputId": "17dd1e61-cf6c-4993-b76d-5b2803251870",
        "colab": {
          "base_uri": "https://localhost:8080/"
        }
      },
      "execution_count": 35,
      "outputs": [
        {
          "output_type": "execute_result",
          "data": {
            "text/plain": [
              "<tf.Tensor: shape=(3, 2), dtype=int32, numpy=\n",
              "array([[1, 1],\n",
              "       [1, 1],\n",
              "       [1, 1]], dtype=int32)>"
            ]
          },
          "metadata": {},
          "execution_count": 35
        }
      ]
    },
    {
      "cell_type": "code",
      "source": [
        "# create a tensor of 0s\n",
        "tf.zeros(shape=(3,2), dtype=tf.int32)"
      ],
      "metadata": {
        "id": "K9Ao-_JJxPqL",
        "outputId": "d4c10b59-2b60-4a79-ad0c-603b0a96fe4d",
        "colab": {
          "base_uri": "https://localhost:8080/"
        }
      },
      "execution_count": 38,
      "outputs": [
        {
          "output_type": "execute_result",
          "data": {
            "text/plain": [
              "<tf.Tensor: shape=(3, 2), dtype=int32, numpy=\n",
              "array([[0, 0],\n",
              "       [0, 0],\n",
              "       [0, 0]], dtype=int32)>"
            ]
          },
          "metadata": {},
          "execution_count": 38
        }
      ]
    },
    {
      "cell_type": "code",
      "source": [
        "# create a tensor filled with an arbitrary value\n",
        "tf.fill([3,2], value=99) # note that shape is passed as an array instead of a tupple here"
      ],
      "metadata": {
        "id": "VMDySSkgxd74",
        "outputId": "e2587a40-493c-4c7a-b614-1ae7743371fb",
        "colab": {
          "base_uri": "https://localhost:8080/"
        }
      },
      "execution_count": 41,
      "outputs": [
        {
          "output_type": "execute_result",
          "data": {
            "text/plain": [
              "<tf.Tensor: shape=(3, 2), dtype=int32, numpy=\n",
              "array([[99, 99],\n",
              "       [99, 99],\n",
              "       [99, 99]], dtype=int32)>"
            ]
          },
          "metadata": {},
          "execution_count": 41
        }
      ]
    },
    {
      "cell_type": "markdown",
      "source": [
        "### Turn a NumPy array into tensors\n",
        "\n",
        "Main difference between NumPy arrays and tf tensors: tensors can be run on a GPU, otherwise very similar\n"
      ],
      "metadata": {
        "id": "prjNVhtVx0_v"
      }
    },
    {
      "cell_type": "code",
      "source": [
        "import numpy as np\n",
        "\n",
        "numpy_a = np.arange(1, 25, dtype=np.int32)\n",
        "\n",
        "# Capitalization \"rules\":\n",
        "# A = tf.constant(some_matrix) # capital for matrix or tensor\n",
        "# a = tf.constant(vector) # lowercase for vector\n",
        "numpy_a #  numpy array"
      ],
      "metadata": {
        "id": "z0yolIsiyG61",
        "outputId": "b2cbd6e8-7469-402d-b8ca-6a612fa0ae8c",
        "colab": {
          "base_uri": "https://localhost:8080/"
        }
      },
      "execution_count": 49,
      "outputs": [
        {
          "output_type": "execute_result",
          "data": {
            "text/plain": [
              "array([ 1,  2,  3,  4,  5,  6,  7,  8,  9, 10, 11, 12, 13, 14, 15, 16, 17,\n",
              "       18, 19, 20, 21, 22, 23, 24], dtype=int32)"
            ]
          },
          "metadata": {},
          "execution_count": 49
        }
      ]
    },
    {
      "cell_type": "code",
      "source": [
        "# convert to tf tensor\n",
        "tensor_a = tf.constant(numpy_a)\n",
        "tensor_a"
      ],
      "metadata": {
        "id": "knbXEEvjysSr",
        "outputId": "d0de326d-fd8f-4cb5-dc5b-8807784098ed",
        "colab": {
          "base_uri": "https://localhost:8080/"
        }
      },
      "execution_count": 50,
      "outputs": [
        {
          "output_type": "execute_result",
          "data": {
            "text/plain": [
              "<tf.Tensor: shape=(24,), dtype=int32, numpy=\n",
              "array([ 1,  2,  3,  4,  5,  6,  7,  8,  9, 10, 11, 12, 13, 14, 15, 16, 17,\n",
              "       18, 19, 20, 21, 22, 23, 24], dtype=int32)>"
            ]
          },
          "metadata": {},
          "execution_count": 50
        }
      ]
    },
    {
      "cell_type": "code",
      "source": [
        "# Change shape from vector to matrix from a one-dimensional array\n",
        "# the number of elements in the source array must add up to the elements required\n",
        "# by the shape\n",
        "tensor_A = tf.constant(numpy_a, shape=(2,3,4))\n",
        "tensor_A"
      ],
      "metadata": {
        "id": "CjzS_W7rzg-A",
        "outputId": "fa0c9f07-9d23-483d-f885-debe9f31b291",
        "colab": {
          "base_uri": "https://localhost:8080/"
        }
      },
      "execution_count": 53,
      "outputs": [
        {
          "output_type": "execute_result",
          "data": {
            "text/plain": [
              "<tf.Tensor: shape=(2, 3, 4), dtype=int32, numpy=\n",
              "array([[[ 1,  2,  3,  4],\n",
              "        [ 5,  6,  7,  8],\n",
              "        [ 9, 10, 11, 12]],\n",
              "\n",
              "       [[13, 14, 15, 16],\n",
              "        [17, 18, 19, 20],\n",
              "        [21, 22, 23, 24]]], dtype=int32)>"
            ]
          },
          "metadata": {},
          "execution_count": 53
        }
      ]
    },
    {
      "cell_type": "markdown",
      "source": [
        "### Getting information from tensors"
      ],
      "metadata": {
        "id": "5WC0E4JL0YNQ"
      }
    }
  ]
}