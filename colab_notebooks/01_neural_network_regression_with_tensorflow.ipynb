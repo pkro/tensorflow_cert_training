{
  "nbformat": 4,
  "nbformat_minor": 0,
  "metadata": {
    "colab": {
      "provenance": [],
      "authorship_tag": "ABX9TyMsaqGW9f54qJ7VRYjun4rg",
      "include_colab_link": true
    },
    "kernelspec": {
      "name": "python3",
      "display_name": "Python 3"
    },
    "language_info": {
      "name": "python"
    }
  },
  "cells": [
    {
      "cell_type": "markdown",
      "metadata": {
        "id": "view-in-github",
        "colab_type": "text"
      },
      "source": [
        "<a href=\"https://colab.research.google.com/github/pkro/tensorflow_cert_training/blob/main/colab_notebooks/01_neural_network_regression_with_tensorflow.ipynb\" target=\"_parent\"><img src=\"https://colab.research.google.com/assets/colab-badge.svg\" alt=\"Open In Colab\"/></a>"
      ]
    },
    {
      "cell_type": "markdown",
      "source": [
        "## Introduction to Regression with neural networks in TensorFlow\n",
        "\n",
        "Regression problem: predicting a numerical variable based on some other variation of variables"
      ],
      "metadata": {
        "id": "lcgSQoa2jBZV"
      }
    },
    {
      "cell_type": "code",
      "source": [
        "import tensorflow as tf\n",
        "print(tf.__version__)"
      ],
      "metadata": {
        "id": "I8tFBkEDcQkf",
        "outputId": "790b2691-906b-490a-b9b6-f47631cbb5cf",
        "colab": {
          "base_uri": "https://localhost:8080/"
        }
      },
      "execution_count": 67,
      "outputs": [
        {
          "output_type": "stream",
          "name": "stdout",
          "text": [
            "2.9.2\n"
          ]
        }
      ]
    },
    {
      "cell_type": "markdown",
      "source": [
        "### Create data to view and fit\n",
        "\n",
        "- features are usually defined in uppercase `X`, labels in lowercase `y`\n",
        "\n",
        "Here we create a simple feature and label lists where the relationship is y (label) = feature (Y) + 10\n",
        "\n",
        "Input shape: [8,] (8 numbers)\n",
        "Output shape: [1,] (one number)\n",
        "\n",
        "*Much easier way than the way I did it further down below:*\n",
        "\n",
        "```\n",
        "X = tf.range(-7, 15, 3)\n",
        "y = X + 10\n",
        "```"
      ],
      "metadata": {
        "id": "mmI1SLgYceC_"
      }
    },
    {
      "cell_type": "code",
      "source": [
        "import numpy as np\n",
        "import matplotlib.pyplot as plt\n",
        "\n",
        "# create features\n",
        "# x = np.array([-7., -4., -1., 2, 5., 8., 11., 14.])\n",
        "X = np.array(range(-7, 15, 3))\n",
        "X"
      ],
      "metadata": {
        "id": "t0mvdB6Jcqn2",
        "outputId": "77c26a7f-61b0-4a46-f824-f7bb2486e709",
        "colab": {
          "base_uri": "https://localhost:8080/"
        }
      },
      "execution_count": 68,
      "outputs": [
        {
          "output_type": "execute_result",
          "data": {
            "text/plain": [
              "array([-7, -4, -1,  2,  5,  8, 11, 14])"
            ]
          },
          "metadata": {},
          "execution_count": 68
        }
      ]
    },
    {
      "cell_type": "code",
      "source": [
        "# Create labels\n",
        "y = np.array(range(3,25, 3)).astype(float)\n",
        "y"
      ],
      "metadata": {
        "id": "rnaQYRq9eFaN",
        "outputId": "1474d7c1-0fae-45ab-f092-f2771271100c",
        "colab": {
          "base_uri": "https://localhost:8080/"
        }
      },
      "execution_count": 69,
      "outputs": [
        {
          "output_type": "execute_result",
          "data": {
            "text/plain": [
              "array([ 3.,  6.,  9., 12., 15., 18., 21., 24.])"
            ]
          },
          "metadata": {},
          "execution_count": 69
        }
      ]
    },
    {
      "cell_type": "code",
      "source": [
        "# Visualize\n",
        "plt.scatter(X,y)"
      ],
      "metadata": {
        "id": "Fu7PPg04e1ez",
        "outputId": "518378a6-b862-4941-8c0a-5d6353b2106f",
        "colab": {
          "base_uri": "https://localhost:8080/",
          "height": 286
        }
      },
      "execution_count": 70,
      "outputs": [
        {
          "output_type": "execute_result",
          "data": {
            "text/plain": [
              "<matplotlib.collections.PathCollection at 0x7fd2b3bf0640>"
            ]
          },
          "metadata": {},
          "execution_count": 70
        },
        {
          "output_type": "display_data",
          "data": {
            "text/plain": [
              "<Figure size 432x288 with 1 Axes>"
            ],
            "image/png": "[encoded data removed]"
          },
          "metadata": {
            "needs_background": "light"
          }
        }
      ]
    },
    {
      "cell_type": "code",
      "source": [
        "# this is the rule we want the neural network to learn\n",
        "y == X + 10"
      ],
      "metadata": {
        "id": "LW6zcdhBhVv0",
        "outputId": "4174beec-62c9-4495-b7a9-3ee2c06bb936",
        "colab": {
          "base_uri": "https://localhost:8080/"
        }
      },
      "execution_count": 71,
      "outputs": [
        {
          "output_type": "execute_result",
          "data": {
            "text/plain": [
              "array([ True,  True,  True,  True,  True,  True,  True,  True])"
            ]
          },
          "metadata": {},
          "execution_count": 71
        }
      ]
    },
    {
      "cell_type": "markdown",
      "source": [
        "### Input and output shapes"
      ],
      "metadata": {
        "id": "BxnQDjWchlF4"
      }
    },
    {
      "cell_type": "markdown",
      "source": [
        "Create a demo tensor for house pricing prediction problem (see main readme), where we already know the input / output shape from the info graphic and try to deduce the shapes for our X, y arrays."
      ],
      "metadata": {
        "id": "ScvB8jsqjJRA"
      }
    },
    {
      "cell_type": "code",
      "source": [
        "house_info = tf.constant([3, 2, 1]) # 3 bedrooms, 2 bathrooms, 1 garage\n",
        "house_price = tf.constant([939700])\n",
        "\n",
        "house_info, house_price\n"
      ],
      "metadata": {
        "id": "R_F_UgHLiCx9",
        "outputId": "57b02c93-1869-4301-d026-641297c21040",
        "colab": {
          "base_uri": "https://localhost:8080/"
        }
      },
      "execution_count": 72,
      "outputs": [
        {
          "output_type": "execute_result",
          "data": {
            "text/plain": [
              "(<tf.Tensor: shape=(3,), dtype=int32, numpy=array([3, 2, 1], dtype=int32)>,\n",
              " <tf.Tensor: shape=(1,), dtype=int32, numpy=array([939700], dtype=int32)>)"
            ]
          },
          "metadata": {},
          "execution_count": 72
        }
      ]
    },
    {
      "cell_type": "markdown",
      "source": [
        "The house info contains just one item of shape 3, our `X` contains 8 of shape 1 (just one number), as does the desired output.\n",
        "\n",
        "So the input shape is 1, as is the output shape for our simple example (that we have 8 items in those arrays doesn't matter for the input / output shape!)\n"
      ],
      "metadata": {
        "id": "6IXN7dSDjK3C"
      }
    },
    {
      "cell_type": "code",
      "source": [
        "print(X[0], \"should predict\", y[0])\n",
        "print(X[1], \"should predict\", y[1])\n",
        "print(\"etc...\")"
      ],
      "metadata": {
        "id": "APZ2MAATka4Q",
        "outputId": "14d7845d-86fd-4ed5-ce68-b963c9ddaa54",
        "colab": {
          "base_uri": "https://localhost:8080/"
        }
      },
      "execution_count": 73,
      "outputs": [
        {
          "output_type": "stream",
          "name": "stdout",
          "text": [
            "-7 should predict 3.0\n",
            "-4 should predict 6.0\n",
            "etc...\n"
          ]
        }
      ]
    },
    {
      "cell_type": "code",
      "source": [
        "input_shape = X[0].shape\n",
        "output_shape = y[0].shape\n",
        "input_shape, output_shape, X[0].ndim"
      ],
      "metadata": {
        "id": "wX-XosfOjYal",
        "outputId": "764efe1d-6b8b-4d8b-e595-33356c6dc41d",
        "colab": {
          "base_uri": "https://localhost:8080/"
        }
      },
      "execution_count": 74,
      "outputs": [
        {
          "output_type": "execute_result",
          "data": {
            "text/plain": [
              "((), (), 0)"
            ]
          },
          "metadata": {},
          "execution_count": 74
        }
      ]
    },
    {
      "cell_type": "markdown",
      "source": [
        "Why is there no shape?\n",
        "\n",
        "Scalars (single numbers) are a rank 0 tensor (0 dimensions).\n",
        "\n",
        "In the following code, we need to expand the dimensions of the input vector when fitting a model (automatic in TensorFlow up to 2.6, manual from 2.7 onward) to avoid a `shape error`:\n",
        "\n",
        "```\n",
        "## OLD\n",
        "# Fit the model\n",
        "model.fit(X, y, epochs=5) # this will break with TensorFlow 2.7.0+\n",
        " \n",
        "## New\n",
        "# Fit the model\n",
        "model.fit(tf.expand_dims(X, axis=-1), y, epochs=5) # <- updated \n",
        "```\n",
        "\n",
        "`axis=-1 ` adds an innermost dimension as per python indexing rules where -1 = last index"
      ],
      "metadata": {
        "id": "7vGIYR8ak5_L"
      }
    },
    {
      "cell_type": "code",
      "source": [
        "# turn arrays into tensors\n",
        "X = tf.constant(X, dtype=tf.float32)\n",
        "y = tf.constant(y, dtype=tf.float32)\n",
        "X, y"
      ],
      "metadata": {
        "id": "Y9pDeywVm9ZP",
        "outputId": "936e8103-383d-457e-cd04-ff833bf399eb",
        "colab": {
          "base_uri": "https://localhost:8080/"
        }
      },
      "execution_count": 75,
      "outputs": [
        {
          "output_type": "execute_result",
          "data": {
            "text/plain": [
              "(<tf.Tensor: shape=(8,), dtype=float32, numpy=array([-7., -4., -1.,  2.,  5.,  8., 11., 14.], dtype=float32)>,\n",
              " <tf.Tensor: shape=(8,), dtype=float32, numpy=array([ 3.,  6.,  9., 12., 15., 18., 21., 24.], dtype=float32)>)"
            ]
          },
          "metadata": {},
          "execution_count": 75
        }
      ]
    },
    {
      "cell_type": "code",
      "source": [
        "input_shape = X[0].shape\n",
        "output_shape = y[0].shape\n",
        "input_shape, output_shape, X[0].ndim"
      ],
      "metadata": {
        "id": "n_Zeh4F4nknY",
        "outputId": "6488276b-c668-4d18-a37f-fb472d71b3d0",
        "colab": {
          "base_uri": "https://localhost:8080/"
        }
      },
      "execution_count": 76,
      "outputs": [
        {
          "output_type": "execute_result",
          "data": {
            "text/plain": [
              "(TensorShape([]), TensorShape([]), 0)"
            ]
          },
          "metadata": {},
          "execution_count": 76
        }
      ]
    },
    {
      "cell_type": "markdown",
      "source": [
        "### Steps in modelling with TensorFlow\n",
        "\n",
        "1. Creationg a model - define the input and output layers, as well as the hidden layers of a deep learning model\n",
        "2. Compiling a model\n",
        "  - define the loss function (the function which tells the model how wrong it is) \n",
        "  - the optimizer (tells the model how to improve the patterns it is learning) \n",
        "  -evaluation metrics (what we can use to interpret the performance of the model)\n",
        "3. Fitting a model - let the model try to find patterns between X and y (features and labels)"
      ],
      "metadata": {
        "id": "r00xKJnyn8bz"
      }
    },
    {
      "cell_type": "markdown",
      "source": [
        "![steps in modeling with tensorflow](https://github.com/pkro/tensorflow_cert_training/blob/main/readme_images/tensorflow_modeling_steps.png?raw=1)"
      ],
      "metadata": {
        "id": "xYFNSGYCVsfV"
      }
    },
    {
      "cell_type": "code",
      "source": [
        "tf.random.set_seed(42)\n",
        "\n",
        "# 1. Create a model using the sequential API\n",
        "# layers can also be added with \n",
        "# model = tf.keras.Sequential()\n",
        "# model.add(tf.keras.layers.Dense(1)) \n",
        "# instead of passing them as an array\n",
        "model = tf.keras.Sequential([\n",
        "    tf.keras.layers.Dense(1) # \"1\" because we want to predict 1 number\n",
        "])\n",
        "\n",
        "\n",
        "# 2. compile the model \n",
        "model.compile(\n",
        "    # or .mean_absolute_error, Computes the mean absolute error between labels and predictions.\n",
        "    # loss = mean(abs(y_true - y_pred), axis=-1)\n",
        "    # where y_true is the correct value, y_pred the prediction the model makes\n",
        "    # \"on average, how wrong were our predictions\"\n",
        "    loss = tf.keras.losses.mae,\n",
        "    optimizer = tf.keras.optimizers.SGD(), # stochastic gradient descent;\n",
        "    metrics=[\"mae\"] # most functions can be passed as string, e.g. optimizer=\"sgd\"\n",
        "  )\n",
        "\n",
        "# 3. Fit the model\n",
        "# Sequential groups a linear stack of layers into a tf.keras.Model.\n",
        "model.fit(tf.expand_dims(X, axis=-1), y, epochs=5) # 5 \"laps\"\n",
        "\n"
      ],
      "metadata": {
        "id": "xuMFGFzFV8M0",
        "outputId": "b78f1d0f-b5c7-47a7-adea-0d5b85e9c033",
        "colab": {
          "base_uri": "https://localhost:8080/"
        }
      },
      "execution_count": 77,
      "outputs": [
        {
          "output_type": "stream",
          "name": "stdout",
          "text": [
            "Epoch 1/5\n",
            "1/1 [==============================] - 0s 223ms/step - loss: 11.5048 - mae: 11.5048\n",
            "Epoch 2/5\n",
            "1/1 [==============================] - 0s 7ms/step - loss: 11.3723 - mae: 11.3723\n",
            "Epoch 3/5\n",
            "1/1 [==============================] - 0s 5ms/step - loss: 11.2398 - mae: 11.2398\n",
            "Epoch 4/5\n",
            "1/1 [==============================] - 0s 5ms/step - loss: 11.1073 - mae: 11.1073\n",
            "Epoch 5/5\n",
            "1/1 [==============================] - 0s 5ms/step - loss: 10.9748 - mae: 10.9748\n"
          ]
        },
        {
          "output_type": "execute_result",
          "data": {
            "text/plain": [
              "<keras.callbacks.History at 0x7fd2b3f0fc70>"
            ]
          },
          "metadata": {},
          "execution_count": 77
        }
      ]
    },
    {
      "cell_type": "code",
      "source": [
        "print(X, y)\n",
        "model.predict([17.]) # SHOULD be 27.0"
      ],
      "metadata": {
        "id": "kpKKWrk5Zhi2",
        "outputId": "de9c7da5-7c99-4f30-f9a5-8ab9b83373ac",
        "colab": {
          "base_uri": "https://localhost:8080/"
        }
      },
      "execution_count": 78,
      "outputs": [
        {
          "output_type": "stream",
          "name": "stdout",
          "text": [
            "tf.Tensor([-7. -4. -1.  2.  5.  8. 11. 14.], shape=(8,), dtype=float32) tf.Tensor([ 3.  6.  9. 12. 15. 18. 21. 24.], shape=(8,), dtype=float32)\n",
            "1/1 [==============================] - 0s 38ms/step\n"
          ]
        },
        {
          "output_type": "execute_result",
          "data": {
            "text/plain": [
              "array([[12.716021]], dtype=float32)"
            ]
          },
          "metadata": {},
          "execution_count": 78
        }
      ]
    },
    {
      "cell_type": "markdown",
      "source": [
        "That's a pretty bad prediction.\n",
        "\n",
        "### Improving a model with Tensorflow\n",
        "\n",
        "We can try to improve a model on each of the 5 steps. The best would be to have more training data.\n",
        "\n",
        "1. **Creating a model** - add more layers, increase number of hidden units (aka neurons) within each layer, change the [activation function](https://machinelearningmastery.com/choose-an-activation-function-for-deep-learning/) of each layer.\n",
        "2. **Compiling a model** - change optimization function or **learning rate** of the optimization function\n",
        "3. **Fitting the model** - more epochs, give more data\n",
        "\n",
        "\n",
        "Do small singular changes in experiments to see what causes a model to perform better (or *worse*!)\n",
        "\n",
        "**Common ways to improve a deep model:**\n",
        "\n",
        "- Adding layers\n",
        "- Increase the number of hidden units (neurons)\n",
        "- Change the activation functions\n",
        "- Change the optimization function\n",
        "- Change the learning rate; **this is potentially the most important hyperparameter to change**\n",
        "- Fitting on more data (if available)\n",
        "- Fitting for longer (easiest, just add more epochs)\n"
      ],
      "metadata": {
        "id": "L_twWN6fcdRE"
      }
    },
    {
      "cell_type": "markdown",
      "source": [
        "#### More epochs"
      ],
      "metadata": {
        "id": "_-sC-OnaZbF6"
      }
    },
    {
      "cell_type": "code",
      "source": [
        "model = tf.keras.Sequential([\n",
        "    tf.keras.layers.Dense(1)\n",
        "])\n",
        "\n",
        "model.compile(\n",
        "    loss = tf.keras.losses.mae,\n",
        "    optimizer = tf.keras.optimizers.SGD(),\n",
        "    metrics=[\"mae\"]\n",
        "  )\n",
        "\n",
        "# 100 epochs instead of 5 - loss goes down\n",
        "model.fit(tf.expand_dims(X, axis=-1), y, epochs=100, verbose=0) # more epochs (skip output)"
      ],
      "metadata": {
        "id": "Pe10z2sQdKje",
        "outputId": "cf18c94e-7997-4c26-9dec-607a4e8e7341",
        "colab": {
          "base_uri": "https://localhost:8080/"
        }
      },
      "execution_count": 79,
      "outputs": [
        {
          "output_type": "execute_result",
          "data": {
            "text/plain": [
              "<keras.callbacks.History at 0x7fd2b424c6d0>"
            ]
          },
          "metadata": {},
          "execution_count": 79
        }
      ]
    },
    {
      "cell_type": "code",
      "source": [
        "model.predict([17.])"
      ],
      "metadata": {
        "id": "ey6cW21sddXW",
        "outputId": "39cd9612-c675-4646-f6a9-a52cbded3832",
        "colab": {
          "base_uri": "https://localhost:8080/"
        }
      },
      "execution_count": 80,
      "outputs": [
        {
          "output_type": "stream",
          "name": "stdout",
          "text": [
            "1/1 [==============================] - 0s 37ms/step\n"
          ]
        },
        {
          "output_type": "execute_result",
          "data": {
            "text/plain": [
              "array([[29.739855]], dtype=float32)"
            ]
          },
          "metadata": {},
          "execution_count": 80
        }
      ]
    },
    {
      "cell_type": "markdown",
      "source": [
        "The prediction has improved significantly already\n",
        "\n",
        "#### Add a layer / hidden units / activation function"
      ],
      "metadata": {
        "id": "786IfidCbOpH"
      }
    },
    {
      "cell_type": "code",
      "source": [
        "# reminder of the data\n",
        "X, y"
      ],
      "metadata": {
        "colab": {
          "base_uri": "https://localhost:8080/"
        },
        "id": "doqUkEMgepqw",
        "outputId": "013b10a0-4176-4f64-8ecf-4a076784b738"
      },
      "execution_count": 81,
      "outputs": [
        {
          "output_type": "execute_result",
          "data": {
            "text/plain": [
              "(<tf.Tensor: shape=(8,), dtype=float32, numpy=array([-7., -4., -1.,  2.,  5.,  8., 11., 14.], dtype=float32)>,\n",
              " <tf.Tensor: shape=(8,), dtype=float32, numpy=array([ 3.,  6.,  9., 12., 15., 18., 21., 24.], dtype=float32)>)"
            ]
          },
          "metadata": {},
          "execution_count": 81
        }
      ]
    },
    {
      "cell_type": "code",
      "source": [
        "# add more layers, more neurons and an activation\n",
        "model = tf.keras.Sequential([\n",
        "    # add another layer, more hidden units and change the activation function\n",
        "    # we can change each of these separately\n",
        "    tf.keras.layers.Dense(50, activation=\"relu\"),\n",
        "    tf.keras.layers.Dense(1)\n",
        "])\n",
        "\n",
        "model.compile(\n",
        "    loss = \"mae\", # just an alternative way to define the loss function\n",
        "    optimizer = tf.keras.optimizers.SGD(),\n",
        "    metrics=[\"mae\"]\n",
        "  )\n",
        "\n",
        "model.fit(tf.expand_dims(X, axis=-1), y, epochs=100, verbose=0)"
      ],
      "metadata": {
        "outputId": "2089cf16-09a7-4aed-ed3b-349a9036d442",
        "colab": {
          "base_uri": "https://localhost:8080/"
        },
        "id": "mijBHXBdZ0XH"
      },
      "execution_count": 82,
      "outputs": [
        {
          "output_type": "execute_result",
          "data": {
            "text/plain": [
              "<keras.callbacks.History at 0x7fd2b0b6ef10>"
            ]
          },
          "metadata": {},
          "execution_count": 82
        }
      ]
    },
    {
      "cell_type": "code",
      "source": [
        "model.predict([17.])"
      ],
      "metadata": {
        "colab": {
          "base_uri": "https://localhost:8080/"
        },
        "id": "vKw2GYXKcpHn",
        "outputId": "99130fec-1949-445f-e668-742a7cc3461e"
      },
      "execution_count": 83,
      "outputs": [
        {
          "output_type": "stream",
          "name": "stdout",
          "text": [
            "1/1 [==============================] - 0s 42ms/step\n"
          ]
        },
        {
          "output_type": "execute_result",
          "data": {
            "text/plain": [
              "array([[32.7789]], dtype=float32)"
            ]
          },
          "metadata": {},
          "execution_count": 83
        }
      ]
    },
    {
      "cell_type": "markdown",
      "source": [
        "The prediction actually got worse, even though the loss got lower (change verbose to 'auto' in model.fit to see steps).\n",
        "\n",
        "This is called [**overfitting**](https://www.ibm.com/topics/overfitting), meaning the model learns the training data *too* well. In other words, the lower loss we see isn't representative to data the model hasn't seen before."
      ],
      "metadata": {
        "id": "wyq_wYk7e9Hd"
      }
    },
    {
      "cell_type": "markdown",
      "source": [
        "#### Change optimizer and **learning rate**"
      ],
      "metadata": {
        "id": "lx31KDK1iHDr"
      }
    },
    {
      "cell_type": "code",
      "source": [
        "# we keep the changes from before\n",
        "model = tf.keras.Sequential([\n",
        "    tf.keras.layers.Dense(50, activation=\"relu\"),\n",
        "    tf.keras.layers.Dense(1)\n",
        "])\n",
        "\n",
        "model.compile(\n",
        "    loss = \"mae\",\n",
        "    # Adam is a common and useful optimizer, often the default\n",
        "    # the higher the learning rate, the quicker the optimizer pushes\n",
        "    # the model to improve\n",
        "    optimizer = tf.keras.optimizers.Adam(learning_rate=0.01),\n",
        "    metrics=[\"mae\"]\n",
        "  )\n",
        "\n",
        "model.fit(tf.expand_dims(X, axis=-1), y, epochs=100, verbose=0) # loss goes down to 0.x in the last iterations"
      ],
      "metadata": {
        "colab": {
          "base_uri": "https://localhost:8080/"
        },
        "id": "buLH5W6WiM5Q",
        "outputId": "a1d8fc63-ab40-473c-8c46-bf5e4a4ff355"
      },
      "execution_count": 84,
      "outputs": [
        {
          "output_type": "execute_result",
          "data": {
            "text/plain": [
              "<keras.callbacks.History at 0x7fd2b3d787f0>"
            ]
          },
          "metadata": {},
          "execution_count": 84
        }
      ]
    },
    {
      "cell_type": "code",
      "source": [
        "model.predict([17.]) # almost perfect fit"
      ],
      "metadata": {
        "colab": {
          "base_uri": "https://localhost:8080/"
        },
        "id": "BUQL_vBriXHg",
        "outputId": "839c951b-5f84-44ab-c826-cb6e8bb37f30"
      },
      "execution_count": 85,
      "outputs": [
        {
          "output_type": "stream",
          "name": "stdout",
          "text": [
            "1/1 [==============================] - 0s 39ms/step\n"
          ]
        },
        {
          "output_type": "execute_result",
          "data": {
            "text/plain": [
              "array([[26.921337]], dtype=float32)"
            ]
          },
          "metadata": {},
          "execution_count": 85
        }
      ]
    },
    {
      "cell_type": "markdown",
      "source": [
        "### Evaluating a model\n",
        "\n",
        "In practice, a typical workflow is:\n",
        "\n",
        "Build a model -> fit it -> evaluate it -> tweak -> evaluate -> tweak -> ...\n",
        "\n",
        "- Building models: experiment, experiment, experiment\n",
        "- Evaluating models: **visualize, visualize, visualize**\n",
        "\n",
        "Things to visualize:\n",
        "\n",
        "- The data - what are we working with? What does it look like?\n",
        "- The model - what does our model look like?\n",
        "- The training of a model - how does a model perform while it learns?\n",
        "- The predictions - how do the predictions of the model line up against the ground truth (the original labels)?\n"
      ],
      "metadata": {
        "id": "MmSagRmYkSRJ"
      }
    },
    {
      "cell_type": "code",
      "source": [
        "# Make a bigger dataset (in practice rarely available)\n",
        "X = tf.range(-100, 100, 4)\n",
        "X"
      ],
      "metadata": {
        "colab": {
          "base_uri": "https://localhost:8080/"
        },
        "id": "Pn9VxU9hm00v",
        "outputId": "404dfbd1-aef6-4471-b8ee-21bf7d7c67e9"
      },
      "execution_count": 86,
      "outputs": [
        {
          "output_type": "execute_result",
          "data": {
            "text/plain": [
              "<tf.Tensor: shape=(50,), dtype=int32, numpy=\n",
              "array([-100,  -96,  -92,  -88,  -84,  -80,  -76,  -72,  -68,  -64,  -60,\n",
              "        -56,  -52,  -48,  -44,  -40,  -36,  -32,  -28,  -24,  -20,  -16,\n",
              "        -12,   -8,   -4,    0,    4,    8,   12,   16,   20,   24,   28,\n",
              "         32,   36,   40,   44,   48,   52,   56,   60,   64,   68,   72,\n",
              "         76,   80,   84,   88,   92,   96], dtype=int32)>"
            ]
          },
          "metadata": {},
          "execution_count": 86
        }
      ]
    },
    {
      "cell_type": "code",
      "source": [
        "# Make labels for the dataset\n",
        "y = X + 10\n",
        "y"
      ],
      "metadata": {
        "colab": {
          "base_uri": "https://localhost:8080/"
        },
        "id": "xmqvnCKeoNCv",
        "outputId": "1cbf19e0-aa4b-4342-9f3b-547f233d3824"
      },
      "execution_count": 87,
      "outputs": [
        {
          "output_type": "execute_result",
          "data": {
            "text/plain": [
              "<tf.Tensor: shape=(50,), dtype=int32, numpy=\n",
              "array([-90, -86, -82, -78, -74, -70, -66, -62, -58, -54, -50, -46, -42,\n",
              "       -38, -34, -30, -26, -22, -18, -14, -10,  -6,  -2,   2,   6,  10,\n",
              "        14,  18,  22,  26,  30,  34,  38,  42,  46,  50,  54,  58,  62,\n",
              "        66,  70,  74,  78,  82,  86,  90,  94,  98, 102, 106], dtype=int32)>"
            ]
          },
          "metadata": {},
          "execution_count": 87
        }
      ]
    },
    {
      "cell_type": "code",
      "source": [
        "# Visualize the data\n",
        "import matplotlib.pyplot as plt\n",
        "\n",
        "plt.scatter(X, y)"
      ],
      "metadata": {
        "colab": {
          "base_uri": "https://localhost:8080/",
          "height": 282
        },
        "id": "l6hpTINho-kA",
        "outputId": "63ee3a99-8672-4da5-88fb-493c45b944ea"
      },
      "execution_count": 88,
      "outputs": [
        {
          "output_type": "execute_result",
          "data": {
            "text/plain": [
              "<matplotlib.collections.PathCollection at 0x7fd2b1162ca0>"
            ]
          },
          "metadata": {},
          "execution_count": 88
        },
        {
          "output_type": "display_data",
          "data": {
            "text/plain": [
              "<Figure size 432x288 with 1 Axes>"
            ],
            "image/png": "[encoded data removed]"
          },
          "metadata": {
            "needs_background": "light"
          }
        }
      ]
    },
    {
      "cell_type": "markdown",
      "source": [
        "#### Digression: The 3 sets...\n",
        "\n",
        "- **Training set** (what the model learns from); typically 70%-80% of availiable data (analogy: course materials)\n",
        "- Validation set - what the model is tuned on; typically 10%-15% (analogy: practice exam)\n",
        "- **Test set** - the model gets evaluated on this data to test what it has learned, typically 10%-15% (analogy: final exam)\n",
        "\n",
        "Validation set is optional (tuning / testing can be done on one set).\n",
        "\n",
        "Goal: **Generalization** of the model - make the model perform well on data it hasn't seen before\n",
        "\n"
      ],
      "metadata": {
        "id": "mL2viPC2pMhn"
      }
    },
    {
      "cell_type": "code",
      "source": [
        "# Check the length of samples\n",
        "len(X)"
      ],
      "metadata": {
        "colab": {
          "base_uri": "https://localhost:8080/"
        },
        "id": "_ZgY5llLteix",
        "outputId": "e9c8caea-f38d-4c01-ee8a-59ab6de86263"
      },
      "execution_count": 89,
      "outputs": [
        {
          "output_type": "execute_result",
          "data": {
            "text/plain": [
              "50"
            ]
          },
          "metadata": {},
          "execution_count": 89
        }
      ]
    },
    {
      "cell_type": "code",
      "source": [
        "# split into training and test sets from available data\n",
        "X_train = X[:40] # 80%\n",
        "X_test = X[40:] # 209%\n",
        "y_train = y[:40]\n",
        "y_test = y[40:]\n",
        "X_train, y_train, X_test, y_test, len(X_train), len(X_test)"
      ],
      "metadata": {
        "colab": {
          "base_uri": "https://localhost:8080/"
        },
        "id": "kLf9OjaUto00",
        "outputId": "00b15c36-4d58-4317-a99f-9257c7527a46"
      },
      "execution_count": 90,
      "outputs": [
        {
          "output_type": "execute_result",
          "data": {
            "text/plain": [
              "(<tf.Tensor: shape=(40,), dtype=int32, numpy=\n",
              " array([-100,  -96,  -92,  -88,  -84,  -80,  -76,  -72,  -68,  -64,  -60,\n",
              "         -56,  -52,  -48,  -44,  -40,  -36,  -32,  -28,  -24,  -20,  -16,\n",
              "         -12,   -8,   -4,    0,    4,    8,   12,   16,   20,   24,   28,\n",
              "          32,   36,   40,   44,   48,   52,   56], dtype=int32)>,\n",
              " <tf.Tensor: shape=(40,), dtype=int32, numpy=\n",
              " array([-90, -86, -82, -78, -74, -70, -66, -62, -58, -54, -50, -46, -42,\n",
              "        -38, -34, -30, -26, -22, -18, -14, -10,  -6,  -2,   2,   6,  10,\n",
              "         14,  18,  22,  26,  30,  34,  38,  42,  46,  50,  54,  58,  62,\n",
              "         66], dtype=int32)>,\n",
              " <tf.Tensor: shape=(10,), dtype=int32, numpy=array([60, 64, 68, 72, 76, 80, 84, 88, 92, 96], dtype=int32)>,\n",
              " <tf.Tensor: shape=(10,), dtype=int32, numpy=array([ 70,  74,  78,  82,  86,  90,  94,  98, 102, 106], dtype=int32)>,\n",
              " 40,\n",
              " 10)"
            ]
          },
          "metadata": {},
          "execution_count": 90
        }
      ]
    },
    {
      "cell_type": "code",
      "source": [
        "# Visualize the test / training data again\n",
        "plt.figure(figsize=(10,7))\n",
        "plt.scatter(X_train, y_train, c=\"blue\", label=\"Training data\")\n",
        "plt.scatter(X_test, y_test, c=\"green\", label=\"Testing data\")\n",
        "plt.legend();"
      ],
      "metadata": {
        "colab": {
          "base_uri": "https://localhost:8080/",
          "height": 428
        },
        "id": "Ch4VywpDuiLy",
        "outputId": "8f1dc82a-5e51-4327-9101-edb4575d51e6"
      },
      "execution_count": 91,
      "outputs": [
        {
          "output_type": "display_data",
          "data": {
            "text/plain": [
              "<Figure size 720x504 with 1 Axes>"
            ],
            "image/png": "[encoded data removed]"
          },
          "metadata": {
            "needs_background": "light"
          }
        }
      ]
    },
    {
      "cell_type": "markdown",
      "source": [
        "### Visualize the model"
      ],
      "metadata": {
        "id": "_CjeeSv2x0ck"
      }
    },
    {
      "cell_type": "code",
      "source": [
        "# create a model again (simple model from the start)\n",
        "model = tf.keras.Sequential([\n",
        "    tf.keras.layers.Dense(1)\n",
        "])\n",
        "\n",
        "model.compile(\n",
        "    loss = tf.keras.losses.mae,\n",
        "    optimizer = tf.keras.optimizers.SGD(),\n",
        "    metrics=[\"mae\"]\n",
        "  )\n",
        "\n",
        "# No fitting for now to show how to use model.build\n",
        "# model.fit(tf.expand_dims(X_train, axis=-1), y_train, epochs=100, verbose=0)"
      ],
      "metadata": {
        "id": "W7Bb-rJ8wrr_"
      },
      "execution_count": 92,
      "outputs": []
    },
    {
      "cell_type": "code",
      "source": [
        "try:\n",
        "  model.summary()\n",
        "except ValueError as err:\n",
        "  print(err)"
      ],
      "metadata": {
        "colab": {
          "base_uri": "https://localhost:8080/"
        },
        "id": "FCpOnSkkxpKV",
        "outputId": "ee38386d-4abc-486a-a933-261a799a81f1"
      },
      "execution_count": 93,
      "outputs": [
        {
          "output_type": "stream",
          "name": "stdout",
          "text": [
            "This model has not yet been built. Build the model first by calling `build()` or by calling the model on a batch of data.\n"
          ]
        }
      ]
    },
    {
      "cell_type": "code",
      "source": [
        "# Create a model which builds automatically by defining the input_shape\n",
        "tf.random.set_seed(42)\n",
        "\n",
        "model = tf.keras.Sequential([\n",
        "    tf.keras.layers.Dense(10, input_shape=[1]) # shape = 1 because we pass just one number\n",
        "])\n",
        "\n",
        "model.compile(\n",
        "    loss=tf.keras.losses.mae,\n",
        "    optimizer=tf.keras.optimizers.SGD(),\n",
        "    metrics=[\"mae\"]\n",
        ")\n",
        "\n",
        "model.summary()"
      ],
      "metadata": {
        "colab": {
          "base_uri": "https://localhost:8080/"
        },
        "id": "preG7qyCy_vS",
        "outputId": "11499891-7f79-4fc6-d688-b21f897349c5"
      },
      "execution_count": 94,
      "outputs": [
        {
          "output_type": "stream",
          "name": "stdout",
          "text": [
            "Model: \"sequential_12\"\n",
            "_________________________________________________________________\n",
            " Layer (type)                Output Shape              Param #   \n",
            "=================================================================\n",
            " dense_23 (Dense)            (None, 10)                20        \n",
            "                                                                 \n",
            "=================================================================\n",
            "Total params: 20\n",
            "Trainable params: 20\n",
            "Non-trainable params: 0\n",
            "_________________________________________________________________\n"
          ]
        }
      ]
    },
    {
      "cell_type": "markdown",
      "source": [
        "The numbers in the model and layer names just denotes an identifier for the models / layers created in the session, if none given with a \"name\" parameter.\n",
        "\n",
        "- **Dense** = **Fully connected** = **linear layer** = every input neuron is connected to every output neuron\n",
        "- Output shape is = number of hidden units (?)\n",
        "- Total params: total number of parameters in the model (how many patterns the model is going to try and learn)\n",
        "- Trainable params: parameters / patterns the model can update as it trains\n",
        "- Non-trainable params: frozen patterns in existing models; aren't updated during training. Typicdal when bringing n already learned patterns / parameters during **transfer learning**.\n",
        "\n",
        "**Resource:** \n",
        "\n",
        "http://introtodeeplearning.com/ (from january 2023 on)\n",
        "\n",
        "http://introtodeeplearning.com/2022/index.html\n",
        "\n",
        "- **Exercise:** tryp playing around with the nubmer of hidden units and see how it affects the number of parameters.\n",
        "  - seems like the output shape = number of hidden layers (and not the defined output shape)\n",
        "  - parameters are 2 * num of hidden layers; 2 is probably the input -> output (one X for one y); **2 trainable parameters per dense hidden unit**"
      ],
      "metadata": {
        "id": "Q1AJfORl2MN_"
      }
    },
    {
      "cell_type": "code",
      "source": [
        "model.fit(tf.expand_dims(X_train, axis=-1), y_train, epochs=100, verbose=0)"
      ],
      "metadata": {
        "colab": {
          "base_uri": "https://localhost:8080/"
        },
        "id": "3nxJ_N9o7nc0",
        "outputId": "359f90f4-3ded-4acd-9805-bc1b03cde709"
      },
      "execution_count": 95,
      "outputs": [
        {
          "output_type": "execute_result",
          "data": {
            "text/plain": [
              "<keras.callbacks.History at 0x7fd2b1075af0>"
            ]
          },
          "metadata": {},
          "execution_count": 95
        }
      ]
    },
    {
      "cell_type": "code",
      "source": [
        "model.summary()"
      ],
      "metadata": {
        "colab": {
          "base_uri": "https://localhost:8080/"
        },
        "id": "OEbs_eeT86eM",
        "outputId": "e70ef539-3ed9-4acb-e800-c0bf0814c109"
      },
      "execution_count": 96,
      "outputs": [
        {
          "output_type": "stream",
          "name": "stdout",
          "text": [
            "Model: \"sequential_12\"\n",
            "_________________________________________________________________\n",
            " Layer (type)                Output Shape              Param #   \n",
            "=================================================================\n",
            " dense_23 (Dense)            (None, 10)                20        \n",
            "                                                                 \n",
            "=================================================================\n",
            "Total params: 20\n",
            "Trainable params: 20\n",
            "Non-trainable params: 0\n",
            "_________________________________________________________________\n"
          ]
        }
      ]
    },
    {
      "cell_type": "code",
      "source": [
        "# visualize model\n",
        "from tensorflow.keras.utils import plot_model\n",
        "plot_model(model, show_shapes=True)"
      ],
      "metadata": {
        "colab": {
          "base_uri": "https://localhost:8080/",
          "height": 201
        },
        "id": "8WSLw9t088tZ",
        "outputId": "71497ae4-6ff9-40c0-fef5-2f6944cfc405"
      },
      "execution_count": 97,
      "outputs": [
        {
          "output_type": "execute_result",
          "data": {
            "image/png": "[encoded data removed]",
            "text/plain": [
              "<IPython.core.display.Image object>"
            ]
          },
          "metadata": {},
          "execution_count": 97
        }
      ]
    },
    {
      "cell_type": "code",
      "source": [
        "# Add layers / neuros to check how output changes\n",
        "# Also, name layers and the model itself for easier reading\n",
        "model = tf.keras.Sequential([\n",
        "    tf.keras.layers.Dense(10, input_shape=[1], name=\"input_layer\"),\n",
        "    tf.keras.layers.Dense(1, input_shape=[1], name=\"output_layer\"),\n",
        "], name=\"two_layer_model\")\n",
        "\n",
        "model.compile(\n",
        "    loss=tf.keras.losses.mae,\n",
        "    optimizer=tf.keras.optimizers.SGD(),\n",
        "    metrics=[\"mae\"]\n",
        ")\n",
        "\n",
        "\n",
        "plot_model(model, show_shapes=True)"
      ],
      "metadata": {
        "colab": {
          "base_uri": "https://localhost:8080/",
          "height": 312
        },
        "id": "in02UQ_2-GCt",
        "outputId": "20126d15-f362-425a-c43c-698c211c842a"
      },
      "execution_count": 98,
      "outputs": [
        {
          "output_type": "execute_result",
          "data": {
            "image/png": "[encoded data removed]",
            "text/plain": [
              "<IPython.core.display.Image object>"
            ]
          },
          "metadata": {},
          "execution_count": 98
        }
      ]
    },
    {
      "cell_type": "code",
      "source": [
        "model.summary()"
      ],
      "metadata": {
        "colab": {
          "base_uri": "https://localhost:8080/"
        },
        "id": "dFlvAWxl-p5x",
        "outputId": "2ca9051d-22e9-41ec-e18d-f4a53d0ee0b8"
      },
      "execution_count": 99,
      "outputs": [
        {
          "output_type": "stream",
          "name": "stdout",
          "text": [
            "Model: \"two_layer_model\"\n",
            "_________________________________________________________________\n",
            " Layer (type)                Output Shape              Param #   \n",
            "=================================================================\n",
            " input_layer (Dense)         (None, 10)                20        \n",
            "                                                                 \n",
            " output_layer (Dense)        (None, 1)                 11        \n",
            "                                                                 \n",
            "=================================================================\n",
            "Total params: 31\n",
            "Trainable params: 31\n",
            "Non-trainable params: 0\n",
            "_________________________________________________________________\n"
          ]
        }
      ]
    },
    {
      "cell_type": "markdown",
      "source": [
        "### Visualizing the models predictions\n",
        "\n",
        "To visualize predictions, it's a good idea to plot them agains the ground truth labels.\n",
        "\n",
        "In practice these are often named `y_test` (like here), `y_true` vs `y_pred`"
      ],
      "metadata": {
        "id": "IaZsVond_d7l"
      }
    },
    {
      "cell_type": "code",
      "source": [
        "# define a reusable plot function\n",
        "def plot_predictions(train_data, train_labels, test_data, test_labels, predictions):\n",
        "  plt.figure(figsize=(10,7))\n",
        "  plt.scatter(train_data, train_labels, c=\"blue\", label=\"Training data\")\n",
        "  plt.scatter(test_data, test_labels, c=\"green\", label=\"Testing data\") # true values\n",
        "  plt.scatter(test_data, predictions, c=\"red\", label=\"Predictions\") # predictions\n",
        "  plt.legend()"
      ],
      "metadata": {
        "id": "Xw3ncYcAR76K"
      },
      "execution_count": 100,
      "outputs": []
    },
    {
      "cell_type": "code",
      "source": [
        "# create model and fit it to be in sync with the course videos\n",
        "tf.random.set_seed(42)\n",
        "\n",
        "model = tf.keras.Sequential([\n",
        "  tf.keras.layers.Dense(1, input_shape=[1]) # define the input_shape to our model\n",
        "])\n",
        "\n",
        "model.compile(loss=tf.keras.losses.mae,\n",
        "              optimizer=tf.keras.optimizers.SGD(),\n",
        "              metrics=[\"mae\"])\n",
        "\n",
        "model.fit(X_train, y_train, epochs=50, verbose=0) # with inut shape defined above we don't have to expand dimensions it seems"
      ],
      "metadata": {
        "id": "tEs8gPb5Uppb",
        "outputId": "e0231c9c-399c-48f5-eae9-b2f066964f11",
        "colab": {
          "base_uri": "https://localhost:8080/"
        }
      },
      "execution_count": 101,
      "outputs": [
        {
          "output_type": "execute_result",
          "data": {
            "text/plain": [
              "<keras.callbacks.History at 0x7fd2bc14e7c0>"
            ]
          },
          "metadata": {},
          "execution_count": 101
        }
      ]
    },
    {
      "cell_type": "code",
      "source": [
        "# check / visualize predictions of test data\n",
        "y_pred=model.predict(y_test)\n",
        "plot_predictions(train_data=X_train, \n",
        "                 train_labels=y_train, \n",
        "                 test_data=X_test, \n",
        "                 test_labels=y_test, \n",
        "                 predictions=y_pred)\n",
        "# model.predict([17.]) "
      ],
      "metadata": {
        "colab": {
          "base_uri": "https://localhost:8080/",
          "height": 445
        },
        "id": "8xYCVTz1xX9H",
        "outputId": "38aba193-e4f2-4e85-b4c0-818b967ff467"
      },
      "execution_count": 102,
      "outputs": [
        {
          "output_type": "stream",
          "name": "stdout",
          "text": [
            "1/1 [==============================] - 0s 38ms/step\n"
          ]
        },
        {
          "output_type": "display_data",
          "data": {
            "text/plain": [
              "<Figure size 720x504 with 1 Axes>"
            ],
            "image/png": "[encoded data removed]"
          },
          "metadata": {
            "needs_background": "light"
          }
        }
      ]
    },
    {
      "cell_type": "markdown",
      "source": [
        "### Evaluating predictions with regression evaluation metrics\n",
        "\n",
        "Depending on the problem, there are different evaluation metrix for the models evaluation.\n",
        "\n",
        "Regression problems have two main metrics:\n",
        "\n",
        "- MAE: mean absolute error, \"on average, how wrong is each of my models predictions\"\n",
        "- MSE: mean square error, \"square the average errors\"\n",
        "\n",
        "\n",
        "![regression metrics](https://github.com/pkro/tensorflow_cert_training/blob/main/readme_images/regression_metrics.png?raw=1)\n",
        "\n",
        "\n",
        "- Σ = sum of\n",
        "- |value| = absolute value\n",
        "- ŷ = y_pred = the predictions"
      ],
      "metadata": {
        "id": "jBulWAPLVeoy"
      }
    },
    {
      "cell_type": "code",
      "source": [
        "# Evaluate the model on the test set\n",
        "model.evaluate(X_test, y_test)"
      ],
      "metadata": {
        "id": "VBGaf2-kYinc",
        "outputId": "15638f98-2c47-479f-ac23-af7c1e2508eb",
        "colab": {
          "base_uri": "https://localhost:8080/"
        }
      },
      "execution_count": 103,
      "outputs": [
        {
          "output_type": "stream",
          "name": "stdout",
          "text": [
            "1/1 [==============================] - 0s 71ms/step - loss: 12.9609 - mae: 12.9609\n"
          ]
        },
        {
          "output_type": "execute_result",
          "data": {
            "text/plain": [
              "[12.9609375, 12.9609375]"
            ]
          },
          "metadata": {},
          "execution_count": 103
        }
      ]
    },
    {
      "cell_type": "code",
      "source": [
        "y_pred"
      ],
      "metadata": {
        "id": "6OH61HYMdF07",
        "outputId": "c273dcee-9b48-43ab-83a4-6a20127312db",
        "colab": {
          "base_uri": "https://localhost:8080/"
        }
      },
      "execution_count": 104,
      "outputs": [
        {
          "output_type": "execute_result",
          "data": {
            "text/plain": [
              "array([[ 67.408585],\n",
              "       [ 71.22382 ],\n",
              "       [ 75.03906 ],\n",
              "       [ 78.8543  ],\n",
              "       [ 82.66955 ],\n",
              "       [ 86.48479 ],\n",
              "       [ 90.300026],\n",
              "       [ 94.115265],\n",
              "       [ 97.930504],\n",
              "       [101.74574 ]], dtype=float32)"
            ]
          },
          "metadata": {},
          "execution_count": 104
        }
      ]
    },
    {
      "cell_type": "code",
      "source": [
        "tf.squeeze(y_pred)"
      ],
      "metadata": {
        "id": "CVaokgb0dJ9u",
        "outputId": "f1b4584e-e6f6-49c6-9477-b280c10fd7da",
        "colab": {
          "base_uri": "https://localhost:8080/"
        }
      },
      "execution_count": 105,
      "outputs": [
        {
          "output_type": "execute_result",
          "data": {
            "text/plain": [
              "<tf.Tensor: shape=(10,), dtype=float32, numpy=\n",
              "array([ 67.408585,  71.22382 ,  75.03906 ,  78.8543  ,  82.66955 ,\n",
              "        86.48479 ,  90.300026,  94.115265,  97.930504, 101.74574 ],\n",
              "      dtype=float32)>"
            ]
          },
          "metadata": {},
          "execution_count": 105
        }
      ]
    },
    {
      "cell_type": "code",
      "source": [
        "# calculate the mean absolute error\n",
        "\n",
        "# y_pred has an extra dimension for some reason, so we make it 1-dimensional using\n",
        "# tf.squeeze\n",
        "\n",
        "# 1. by hand\n",
        "y_pred_onedim = tf.squeeze(y_pred);\n",
        "y_test_float = tf.cast(y_test, dtype=\"float\")\n",
        "\n",
        "mae = np.sum(np.abs(y_test_float - y_pred)) / len(y_pred_onedim)\n",
        "print(\"hand: \", mae)\n",
        "\n",
        "# 2. using tensorflow\n",
        "# print(tf.keras.losses.MAE(y_test, y_pred_onedim))# same\n",
        "print(tf.metrics.mean_absolute_error(y_test, tf.squeeze(y_pred)))"
      ],
      "metadata": {
        "id": "y9VrpZVlZ7mR",
        "outputId": "17091d6c-7b02-447b-d083-078c51d47c57",
        "colab": {
          "base_uri": "https://localhost:8080/"
        }
      },
      "execution_count": 106,
      "outputs": [
        {
          "output_type": "stream",
          "name": "stdout",
          "text": [
            "hand:  132.43905029296874\n",
            "tf.Tensor(3.4228356, shape=(), dtype=float32)\n"
          ]
        }
      ]
    },
    {
      "cell_type": "code",
      "source": [
        "# Calculate mean squared error\n",
        "\n",
        "# 1. by hand\n",
        "mse = 1/len(y_pred_onedim) * np.sum((y_test_float - y_pred_onedim)**2)\n",
        "print(\"hand: \", mse)\n",
        "\n",
        "# 2. using tensorflow\n",
        "print(tf.metrics.mean_squared_error(y_test, tf.squeeze(y_pred)))"
      ],
      "metadata": {
        "id": "qDwStSP2cH-7",
        "outputId": "f6fab9d8-ee9b-4c07-c747-a4e6f8dbe918",
        "colab": {
          "base_uri": "https://localhost:8080/"
        }
      },
      "execution_count": 107,
      "outputs": [
        {
          "output_type": "stream",
          "name": "stdout",
          "text": [
            "hand:  11.997427368164063\n",
            "tf.Tensor(11.997427, shape=(), dtype=float32)\n"
          ]
        }
      ]
    },
    {
      "cell_type": "code",
      "source": [
        "# some functions for later use\n",
        "def mae(y_true, y_pred):\n",
        "  return tf.metrics.mean_absolute_error(y_test, \n",
        "                                        tf.squeeze(y_pred) if y_pred.ndim > y_true.ndim else y_pred)\n",
        "\n",
        "def mse(y_true, y_pred):\n",
        "  return tf.metrics.mean_squared_error(y_test, \n",
        "                                        tf.squeeze(y_pred) if y_pred.ndim > y_true.ndim else y_pred)"
      ],
      "metadata": {
        "id": "rucefm59d6al"
      },
      "execution_count": 108,
      "outputs": []
    },
    {
      "cell_type": "code",
      "source": [
        "print(mae(y_test, y_pred))"
      ],
      "metadata": {
        "id": "P2zmILQIeZns",
        "outputId": "5feae5f7-3071-4a03-a65c-e8d431b75534",
        "colab": {
          "base_uri": "https://localhost:8080/"
        }
      },
      "execution_count": 109,
      "outputs": [
        {
          "output_type": "stream",
          "name": "stdout",
          "text": [
            "tf.Tensor(3.4228356, shape=(), dtype=float32)\n"
          ]
        }
      ]
    },
    {
      "cell_type": "markdown",
      "source": [
        "### Running experiments to improve the model\n",
        "\n",
        "1. Get more data for the model to train on (rarely possible)\n",
        "2. Make the model larger (using a more complex model) - more layers, hidden units\n",
        "3. Train for longer - give the model more chances to find patterns\n",
        "\n",
        "In the following, we'll do 3 modelling experiments:\n",
        "\n",
        "1. `model_1` - same as the original model, 1 layer, trained for **100** epochs\n",
        "2. `model_2` - **2** layers, trained for 100 epochs\n",
        "3. `model_3` - 2 layers, trained for **500** epochs"
      ],
      "metadata": {
        "id": "O8R4LXNQdRt9"
      }
    },
    {
      "cell_type": "code",
      "source": [
        "# data reminder\n",
        "X_train, y_train"
      ],
      "metadata": {
        "colab": {
          "base_uri": "https://localhost:8080/"
        },
        "id": "BQmqjPxKtr8E",
        "outputId": "5a40c7c6-420b-442c-d081-edc57c2a29e2"
      },
      "execution_count": 110,
      "outputs": [
        {
          "output_type": "execute_result",
          "data": {
            "text/plain": [
              "(<tf.Tensor: shape=(40,), dtype=int32, numpy=\n",
              " array([-100,  -96,  -92,  -88,  -84,  -80,  -76,  -72,  -68,  -64,  -60,\n",
              "         -56,  -52,  -48,  -44,  -40,  -36,  -32,  -28,  -24,  -20,  -16,\n",
              "         -12,   -8,   -4,    0,    4,    8,   12,   16,   20,   24,   28,\n",
              "          32,   36,   40,   44,   48,   52,   56], dtype=int32)>,\n",
              " <tf.Tensor: shape=(40,), dtype=int32, numpy=\n",
              " array([-90, -86, -82, -78, -74, -70, -66, -62, -58, -54, -50, -46, -42,\n",
              "        -38, -34, -30, -26, -22, -18, -14, -10,  -6,  -2,   2,   6,  10,\n",
              "         14,  18,  22,  26,  30,  34,  38,  42,  46,  50,  54,  58,  62,\n",
              "         66], dtype=int32)>)"
            ]
          },
          "metadata": {},
          "execution_count": 110
        }
      ]
    },
    {
      "cell_type": "markdown",
      "source": [
        "#### Start with a simple model"
      ],
      "metadata": {
        "id": "dOnxx0WvdXa6"
      }
    },
    {
      "cell_type": "code",
      "source": [
        "tf.random.set_seed(42)\n",
        "\n",
        "# create\n",
        "model_1 = tf.keras.Sequential([\n",
        "    tf.keras.layers.Dense(1, input_shape=[1])\n",
        "    ], name=\"model_1\"\n",
        ")\n",
        "\n",
        "# compile\n",
        "model_1.compile(loss=\"mae\",\n",
        "                optimizer=tf.keras.optimizers.SGD(),\n",
        "                metrics=[\"mae\"])\n",
        "\n",
        "# fit\n",
        "model_1.fit(tf.expand_dims(X_train, axis=-1), y_train, epochs=1, verbose=0)"
      ],
      "metadata": {
        "colab": {
          "base_uri": "https://localhost:8080/"
        },
        "id": "ilLLa5ICuetQ",
        "outputId": "8680649d-b1e2-4de4-935c-505023bc42a8"
      },
      "execution_count": 111,
      "outputs": [
        {
          "output_type": "execute_result",
          "data": {
            "text/plain": [
              "<keras.callbacks.History at 0x7fd2bc029340>"
            ]
          },
          "metadata": {},
          "execution_count": 111
        }
      ]
    },
    {
      "cell_type": "code",
      "source": [
        "# Make and plot predictions for model_1\n",
        "y_preds_1 = model_1.predict(X_test);\n",
        "plot_predictions(X_train, y_train, X_test, y_test, y_preds_1)"
      ],
      "metadata": {
        "colab": {
          "base_uri": "https://localhost:8080/",
          "height": 445
        },
        "id": "dPW1Vwoew0hZ",
        "outputId": "588d4739-ffc9-4c6b-e640-931e64863b1f"
      },
      "execution_count": 112,
      "outputs": [
        {
          "output_type": "stream",
          "name": "stdout",
          "text": [
            "1/1 [==============================] - 0s 167ms/step\n"
          ]
        },
        {
          "output_type": "display_data",
          "data": {
            "text/plain": [
              "<Figure size 720x504 with 1 Axes>"
            ],
            "image/png": "[encoded data removed]"
          },
          "metadata": {
            "needs_background": "light"
          }
        }
      ]
    },
    {
      "cell_type": "code",
      "source": [
        "# Calculate model_1 evaluation metrics\n",
        "mae_1 = mae(y_test, y_preds_1)\n",
        "mse_1 = mse(y_test, y_preds_1)\n",
        "mae_1, mse_1"
      ],
      "metadata": {
        "colab": {
          "base_uri": "https://localhost:8080/"
        },
        "id": "hJvcJ_Nfxhsr",
        "outputId": "f4f9a7f0-548c-46d1-e2db-e2c9e7fe72ee"
      },
      "execution_count": 113,
      "outputs": [
        {
          "output_type": "execute_result",
          "data": {
            "text/plain": [
              "(<tf.Tensor: shape=(), dtype=float32, numpy=27.925955>,\n",
              " <tf.Tensor: shape=(), dtype=float32, numpy=786.83826>)"
            ]
          },
          "metadata": {},
          "execution_count": 113
        }
      ]
    },
    {
      "cell_type": "markdown",
      "source": [
        "#### Increasing complexity\n",
        "\n",
        "Build `model_2` with 2 dense layers, trained for 100 epochs"
      ],
      "metadata": {
        "id": "qIaq_L3Ndb5b"
      }
    },
    {
      "cell_type": "code",
      "source": [
        "tf.random.set_seed(42)\n",
        "\n",
        "model_2 = tf.keras.models.Sequential([\n",
        "    tf.keras.layers.Dense(10),\n",
        "    tf.keras.layers.Dense(1) # the last layer must only have one neuron, otherwise we get a shape of 10 (investigate!)\n",
        "], name=\"model_2\")\n",
        "\n",
        "model_2.compile(optimizer=tf.keras.optimizers.SGD(),\n",
        "                loss=tf.keras.losses.mse,\n",
        "                metrics=[\"mae\"]) # we also change metrics here contrary to the \"plan\"...\n",
        "\n",
        "model_2.fit(tf.expand_dims(X_train, axis=-1), y_train, epochs=100, verbose=0)"
      ],
      "metadata": {
        "colab": {
          "base_uri": "https://localhost:8080/"
        },
        "id": "g26HO1vWzOm1",
        "outputId": "7b5ff63d-bf0b-465b-e6c7-3aa17e94951c"
      },
      "execution_count": 114,
      "outputs": [
        {
          "output_type": "execute_result",
          "data": {
            "text/plain": [
              "<keras.callbacks.History at 0x7fd2bbf317f0>"
            ]
          },
          "metadata": {},
          "execution_count": 114
        }
      ]
    },
    {
      "cell_type": "code",
      "source": [
        "y_preds_2 = model_2.predict(y_test)\n",
        "\n",
        "plot_predictions(X_train, y_train, X_test, y_test, y_preds_2)"
      ],
      "metadata": {
        "colab": {
          "base_uri": "https://localhost:8080/",
          "height": 445
        },
        "id": "wsw9bcpj642q",
        "outputId": "a78a66a6-ce0e-4b42-9bde-3699a62a0a0b"
      },
      "execution_count": 115,
      "outputs": [
        {
          "output_type": "stream",
          "name": "stdout",
          "text": [
            "1/1 [==============================] - 0s 34ms/step\n"
          ]
        },
        {
          "output_type": "display_data",
          "data": {
            "text/plain": [
              "<Figure size 720x504 with 1 Axes>"
            ],
            "image/png": "[encoded data removed]"
          },
          "metadata": {
            "needs_background": "light"
          }
        }
      ]
    },
    {
      "cell_type": "code",
      "source": [
        "mae_2 = mae(y_test, y_preds_2)\n",
        "mse_2 = mse(y_test, y_preds_2)\n",
        "mae_2, mse_2\n"
      ],
      "metadata": {
        "colab": {
          "base_uri": "https://localhost:8080/"
        },
        "id": "1WDJEONGzNDQ",
        "outputId": "5390c8cc-d054-42b2-e2b3-ac7cff2ffe5b"
      },
      "execution_count": 116,
      "outputs": [
        {
          "output_type": "execute_result",
          "data": {
            "text/plain": [
              "(<tf.Tensor: shape=(), dtype=float32, numpy=nan>,\n",
              " <tf.Tensor: shape=(), dtype=float32, numpy=nan>)"
            ]
          },
          "metadata": {},
          "execution_count": 116
        }
      ]
    },
    {
      "cell_type": "markdown",
      "source": [
        "Build model 3, increasing to 500 epochs"
      ],
      "metadata": {
        "id": "lgRYOrbR9fjA"
      }
    },
    {
      "cell_type": "code",
      "source": [
        "tf.random.set_seed(42)\n",
        "\n",
        "model_3 = tf.keras.models.Sequential([\n",
        "    tf.keras.layers.Dense(10),\n",
        "    tf.keras.layers.Dense(1)\n",
        "], name=\"model_3\")\n",
        "\n",
        "model_3.compile(\n",
        "    loss=tf.keras.losses.mae,\n",
        "    optimizer=tf.keras.optimizers.SGD(),\n",
        "    metrics=[\"mse\"]\n",
        ")\n",
        "\n",
        "model_3.fit(tf.expand_dims(X_train, axis=-1), y_train, epochs=500, verbose=0)"
      ],
      "metadata": {
        "colab": {
          "base_uri": "https://localhost:8080/"
        },
        "id": "8WhrhwVE9kuN",
        "outputId": "fec79a45-9f34-4242-c938-370962506f7a"
      },
      "execution_count": 117,
      "outputs": [
        {
          "output_type": "execute_result",
          "data": {
            "text/plain": [
              "<keras.callbacks.History at 0x7fd2bbdde490>"
            ]
          },
          "metadata": {},
          "execution_count": 117
        }
      ]
    },
    {
      "cell_type": "code",
      "source": [
        "y_preds_3 = model_3.predict(y_test)\n",
        "plot_predictions(X_train, y_train, X_test, y_test, y_preds_3)"
      ],
      "metadata": {
        "colab": {
          "base_uri": "https://localhost:8080/",
          "height": 445
        },
        "id": "J38017Xt-Jrk",
        "outputId": "9cbc2f3d-1614-41aa-92c1-87241e404941"
      },
      "execution_count": 118,
      "outputs": [
        {
          "output_type": "stream",
          "name": "stdout",
          "text": [
            "1/1 [==============================] - 0s 34ms/step\n"
          ]
        },
        {
          "output_type": "display_data",
          "data": {
            "text/plain": [
              "<Figure size 720x504 with 1 Axes>"
            ],
            "image/png": "[encoded data removed]"
          },
          "metadata": {
            "needs_background": "light"
          }
        }
      ]
    },
    {
      "cell_type": "code",
      "source": [
        "mae_3 = mae(y_test, y_preds_3)\n",
        "mse_3 = mse(y_test, y_preds_3)\n",
        "mae_3, mse_3"
      ],
      "metadata": {
        "colab": {
          "base_uri": "https://localhost:8080/"
        },
        "id": "X0tjiske-hgR",
        "outputId": "8c4f4b84-cf15-48fb-e91c-d6d1387b6925"
      },
      "execution_count": 119,
      "outputs": [
        {
          "output_type": "execute_result",
          "data": {
            "text/plain": [
              "(<tf.Tensor: shape=(), dtype=float32, numpy=66.807144>,\n",
              " <tf.Tensor: shape=(), dtype=float32, numpy=4549.661>)"
            ]
          },
          "metadata": {},
          "execution_count": 119
        }
      ]
    },
    {
      "cell_type": "markdown",
      "source": [
        "This got way worse.\n",
        "\n",
        "From a helpful comment by Michael on lecture 56 (contrary to what the video says):\n",
        "\n",
        "**It's not overfitting, it is failure to converge**\n",
        "\n",
        ">For model_3, we can plot the history of epoch vs loss (like will be shown in one of the next lectures). We expect to see the loss decrease as the model trains for more metrics. But what we get is this:\n",
        "\n",
        "``` \n",
        "# Fit the model (this time for 500 epochs, not 100)\n",
        "history_3 = model_3.fit(X_train, y_train, epochs=500, verbose=0) # set verbose to 0 for less output\n",
        " \n",
        "# Plot history (also known as a loss curve)\n",
        "import pandas as pd\n",
        "pd.DataFrame(history_3.history).plot()\n",
        "plt.ylabel(\"loss\")\n",
        "plt.xlabel(\"epochs\")\n",
        "```\n",
        ">It shows us that the model is failing to converge. And we were very lucky to get a loss of only 1.5 for the model at 100 iterations. At the end of most epochs, we have a loss of between 10 and 20.\n",
        "\n",
        ">What to do? The answer is that the learning rate is too high. We need to tell the SGD optimizer to take smaller steps at each iteration.\n",
        "\n",
        "```\n",
        "# ...\n",
        "optimizer=tf.keras.optimizers.SGD(learning_rate=0.001),\n",
        "# ...\n",
        "```\n",
        ">In the first version of the model, with default learning_rate, the loss is fluctuating randomly, mostly between 10 and 20. In the second version (the model has the same structure, but is compiled with a smaller learning rate), we see a much more stable convergence. "
      ],
      "metadata": {
        "id": "-WVL43If_myM"
      }
    },
    {
      "cell_type": "code",
      "source": [
        "import pandas as pd\n",
        "def plot_history(history):\n",
        "  pd.DataFrame(history.history).plot()\n",
        "  plt.ylabel(\"loss\")\n",
        "  plt.xlabel(\"epochs\")"
      ],
      "metadata": {
        "id": "hLy_6_wvAtQT"
      },
      "execution_count": 120,
      "outputs": []
    },
    {
      "cell_type": "code",
      "source": [
        "# try the history visualization from above\n",
        "history_3 = model_3.fit(tf.expand_dims(X_train, axis=-1), y_train, epochs=500, verbose=0)\n",
        "plot_history(history_3)"
      ],
      "metadata": {
        "colab": {
          "base_uri": "https://localhost:8080/",
          "height": 279
        },
        "id": "2cWYLLxlAZKG",
        "outputId": "86bb923d-c169-4143-cdf4-9b8dc2f079f6"
      },
      "execution_count": 121,
      "outputs": [
        {
          "output_type": "display_data",
          "data": {
            "text/plain": [
              "<Figure size 432x288 with 1 Axes>"
            ],
            "image/png": "[encoded data removed]"
          },
          "metadata": {
            "needs_background": "light"
          }
        }
      ]
    },
    {
      "cell_type": "markdown",
      "source": [
        "Lower learning rate"
      ],
      "metadata": {
        "id": "L5mAGu70BZQ4"
      }
    },
    {
      "cell_type": "code",
      "source": [
        "tf.random.set_seed(42)\n",
        "\n",
        "model_4 = tf.keras.models.Sequential([\n",
        "    tf.keras.layers.Dense(10),\n",
        "    tf.keras.layers.Dense(1)\n",
        "], name=\"model_4\")\n",
        "\n",
        "model_4.compile(loss=tf.keras.losses.mae, metrics=[\"mse\"], optimizer=tf.keras.optimizers.SGD(learning_rate=0.001))\n",
        "\n",
        "history_4 = model_4.fit(tf.expand_dims(X_train, axis=-1), y_train, epochs=500, verbose=0)\n",
        "\n",
        "y_preds_4 = model_4.predict(y_test)\n",
        "plot_predictions(X_train, y_train, X_test, y_test, y_preds_4)\n",
        "plot_history(history_4)\n",
        "\n",
        "mae_4 = mae(y_test, y_preds_4)\n",
        "mse_4 = mse(y_test, y_preds_4)\n",
        "mae_4, mse_4"
      ],
      "metadata": {
        "colab": {
          "base_uri": "https://localhost:8080/",
          "height": 742
        },
        "id": "heeO5SHsBSdq",
        "outputId": "948ca24f-d5cd-468b-ec0a-418e11f36ce6"
      },
      "execution_count": 122,
      "outputs": [
        {
          "output_type": "stream",
          "name": "stdout",
          "text": [
            "1/1 [==============================] - 0s 32ms/step\n"
          ]
        },
        {
          "output_type": "execute_result",
          "data": {
            "text/plain": [
              "(<tf.Tensor: shape=(), dtype=float32, numpy=2.7926185>,\n",
              " <tf.Tensor: shape=(), dtype=float32, numpy=7.805606>)"
            ]
          },
          "metadata": {},
          "execution_count": 122
        },
        {
          "output_type": "display_data",
          "data": {
            "text/plain": [
              "<Figure size 720x504 with 1 Axes>"
            ],
            "image/png": "[encoded data removed]"
          },
          "metadata": {
            "needs_background": "light"
          }
        },
        {
          "output_type": "display_data",
          "data": {
            "text/plain": [
              "<Figure size 432x288 with 1 Axes>"
            ],
            "image/png": "[encoded data removed]"
          },
          "metadata": {
            "needs_background": "light"
          }
        }
      ]
    },
    {
      "cell_type": "markdown",
      "source": [
        "**Note**: when experimenting, start with small models and increase complexity when needed "
      ],
      "metadata": {
        "id": "eeNxqZLZDngQ"
      }
    },
    {
      "cell_type": "markdown",
      "source": [
        "### Comparing the results of our experiments"
      ],
      "metadata": {
        "id": "molKMuO8C2lC"
      }
    },
    {
      "cell_type": "code",
      "source": [
        "# Compare results using a pandas DataFrame\n",
        "import pandas as pd\n",
        "\n",
        "model_results = [[\"model_1\", mae_1.numpy(), mse_1.numpy()],\n",
        "                 [\"model_2\", mae_2.numpy(), mse_2.numpy()],\n",
        "                 [\"model_3\", mae_3.numpy(), mse_3.numpy()],\n",
        "                 [\"model_4\", mae_4.numpy(), mse_4.numpy()]\n",
        "                 ]\n",
        "\n",
        "all_results = pd.DataFrame(model_results, columns=[\"model\", \"mae\", \"mse\"])\n",
        "all_results.sort_values(by=\"mae\")"
      ],
      "metadata": {
        "colab": {
          "base_uri": "https://localhost:8080/",
          "height": 175
        },
        "id": "Ph196mZLDxhZ",
        "outputId": "0c4f52f7-8a61-4f4a-8949-3e9dadf272b2"
      },
      "execution_count": 123,
      "outputs": [
        {
          "output_type": "execute_result",
          "data": {
            "text/plain": [
              "     model        mae          mse\n",
              "3  model_4   2.792619     7.805606\n",
              "0  model_1  27.925955   786.838257\n",
              "2  model_3  66.807144  4549.661133\n",
              "1  model_2        NaN          NaN"
            ],
            "text/html": [
              "\n",
              "  <div id=\"df-1e246152-2fa6-4f2c-8726-95062aff3c99\">\n",
              "    <div class=\"colab-df-container\">\n",
              "      <div>\n",
              "<style scoped>\n",
              "    .dataframe tbody tr th:only-of-type {\n",
              "        vertical-align: middle;\n",
              "    }\n",
              "\n",
              "    .dataframe tbody tr th {\n",
              "        vertical-align: top;\n",
              "    }\n",
              "\n",
              "    .dataframe thead th {\n",
              "        text-align: right;\n",
              "    }\n",
              "</style>\n",
              "<table border=\"1\" class=\"dataframe\">\n",
              "  <thead>\n",
              "    <tr style=\"text-align: right;\">\n",
              "      <th></th>\n",
              "      <th>model</th>\n",
              "      <th>mae</th>\n",
              "      <th>mse</th>\n",
              "    </tr>\n",
              "  </thead>\n",
              "  <tbody>\n",
              "    <tr>\n",
              "      <th>3</th>\n",
              "      <td>model_4</td>\n",
              "      <td>2.792619</td>\n",
              "      <td>7.805606</td>\n",
              "    </tr>\n",
              "    <tr>\n",
              "      <th>0</th>\n",
              "      <td>model_1</td>\n",
              "      <td>27.925955</td>\n",
              "      <td>786.838257</td>\n",
              "    </tr>\n",
              "    <tr>\n",
              "      <th>2</th>\n",
              "      <td>model_3</td>\n",
              "      <td>66.807144</td>\n",
              "      <td>4549.661133</td>\n",
              "    </tr>\n",
              "    <tr>\n",
              "      <th>1</th>\n",
              "      <td>model_2</td>\n",
              "      <td>NaN</td>\n",
              "      <td>NaN</td>\n",
              "    </tr>\n",
              "  </tbody>\n",
              "</table>\n",
              "</div>\n",
              "      <button class=\"colab-df-convert\" onclick=\"convertToInteractive('df-1e246152-2fa6-4f2c-8726-95062aff3c99')\"\n",
              "              title=\"Convert this dataframe to an interactive table.\"\n",
              "              style=\"display:none;\">\n",
              "        \n",
              "  <svg xmlns=\"http://www.w3.org/2000/svg\" height=\"24px\"viewBox=\"0 0 24 24\"\n",
              "       width=\"24px\">\n",
              "    <path d=\"M0 0h24v24H0V0z\" fill=\"none\"/>\n",
              "    <path d=\"M18.56 5.44l.94 2.06.94-2.06 2.06-.94-2.06-.94-.94-2.06-.94 2.06-2.06.94zm-11 1L8.5 8.5l.94-2.06 2.06-.94-2.06-.94L8.5 2.5l-.94 2.06-2.06.94zm10 10l.94 2.06.94-2.06 2.06-.94-2.06-.94-.94-2.06-.94 2.06-2.06.94z\"/><path d=\"M17.41 7.96l-1.37-1.37c-.4-.4-.92-.59-1.43-.59-.52 0-1.04.2-1.43.59L10.3 9.45l-7.72 7.72c-.78.78-.78 2.05 0 2.83L4 21.41c.39.39.9.59 1.41.59.51 0 1.02-.2 1.41-.59l7.78-7.78 2.81-2.81c.8-.78.8-2.07 0-2.86zM5.41 20L4 18.59l7.72-7.72 1.47 1.35L5.41 20z\"/>\n",
              "  </svg>\n",
              "      </button>\n",
              "      \n",
              "  <style>\n",
              "    .colab-df-container {\n",
              "      display:flex;\n",
              "      flex-wrap:wrap;\n",
              "      gap: 12px;\n",
              "    }\n",
              "\n",
              "    .colab-df-convert {\n",
              "      background-color: #E8F0FE;\n",
              "      border: none;\n",
              "      border-radius: 50%;\n",
              "      cursor: pointer;\n",
              "      display: none;\n",
              "      fill: #1967D2;\n",
              "      height: 32px;\n",
              "      padding: 0 0 0 0;\n",
              "      width: 32px;\n",
              "    }\n",
              "\n",
              "    .colab-df-convert:hover {\n",
              "      background-color: #E2EBFA;\n",
              "      box-shadow: 0px 1px 2px rgba(60, 64, 67, 0.3), 0px 1px 3px 1px rgba(60, 64, 67, 0.15);\n",
              "      fill: #174EA6;\n",
              "    }\n",
              "\n",
              "    [theme=dark] .colab-df-convert {\n",
              "      background-color: #3B4455;\n",
              "      fill: #D2E3FC;\n",
              "    }\n",
              "\n",
              "    [theme=dark] .colab-df-convert:hover {\n",
              "      background-color: #434B5C;\n",
              "      box-shadow: 0px 1px 3px 1px rgba(0, 0, 0, 0.15);\n",
              "      filter: drop-shadow(0px 1px 2px rgba(0, 0, 0, 0.3));\n",
              "      fill: #FFFFFF;\n",
              "    }\n",
              "  </style>\n",
              "\n",
              "      <script>\n",
              "        const buttonEl =\n",
              "          document.querySelector('#df-1e246152-2fa6-4f2c-8726-95062aff3c99 button.colab-df-convert');\n",
              "        buttonEl.style.display =\n",
              "          google.colab.kernel.accessAllowed ? 'block' : 'none';\n",
              "\n",
              "        async function convertToInteractive(key) {\n",
              "          const element = document.querySelector('#df-1e246152-2fa6-4f2c-8726-95062aff3c99');\n",
              "          const dataTable =\n",
              "            await google.colab.kernel.invokeFunction('convertToInteractive',\n",
              "                                                     [key], {});\n",
              "          if (!dataTable) return;\n",
              "\n",
              "          const docLinkHtml = 'Like what you see? Visit the ' +\n",
              "            '<a target=\"_blank\" href=https://colab.research.google.com/notebooks/data_table.ipynb>data table notebook</a>'\n",
              "            + ' to learn more about interactive tables.';\n",
              "          element.innerHTML = '';\n",
              "          dataTable['output_type'] = 'display_data';\n",
              "          await google.colab.output.renderOutput(dataTable, element);\n",
              "          const docLink = document.createElement('div');\n",
              "          docLink.innerHTML = docLinkHtml;\n",
              "          element.appendChild(docLink);\n",
              "        }\n",
              "      </script>\n",
              "    </div>\n",
              "  </div>\n",
              "  "
            ]
          },
          "metadata": {},
          "execution_count": 123
        }
      ]
    },
    {
      "cell_type": "code",
      "source": [
        "# model 4 performed best\n",
        "model_4.summary()"
      ],
      "metadata": {
        "colab": {
          "base_uri": "https://localhost:8080/"
        },
        "id": "W6ghkdv2G_Ew",
        "outputId": "26d1cc2d-d146-47cb-df48-60a4594f6633"
      },
      "execution_count": 124,
      "outputs": [
        {
          "output_type": "stream",
          "name": "stdout",
          "text": [
            "Model: \"model_4\"\n",
            "_________________________________________________________________\n",
            " Layer (type)                Output Shape              Param #   \n",
            "=================================================================\n",
            " dense_30 (Dense)            (None, 10)                20        \n",
            "                                                                 \n",
            " dense_31 (Dense)            (None, 1)                 11        \n",
            "                                                                 \n",
            "=================================================================\n",
            "Total params: 31\n",
            "Trainable params: 31\n",
            "Non-trainable params: 0\n",
            "_________________________________________________________________\n"
          ]
        }
      ]
    },
    {
      "cell_type": "markdown",
      "source": [
        "**Note**: One of the main goals should be to minimize the time between experiments. The more experiments are done, the more things you'll figure out what works / what doesn't."
      ],
      "metadata": {
        "id": "JuloaXf4HJ9d"
      }
    },
    {
      "cell_type": "markdown",
      "source": [
        "### Tracking your experiments\n",
        "\n",
        "One good habit in ML modelling is to track the results of the experiments.\n",
        "\n",
        "Tools to help with this:\n",
        "\n",
        "- [**TensorBoard**](https://www.tensorflow.org/tensorboard) - a component of the TensorFlow library to help track modelling experiments\n",
        "- [**Weights & Biases**](https://wandb.ai/site) - a tool for tracking all kinds of ML experiments and plugs into TensorBoard"
      ],
      "metadata": {
        "id": "wM8pVxQYHo-q"
      }
    },
    {
      "cell_type": "markdown",
      "source": [
        "### Saving and loading a TensorFlow model\n",
        "\n",
        "2 main formats:\n",
        "\n",
        "1. SavedModel (default, tensorflow specific)\n",
        "2. HDF5\n",
        "\n",
        "The models can then be downloaded from google colab\n",
        "\n",
        "**Note**: all save / load code commented out so the notebook hopefuly displays on github again"
      ],
      "metadata": {
        "id": "ynY2EFhxInDi"
      }
    },
    {
      "cell_type": "code",
      "source": [
        "# save model in 2 different formats\n",
        "# model_4.save('model_4_SavedModel') # SavedModel\n",
        "\n",
        "# model_4.save('model_4.h5') # saves automatically as hd5 when providing the .h5 extension"
      ],
      "metadata": {
        "id": "E_nQqlNDtqIl"
      },
      "execution_count": 125,
      "outputs": []
    },
    {
      "cell_type": "code",
      "source": [
        "\n",
        "# load model\n",
        "# model_4_savedmodel = tf.keras.models.load_model('/content/model_4_SavedModel')\n",
        "# model_4_hd5 = tf.keras.models.load_model('/content/model_4.h5')"
      ],
      "metadata": {
        "id": "dZzs-ifyxEiA"
      },
      "execution_count": 126,
      "outputs": []
    },
    {
      "cell_type": "code",
      "source": [
        "# test models\n",
        "# model_4_savedmodel.summary()"
      ],
      "metadata": {
        "id": "dWPt38DsxwsT"
      },
      "execution_count": 127,
      "outputs": []
    },
    {
      "cell_type": "code",
      "source": [
        "# check mae\n",
        "# mae(y_test, model_4_savedmodel.predict(y_test)), mae(y_test, model_4.predict(y_test))"
      ],
      "metadata": {
        "id": "lNrk59QAx8ib"
      },
      "execution_count": 128,
      "outputs": []
    },
    {
      "cell_type": "code",
      "source": [
        "# check if the predictions work too (if the fitted data is also persisted)\n",
        "# plot_predictions(X_train, y_train, X_test, y_test, model_4_savedmodel.predict(y_test))"
      ],
      "metadata": {
        "id": "Yw_LPW6uyHRa"
      },
      "execution_count": 129,
      "outputs": []
    },
    {
      "cell_type": "code",
      "source": [
        "# quick check hd5 version\n",
        "# plot_predictions(X_train, y_train, X_test, y_test, model_4_hd5.predict(y_test))"
      ],
      "metadata": {
        "id": "wI7HqS7cyVQI"
      },
      "execution_count": 130,
      "outputs": []
    },
    {
      "cell_type": "markdown",
      "source": [
        "### Download models (or any other file) from google colab)\n",
        "\n",
        "1. Files: \"files\" tab left, right click on file and download; to download a folder, zip it first (see below, `!zip -r /content/model_4_SavedModel.zip /content/model_4_SavedModel`)\n",
        "2. Code (see below)\n",
        "3. Save to google drive (mount drive with icon on top, which creates a \"drive\" mount in `/content`)"
      ],
      "metadata": {
        "id": "Dxe389ddzRPN"
      }
    },
    {
      "cell_type": "code",
      "source": [
        "# download with code\n",
        "# from google.colab import files\n",
        "# files.download('/content/model_4.h5')"
      ],
      "metadata": {
        "id": "SWlu8kYE1f-e"
      },
      "execution_count": 131,
      "outputs": []
    },
    {
      "cell_type": "code",
      "source": [
        "# to download a folder, zip it first\n",
        "# !zip -r /content/model_4_SavedModel.zip /content/model_4_SavedModel"
      ],
      "metadata": {
        "id": "J3VikVfP07ZY"
      },
      "execution_count": 132,
      "outputs": []
    },
    {
      "cell_type": "markdown",
      "source": [
        "### A larger example"
      ],
      "metadata": {
        "id": "G-7XqfO71t_j"
      }
    }
  ]
}