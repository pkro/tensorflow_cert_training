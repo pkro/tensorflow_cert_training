{
  "nbformat": 4,
  "nbformat_minor": 0,
  "metadata": {
    "colab": {
      "provenance": [],
      "authorship_tag": "ABX9TyO1MTsZRJWsXpi4uAZoRAYR",
      "include_colab_link": true
    },
    "kernelspec": {
      "name": "python3",
      "display_name": "Python 3"
    },
    "language_info": {
      "name": "python"
    }
  },
  "cells": [
    {
      "cell_type": "markdown",
      "metadata": {
        "id": "view-in-github",
        "colab_type": "text"
      },
      "source": [
        "<a href=\"https://colab.research.google.com/github/pkro/tensorflow_cert_training/blob/main/colab_notebooks/01_neural_network_regression_with_tensorflow.ipynb\" target=\"_parent\"><img src=\"https://colab.research.google.com/assets/colab-badge.svg\" alt=\"Open In Colab\"/></a>"
      ]
    },
    {
      "cell_type": "markdown",
      "source": [
        "## Introduction to Regression with neural networks in TensorFlow\n",
        "\n",
        "Regression problem: predicting a numerical variable based on some other variation of variables"
      ],
      "metadata": {
        "id": "lcgSQoa2jBZV"
      }
    },
    {
      "cell_type": "code",
      "source": [
        "import tensorflow as tf\n",
        "print(tf.__version__)"
      ],
      "metadata": {
        "id": "I8tFBkEDcQkf",
        "outputId": "7d2c3834-68d5-46e6-cdbf-b396f7af5ac3",
        "colab": {
          "base_uri": "https://localhost:8080/"
        }
      },
      "execution_count": 64,
      "outputs": [
        {
          "output_type": "stream",
          "name": "stdout",
          "text": [
            "2.9.2\n"
          ]
        }
      ]
    },
    {
      "cell_type": "markdown",
      "source": [
        "### Create data to view and fit\n",
        "\n",
        "- features are usually defined in uppercase `X`, labels in lowercase `y`\n",
        "\n",
        "Here we create a simple feature and label lists where the relationship is y (label) = feature (Y) + 10\n",
        "\n",
        "Input shape: [8,] (8 numbers)\n",
        "Output shape: [1,] (one number)\n",
        "\n",
        "*Much easier way than the way I did it further down below:*\n",
        "\n",
        "```\n",
        "X = tf.range(-7, 15, 3)\n",
        "y = X + 10\n",
        "```"
      ],
      "metadata": {
        "id": "mmI1SLgYceC_"
      }
    },
    {
      "cell_type": "code",
      "source": [
        "import numpy as np\n",
        "import matplotlib.pyplot as plt\n",
        "\n",
        "# create features\n",
        "# x = np.array([-7., -4., -1., 2, 5., 8., 11., 14.])\n",
        "X = np.array(range(-7, 15, 3))\n",
        "X"
      ],
      "metadata": {
        "id": "t0mvdB6Jcqn2",
        "outputId": "8d915150-8523-4be7-8da6-ce8d3b1b6b25",
        "colab": {
          "base_uri": "https://localhost:8080/"
        }
      },
      "execution_count": 65,
      "outputs": [
        {
          "output_type": "execute_result",
          "data": {
            "text/plain": [
              "array([-7, -4, -1,  2,  5,  8, 11, 14])"
            ]
          },
          "metadata": {},
          "execution_count": 65
        }
      ]
    },
    {
      "cell_type": "code",
      "source": [
        "# Create labels\n",
        "y = np.array(range(3,25, 3)).astype(float)\n",
        "y"
      ],
      "metadata": {
        "id": "rnaQYRq9eFaN",
        "outputId": "eee06229-4e1e-4959-b58a-82724f34d673",
        "colab": {
          "base_uri": "https://localhost:8080/"
        }
      },
      "execution_count": 66,
      "outputs": [
        {
          "output_type": "execute_result",
          "data": {
            "text/plain": [
              "array([ 3.,  6.,  9., 12., 15., 18., 21., 24.])"
            ]
          },
          "metadata": {},
          "execution_count": 66
        }
      ]
    },
    {
      "cell_type": "code",
      "source": [
        "# Visualize\n",
        "plt.scatter(X,y)"
      ],
      "metadata": {
        "id": "Fu7PPg04e1ez",
        "outputId": "bb8150a7-b357-4b93-a737-041a24453c42",
        "colab": {
          "base_uri": "https://localhost:8080/",
          "height": 286
        }
      },
      "execution_count": 67,
      "outputs": [
        {
          "output_type": "execute_result",
          "data": {
            "text/plain": [
              "<matplotlib.collections.PathCollection at 0x7f600d037b50>"
            ]
          },
          "metadata": {},
          "execution_count": 67
        },
        {
          "output_type": "display_data",
          "data": {
            "text/plain": [
              "<Figure size 432x288 with 1 Axes>"
            ],
            "image/png": "[encoded data removed]"
          },
          "metadata": {
            "needs_background": "light"
          }
        }
      ]
    },
    {
      "cell_type": "code",
      "source": [
        "# this is the rule we want the neural network to learn\n",
        "y == X + 10"
      ],
      "metadata": {
        "id": "LW6zcdhBhVv0",
        "outputId": "3969f58f-f03e-4d77-fada-f9433cc9a42a",
        "colab": {
          "base_uri": "https://localhost:8080/"
        }
      },
      "execution_count": 68,
      "outputs": [
        {
          "output_type": "execute_result",
          "data": {
            "text/plain": [
              "array([ True,  True,  True,  True,  True,  True,  True,  True])"
            ]
          },
          "metadata": {},
          "execution_count": 68
        }
      ]
    },
    {
      "cell_type": "markdown",
      "source": [
        "### Input and output shapes"
      ],
      "metadata": {
        "id": "BxnQDjWchlF4"
      }
    },
    {
      "cell_type": "markdown",
      "source": [
        "Create a demo tensor for house pricing prediction problem (see main readme), where we already know the input / output shape from the info graphic and try to deduce the shapes for our X, y arrays."
      ],
      "metadata": {
        "id": "ScvB8jsqjJRA"
      }
    },
    {
      "cell_type": "code",
      "source": [
        "house_info = tf.constant([3, 2, 1]) # 3 bedrooms, 2 bathrooms, 1 garage\n",
        "house_price = tf.constant([939700])\n",
        "\n",
        "house_info, house_price\n"
      ],
      "metadata": {
        "id": "R_F_UgHLiCx9",
        "outputId": "facd5d84-6644-4aca-c10c-a2c981b5414a",
        "colab": {
          "base_uri": "https://localhost:8080/"
        }
      },
      "execution_count": 69,
      "outputs": [
        {
          "output_type": "execute_result",
          "data": {
            "text/plain": [
              "(<tf.Tensor: shape=(3,), dtype=int32, numpy=array([3, 2, 1], dtype=int32)>,\n",
              " <tf.Tensor: shape=(1,), dtype=int32, numpy=array([939700], dtype=int32)>)"
            ]
          },
          "metadata": {},
          "execution_count": 69
        }
      ]
    },
    {
      "cell_type": "markdown",
      "source": [
        "The house info contains just one item of shape 3, our `X` contains 8 of shape 1 (just one number), as does the desired output.\n",
        "\n",
        "So the input shape is 1, as is the output shape for our simple example (that we have 8 items in those arrays doesn't matter for the input / output shape!)\n"
      ],
      "metadata": {
        "id": "6IXN7dSDjK3C"
      }
    },
    {
      "cell_type": "code",
      "source": [
        "print(X[0], \"should predict\", y[0])\n",
        "print(X[1], \"should predict\", y[1])\n",
        "print(\"etc...\")"
      ],
      "metadata": {
        "id": "APZ2MAATka4Q",
        "outputId": "689ffb6b-65ac-44de-b57c-29be92bbe3e2",
        "colab": {
          "base_uri": "https://localhost:8080/"
        }
      },
      "execution_count": 70,
      "outputs": [
        {
          "output_type": "stream",
          "name": "stdout",
          "text": [
            "-7 should predict 3.0\n",
            "-4 should predict 6.0\n",
            "etc...\n"
          ]
        }
      ]
    },
    {
      "cell_type": "code",
      "source": [
        "input_shape = X[0].shape\n",
        "output_shape = y[0].shape\n",
        "input_shape, output_shape, X[0].ndim"
      ],
      "metadata": {
        "id": "wX-XosfOjYal",
        "outputId": "877ac8a9-ae90-4fb4-e3ab-50ffb99aaa1b",
        "colab": {
          "base_uri": "https://localhost:8080/"
        }
      },
      "execution_count": 71,
      "outputs": [
        {
          "output_type": "execute_result",
          "data": {
            "text/plain": [
              "((), (), 0)"
            ]
          },
          "metadata": {},
          "execution_count": 71
        }
      ]
    },
    {
      "cell_type": "markdown",
      "source": [
        "Why is there no shape?\n",
        "\n",
        "Scalars (single numbers) are a rank 0 tensor (0 dimensions).\n",
        "\n",
        "In the following code, we need to expand the dimensions of the input vector when fitting a model (automatic in TensorFlow up to 2.6, manual from 2.7 onward) to avoid a `shape error`:\n",
        "\n",
        "```\n",
        "## OLD\n",
        "# Fit the model\n",
        "model.fit(X, y, epochs=5) # this will break with TensorFlow 2.7.0+\n",
        " \n",
        "## New\n",
        "# Fit the model\n",
        "model.fit(tf.expand_dims(X, axis=-1), y, epochs=5) # <- updated \n",
        "```"
      ],
      "metadata": {
        "id": "7vGIYR8ak5_L"
      }
    },
    {
      "cell_type": "code",
      "source": [
        "# turn arrays into tensors\n",
        "X = tf.constant(X, dtype=tf.float32)\n",
        "y = tf.constant(y, dtype=tf.float32)\n",
        "X, y"
      ],
      "metadata": {
        "id": "Y9pDeywVm9ZP",
        "outputId": "b746fa7d-2c9a-498e-8e40-59d9bb740049",
        "colab": {
          "base_uri": "https://localhost:8080/"
        }
      },
      "execution_count": 72,
      "outputs": [
        {
          "output_type": "execute_result",
          "data": {
            "text/plain": [
              "(<tf.Tensor: shape=(8,), dtype=float32, numpy=array([-7., -4., -1.,  2.,  5.,  8., 11., 14.], dtype=float32)>,\n",
              " <tf.Tensor: shape=(8,), dtype=float32, numpy=array([ 3.,  6.,  9., 12., 15., 18., 21., 24.], dtype=float32)>)"
            ]
          },
          "metadata": {},
          "execution_count": 72
        }
      ]
    },
    {
      "cell_type": "code",
      "source": [
        "input_shape = X[0].shape\n",
        "output_shape = y[0].shape\n",
        "input_shape, output_shape, X[0].ndim"
      ],
      "metadata": {
        "id": "n_Zeh4F4nknY",
        "outputId": "f1f0e1bd-e3b3-4488-c3c1-8df5254e7cc9",
        "colab": {
          "base_uri": "https://localhost:8080/"
        }
      },
      "execution_count": 73,
      "outputs": [
        {
          "output_type": "execute_result",
          "data": {
            "text/plain": [
              "(TensorShape([]), TensorShape([]), 0)"
            ]
          },
          "metadata": {},
          "execution_count": 73
        }
      ]
    },
    {
      "cell_type": "markdown",
      "source": [
        "### Steps in modelling with TensorFlow\n",
        "\n",
        "1. Creationg a model - define the input and output layers, as well as the hidden layers of a deep learning model\n",
        "2. Compiling a model\n",
        "  - define the loss function (the function which tells the model how wrong it is) \n",
        "  - the optimizer (tells the model how to improve the patterns it is learning) \n",
        "  -evaluation metrics (what we can use to interpret the performance of the model)\n",
        "3. Fitting a model - let the model try to find patterns between X and y (features and labels)"
      ],
      "metadata": {
        "id": "r00xKJnyn8bz"
      }
    },
    {
      "cell_type": "markdown",
      "source": [
        "![steps in modeling with tensorflow](https://github.com/pkro/tensorflow_cert_training/blob/main/readme_images/tensorflow_modeling_steps.png?raw=1)"
      ],
      "metadata": {
        "id": "xYFNSGYCVsfV"
      }
    },
    {
      "cell_type": "code",
      "source": [
        "tf.random.set_seed(42)\n",
        "\n",
        "# 1. Create a model using the sequential API\n",
        "# layers can also be added with \n",
        "# model = tf.keras.Sequential()\n",
        "# model.add(tf.keras.layers.Dense(1)) \n",
        "# instead of passing them as an array\n",
        "model = tf.keras.Sequential([\n",
        "    tf.keras.layers.Dense(1) # \"1\" because we want to predict 1 number\n",
        "])\n",
        "\n",
        "\n",
        "# 2. compile the model \n",
        "model.compile(\n",
        "    # or .mean_absolute_error, Computes the mean absolute error between labels and predictions.\n",
        "    # loss = mean(abs(y_true - y_pred), axis=-1)\n",
        "    # where y_true is the correct value, y_pred the prediction the model makes\n",
        "    # \"on average, how wrong were our predictions\"\n",
        "    loss = tf.keras.losses.mae,\n",
        "    optimizer = tf.keras.optimizers.SGD(), # stochastic gradient descent;\n",
        "    metrics=[\"mae\"] # most functions can be passed as string, e.g. optimizer=\"sgd\"\n",
        "  )\n",
        "\n",
        "# 3. Fit the model\n",
        "# Sequential groups a linear stack of layers into a tf.keras.Model.\n",
        "model.fit(tf.expand_dims(X, axis=-1), y, epochs=5) # 5 \"laps\"\n",
        "\n"
      ],
      "metadata": {
        "id": "xuMFGFzFV8M0",
        "outputId": "9a271a47-11a8-4d54-b1a7-b01883860058",
        "colab": {
          "base_uri": "https://localhost:8080/"
        }
      },
      "execution_count": 74,
      "outputs": [
        {
          "output_type": "stream",
          "name": "stdout",
          "text": [
            "Epoch 1/5\n",
            "1/1 [==============================] - 0s 337ms/step - loss: 11.5048 - mae: 11.5048\n",
            "Epoch 2/5\n",
            "1/1 [==============================] - 0s 11ms/step - loss: 11.3723 - mae: 11.3723\n",
            "Epoch 3/5\n",
            "1/1 [==============================] - 0s 8ms/step - loss: 11.2398 - mae: 11.2398\n",
            "Epoch 4/5\n",
            "1/1 [==============================] - 0s 10ms/step - loss: 11.1073 - mae: 11.1073\n",
            "Epoch 5/5\n",
            "1/1 [==============================] - 0s 7ms/step - loss: 10.9748 - mae: 10.9748\n"
          ]
        },
        {
          "output_type": "execute_result",
          "data": {
            "text/plain": [
              "<keras.callbacks.History at 0x7f6010aaef70>"
            ]
          },
          "metadata": {},
          "execution_count": 74
        }
      ]
    },
    {
      "cell_type": "code",
      "source": [
        "print(X, y)\n",
        "model.predict([17.]) # SHOULD be 27.0"
      ],
      "metadata": {
        "id": "kpKKWrk5Zhi2",
        "outputId": "37475775-84ac-4416-83f1-27bef915cdbb",
        "colab": {
          "base_uri": "https://localhost:8080/"
        }
      },
      "execution_count": 75,
      "outputs": [
        {
          "output_type": "stream",
          "name": "stdout",
          "text": [
            "tf.Tensor([-7. -4. -1.  2.  5.  8. 11. 14.], shape=(8,), dtype=float32) tf.Tensor([ 3.  6.  9. 12. 15. 18. 21. 24.], shape=(8,), dtype=float32)\n",
            "1/1 [==============================] - 0s 72ms/step\n"
          ]
        },
        {
          "output_type": "execute_result",
          "data": {
            "text/plain": [
              "array([[12.716021]], dtype=float32)"
            ]
          },
          "metadata": {},
          "execution_count": 75
        }
      ]
    },
    {
      "cell_type": "markdown",
      "source": [
        "That's a pretty bad prediction.\n",
        "\n",
        "### Improving a model with Tensorflow\n",
        "\n",
        "We can try to improve a model on each of the 5 steps. The best would be to have more training data.\n",
        "\n",
        "1. **Creating a model** - add more layers, increase number of hidden units (aka neurons) within each layer, change the [activation function](https://machinelearningmastery.com/choose-an-activation-function-for-deep-learning/) of each layer.\n",
        "2. **Compiling a model** - change optimization function or **learning rate** of the optimization function\n",
        "3. **Fitting the model** - more epochs, give more data\n",
        "\n",
        "\n",
        "Do small singular changes in experiments to see what causes a model to perform better (or *worse*!)\n",
        "\n",
        "**Common ways to improve a deep model:**\n",
        "\n",
        "- Adding layers\n",
        "- Increase the number of hidden units (neurons)\n",
        "- Change the activation functions\n",
        "- Change the optimization function\n",
        "- Change the learning rate; **this is potentially the most important hyperparameter to change**\n",
        "- Fitting on more data (if available)\n",
        "- Fitting for longer (easiest, just add more epochs)\n"
      ],
      "metadata": {
        "id": "L_twWN6fcdRE"
      }
    },
    {
      "cell_type": "markdown",
      "source": [
        "#### More epochs"
      ],
      "metadata": {
        "id": "_-sC-OnaZbF6"
      }
    },
    {
      "cell_type": "code",
      "source": [
        "model = tf.keras.Sequential([\n",
        "    tf.keras.layers.Dense(1)\n",
        "])\n",
        "\n",
        "model.compile(\n",
        "    loss = tf.keras.losses.mae,\n",
        "    optimizer = tf.keras.optimizers.SGD(),\n",
        "    metrics=[\"mae\"]\n",
        "  )\n",
        "\n",
        "# 100 epochs instead of 5 - loss goes down\n",
        "model.fit(tf.expand_dims(X, axis=-1), y, epochs=100, verbose=0) # more epochs (skip output)"
      ],
      "metadata": {
        "id": "Pe10z2sQdKje",
        "outputId": "92ca3452-2506-4e3b-8eb8-07dcaa129a71",
        "colab": {
          "base_uri": "https://localhost:8080/"
        }
      },
      "execution_count": 76,
      "outputs": [
        {
          "output_type": "execute_result",
          "data": {
            "text/plain": [
              "<keras.callbacks.History at 0x7f6024e33e20>"
            ]
          },
          "metadata": {},
          "execution_count": 76
        }
      ]
    },
    {
      "cell_type": "code",
      "source": [
        "model.predict([17.])"
      ],
      "metadata": {
        "id": "ey6cW21sddXW",
        "outputId": "d7b9f0d1-cd8d-4bd9-8b9d-e86292f4c95c",
        "colab": {
          "base_uri": "https://localhost:8080/"
        }
      },
      "execution_count": 77,
      "outputs": [
        {
          "output_type": "stream",
          "name": "stdout",
          "text": [
            "1/1 [==============================] - 0s 67ms/step\n"
          ]
        },
        {
          "output_type": "execute_result",
          "data": {
            "text/plain": [
              "array([[29.739855]], dtype=float32)"
            ]
          },
          "metadata": {},
          "execution_count": 77
        }
      ]
    },
    {
      "cell_type": "markdown",
      "source": [
        "The prediction has improved significantly already\n",
        "\n",
        "#### Add a layer / hidden units / activation function"
      ],
      "metadata": {
        "id": "786IfidCbOpH"
      }
    },
    {
      "cell_type": "code",
      "source": [
        "# reminder of the data\n",
        "X, y"
      ],
      "metadata": {
        "id": "doqUkEMgepqw",
        "outputId": "c3243e7a-6241-4b76-dd50-cf303854325b",
        "colab": {
          "base_uri": "https://localhost:8080/"
        }
      },
      "execution_count": 78,
      "outputs": [
        {
          "output_type": "execute_result",
          "data": {
            "text/plain": [
              "(<tf.Tensor: shape=(8,), dtype=float32, numpy=array([-7., -4., -1.,  2.,  5.,  8., 11., 14.], dtype=float32)>,\n",
              " <tf.Tensor: shape=(8,), dtype=float32, numpy=array([ 3.,  6.,  9., 12., 15., 18., 21., 24.], dtype=float32)>)"
            ]
          },
          "metadata": {},
          "execution_count": 78
        }
      ]
    },
    {
      "cell_type": "code",
      "source": [
        "# add more layers, more neurons and an activation\n",
        "model = tf.keras.Sequential([\n",
        "    # add another layer, more hidden units and change the activation function\n",
        "    # we can change each of these separately\n",
        "    tf.keras.layers.Dense(50, activation=\"relu\"),\n",
        "    tf.keras.layers.Dense(1)\n",
        "])\n",
        "\n",
        "model.compile(\n",
        "    loss = \"mae\", # just an alternative way to define the loss function\n",
        "    optimizer = tf.keras.optimizers.SGD(),\n",
        "    metrics=[\"mae\"]\n",
        "  )\n",
        "\n",
        "model.fit(tf.expand_dims(X, axis=-1), y, epochs=100, verbose=0)"
      ],
      "metadata": {
        "outputId": "c9c46d1c-05c4-445c-d227-ee184991174f",
        "colab": {
          "base_uri": "https://localhost:8080/"
        },
        "id": "mijBHXBdZ0XH"
      },
      "execution_count": 79,
      "outputs": [
        {
          "output_type": "execute_result",
          "data": {
            "text/plain": [
              "<keras.callbacks.History at 0x7f6024d47610>"
            ]
          },
          "metadata": {},
          "execution_count": 79
        }
      ]
    },
    {
      "cell_type": "code",
      "source": [
        "model.predict([17.])"
      ],
      "metadata": {
        "id": "vKw2GYXKcpHn",
        "outputId": "3428687f-5e12-4e07-aa06-26603c132f7a",
        "colab": {
          "base_uri": "https://localhost:8080/"
        }
      },
      "execution_count": 80,
      "outputs": [
        {
          "output_type": "stream",
          "name": "stdout",
          "text": [
            "1/1 [==============================] - 0s 73ms/step\n"
          ]
        },
        {
          "output_type": "execute_result",
          "data": {
            "text/plain": [
              "array([[32.7789]], dtype=float32)"
            ]
          },
          "metadata": {},
          "execution_count": 80
        }
      ]
    },
    {
      "cell_type": "markdown",
      "source": [
        "The prediction actually got worse, even though the loss got lower (change verbose to 'auto' in model.fit to see steps).\n",
        "\n",
        "This is called [**overfitting**](https://www.ibm.com/topics/overfitting), meaning the model learns the training data *too* well. In other words, the lower loss we see isn't representative to data the model hasn't seen before."
      ],
      "metadata": {
        "id": "wyq_wYk7e9Hd"
      }
    },
    {
      "cell_type": "markdown",
      "source": [
        "#### Change optimizer and **learning rate**"
      ],
      "metadata": {
        "id": "lx31KDK1iHDr"
      }
    },
    {
      "cell_type": "code",
      "source": [
        "# we keep the changes from before\n",
        "model = tf.keras.Sequential([\n",
        "    tf.keras.layers.Dense(50, activation=\"relu\"),\n",
        "    tf.keras.layers.Dense(1)\n",
        "])\n",
        "\n",
        "model.compile(\n",
        "    loss = \"mae\",\n",
        "    # Adam is a common and useful optimizer, often the default\n",
        "    # the higher the learning rate, the quicker the optimizer pushes\n",
        "    # the model to improve\n",
        "    optimizer = tf.keras.optimizers.Adam(learning_rate=0.01),\n",
        "    metrics=[\"mae\"]\n",
        "  )\n",
        "\n",
        "model.fit(tf.expand_dims(X, axis=-1), y, epochs=100, verbose=0) # loss goes down to 0.x in the last iterations"
      ],
      "metadata": {
        "id": "buLH5W6WiM5Q",
        "outputId": "ddef6e8f-1c39-493c-df02-3a30150c0126",
        "colab": {
          "base_uri": "https://localhost:8080/"
        }
      },
      "execution_count": 81,
      "outputs": [
        {
          "output_type": "execute_result",
          "data": {
            "text/plain": [
              "<keras.callbacks.History at 0x7f6024c90c10>"
            ]
          },
          "metadata": {},
          "execution_count": 81
        }
      ]
    },
    {
      "cell_type": "code",
      "source": [
        "model.predict([17.]) # almost perfect fit"
      ],
      "metadata": {
        "id": "BUQL_vBriXHg",
        "outputId": "18fb62c6-fa01-4104-b078-09f6122eedbb",
        "colab": {
          "base_uri": "https://localhost:8080/"
        }
      },
      "execution_count": 82,
      "outputs": [
        {
          "output_type": "stream",
          "name": "stdout",
          "text": [
            "1/1 [==============================] - 0s 64ms/step\n"
          ]
        },
        {
          "output_type": "execute_result",
          "data": {
            "text/plain": [
              "array([[26.921337]], dtype=float32)"
            ]
          },
          "metadata": {},
          "execution_count": 82
        }
      ]
    },
    {
      "cell_type": "markdown",
      "source": [
        "### Evaluating a model\n",
        "\n",
        "In practice, a typical workflow is:\n",
        "\n",
        "Build a model -> fit it -> evaluate it -> tweak -> evaluate -> tweak -> ...\n",
        "\n",
        "- Building models: experiment, experiment, experiment\n",
        "- Evaluating models: **visualize, visualize, visualize**\n",
        "\n",
        "Things to visualize:\n",
        "\n",
        "- The data - what are we working with? What does it look like?\n",
        "- The model - what does our model look like?\n",
        "- The training of a model - how does a model perform while it learns?\n",
        "- The predictions - how do the predictions of the model line up against the ground truth (the original labels)?\n"
      ],
      "metadata": {
        "id": "MmSagRmYkSRJ"
      }
    },
    {
      "cell_type": "code",
      "source": [
        "# Make a bigger dataset (in practice rarely available)\n",
        "X = tf.range(-100, 100, 4)\n",
        "X"
      ],
      "metadata": {
        "id": "Pn9VxU9hm00v",
        "outputId": "1ea9da39-9012-4e33-e3e0-1fd212acfe0e",
        "colab": {
          "base_uri": "https://localhost:8080/"
        }
      },
      "execution_count": 86,
      "outputs": [
        {
          "output_type": "execute_result",
          "data": {
            "text/plain": [
              "<tf.Tensor: shape=(50,), dtype=int32, numpy=\n",
              "array([-100,  -96,  -92,  -88,  -84,  -80,  -76,  -72,  -68,  -64,  -60,\n",
              "        -56,  -52,  -48,  -44,  -40,  -36,  -32,  -28,  -24,  -20,  -16,\n",
              "        -12,   -8,   -4,    0,    4,    8,   12,   16,   20,   24,   28,\n",
              "         32,   36,   40,   44,   48,   52,   56,   60,   64,   68,   72,\n",
              "         76,   80,   84,   88,   92,   96], dtype=int32)>"
            ]
          },
          "metadata": {},
          "execution_count": 86
        }
      ]
    },
    {
      "cell_type": "code",
      "source": [
        "# Make labels for the dataset\n",
        "y = X + 10\n",
        "y"
      ],
      "metadata": {
        "id": "xmqvnCKeoNCv",
        "outputId": "39568d08-dbd1-453a-b115-f89deabc59d6",
        "colab": {
          "base_uri": "https://localhost:8080/"
        }
      },
      "execution_count": 84,
      "outputs": [
        {
          "output_type": "execute_result",
          "data": {
            "text/plain": [
              "<tf.Tensor: shape=(50,), dtype=int32, numpy=\n",
              "array([-90, -86, -82, -78, -74, -70, -66, -62, -58, -54, -50, -46, -42,\n",
              "       -38, -34, -30, -26, -22, -18, -14, -10,  -6,  -2,   2,   6,  10,\n",
              "        14,  18,  22,  26,  30,  34,  38,  42,  46,  50,  54,  58,  62,\n",
              "        66,  70,  74,  78,  82,  86,  90,  94,  98, 102, 106], dtype=int32)>"
            ]
          },
          "metadata": {},
          "execution_count": 84
        }
      ]
    },
    {
      "cell_type": "code",
      "source": [
        "# Visualize the data\n",
        "import matplotlib.pyplot as plt\n",
        "\n",
        "plt.scatter(X, y)"
      ],
      "metadata": {
        "id": "l6hpTINho-kA",
        "outputId": "bd550603-ff3f-48be-d323-1f45d8961450",
        "colab": {
          "base_uri": "https://localhost:8080/",
          "height": 282
        }
      },
      "execution_count": 87,
      "outputs": [
        {
          "output_type": "execute_result",
          "data": {
            "text/plain": [
              "<matplotlib.collections.PathCollection at 0x7f6024bbd880>"
            ]
          },
          "metadata": {},
          "execution_count": 87
        },
        {
          "output_type": "display_data",
          "data": {
            "text/plain": [
              "<Figure size 432x288 with 1 Axes>"
            ],
            "image/png": "[encoded data removed]"
          },
          "metadata": {
            "needs_background": "light"
          }
        }
      ]
    },
    {
      "cell_type": "markdown",
      "source": [
        "#### Digression: The 3 sets...\n",
        "\n",
        "- **Training set** (what the model learns from); typically 70%-80% of availiable data (analogy: course materials)\n",
        "- Validation set - what the model is tuned on; typically 10%-15% (analogy: practice exam)\n",
        "- **Test set** - the model gets evaluated on this data to test what it has learned, typically 10%-15% (analogy: final exam)\n",
        "\n",
        "Validation set is optional (tuning / testing can be done on one set).\n",
        "\n",
        "Goal: **Generalization** of the model - make the model perform well on data it hasn't seen before\n",
        "\n"
      ],
      "metadata": {
        "id": "mL2viPC2pMhn"
      }
    },
    {
      "cell_type": "code",
      "source": [
        "# Check the length of samples\n",
        "len(X)"
      ],
      "metadata": {
        "id": "_ZgY5llLteix",
        "outputId": "9ba5c105-f5de-4555-98da-b0d3d325cc7a",
        "colab": {
          "base_uri": "https://localhost:8080/"
        }
      },
      "execution_count": 88,
      "outputs": [
        {
          "output_type": "execute_result",
          "data": {
            "text/plain": [
              "50"
            ]
          },
          "metadata": {},
          "execution_count": 88
        }
      ]
    },
    {
      "cell_type": "code",
      "source": [
        "# split into training and test sets from available data\n",
        "X_train = X[:40] # 80%\n",
        "X_test = X[40:] # 209%\n",
        "y_train = y[:40]\n",
        "y_test = y[40:]\n",
        "X_train, y_train, X_test, y_test, len(X_train), len(X_test)"
      ],
      "metadata": {
        "id": "kLf9OjaUto00",
        "outputId": "33bccb2b-4cdc-4f6e-d3da-6641cf61a7c1",
        "colab": {
          "base_uri": "https://localhost:8080/"
        }
      },
      "execution_count": 93,
      "outputs": [
        {
          "output_type": "execute_result",
          "data": {
            "text/plain": [
              "(<tf.Tensor: shape=(40,), dtype=int32, numpy=\n",
              " array([-100,  -96,  -92,  -88,  -84,  -80,  -76,  -72,  -68,  -64,  -60,\n",
              "         -56,  -52,  -48,  -44,  -40,  -36,  -32,  -28,  -24,  -20,  -16,\n",
              "         -12,   -8,   -4,    0,    4,    8,   12,   16,   20,   24,   28,\n",
              "          32,   36,   40,   44,   48,   52,   56], dtype=int32)>,\n",
              " <tf.Tensor: shape=(40,), dtype=int32, numpy=\n",
              " array([-90, -86, -82, -78, -74, -70, -66, -62, -58, -54, -50, -46, -42,\n",
              "        -38, -34, -30, -26, -22, -18, -14, -10,  -6,  -2,   2,   6,  10,\n",
              "         14,  18,  22,  26,  30,  34,  38,  42,  46,  50,  54,  58,  62,\n",
              "         66], dtype=int32)>,\n",
              " <tf.Tensor: shape=(10,), dtype=int32, numpy=array([60, 64, 68, 72, 76, 80, 84, 88, 92, 96], dtype=int32)>,\n",
              " <tf.Tensor: shape=(10,), dtype=int32, numpy=array([ 70,  74,  78,  82,  86,  90,  94,  98, 102, 106], dtype=int32)>,\n",
              " 40,\n",
              " 10)"
            ]
          },
          "metadata": {},
          "execution_count": 93
        }
      ]
    },
    {
      "cell_type": "code",
      "source": [
        "# Visualize the test / training data again\n",
        "plt.figure(figsize=(10,7))\n",
        "plt.scatter(X_train, y_train, c=\"blue\", label=\"Training data\")\n",
        "plt.scatter(X_test, y_test, c=\"green\", label=\"Testing data\")\n",
        "plt.legend();"
      ],
      "metadata": {
        "id": "Ch4VywpDuiLy",
        "outputId": "bb796ebd-9cf9-4590-92b1-9e0291c3375e",
        "colab": {
          "base_uri": "https://localhost:8080/",
          "height": 428
        }
      },
      "execution_count": 95,
      "outputs": [
        {
          "output_type": "display_data",
          "data": {
            "text/plain": [
              "<Figure size 720x504 with 1 Axes>"
            ],
            "image/png": "[encoded data removed]"
          },
          "metadata": {
            "needs_background": "light"
          }
        }
      ]
    },
    {
      "cell_type": "markdown",
      "source": [
        "### Visualize the model"
      ],
      "metadata": {
        "id": "_CjeeSv2x0ck"
      }
    },
    {
      "cell_type": "code",
      "source": [
        "# create a model again (simple model from the start)\n",
        "model = tf.keras.Sequential([\n",
        "    tf.keras.layers.Dense(1)\n",
        "])\n",
        "\n",
        "model.compile(\n",
        "    loss = tf.keras.losses.mae,\n",
        "    optimizer = tf.keras.optimizers.SGD(),\n",
        "    metrics=[\"mae\"]\n",
        "  )\n",
        "\n",
        "# No fitting for now to show how to use model.build\n",
        "# model.fit(tf.expand_dims(X_train, axis=-1), y_train, epochs=100, verbose=0)"
      ],
      "metadata": {
        "id": "W7Bb-rJ8wrr_"
      },
      "execution_count": 100,
      "outputs": []
    },
    {
      "cell_type": "code",
      "source": [
        "try:\n",
        "  model.summary()\n",
        "except ValueError as err:\n",
        "  print(err)"
      ],
      "metadata": {
        "id": "FCpOnSkkxpKV",
        "outputId": "ce39d76e-0b37-4936-9f5b-ab92d823eef6",
        "colab": {
          "base_uri": "https://localhost:8080/"
        }
      },
      "execution_count": 104,
      "outputs": [
        {
          "output_type": "stream",
          "name": "stdout",
          "text": [
            "This model has not yet been built. Build the model first by calling `build()` or by calling the model on a batch of data.\n"
          ]
        }
      ]
    },
    {
      "cell_type": "code",
      "source": [
        "# Create a model which builds automatically by defining the input_shape\n",
        "tf.random.set_seed(42)\n",
        "\n",
        "model = tf.keras.Sequential([\n",
        "    tf.keras.layers.Dense(10, input_shape=[1]) # shape = 1 because we pass just one number\n",
        "])\n",
        "\n",
        "model.compile(\n",
        "    loss=tf.keras.losses.mae,\n",
        "    optimizer=tf.keras.optimizers.SGD(),\n",
        "    metrics=[\"mae\"]\n",
        ")\n",
        "\n",
        "model.summary()"
      ],
      "metadata": {
        "id": "preG7qyCy_vS",
        "outputId": "63fae9a1-d5be-4972-9d32-30c19b306b65",
        "colab": {
          "base_uri": "https://localhost:8080/"
        }
      },
      "execution_count": 118,
      "outputs": [
        {
          "output_type": "stream",
          "name": "stdout",
          "text": [
            "Model: \"sequential_38\"\n",
            "_________________________________________________________________\n",
            " Layer (type)                Output Shape              Param #   \n",
            "=================================================================\n",
            " dense_58 (Dense)            (None, 10)                20        \n",
            "                                                                 \n",
            "=================================================================\n",
            "Total params: 20\n",
            "Trainable params: 20\n",
            "Non-trainable params: 0\n",
            "_________________________________________________________________\n"
          ]
        }
      ]
    },
    {
      "cell_type": "markdown",
      "source": [
        "The numbers in the model and layer names just denotes an identifier for the models / layers created in the session, if none given with a \"name\" parameter.\n",
        "\n",
        "- **Dense** = **Fully connected** = **linear layer** = every input neuron is connected to every output neuron\n",
        "- Output shape is = number of hidden units (?)\n",
        "- Total params: total number of parameters in the model (how many patterns the model is going to try and learn)\n",
        "- Trainable params: parameters / patterns the model can update as it trains\n",
        "- Non-trainable params: frozen patterns in existing models; aren't updated during training. Typicdal when bringing n already learned patterns / parameters during **transfer learning**.\n",
        "\n",
        "**Resource:** \n",
        "\n",
        "http://introtodeeplearning.com/ (from january 2023 on)\n",
        "\n",
        "http://introtodeeplearning.com/2022/index.html\n",
        "\n",
        "- **Exercise:** tryp playing around with the nubmer of hidden units and see how it affects the number of parameters.\n",
        "  - seems like the output shape = number of hidden layers (and not the defined output shape)\n",
        "  - parameters are 2 * num of hidden layers; 2 is probably the input -> output (one X for one y); **2 trainable parameters per dense hidden unit**"
      ],
      "metadata": {
        "id": "Q1AJfORl2MN_"
      }
    },
    {
      "cell_type": "code",
      "source": [
        "model.fit(tf.expand_dims(X_train, axis=-1), y_train, epochs=100, verbose=0)"
      ],
      "metadata": {
        "id": "3nxJ_N9o7nc0",
        "outputId": "445768b4-ae6d-4a61-933d-f5c2fedddd74",
        "colab": {
          "base_uri": "https://localhost:8080/"
        }
      },
      "execution_count": 115,
      "outputs": [
        {
          "output_type": "execute_result",
          "data": {
            "text/plain": [
              "<keras.callbacks.History at 0x7f600eb1c550>"
            ]
          },
          "metadata": {},
          "execution_count": 115
        }
      ]
    },
    {
      "cell_type": "code",
      "source": [
        "model.summary()"
      ],
      "metadata": {
        "id": "OEbs_eeT86eM",
        "outputId": "bd0b98c8-f87f-492c-8439-fd633aa21112",
        "colab": {
          "base_uri": "https://localhost:8080/"
        }
      },
      "execution_count": 117,
      "outputs": [
        {
          "output_type": "stream",
          "name": "stdout",
          "text": [
            "Model: \"sequential_37\"\n",
            "_________________________________________________________________\n",
            " Layer (type)                Output Shape              Param #   \n",
            "=================================================================\n",
            " dense_57 (Dense)            (None, 1)                 2         \n",
            "                                                                 \n",
            "=================================================================\n",
            "Total params: 2\n",
            "Trainable params: 2\n",
            "Non-trainable params: 0\n",
            "_________________________________________________________________\n"
          ]
        }
      ]
    },
    {
      "cell_type": "code",
      "source": [
        "# visualize model\n",
        "from tensorflow.keras.utils import plot_model\n",
        "plot_model(model, show_shapes=True)"
      ],
      "metadata": {
        "id": "8WSLw9t088tZ",
        "outputId": "4b1dbd3b-f645-49a3-9ad7-04a1db8979e4",
        "colab": {
          "base_uri": "https://localhost:8080/",
          "height": 201
        }
      },
      "execution_count": 123,
      "outputs": [
        {
          "output_type": "execute_result",
          "data": {
            "image/png": "[encoded data removed]",
            "text/plain": [
              "<IPython.core.display.Image object>"
            ]
          },
          "metadata": {},
          "execution_count": 123
        }
      ]
    },
    {
      "cell_type": "code",
      "source": [
        "# Add layers / neuros to check how output changes\n",
        "# Also, name layers and the model itself for easier reading\n",
        "model = tf.keras.Sequential([\n",
        "    tf.keras.layers.Dense(10, input_shape=[1], name=\"input_layer\"),\n",
        "    tf.keras.layers.Dense(1, input_shape=[1], name=\"output_layer\"),\n",
        "], name=\"two layer model\")\n",
        "\n",
        "model.compile(\n",
        "    loss=tf.keras.losses.mae,\n",
        "    optimizer=tf.keras.optimizers.SGD(),\n",
        "    metrics=[\"mae\"]\n",
        ")\n",
        "\n",
        "\n",
        "plot_model(model, show_shapes=True)"
      ],
      "metadata": {
        "id": "in02UQ_2-GCt",
        "outputId": "28b7f1e6-0cf5-490b-e04f-5d49acacd564",
        "colab": {
          "base_uri": "https://localhost:8080/",
          "height": 312
        }
      },
      "execution_count": 128,
      "outputs": [
        {
          "output_type": "execute_result",
          "data": {
            "image/png": "[encoded data removed]",
            "text/plain": [
              "<IPython.core.display.Image object>"
            ]
          },
          "metadata": {},
          "execution_count": 128
        }
      ]
    },
    {
      "cell_type": "code",
      "source": [
        "model.summary()"
      ],
      "metadata": {
        "id": "dFlvAWxl-p5x",
        "outputId": "37bbe963-7dab-4f8e-81ea-e3be86bd28a4",
        "colab": {
          "base_uri": "https://localhost:8080/"
        }
      },
      "execution_count": 129,
      "outputs": [
        {
          "output_type": "stream",
          "name": "stdout",
          "text": [
            "Model: \"two layer model\"\n",
            "_________________________________________________________________\n",
            " Layer (type)                Output Shape              Param #   \n",
            "=================================================================\n",
            " input_layer (Dense)         (None, 10)                20        \n",
            "                                                                 \n",
            " output_layer (Dense)        (None, 1)                 11        \n",
            "                                                                 \n",
            "=================================================================\n",
            "Total params: 31\n",
            "Trainable params: 31\n",
            "Non-trainable params: 0\n",
            "_________________________________________________________________\n"
          ]
        }
      ]
    },
    {
      "cell_type": "markdown",
      "source": [
        "### Visualizing the models predictions"
      ],
      "metadata": {
        "id": "IaZsVond_d7l"
      }
    },
    {
      "cell_type": "code",
      "source": [
        "# check / visualize predictions of test data\n",
        "plt.scatter(X_test, model.predict(y_test))\n",
        "model.predict([17.])"
      ],
      "metadata": {
        "id": "8xYCVTz1xX9H",
        "outputId": "25877cef-9097-4a28-fdd2-7916504ac69f",
        "colab": {
          "base_uri": "https://localhost:8080/",
          "height": 320
        }
      },
      "execution_count": 116,
      "outputs": [
        {
          "output_type": "stream",
          "name": "stdout",
          "text": [
            "1/1 [==============================] - 0s 47ms/step\n",
            "1/1 [==============================] - 0s 67ms/step\n"
          ]
        },
        {
          "output_type": "execute_result",
          "data": {
            "text/plain": [
              "array([[16.104769]], dtype=float32)"
            ]
          },
          "metadata": {},
          "execution_count": 116
        },
        {
          "output_type": "display_data",
          "data": {
            "text/plain": [
              "<Figure size 432x288 with 1 Axes>"
            ],
            "image/png": "[encoded data removed]"
          },
          "metadata": {
            "needs_background": "light"
          }
        }
      ]
    }
  ]
}