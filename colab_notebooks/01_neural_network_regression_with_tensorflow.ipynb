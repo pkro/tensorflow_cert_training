{
  "nbformat": 4,
  "nbformat_minor": 0,
  "metadata": {
    "colab": {
      "provenance": [],
      "authorship_tag": "ABX9TyMA/YfWrmMXzFaARTpKqEUi",
      "include_colab_link": true
    },
    "kernelspec": {
      "name": "python3",
      "display_name": "Python 3"
    },
    "language_info": {
      "name": "python"
    }
  },
  "cells": [
    {
      "cell_type": "markdown",
      "metadata": {
        "id": "view-in-github",
        "colab_type": "text"
      },
      "source": [
        "<a href=\"https://colab.research.google.com/github/pkro/tensorflow_cert_training/blob/main/colab_notebooks/01_neural_network_regression_with_tensorflow.ipynb\" target=\"_parent\"><img src=\"https://colab.research.google.com/assets/colab-badge.svg\" alt=\"Open In Colab\"/></a>"
      ]
    },
    {
      "cell_type": "markdown",
      "source": [
        "## Introduction to Regression with neural networks in TensorFlow\n",
        "\n",
        "Regression problem: predicting a numerical variable based on some other variation of variables"
      ],
      "metadata": {
        "id": "lcgSQoa2jBZV"
      }
    },
    {
      "cell_type": "code",
      "source": [
        "import tensorflow as tf\n",
        "print(tf.__version__)"
      ],
      "metadata": {
        "id": "I8tFBkEDcQkf",
        "outputId": "6dc753aa-7c68-4a30-aefb-f23fdfbc5267",
        "colab": {
          "base_uri": "https://localhost:8080/"
        }
      },
      "execution_count": 2,
      "outputs": [
        {
          "output_type": "stream",
          "name": "stdout",
          "text": [
            "2.9.2\n"
          ]
        }
      ]
    },
    {
      "cell_type": "markdown",
      "source": [
        "### Create data to view and fit\n",
        "\n",
        "- features are usually defined in uppercase `X`, labels in lowercase `y`\n",
        "\n",
        "Here we create a simple feature and label lists where the relationship is y (label) = feature (Y) + 10\n",
        "\n",
        "Input shape: [8,] (8 numbers)\n",
        "Output shape: [1,] (one number)"
      ],
      "metadata": {
        "id": "mmI1SLgYceC_"
      }
    },
    {
      "cell_type": "code",
      "source": [
        "import numpy as np\n",
        "import matplotlib.pyplot as plt\n",
        "\n",
        "# create features\n",
        "# x = np.array([-7., -4., -1., 2, 5., 8., 11., 14.])\n",
        "X = np.array(range(-7, 15, 3)).astype(float)\n",
        "X"
      ],
      "metadata": {
        "id": "t0mvdB6Jcqn2",
        "outputId": "b10a7805-7423-4f69-a402-b96351070bb9",
        "colab": {
          "base_uri": "https://localhost:8080/"
        }
      },
      "execution_count": 9,
      "outputs": [
        {
          "output_type": "execute_result",
          "data": {
            "text/plain": [
              "array([-7., -4., -1.,  2.,  5.,  8., 11., 14.])"
            ]
          },
          "metadata": {},
          "execution_count": 9
        }
      ]
    },
    {
      "cell_type": "code",
      "source": [
        "# Create labels\n",
        "y = np.array(range(3,25, 3)).astype(float)\n",
        "y"
      ],
      "metadata": {
        "id": "rnaQYRq9eFaN",
        "outputId": "1dd74e47-aa3a-44c4-eda0-6a7c699c6c67",
        "colab": {
          "base_uri": "https://localhost:8080/"
        }
      },
      "execution_count": 12,
      "outputs": [
        {
          "output_type": "execute_result",
          "data": {
            "text/plain": [
              "array([ 3.,  6.,  9., 12., 15., 18., 21., 24.])"
            ]
          },
          "metadata": {},
          "execution_count": 12
        }
      ]
    },
    {
      "cell_type": "code",
      "source": [
        "# Visualize\n",
        "plt.scatter(X,y)"
      ],
      "metadata": {
        "id": "Fu7PPg04e1ez",
        "outputId": "8fcc89db-624f-4948-a693-363dd4bfb00d",
        "colab": {
          "base_uri": "https://localhost:8080/",
          "height": 286
        }
      },
      "execution_count": 23,
      "outputs": [
        {
          "output_type": "execute_result",
          "data": {
            "text/plain": [
              "<matplotlib.collections.PathCollection at 0x7f94f5224ca0>"
            ]
          },
          "metadata": {},
          "execution_count": 23
        },
        {
          "output_type": "display_data",
          "data": {
            "text/plain": [
              "<Figure size 432x288 with 1 Axes>"
            ],
            "image/png": "[encoded data removed]"
          },
          "metadata": {
            "needs_background": "light"
          }
        }
      ]
    },
    {
      "cell_type": "code",
      "source": [
        "# this is the rule we want the neural network to learn\n",
        "y == X + 10"
      ],
      "metadata": {
        "id": "LW6zcdhBhVv0",
        "outputId": "74824736-e0f0-4a21-f811-4e3b132de727",
        "colab": {
          "base_uri": "https://localhost:8080/"
        }
      },
      "execution_count": 24,
      "outputs": [
        {
          "output_type": "execute_result",
          "data": {
            "text/plain": [
              "array([ True,  True,  True,  True,  True,  True,  True,  True])"
            ]
          },
          "metadata": {},
          "execution_count": 24
        }
      ]
    },
    {
      "cell_type": "markdown",
      "source": [
        "### Input and output shapes"
      ],
      "metadata": {
        "id": "BxnQDjWchlF4"
      }
    },
    {
      "cell_type": "markdown",
      "source": [
        "Create a demo tensor for house pricing prediction problem (see main readme), where we already know the input / output shape from the info graphic and try to deduce the shapes for our X, y arrays."
      ],
      "metadata": {
        "id": "ScvB8jsqjJRA"
      }
    },
    {
      "cell_type": "code",
      "source": [
        "house_info = tf.constant([3, 2, 1]) # 3 bedrooms, 2 bathrooms, 1 garage\n",
        "house_price = tf.constant([939700])\n",
        "\n",
        "house_info, house_price\n"
      ],
      "metadata": {
        "id": "R_F_UgHLiCx9",
        "outputId": "1f71c2c8-78ba-47b0-9d7d-2e2dcd315c54",
        "colab": {
          "base_uri": "https://localhost:8080/"
        }
      },
      "execution_count": 26,
      "outputs": [
        {
          "output_type": "execute_result",
          "data": {
            "text/plain": [
              "(<tf.Tensor: shape=(3,), dtype=string, numpy=array([b'bedroom', b'bathroom', b'garage'], dtype=object)>,\n",
              " <tf.Tensor: shape=(1,), dtype=int32, numpy=array([939700], dtype=int32)>)"
            ]
          },
          "metadata": {},
          "execution_count": 26
        }
      ]
    },
    {
      "cell_type": "markdown",
      "source": [
        "The house info contains just one item of shape 3, our `X` contains 8 of shape 1 (just one number), as does the desired output.\n",
        "\n",
        "So the input shape is 1, as is the output shape for our simple example (that we have 8 items in those arrays doesn't matter for the input / output shape!)\n"
      ],
      "metadata": {
        "id": "6IXN7dSDjK3C"
      }
    },
    {
      "cell_type": "code",
      "source": [
        "print(X[0], \"should predict\", y[0])\n",
        "print(X[1], \"should predict\", y[1])\n",
        "print(\"etc...\")"
      ],
      "metadata": {
        "id": "APZ2MAATka4Q",
        "outputId": "d202c2dc-b979-44d5-f6ac-de98b04ce070",
        "colab": {
          "base_uri": "https://localhost:8080/"
        }
      },
      "execution_count": 33,
      "outputs": [
        {
          "output_type": "stream",
          "name": "stdout",
          "text": [
            "-7.0 should predict 3.0\n",
            "-4.0 should predict 6.0\n",
            "etc...\n"
          ]
        }
      ]
    },
    {
      "cell_type": "code",
      "source": [
        "input_shape = X[0].shape\n",
        "output_shape = y[0].shape\n",
        "input_shape, output_shape, X[0].ndim"
      ],
      "metadata": {
        "id": "wX-XosfOjYal",
        "outputId": "2c20a72c-cd90-4ced-c823-72d9b991f8da",
        "colab": {
          "base_uri": "https://localhost:8080/"
        }
      },
      "execution_count": 34,
      "outputs": [
        {
          "output_type": "execute_result",
          "data": {
            "text/plain": [
              "((), (), 0)"
            ]
          },
          "metadata": {},
          "execution_count": 34
        }
      ]
    },
    {
      "cell_type": "markdown",
      "source": [
        "Why is there no shape?\n",
        "\n",
        "Scalars (single numbers) are a rank 0 tensor (0 dimensions).\n",
        "\n",
        "In the following code, we need to expand the dimensions of the input vector when fitting a model (automatic in TensorFlow up to 2.6, manual from 2.7 onward) to avoid a `shape error`:\n",
        "\n",
        "```\n",
        "## OLD\n",
        "# Fit the model\n",
        "model.fit(X, y, epochs=5) # this will break with TensorFlow 2.7.0+\n",
        " \n",
        "## New\n",
        "# Fit the model\n",
        "model.fit(tf.expand_dims(X, axis=-1), y, epochs=5) # <- updated \n",
        "```"
      ],
      "metadata": {
        "id": "7vGIYR8ak5_L"
      }
    },
    {
      "cell_type": "code",
      "source": [
        "# turn arrays into tensors\n",
        "X = tf.constant(X)\n",
        "y = tf.constant(y)\n",
        "X, y"
      ],
      "metadata": {
        "id": "Y9pDeywVm9ZP",
        "outputId": "79409eac-a137-4790-cece-e039e0f3dfc7",
        "colab": {
          "base_uri": "https://localhost:8080/"
        }
      },
      "execution_count": 38,
      "outputs": [
        {
          "output_type": "execute_result",
          "data": {
            "text/plain": [
              "(<tf.Tensor: shape=(8,), dtype=float64, numpy=array([-7., -4., -1.,  2.,  5.,  8., 11., 14.])>,\n",
              " <tf.Tensor: shape=(8,), dtype=float64, numpy=array([ 3.,  6.,  9., 12., 15., 18., 21., 24.])>)"
            ]
          },
          "metadata": {},
          "execution_count": 38
        }
      ]
    },
    {
      "cell_type": "code",
      "source": [
        "input_shape = X[0].shape\n",
        "output_shape = y[0].shape\n",
        "input_shape, output_shape, X[0].ndim"
      ],
      "metadata": {
        "id": "n_Zeh4F4nknY",
        "outputId": "3b9e74dd-8805-4859-beda-b2b771eb44ee",
        "colab": {
          "base_uri": "https://localhost:8080/"
        }
      },
      "execution_count": 41,
      "outputs": [
        {
          "output_type": "execute_result",
          "data": {
            "text/plain": [
              "(TensorShape([]), TensorShape([]), 0)"
            ]
          },
          "metadata": {},
          "execution_count": 41
        }
      ]
    },
    {
      "cell_type": "markdown",
      "source": [
        "### Steps in modelling with TensorFlow\n",
        "\n",
        "1. Creationg a model - define the input and output layers, as well as the hidden layers of a deep learning model\n",
        "2. Compiling a model\n",
        "  - define the loss function (the function which tells the model how wrong it is) \n",
        "  - the optimizer (tells the model how to improve the patterns it is learning) \n",
        "  -evaluation metrics (what we can use to interpret the performance of the model)\n",
        "3. Fitting a model - let the model try to find patterns between X and y (features and labels)"
      ],
      "metadata": {
        "id": "r00xKJnyn8bz"
      }
    }
  ]
}