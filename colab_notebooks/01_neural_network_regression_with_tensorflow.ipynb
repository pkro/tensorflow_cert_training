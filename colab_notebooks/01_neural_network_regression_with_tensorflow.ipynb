{
  "nbformat": 4,
  "nbformat_minor": 0,
  "metadata": {
    "colab": {
      "provenance": [],
      "authorship_tag": "ABX9TyPu7P/ib/jhMhhyrnDlYmTK",
      "include_colab_link": true
    },
    "kernelspec": {
      "name": "python3",
      "display_name": "Python 3"
    },
    "language_info": {
      "name": "python"
    }
  },
  "cells": [
    {
      "cell_type": "markdown",
      "metadata": {
        "id": "view-in-github",
        "colab_type": "text"
      },
      "source": [
        "<a href=\"https://colab.research.google.com/github/pkro/tensorflow_cert_training/blob/main/colab_notebooks/01_neural_network_regression_with_tensorflow.ipynb\" target=\"_parent\"><img src=\"https://colab.research.google.com/assets/colab-badge.svg\" alt=\"Open In Colab\"/></a>"
      ]
    },
    {
      "cell_type": "markdown",
      "source": [
        "## Introduction to Regression with neural networks in TensorFlow\n",
        "\n",
        "Regression problem: predicting a numerical variable based on some other variation of variables"
      ],
      "metadata": {
        "id": "lcgSQoa2jBZV"
      }
    },
    {
      "cell_type": "code",
      "source": [
        "import tensorflow as tf\n",
        "print(tf.__version__)"
      ],
      "metadata": {
        "id": "I8tFBkEDcQkf",
        "outputId": "44876459-f0bf-4357-b45a-38f1e917911e",
        "colab": {
          "base_uri": "https://localhost:8080/"
        }
      },
      "execution_count": 2,
      "outputs": [
        {
          "output_type": "stream",
          "name": "stdout",
          "text": [
            "2.9.2\n"
          ]
        }
      ]
    },
    {
      "cell_type": "markdown",
      "source": [
        "### Create data to view and fit\n",
        "\n",
        "- features are usually defined in uppercase `X`, labels in lowercase `y`\n",
        "\n",
        "Here we create a simple feature and label lists where the relationship is y (label) = feature (Y) + 10\n",
        "\n",
        "Input shape: [8,] (8 numbers)\n",
        "Output shape: [1,] (one number)\n",
        "\n",
        "*Much easier way than the way I did it further down below:*\n",
        "\n",
        "```\n",
        "X = tf.range(-7, 15, 3)\n",
        "y = X + 10\n",
        "```"
      ],
      "metadata": {
        "id": "mmI1SLgYceC_"
      }
    },
    {
      "cell_type": "code",
      "source": [
        "import numpy as np\n",
        "import matplotlib.pyplot as plt\n",
        "\n",
        "# create features\n",
        "# x = np.array([-7., -4., -1., 2, 5., 8., 11., 14.])\n",
        "X = np.array(range(-7, 15, 3))\n",
        "X"
      ],
      "metadata": {
        "id": "t0mvdB6Jcqn2",
        "outputId": "9c204702-7767-4a16-e16f-8949e2a78493",
        "colab": {
          "base_uri": "https://localhost:8080/"
        }
      },
      "execution_count": 3,
      "outputs": [
        {
          "output_type": "execute_result",
          "data": {
            "text/plain": [
              "array([-7, -4, -1,  2,  5,  8, 11, 14])"
            ]
          },
          "metadata": {},
          "execution_count": 3
        }
      ]
    },
    {
      "cell_type": "code",
      "source": [
        "# Create labels\n",
        "y = np.array(range(3,25, 3)).astype(float)\n",
        "y"
      ],
      "metadata": {
        "id": "rnaQYRq9eFaN",
        "outputId": "f12d4a20-c5ad-4ab2-ca18-2534ffdeef7c",
        "colab": {
          "base_uri": "https://localhost:8080/"
        }
      },
      "execution_count": 4,
      "outputs": [
        {
          "output_type": "execute_result",
          "data": {
            "text/plain": [
              "array([ 3.,  6.,  9., 12., 15., 18., 21., 24.])"
            ]
          },
          "metadata": {},
          "execution_count": 4
        }
      ]
    },
    {
      "cell_type": "code",
      "source": [
        "# Visualize\n",
        "plt.scatter(X,y)"
      ],
      "metadata": {
        "id": "Fu7PPg04e1ez",
        "outputId": "820cd3a7-03d8-4fe2-a43a-1e7abc29d1b5",
        "colab": {
          "base_uri": "https://localhost:8080/",
          "height": 286
        }
      },
      "execution_count": 5,
      "outputs": [
        {
          "output_type": "execute_result",
          "data": {
            "text/plain": [
              "<matplotlib.collections.PathCollection at 0x7f0cab96afa0>"
            ]
          },
          "metadata": {},
          "execution_count": 5
        },
        {
          "output_type": "display_data",
          "data": {
            "text/plain": [
              "<Figure size 432x288 with 1 Axes>"
            ],
            "image/png": "[encoded data removed]"
          },
          "metadata": {
            "needs_background": "light"
          }
        }
      ]
    },
    {
      "cell_type": "code",
      "source": [
        "# this is the rule we want the neural network to learn\n",
        "y == X + 10"
      ],
      "metadata": {
        "id": "LW6zcdhBhVv0",
        "outputId": "b80aa582-45be-4aa0-d155-d6f747559e77",
        "colab": {
          "base_uri": "https://localhost:8080/"
        }
      },
      "execution_count": 6,
      "outputs": [
        {
          "output_type": "execute_result",
          "data": {
            "text/plain": [
              "array([ True,  True,  True,  True,  True,  True,  True,  True])"
            ]
          },
          "metadata": {},
          "execution_count": 6
        }
      ]
    },
    {
      "cell_type": "markdown",
      "source": [
        "### Input and output shapes"
      ],
      "metadata": {
        "id": "BxnQDjWchlF4"
      }
    },
    {
      "cell_type": "markdown",
      "source": [
        "Create a demo tensor for house pricing prediction problem (see main readme), where we already know the input / output shape from the info graphic and try to deduce the shapes for our X, y arrays."
      ],
      "metadata": {
        "id": "ScvB8jsqjJRA"
      }
    },
    {
      "cell_type": "code",
      "source": [
        "house_info = tf.constant([3, 2, 1]) # 3 bedrooms, 2 bathrooms, 1 garage\n",
        "house_price = tf.constant([939700])\n",
        "\n",
        "house_info, house_price\n"
      ],
      "metadata": {
        "id": "R_F_UgHLiCx9",
        "outputId": "894c39ec-d7f0-44d1-8c87-1a528d6272f6",
        "colab": {
          "base_uri": "https://localhost:8080/"
        }
      },
      "execution_count": 7,
      "outputs": [
        {
          "output_type": "execute_result",
          "data": {
            "text/plain": [
              "(<tf.Tensor: shape=(3,), dtype=int32, numpy=array([3, 2, 1], dtype=int32)>,\n",
              " <tf.Tensor: shape=(1,), dtype=int32, numpy=array([939700], dtype=int32)>)"
            ]
          },
          "metadata": {},
          "execution_count": 7
        }
      ]
    },
    {
      "cell_type": "markdown",
      "source": [
        "The house info contains just one item of shape 3, our `X` contains 8 of shape 1 (just one number), as does the desired output.\n",
        "\n",
        "So the input shape is 1, as is the output shape for our simple example (that we have 8 items in those arrays doesn't matter for the input / output shape!)\n"
      ],
      "metadata": {
        "id": "6IXN7dSDjK3C"
      }
    },
    {
      "cell_type": "code",
      "source": [
        "print(X[0], \"should predict\", y[0])\n",
        "print(X[1], \"should predict\", y[1])\n",
        "print(\"etc...\")"
      ],
      "metadata": {
        "id": "APZ2MAATka4Q",
        "outputId": "6bfa6742-0ab6-48a1-c4f6-c7072a289a8e",
        "colab": {
          "base_uri": "https://localhost:8080/"
        }
      },
      "execution_count": 8,
      "outputs": [
        {
          "output_type": "stream",
          "name": "stdout",
          "text": [
            "-7 should predict 3.0\n",
            "-4 should predict 6.0\n",
            "etc...\n"
          ]
        }
      ]
    },
    {
      "cell_type": "code",
      "source": [
        "input_shape = X[0].shape\n",
        "output_shape = y[0].shape\n",
        "input_shape, output_shape, X[0].ndim"
      ],
      "metadata": {
        "id": "wX-XosfOjYal",
        "outputId": "df3a3db3-7df9-4b64-de11-8d3bc09615af",
        "colab": {
          "base_uri": "https://localhost:8080/"
        }
      },
      "execution_count": 9,
      "outputs": [
        {
          "output_type": "execute_result",
          "data": {
            "text/plain": [
              "((), (), 0)"
            ]
          },
          "metadata": {},
          "execution_count": 9
        }
      ]
    },
    {
      "cell_type": "markdown",
      "source": [
        "Why is there no shape?\n",
        "\n",
        "Scalars (single numbers) are a rank 0 tensor (0 dimensions).\n",
        "\n",
        "In the following code, we need to expand the dimensions of the input vector when fitting a model (automatic in TensorFlow up to 2.6, manual from 2.7 onward) to avoid a `shape error`:\n",
        "\n",
        "```\n",
        "## OLD\n",
        "# Fit the model\n",
        "model.fit(X, y, epochs=5) # this will break with TensorFlow 2.7.0+\n",
        " \n",
        "## New\n",
        "# Fit the model\n",
        "model.fit(tf.expand_dims(X, axis=-1), y, epochs=5) # <- updated \n",
        "```"
      ],
      "metadata": {
        "id": "7vGIYR8ak5_L"
      }
    },
    {
      "cell_type": "code",
      "source": [
        "# turn arrays into tensors\n",
        "X = tf.constant(X, dtype=tf.float32)\n",
        "y = tf.constant(y, dtype=tf.float32)\n",
        "X, y"
      ],
      "metadata": {
        "id": "Y9pDeywVm9ZP",
        "outputId": "fa6992c7-2505-4b56-e7a9-67625c23b015",
        "colab": {
          "base_uri": "https://localhost:8080/"
        }
      },
      "execution_count": 10,
      "outputs": [
        {
          "output_type": "execute_result",
          "data": {
            "text/plain": [
              "(<tf.Tensor: shape=(8,), dtype=float32, numpy=array([-7., -4., -1.,  2.,  5.,  8., 11., 14.], dtype=float32)>,\n",
              " <tf.Tensor: shape=(8,), dtype=float32, numpy=array([ 3.,  6.,  9., 12., 15., 18., 21., 24.], dtype=float32)>)"
            ]
          },
          "metadata": {},
          "execution_count": 10
        }
      ]
    },
    {
      "cell_type": "code",
      "source": [
        "input_shape = X[0].shape\n",
        "output_shape = y[0].shape\n",
        "input_shape, output_shape, X[0].ndim"
      ],
      "metadata": {
        "id": "n_Zeh4F4nknY",
        "outputId": "505f783c-156b-4098-a372-d596ad78b3ef",
        "colab": {
          "base_uri": "https://localhost:8080/"
        }
      },
      "execution_count": 11,
      "outputs": [
        {
          "output_type": "execute_result",
          "data": {
            "text/plain": [
              "(TensorShape([]), TensorShape([]), 0)"
            ]
          },
          "metadata": {},
          "execution_count": 11
        }
      ]
    },
    {
      "cell_type": "markdown",
      "source": [
        "### Steps in modelling with TensorFlow\n",
        "\n",
        "1. Creationg a model - define the input and output layers, as well as the hidden layers of a deep learning model\n",
        "2. Compiling a model\n",
        "  - define the loss function (the function which tells the model how wrong it is) \n",
        "  - the optimizer (tells the model how to improve the patterns it is learning) \n",
        "  -evaluation metrics (what we can use to interpret the performance of the model)\n",
        "3. Fitting a model - let the model try to find patterns between X and y (features and labels)"
      ],
      "metadata": {
        "id": "r00xKJnyn8bz"
      }
    },
    {
      "cell_type": "markdown",
      "source": [
        "![steps in modeling with tensorflow](https://github.com/pkro/tensorflow_cert_training/blob/main/readme_images/tensorflow_modeling_steps.png?raw=1)"
      ],
      "metadata": {
        "id": "xYFNSGYCVsfV"
      }
    },
    {
      "cell_type": "code",
      "source": [
        "tf.random.set_seed(42)\n",
        "\n",
        "# 1. Create a model using the sequential API\n",
        "# layers can also be added with \n",
        "# model = tf.keras.Sequential()\n",
        "# model.add(tf.keras.layers.Dense(1)) \n",
        "# instead of passing them as an array\n",
        "model = tf.keras.Sequential([\n",
        "    tf.keras.layers.Dense(1) # \"1\" because we want to predict 1 number\n",
        "])\n",
        "\n",
        "\n",
        "# 2. compile the model \n",
        "model.compile(\n",
        "    # or .mean_absolute_error, Computes the mean absolute error between labels and predictions.\n",
        "    # loss = mean(abs(y_true - y_pred), axis=-1)\n",
        "    # where y_true is the correct value, y_pred the prediction the model makes\n",
        "    # \"on average, how wrong were our predictions\"\n",
        "    loss = tf.keras.losses.mae,\n",
        "    optimizer = tf.keras.optimizers.SGD(), # stochastic gradient descent;\n",
        "    metrics=[\"mae\"] # most functions can be passed as string, e.g. optimizer=\"sgd\"\n",
        "  )\n",
        "\n",
        "# 3. Fit the model\n",
        "# Sequential groups a linear stack of layers into a tf.keras.Model.\n",
        "model.fit(tf.expand_dims(X, axis=-1), y, epochs=5) # 5 \"laps\"\n",
        "\n"
      ],
      "metadata": {
        "id": "xuMFGFzFV8M0",
        "outputId": "a7efb6bc-a049-4574-97f2-2b2b0dea5f95",
        "colab": {
          "base_uri": "https://localhost:8080/"
        }
      },
      "execution_count": 12,
      "outputs": [
        {
          "output_type": "stream",
          "name": "stdout",
          "text": [
            "Epoch 1/5\n",
            "1/1 [==============================] - 1s 787ms/step - loss: 11.5048 - mae: 11.5048\n",
            "Epoch 2/5\n",
            "1/1 [==============================] - 0s 6ms/step - loss: 11.3723 - mae: 11.3723\n",
            "Epoch 3/5\n",
            "1/1 [==============================] - 0s 10ms/step - loss: 11.2398 - mae: 11.2398\n",
            "Epoch 4/5\n",
            "1/1 [==============================] - 0s 8ms/step - loss: 11.1073 - mae: 11.1073\n",
            "Epoch 5/5\n",
            "1/1 [==============================] - 0s 11ms/step - loss: 10.9748 - mae: 10.9748\n"
          ]
        },
        {
          "output_type": "execute_result",
          "data": {
            "text/plain": [
              "<keras.callbacks.History at 0x7f0ca6e85ee0>"
            ]
          },
          "metadata": {},
          "execution_count": 12
        }
      ]
    },
    {
      "cell_type": "code",
      "source": [
        "print(X, y)\n",
        "model.predict([17.]) # SHOULD be 27.0"
      ],
      "metadata": {
        "id": "kpKKWrk5Zhi2",
        "outputId": "ee7c7ce3-b950-47fe-fae4-df630ccff0cc",
        "colab": {
          "base_uri": "https://localhost:8080/"
        }
      },
      "execution_count": 13,
      "outputs": [
        {
          "output_type": "stream",
          "name": "stdout",
          "text": [
            "tf.Tensor([-7. -4. -1.  2.  5.  8. 11. 14.], shape=(8,), dtype=float32) tf.Tensor([ 3.  6.  9. 12. 15. 18. 21. 24.], shape=(8,), dtype=float32)\n",
            "1/1 [==============================] - 0s 233ms/step\n"
          ]
        },
        {
          "output_type": "execute_result",
          "data": {
            "text/plain": [
              "array([[12.716021]], dtype=float32)"
            ]
          },
          "metadata": {},
          "execution_count": 13
        }
      ]
    },
    {
      "cell_type": "markdown",
      "source": [
        "That's a pretty bad prediction.\n",
        "\n",
        "### Improving a model with Tensorflow\n",
        "\n",
        "We can try to improve a model on each of the 5 steps. The best would be to have more training data.\n",
        "\n",
        "1. **Creating a model** - add more layers, increase number of hidden units (aka neurons) within each layer, change the [activation function](https://machinelearningmastery.com/choose-an-activation-function-for-deep-learning/) of each layer.\n",
        "2. **Compiling a model** - change optimization function or **learning rate** of the optimization function\n",
        "3. **Fitting the model** - more epochs, give more data\n",
        "\n",
        "\n",
        "Do small singular changes in experiments to see what causes a model to perform better (or *worse*!)\n",
        "\n",
        "**Common ways to improve a deep model:**\n",
        "\n",
        "- Adding layers\n",
        "- Increase the number of hidden units (neurons)\n",
        "- Change the activation functions\n",
        "- Change the optimization function\n",
        "- Change the learning rate; **this is potentially the most important hyperparameter to change**\n",
        "- Fitting on more data (if available)\n",
        "- Fitting for longer (easiest, just add more epochs)\n"
      ],
      "metadata": {
        "id": "L_twWN6fcdRE"
      }
    },
    {
      "cell_type": "markdown",
      "source": [
        "#### More epochs"
      ],
      "metadata": {
        "id": "_-sC-OnaZbF6"
      }
    },
    {
      "cell_type": "code",
      "source": [
        "model = tf.keras.Sequential([\n",
        "    tf.keras.layers.Dense(1)\n",
        "])\n",
        "\n",
        "model.compile(\n",
        "    loss = tf.keras.losses.mae,\n",
        "    optimizer = tf.keras.optimizers.SGD(),\n",
        "    metrics=[\"mae\"]\n",
        "  )\n",
        "\n",
        "# 100 epochs instead of 5 - loss goes down\n",
        "model.fit(tf.expand_dims(X, axis=-1), y, epochs=100, verbose=0) # more epochs (skip output)"
      ],
      "metadata": {
        "id": "Pe10z2sQdKje",
        "outputId": "a0265587-4505-48c8-e4d6-5128e4f8b5fa",
        "colab": {
          "base_uri": "https://localhost:8080/"
        }
      },
      "execution_count": 14,
      "outputs": [
        {
          "output_type": "execute_result",
          "data": {
            "text/plain": [
              "<keras.callbacks.History at 0x7f0ca6dedf70>"
            ]
          },
          "metadata": {},
          "execution_count": 14
        }
      ]
    },
    {
      "cell_type": "code",
      "source": [
        "model.predict([17.])"
      ],
      "metadata": {
        "id": "ey6cW21sddXW",
        "outputId": "247be312-5acc-4c7c-88ee-83c08267d170",
        "colab": {
          "base_uri": "https://localhost:8080/"
        }
      },
      "execution_count": 15,
      "outputs": [
        {
          "output_type": "stream",
          "name": "stdout",
          "text": [
            "1/1 [==============================] - 0s 82ms/step\n"
          ]
        },
        {
          "output_type": "execute_result",
          "data": {
            "text/plain": [
              "array([[29.739855]], dtype=float32)"
            ]
          },
          "metadata": {},
          "execution_count": 15
        }
      ]
    },
    {
      "cell_type": "markdown",
      "source": [
        "The prediction has improved significantly already\n",
        "\n",
        "#### Add a layer / hidden units / activation function"
      ],
      "metadata": {
        "id": "786IfidCbOpH"
      }
    },
    {
      "cell_type": "code",
      "source": [
        "# reminder of the data\n",
        "X, y"
      ],
      "metadata": {
        "colab": {
          "base_uri": "https://localhost:8080/"
        },
        "id": "doqUkEMgepqw",
        "outputId": "2d61c1c4-bb9a-428d-9241-e88aa3f6f01e"
      },
      "execution_count": 16,
      "outputs": [
        {
          "output_type": "execute_result",
          "data": {
            "text/plain": [
              "(<tf.Tensor: shape=(8,), dtype=float32, numpy=array([-7., -4., -1.,  2.,  5.,  8., 11., 14.], dtype=float32)>,\n",
              " <tf.Tensor: shape=(8,), dtype=float32, numpy=array([ 3.,  6.,  9., 12., 15., 18., 21., 24.], dtype=float32)>)"
            ]
          },
          "metadata": {},
          "execution_count": 16
        }
      ]
    },
    {
      "cell_type": "code",
      "source": [
        "# add more layers, more neurons and an activation\n",
        "model = tf.keras.Sequential([\n",
        "    # add another layer, more hidden units and change the activation function\n",
        "    # we can change each of these separately\n",
        "    tf.keras.layers.Dense(50, activation=\"relu\"),\n",
        "    tf.keras.layers.Dense(1)\n",
        "])\n",
        "\n",
        "model.compile(\n",
        "    loss = \"mae\", # just an alternative way to define the loss function\n",
        "    optimizer = tf.keras.optimizers.SGD(),\n",
        "    metrics=[\"mae\"]\n",
        "  )\n",
        "\n",
        "model.fit(tf.expand_dims(X, axis=-1), y, epochs=100, verbose=0)"
      ],
      "metadata": {
        "outputId": "bf7a5ebc-0836-4625-8f65-08af8a495947",
        "colab": {
          "base_uri": "https://localhost:8080/"
        },
        "id": "mijBHXBdZ0XH"
      },
      "execution_count": 17,
      "outputs": [
        {
          "output_type": "execute_result",
          "data": {
            "text/plain": [
              "<keras.callbacks.History at 0x7f0ca6d873d0>"
            ]
          },
          "metadata": {},
          "execution_count": 17
        }
      ]
    },
    {
      "cell_type": "code",
      "source": [
        "model.predict([17.])"
      ],
      "metadata": {
        "colab": {
          "base_uri": "https://localhost:8080/"
        },
        "id": "vKw2GYXKcpHn",
        "outputId": "b16a3bcf-6ca5-44f1-e9dd-a513158db9fc"
      },
      "execution_count": 18,
      "outputs": [
        {
          "output_type": "stream",
          "name": "stdout",
          "text": [
            "1/1 [==============================] - 0s 88ms/step\n"
          ]
        },
        {
          "output_type": "execute_result",
          "data": {
            "text/plain": [
              "array([[32.7789]], dtype=float32)"
            ]
          },
          "metadata": {},
          "execution_count": 18
        }
      ]
    },
    {
      "cell_type": "markdown",
      "source": [
        "The prediction actually got worse, even though the loss got lower (change verbose to 'auto' in model.fit to see steps).\n",
        "\n",
        "This is called [**overfitting**](https://www.ibm.com/topics/overfitting), meaning the model learns the training data *too* well. In other words, the lower loss we see isn't representative to data the model hasn't seen before."
      ],
      "metadata": {
        "id": "wyq_wYk7e9Hd"
      }
    },
    {
      "cell_type": "markdown",
      "source": [
        "#### Change optimizer and **learning rate**"
      ],
      "metadata": {
        "id": "lx31KDK1iHDr"
      }
    },
    {
      "cell_type": "code",
      "source": [
        "# we keep the changes from before\n",
        "model = tf.keras.Sequential([\n",
        "    tf.keras.layers.Dense(50, activation=\"relu\"),\n",
        "    tf.keras.layers.Dense(1)\n",
        "])\n",
        "\n",
        "model.compile(\n",
        "    loss = \"mae\",\n",
        "    # Adam is a common and useful optimizer, often the default\n",
        "    # the higher the learning rate, the quicker the optimizer pushes\n",
        "    # the model to improve\n",
        "    optimizer = tf.keras.optimizers.Adam(learning_rate=0.01),\n",
        "    metrics=[\"mae\"]\n",
        "  )\n",
        "\n",
        "model.fit(tf.expand_dims(X, axis=-1), y, epochs=100, verbose=0) # loss goes down to 0.x in the last iterations"
      ],
      "metadata": {
        "colab": {
          "base_uri": "https://localhost:8080/"
        },
        "id": "buLH5W6WiM5Q",
        "outputId": "671b9e4b-4920-4c2a-db5d-6e815c44ba65"
      },
      "execution_count": 19,
      "outputs": [
        {
          "output_type": "execute_result",
          "data": {
            "text/plain": [
              "<keras.callbacks.History at 0x7f0ca5f5aee0>"
            ]
          },
          "metadata": {},
          "execution_count": 19
        }
      ]
    },
    {
      "cell_type": "code",
      "source": [
        "model.predict([17.]) # almost perfect fit"
      ],
      "metadata": {
        "colab": {
          "base_uri": "https://localhost:8080/"
        },
        "id": "BUQL_vBriXHg",
        "outputId": "4000790a-3b7a-4760-86d4-7c62c9b8abaf"
      },
      "execution_count": 20,
      "outputs": [
        {
          "output_type": "stream",
          "name": "stdout",
          "text": [
            "1/1 [==============================] - 0s 97ms/step\n"
          ]
        },
        {
          "output_type": "execute_result",
          "data": {
            "text/plain": [
              "array([[26.921337]], dtype=float32)"
            ]
          },
          "metadata": {},
          "execution_count": 20
        }
      ]
    },
    {
      "cell_type": "markdown",
      "source": [
        "### Evaluating a model\n",
        "\n",
        "In practice, a typical workflow is:\n",
        "\n",
        "Build a model -> fit it -> evaluate it -> tweak -> evaluate -> tweak -> ...\n",
        "\n",
        "- Building models: experiment, experiment, experiment\n",
        "- Evaluating models: **visualize, visualize, visualize**\n",
        "\n",
        "Things to visualize:\n",
        "\n",
        "- The data - what are we working with? What does it look like?\n",
        "- The model - what does our model look like?\n",
        "- The training of a model - how does a model perform while it learns?\n",
        "- The predictions - how do the predictions of the model line up against the ground truth (the original labels)?\n"
      ],
      "metadata": {
        "id": "MmSagRmYkSRJ"
      }
    },
    {
      "cell_type": "code",
      "source": [
        "# Make a bigger dataset (in practice rarely available)\n",
        "X = tf.range(-100, 100, 4)\n",
        "X"
      ],
      "metadata": {
        "colab": {
          "base_uri": "https://localhost:8080/"
        },
        "id": "Pn9VxU9hm00v",
        "outputId": "233eac07-e187-4516-dc7c-f0fd3aeee5c6"
      },
      "execution_count": 21,
      "outputs": [
        {
          "output_type": "execute_result",
          "data": {
            "text/plain": [
              "<tf.Tensor: shape=(50,), dtype=int32, numpy=\n",
              "array([-100,  -96,  -92,  -88,  -84,  -80,  -76,  -72,  -68,  -64,  -60,\n",
              "        -56,  -52,  -48,  -44,  -40,  -36,  -32,  -28,  -24,  -20,  -16,\n",
              "        -12,   -8,   -4,    0,    4,    8,   12,   16,   20,   24,   28,\n",
              "         32,   36,   40,   44,   48,   52,   56,   60,   64,   68,   72,\n",
              "         76,   80,   84,   88,   92,   96], dtype=int32)>"
            ]
          },
          "metadata": {},
          "execution_count": 21
        }
      ]
    },
    {
      "cell_type": "code",
      "source": [
        "# Make labels for the dataset\n",
        "y = X + 10\n",
        "y"
      ],
      "metadata": {
        "colab": {
          "base_uri": "https://localhost:8080/"
        },
        "id": "xmqvnCKeoNCv",
        "outputId": "b4ab2577-b5d6-4678-be6b-9cf3c1987b40"
      },
      "execution_count": 22,
      "outputs": [
        {
          "output_type": "execute_result",
          "data": {
            "text/plain": [
              "<tf.Tensor: shape=(50,), dtype=int32, numpy=\n",
              "array([-90, -86, -82, -78, -74, -70, -66, -62, -58, -54, -50, -46, -42,\n",
              "       -38, -34, -30, -26, -22, -18, -14, -10,  -6,  -2,   2,   6,  10,\n",
              "        14,  18,  22,  26,  30,  34,  38,  42,  46,  50,  54,  58,  62,\n",
              "        66,  70,  74,  78,  82,  86,  90,  94,  98, 102, 106], dtype=int32)>"
            ]
          },
          "metadata": {},
          "execution_count": 22
        }
      ]
    },
    {
      "cell_type": "code",
      "source": [
        "# Visualize the data\n",
        "import matplotlib.pyplot as plt\n",
        "\n",
        "plt.scatter(X, y)"
      ],
      "metadata": {
        "colab": {
          "base_uri": "https://localhost:8080/",
          "height": 282
        },
        "id": "l6hpTINho-kA",
        "outputId": "55894537-c23d-4adf-9959-3e61c34279f4"
      },
      "execution_count": 23,
      "outputs": [
        {
          "output_type": "execute_result",
          "data": {
            "text/plain": [
              "<matplotlib.collections.PathCollection at 0x7f0ca5ed16d0>"
            ]
          },
          "metadata": {},
          "execution_count": 23
        },
        {
          "output_type": "display_data",
          "data": {
            "text/plain": [
              "<Figure size 432x288 with 1 Axes>"
            ],
            "image/png": "[encoded data removed]"
          },
          "metadata": {
            "needs_background": "light"
          }
        }
      ]
    },
    {
      "cell_type": "markdown",
      "source": [
        "#### Digression: The 3 sets...\n",
        "\n",
        "- **Training set** (what the model learns from); typically 70%-80% of availiable data (analogy: course materials)\n",
        "- Validation set - what the model is tuned on; typically 10%-15% (analogy: practice exam)\n",
        "- **Test set** - the model gets evaluated on this data to test what it has learned, typically 10%-15% (analogy: final exam)\n",
        "\n",
        "Validation set is optional (tuning / testing can be done on one set).\n",
        "\n",
        "Goal: **Generalization** of the model - make the model perform well on data it hasn't seen before\n",
        "\n"
      ],
      "metadata": {
        "id": "mL2viPC2pMhn"
      }
    },
    {
      "cell_type": "code",
      "source": [
        "# Check the length of samples\n",
        "len(X)"
      ],
      "metadata": {
        "colab": {
          "base_uri": "https://localhost:8080/"
        },
        "id": "_ZgY5llLteix",
        "outputId": "96751cf1-2f61-4e6a-f821-6e7c64b90ef9"
      },
      "execution_count": 24,
      "outputs": [
        {
          "output_type": "execute_result",
          "data": {
            "text/plain": [
              "50"
            ]
          },
          "metadata": {},
          "execution_count": 24
        }
      ]
    },
    {
      "cell_type": "code",
      "source": [
        "# split into training and test sets from available data\n",
        "X_train = X[:40] # 80%\n",
        "X_test = X[40:] # 209%\n",
        "y_train = y[:40]\n",
        "y_test = y[40:]\n",
        "X_train, y_train, X_test, y_test, len(X_train), len(X_test)"
      ],
      "metadata": {
        "colab": {
          "base_uri": "https://localhost:8080/"
        },
        "id": "kLf9OjaUto00",
        "outputId": "9118e413-d629-42da-b74a-96616dea9d01"
      },
      "execution_count": 25,
      "outputs": [
        {
          "output_type": "execute_result",
          "data": {
            "text/plain": [
              "(<tf.Tensor: shape=(40,), dtype=int32, numpy=\n",
              " array([-100,  -96,  -92,  -88,  -84,  -80,  -76,  -72,  -68,  -64,  -60,\n",
              "         -56,  -52,  -48,  -44,  -40,  -36,  -32,  -28,  -24,  -20,  -16,\n",
              "         -12,   -8,   -4,    0,    4,    8,   12,   16,   20,   24,   28,\n",
              "          32,   36,   40,   44,   48,   52,   56], dtype=int32)>,\n",
              " <tf.Tensor: shape=(40,), dtype=int32, numpy=\n",
              " array([-90, -86, -82, -78, -74, -70, -66, -62, -58, -54, -50, -46, -42,\n",
              "        -38, -34, -30, -26, -22, -18, -14, -10,  -6,  -2,   2,   6,  10,\n",
              "         14,  18,  22,  26,  30,  34,  38,  42,  46,  50,  54,  58,  62,\n",
              "         66], dtype=int32)>,\n",
              " <tf.Tensor: shape=(10,), dtype=int32, numpy=array([60, 64, 68, 72, 76, 80, 84, 88, 92, 96], dtype=int32)>,\n",
              " <tf.Tensor: shape=(10,), dtype=int32, numpy=array([ 70,  74,  78,  82,  86,  90,  94,  98, 102, 106], dtype=int32)>,\n",
              " 40,\n",
              " 10)"
            ]
          },
          "metadata": {},
          "execution_count": 25
        }
      ]
    },
    {
      "cell_type": "code",
      "source": [
        "# Visualize the test / training data again\n",
        "plt.figure(figsize=(10,7))\n",
        "plt.scatter(X_train, y_train, c=\"blue\", label=\"Training data\")\n",
        "plt.scatter(X_test, y_test, c=\"green\", label=\"Testing data\")\n",
        "plt.legend();"
      ],
      "metadata": {
        "colab": {
          "base_uri": "https://localhost:8080/",
          "height": 428
        },
        "id": "Ch4VywpDuiLy",
        "outputId": "72b74820-c57c-41ab-cf93-65929fa3071c"
      },
      "execution_count": 26,
      "outputs": [
        {
          "output_type": "display_data",
          "data": {
            "text/plain": [
              "<Figure size 720x504 with 1 Axes>"
            ],
            "image/png": "[encoded data removed]"
          },
          "metadata": {
            "needs_background": "light"
          }
        }
      ]
    },
    {
      "cell_type": "markdown",
      "source": [
        "### Visualize the model"
      ],
      "metadata": {
        "id": "_CjeeSv2x0ck"
      }
    },
    {
      "cell_type": "code",
      "source": [
        "# create a model again (simple model from the start)\n",
        "model = tf.keras.Sequential([\n",
        "    tf.keras.layers.Dense(1)\n",
        "])\n",
        "\n",
        "model.compile(\n",
        "    loss = tf.keras.losses.mae,\n",
        "    optimizer = tf.keras.optimizers.SGD(),\n",
        "    metrics=[\"mae\"]\n",
        "  )\n",
        "\n",
        "# No fitting for now to show how to use model.build\n",
        "# model.fit(tf.expand_dims(X_train, axis=-1), y_train, epochs=100, verbose=0)"
      ],
      "metadata": {
        "id": "W7Bb-rJ8wrr_"
      },
      "execution_count": 27,
      "outputs": []
    },
    {
      "cell_type": "code",
      "source": [
        "try:\n",
        "  model.summary()\n",
        "except ValueError as err:\n",
        "  print(err)"
      ],
      "metadata": {
        "colab": {
          "base_uri": "https://localhost:8080/"
        },
        "id": "FCpOnSkkxpKV",
        "outputId": "8aca1864-84c4-4cbd-b963-9a07723675a2"
      },
      "execution_count": 28,
      "outputs": [
        {
          "output_type": "stream",
          "name": "stdout",
          "text": [
            "This model has not yet been built. Build the model first by calling `build()` or by calling the model on a batch of data.\n"
          ]
        }
      ]
    },
    {
      "cell_type": "code",
      "source": [
        "# Create a model which builds automatically by defining the input_shape\n",
        "tf.random.set_seed(42)\n",
        "\n",
        "model = tf.keras.Sequential([\n",
        "    tf.keras.layers.Dense(10, input_shape=[1]) # shape = 1 because we pass just one number\n",
        "])\n",
        "\n",
        "model.compile(\n",
        "    loss=tf.keras.losses.mae,\n",
        "    optimizer=tf.keras.optimizers.SGD(),\n",
        "    metrics=[\"mae\"]\n",
        ")\n",
        "\n",
        "model.summary()"
      ],
      "metadata": {
        "colab": {
          "base_uri": "https://localhost:8080/"
        },
        "id": "preG7qyCy_vS",
        "outputId": "bbc283d3-0d2f-40e5-fa5e-6eda921bfa15"
      },
      "execution_count": 29,
      "outputs": [
        {
          "output_type": "stream",
          "name": "stdout",
          "text": [
            "Model: \"sequential_5\"\n",
            "_________________________________________________________________\n",
            " Layer (type)                Output Shape              Param #   \n",
            "=================================================================\n",
            " dense_7 (Dense)             (None, 10)                20        \n",
            "                                                                 \n",
            "=================================================================\n",
            "Total params: 20\n",
            "Trainable params: 20\n",
            "Non-trainable params: 0\n",
            "_________________________________________________________________\n"
          ]
        }
      ]
    },
    {
      "cell_type": "markdown",
      "source": [
        "The numbers in the model and layer names just denotes an identifier for the models / layers created in the session, if none given with a \"name\" parameter.\n",
        "\n",
        "- **Dense** = **Fully connected** = **linear layer** = every input neuron is connected to every output neuron\n",
        "- Output shape is = number of hidden units (?)\n",
        "- Total params: total number of parameters in the model (how many patterns the model is going to try and learn)\n",
        "- Trainable params: parameters / patterns the model can update as it trains\n",
        "- Non-trainable params: frozen patterns in existing models; aren't updated during training. Typicdal when bringing n already learned patterns / parameters during **transfer learning**.\n",
        "\n",
        "**Resource:** \n",
        "\n",
        "http://introtodeeplearning.com/ (from january 2023 on)\n",
        "\n",
        "http://introtodeeplearning.com/2022/index.html\n",
        "\n",
        "- **Exercise:** tryp playing around with the nubmer of hidden units and see how it affects the number of parameters.\n",
        "  - seems like the output shape = number of hidden layers (and not the defined output shape)\n",
        "  - parameters are 2 * num of hidden layers; 2 is probably the input -> output (one X for one y); **2 trainable parameters per dense hidden unit**"
      ],
      "metadata": {
        "id": "Q1AJfORl2MN_"
      }
    },
    {
      "cell_type": "code",
      "source": [
        "model.fit(tf.expand_dims(X_train, axis=-1), y_train, epochs=100, verbose=0)"
      ],
      "metadata": {
        "colab": {
          "base_uri": "https://localhost:8080/"
        },
        "id": "3nxJ_N9o7nc0",
        "outputId": "06877cd5-28c3-4eb5-aa90-faaa0ed69b0d"
      },
      "execution_count": 30,
      "outputs": [
        {
          "output_type": "execute_result",
          "data": {
            "text/plain": [
              "<keras.callbacks.History at 0x7f0ca3408760>"
            ]
          },
          "metadata": {},
          "execution_count": 30
        }
      ]
    },
    {
      "cell_type": "code",
      "source": [
        "model.summary()"
      ],
      "metadata": {
        "colab": {
          "base_uri": "https://localhost:8080/"
        },
        "id": "OEbs_eeT86eM",
        "outputId": "bfd302c1-ab34-4bb2-f959-b364e28c25e3"
      },
      "execution_count": 31,
      "outputs": [
        {
          "output_type": "stream",
          "name": "stdout",
          "text": [
            "Model: \"sequential_5\"\n",
            "_________________________________________________________________\n",
            " Layer (type)                Output Shape              Param #   \n",
            "=================================================================\n",
            " dense_7 (Dense)             (None, 10)                20        \n",
            "                                                                 \n",
            "=================================================================\n",
            "Total params: 20\n",
            "Trainable params: 20\n",
            "Non-trainable params: 0\n",
            "_________________________________________________________________\n"
          ]
        }
      ]
    },
    {
      "cell_type": "code",
      "source": [
        "# visualize model\n",
        "from tensorflow.keras.utils import plot_model\n",
        "plot_model(model, show_shapes=True)"
      ],
      "metadata": {
        "colab": {
          "base_uri": "https://localhost:8080/",
          "height": 201
        },
        "id": "8WSLw9t088tZ",
        "outputId": "16491648-81f1-4393-ca2e-1cee03627ada"
      },
      "execution_count": 32,
      "outputs": [
        {
          "output_type": "execute_result",
          "data": {
            "image/png": "[encoded data removed]",
            "text/plain": [
              "<IPython.core.display.Image object>"
            ]
          },
          "metadata": {},
          "execution_count": 32
        }
      ]
    },
    {
      "cell_type": "code",
      "source": [
        "# Add layers / neuros to check how output changes\n",
        "# Also, name layers and the model itself for easier reading\n",
        "model = tf.keras.Sequential([\n",
        "    tf.keras.layers.Dense(10, input_shape=[1], name=\"input_layer\"),\n",
        "    tf.keras.layers.Dense(1, input_shape=[1], name=\"output_layer\"),\n",
        "], name=\"two_layer_model\")\n",
        "\n",
        "model.compile(\n",
        "    loss=tf.keras.losses.mae,\n",
        "    optimizer=tf.keras.optimizers.SGD(),\n",
        "    metrics=[\"mae\"]\n",
        ")\n",
        "\n",
        "\n",
        "plot_model(model, show_shapes=True)"
      ],
      "metadata": {
        "colab": {
          "base_uri": "https://localhost:8080/",
          "height": 312
        },
        "id": "in02UQ_2-GCt",
        "outputId": "1b24a0d0-c97c-4cc6-984b-248517efec54"
      },
      "execution_count": 33,
      "outputs": [
        {
          "output_type": "execute_result",
          "data": {
            "image/png": "[encoded data removed]",
            "text/plain": [
              "<IPython.core.display.Image object>"
            ]
          },
          "metadata": {},
          "execution_count": 33
        }
      ]
    },
    {
      "cell_type": "code",
      "source": [
        "model.summary()"
      ],
      "metadata": {
        "colab": {
          "base_uri": "https://localhost:8080/"
        },
        "id": "dFlvAWxl-p5x",
        "outputId": "d3c6756e-c33e-4aff-ab54-059314f346bc"
      },
      "execution_count": 34,
      "outputs": [
        {
          "output_type": "stream",
          "name": "stdout",
          "text": [
            "Model: \"two_layer_model\"\n",
            "_________________________________________________________________\n",
            " Layer (type)                Output Shape              Param #   \n",
            "=================================================================\n",
            " input_layer (Dense)         (None, 10)                20        \n",
            "                                                                 \n",
            " output_layer (Dense)        (None, 1)                 11        \n",
            "                                                                 \n",
            "=================================================================\n",
            "Total params: 31\n",
            "Trainable params: 31\n",
            "Non-trainable params: 0\n",
            "_________________________________________________________________\n"
          ]
        }
      ]
    },
    {
      "cell_type": "markdown",
      "source": [
        "### Visualizing the models predictions\n",
        "\n",
        "To visualize predictions, it's a good idea to plot them agains the ground truth labels.\n",
        "\n",
        "In practice these are often named `y_test` (like here), `y_true` vs `y_pred`"
      ],
      "metadata": {
        "id": "IaZsVond_d7l"
      }
    },
    {
      "cell_type": "code",
      "source": [
        "# define a reusable plot function\n",
        "def plot_predictions(train_data, train_labels, test_data, test_labels, predictions):\n",
        "  plt.figure(figsize=(10,7))\n",
        "  plt.scatter(train_data, train_labels, c=\"blue\", label=\"Training data\")\n",
        "  plt.scatter(test_data, test_labels, c=\"green\", label=\"Testing data\") # true values\n",
        "  plt.scatter(test_data, predictions, c=\"red\", label=\"Predictions\") # predictions\n",
        "  plt.legend()"
      ],
      "metadata": {
        "id": "Xw3ncYcAR76K"
      },
      "execution_count": 35,
      "outputs": []
    },
    {
      "cell_type": "code",
      "source": [
        "# create model and fit it to be in sync with the course videos\n",
        "tf.random.set_seed(42)\n",
        "\n",
        "model = tf.keras.Sequential([\n",
        "  tf.keras.layers.Dense(1, input_shape=[1]) # define the input_shape to our model\n",
        "])\n",
        "\n",
        "model.compile(loss=tf.keras.losses.mae,\n",
        "              optimizer=tf.keras.optimizers.SGD(),\n",
        "              metrics=[\"mae\"])\n",
        "\n",
        "model.fit(X_train, y_train, epochs=50, verbose=0)"
      ],
      "metadata": {
        "id": "tEs8gPb5Uppb",
        "outputId": "08e0780a-8fb8-47ba-c12b-788d23e387d0",
        "colab": {
          "base_uri": "https://localhost:8080/"
        }
      },
      "execution_count": 36,
      "outputs": [
        {
          "output_type": "execute_result",
          "data": {
            "text/plain": [
              "<keras.callbacks.History at 0x7f0ca3408d60>"
            ]
          },
          "metadata": {},
          "execution_count": 36
        }
      ]
    },
    {
      "cell_type": "code",
      "source": [
        "# check / visualize predictions of test data\n",
        "y_pred=model.predict(y_test)\n",
        "plot_predictions(train_data=X_train, \n",
        "                 train_labels=y_train, \n",
        "                 test_data=X_test, \n",
        "                 test_labels=y_test, \n",
        "                 predictions=y_pred)\n",
        "# model.predict([17.]) "
      ],
      "metadata": {
        "colab": {
          "base_uri": "https://localhost:8080/",
          "height": 445
        },
        "id": "8xYCVTz1xX9H",
        "outputId": "a1922f7b-ec55-455b-8156-e38e14d91d38"
      },
      "execution_count": 44,
      "outputs": [
        {
          "output_type": "stream",
          "name": "stdout",
          "text": [
            "1/1 [==============================] - 0s 16ms/step\n"
          ]
        },
        {
          "output_type": "display_data",
          "data": {
            "text/plain": [
              "<Figure size 720x504 with 1 Axes>"
            ],
            "image/png": "[encoded data removed]"
          },
          "metadata": {
            "needs_background": "light"
          }
        }
      ]
    },
    {
      "cell_type": "markdown",
      "source": [
        "### Evaluating predictions with regression evaluation metrics\n",
        "\n",
        "Depending on the problem, there are different evaluation metrix for the models evaluation.\n",
        "\n",
        "Regression problems have two main metrics:\n",
        "\n",
        "- MAE: mean absolute error, \"on average, how wrong is each of my models predictions\"\n",
        "- MSE: mean square error, \"square the average errors\"\n",
        "\n",
        "\n",
        "![regression metrics](https://github.com/pkro/tensorflow_cert_training/blob/main/readme_images/regression_metrics.png?raw=1)\n",
        "\n",
        "\n",
        "- Σ = sum of\n",
        "- |value| = absolute value\n",
        "- ŷ = y_pred = the predictions"
      ],
      "metadata": {
        "id": "jBulWAPLVeoy"
      }
    },
    {
      "cell_type": "code",
      "source": [
        "# Evaluate the model on the test set\n",
        "model.evaluate(X_test, y_test)"
      ],
      "metadata": {
        "id": "VBGaf2-kYinc",
        "outputId": "381d81e2-359b-41e7-f83f-c0d6e4203578",
        "colab": {
          "base_uri": "https://localhost:8080/"
        }
      },
      "execution_count": 42,
      "outputs": [
        {
          "output_type": "stream",
          "name": "stdout",
          "text": [
            "1/1 [==============================] - 0s 286ms/step - loss: 12.9609 - mae: 12.9609\n"
          ]
        },
        {
          "output_type": "execute_result",
          "data": {
            "text/plain": [
              "[12.9609375, 12.9609375]"
            ]
          },
          "metadata": {},
          "execution_count": 42
        }
      ]
    },
    {
      "cell_type": "code",
      "source": [
        "y_pred"
      ],
      "metadata": {
        "id": "6OH61HYMdF07",
        "outputId": "e2341604-4962-4b62-bac4-e49cfae2bcc4",
        "colab": {
          "base_uri": "https://localhost:8080/"
        }
      },
      "execution_count": 39,
      "outputs": [
        {
          "output_type": "execute_result",
          "data": {
            "text/plain": [
              "array([[ 67.408585],\n",
              "       [ 71.22382 ],\n",
              "       [ 75.03906 ],\n",
              "       [ 78.8543  ],\n",
              "       [ 82.66955 ],\n",
              "       [ 86.48479 ],\n",
              "       [ 90.300026],\n",
              "       [ 94.115265],\n",
              "       [ 97.930504],\n",
              "       [101.74574 ]], dtype=float32)"
            ]
          },
          "metadata": {},
          "execution_count": 39
        }
      ]
    },
    {
      "cell_type": "code",
      "source": [
        "tf.squeeze(y_pred)"
      ],
      "metadata": {
        "id": "CVaokgb0dJ9u",
        "outputId": "bb0d6dc3-c6b3-48f1-b211-77d86124ece8",
        "colab": {
          "base_uri": "https://localhost:8080/"
        }
      },
      "execution_count": 40,
      "outputs": [
        {
          "output_type": "execute_result",
          "data": {
            "text/plain": [
              "<tf.Tensor: shape=(10,), dtype=float32, numpy=\n",
              "array([ 67.408585,  71.22382 ,  75.03906 ,  78.8543  ,  82.66955 ,\n",
              "        86.48479 ,  90.300026,  94.115265,  97.930504, 101.74574 ],\n",
              "      dtype=float32)>"
            ]
          },
          "metadata": {},
          "execution_count": 40
        }
      ]
    },
    {
      "cell_type": "code",
      "source": [
        "# calculate the mean absolute error\n",
        "\n",
        "# y_pred has an extra dimension for some reason, so we make it 1-dimensional using\n",
        "# tf.squeeze\n",
        "\n",
        "# 1. by hand\n",
        "y_pred_onedim = tf.squeeze(y_pred);\n",
        "y_test_float = tf.cast(y_test, dtype=\"float\")\n",
        "\n",
        "mae = np.sum(np.abs(y_test_float - y_pred)) / len(y_pred_onedim)\n",
        "print(\"hand: \", mae)\n",
        "\n",
        "# 2. using tensorflow\n",
        "# print(tf.keras.losses.MAE(y_test, y_pred_onedim))# same\n",
        "print(tf.metrics.mean_absolute_error(y_test, tf.squeeze(y_pred)))"
      ],
      "metadata": {
        "id": "y9VrpZVlZ7mR",
        "outputId": "50cf2656-6fe4-4b5d-9cdc-3cb6b9f4efd9",
        "colab": {
          "base_uri": "https://localhost:8080/"
        }
      },
      "execution_count": 41,
      "outputs": [
        {
          "output_type": "stream",
          "name": "stdout",
          "text": [
            "hand:  3.4228355407714846\n",
            "tf.Tensor(3.4228356, shape=(), dtype=float32)\n"
          ]
        }
      ]
    },
    {
      "cell_type": "code",
      "source": [
        "# Calculate mean squared error\n",
        "\n",
        "# 1. by hand\n",
        "mse = 1/len(y_pred_onedim) * np.sum((y_test_float - y_pred_onedim)**2)\n",
        "print(\"hand: \", mse)\n",
        "\n",
        "# 2. using tensorflow\n",
        "print(tf.metrics.mean_squared_error(y_test, tf.squeeze(y_pred)))"
      ],
      "metadata": {
        "id": "qDwStSP2cH-7",
        "outputId": "a4469dcc-288c-4b27-fad5-080cd0e52d1e",
        "colab": {
          "base_uri": "https://localhost:8080/"
        }
      },
      "execution_count": 49,
      "outputs": [
        {
          "output_type": "stream",
          "name": "stdout",
          "text": [
            "hand:  11.997427368164063\n",
            "tf.Tensor(11.997427, shape=(), dtype=float32)\n"
          ]
        }
      ]
    },
    {
      "cell_type": "code",
      "source": [
        "# some functions for later use\n",
        "def mae(y_true, y_pred):\n",
        "  return tf.metrics.mean_absolute_error(y_test, \n",
        "                                        tf.squeeze(y_pred) if y_pred.ndim > y_true.ndim else y_pred)\n",
        "\n",
        "def mse(y_true, y_pred):\n",
        "  return tf.metrics.mean_absolute_error(y_test, \n",
        "                                        tf.squeeze(y_pred) if y_pred.ndim > y_true.ndim else y_pred)"
      ],
      "metadata": {
        "id": "rucefm59d6al"
      },
      "execution_count": 54,
      "outputs": []
    },
    {
      "cell_type": "code",
      "source": [
        "print(mae(y_test, y_pred))"
      ],
      "metadata": {
        "id": "P2zmILQIeZns",
        "outputId": "00a25ff0-68a3-4cba-ef41-5f33fdefed87",
        "colab": {
          "base_uri": "https://localhost:8080/"
        }
      },
      "execution_count": 56,
      "outputs": [
        {
          "output_type": "stream",
          "name": "stdout",
          "text": [
            "tf.Tensor(3.4228356, shape=(), dtype=float32)\n"
          ]
        }
      ]
    },
    {
      "cell_type": "code",
      "source": [
        "### Setting up TensorFlow modeling experiments"
      ],
      "metadata": {
        "id": "O8R4LXNQdRt9"
      },
      "execution_count": null,
      "outputs": []
    },
    {
      "cell_type": "code",
      "source": [
        "#### Start with a simple model"
      ],
      "metadata": {
        "id": "dOnxx0WvdXa6"
      },
      "execution_count": null,
      "outputs": []
    },
    {
      "cell_type": "code",
      "source": [
        "#### Increasing complexity"
      ],
      "metadata": {
        "id": "qIaq_L3Ndb5b"
      },
      "execution_count": null,
      "outputs": []
    }
  ]
}