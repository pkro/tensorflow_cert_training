{
  "nbformat": 4,
  "nbformat_minor": 0,
  "metadata": {
    "colab": {
      "provenance": [],
      "authorship_tag": "ABX9TyOJ07SPpcA29I8VhAHAx/46",
      "include_colab_link": true
    },
    "kernelspec": {
      "name": "python3",
      "display_name": "Python 3"
    },
    "language_info": {
      "name": "python"
    }
  },
  "cells": [
    {
      "cell_type": "markdown",
      "metadata": {
        "id": "view-in-github",
        "colab_type": "text"
      },
      "source": [
        "<a href=\"https://colab.research.google.com/github/pkro/tensorflow_cert_training/blob/main/colab_notebooks/01_neural_network_regression_with_tensorflow.ipynb\" target=\"_parent\"><img src=\"https://colab.research.google.com/assets/colab-badge.svg\" alt=\"Open In Colab\"/></a>"
      ]
    },
    {
      "cell_type": "markdown",
      "source": [
        "## Introduction to Regression with neural networks in TensorFlow\n",
        "\n",
        "Regression problem: predicting a numerical variable based on some other variation of variables"
      ],
      "metadata": {
        "id": "lcgSQoa2jBZV"
      }
    },
    {
      "cell_type": "code",
      "source": [
        "import tensorflow as tf\n",
        "print(tf.__version__)"
      ],
      "metadata": {
        "id": "I8tFBkEDcQkf",
        "outputId": "5a4cbba0-8ece-4276-fe33-67a6298f7477",
        "colab": {
          "base_uri": "https://localhost:8080/"
        }
      },
      "execution_count": 71,
      "outputs": [
        {
          "output_type": "stream",
          "name": "stdout",
          "text": [
            "2.9.2\n"
          ]
        }
      ]
    },
    {
      "cell_type": "markdown",
      "source": [
        "### Create data to view and fit\n",
        "\n",
        "- features are usually defined in uppercase `X`, labels in lowercase `y`\n",
        "\n",
        "Here we create a simple feature and label lists where the relationship is y (label) = feature (Y) + 10\n",
        "\n",
        "Input shape: [8,] (8 numbers)\n",
        "Output shape: [1,] (one number)"
      ],
      "metadata": {
        "id": "mmI1SLgYceC_"
      }
    },
    {
      "cell_type": "code",
      "source": [
        "import numpy as np\n",
        "import matplotlib.pyplot as plt\n",
        "\n",
        "# create features\n",
        "# x = np.array([-7., -4., -1., 2, 5., 8., 11., 14.])\n",
        "X = np.array(range(-7, 15, 3))\n",
        "X"
      ],
      "metadata": {
        "id": "t0mvdB6Jcqn2",
        "outputId": "abff8c53-0784-48e2-aaf7-18f70b87a1bd",
        "colab": {
          "base_uri": "https://localhost:8080/"
        }
      },
      "execution_count": 72,
      "outputs": [
        {
          "output_type": "execute_result",
          "data": {
            "text/plain": [
              "array([-7, -4, -1,  2,  5,  8, 11, 14])"
            ]
          },
          "metadata": {},
          "execution_count": 72
        }
      ]
    },
    {
      "cell_type": "code",
      "source": [
        "# Create labels\n",
        "y = np.array(range(3,25, 3)).astype(float)\n",
        "y"
      ],
      "metadata": {
        "id": "rnaQYRq9eFaN",
        "outputId": "e5f6a006-87c7-4e95-f36b-7b2017b02542",
        "colab": {
          "base_uri": "https://localhost:8080/"
        }
      },
      "execution_count": 73,
      "outputs": [
        {
          "output_type": "execute_result",
          "data": {
            "text/plain": [
              "array([ 3.,  6.,  9., 12., 15., 18., 21., 24.])"
            ]
          },
          "metadata": {},
          "execution_count": 73
        }
      ]
    },
    {
      "cell_type": "code",
      "source": [
        "# Visualize\n",
        "plt.scatter(X,y)"
      ],
      "metadata": {
        "id": "Fu7PPg04e1ez",
        "outputId": "3276ca93-7fe2-4ea0-c1fe-19fe30fdffa0",
        "colab": {
          "base_uri": "https://localhost:8080/",
          "height": 286
        }
      },
      "execution_count": 74,
      "outputs": [
        {
          "output_type": "execute_result",
          "data": {
            "text/plain": [
              "<matplotlib.collections.PathCollection at 0x7f216b8572b0>"
            ]
          },
          "metadata": {},
          "execution_count": 74
        },
        {
          "output_type": "display_data",
          "data": {
            "text/plain": [
              "<Figure size 432x288 with 1 Axes>"
            ],
            "image/png": "[encoded data removed]"
          },
          "metadata": {
            "needs_background": "light"
          }
        }
      ]
    },
    {
      "cell_type": "code",
      "source": [
        "# this is the rule we want the neural network to learn\n",
        "y == X + 10"
      ],
      "metadata": {
        "id": "LW6zcdhBhVv0",
        "outputId": "5f164e19-54f8-42f2-915e-2aad8013f0ca",
        "colab": {
          "base_uri": "https://localhost:8080/"
        }
      },
      "execution_count": 75,
      "outputs": [
        {
          "output_type": "execute_result",
          "data": {
            "text/plain": [
              "array([ True,  True,  True,  True,  True,  True,  True,  True])"
            ]
          },
          "metadata": {},
          "execution_count": 75
        }
      ]
    },
    {
      "cell_type": "markdown",
      "source": [
        "### Input and output shapes"
      ],
      "metadata": {
        "id": "BxnQDjWchlF4"
      }
    },
    {
      "cell_type": "markdown",
      "source": [
        "Create a demo tensor for house pricing prediction problem (see main readme), where we already know the input / output shape from the info graphic and try to deduce the shapes for our X, y arrays."
      ],
      "metadata": {
        "id": "ScvB8jsqjJRA"
      }
    },
    {
      "cell_type": "code",
      "source": [
        "house_info = tf.constant([3, 2, 1]) # 3 bedrooms, 2 bathrooms, 1 garage\n",
        "house_price = tf.constant([939700])\n",
        "\n",
        "house_info, house_price\n"
      ],
      "metadata": {
        "id": "R_F_UgHLiCx9",
        "outputId": "918eae1a-e4ae-4a09-8ded-865461b968c9",
        "colab": {
          "base_uri": "https://localhost:8080/"
        }
      },
      "execution_count": 76,
      "outputs": [
        {
          "output_type": "execute_result",
          "data": {
            "text/plain": [
              "(<tf.Tensor: shape=(3,), dtype=int32, numpy=array([3, 2, 1], dtype=int32)>,\n",
              " <tf.Tensor: shape=(1,), dtype=int32, numpy=array([939700], dtype=int32)>)"
            ]
          },
          "metadata": {},
          "execution_count": 76
        }
      ]
    },
    {
      "cell_type": "markdown",
      "source": [
        "The house info contains just one item of shape 3, our `X` contains 8 of shape 1 (just one number), as does the desired output.\n",
        "\n",
        "So the input shape is 1, as is the output shape for our simple example (that we have 8 items in those arrays doesn't matter for the input / output shape!)\n"
      ],
      "metadata": {
        "id": "6IXN7dSDjK3C"
      }
    },
    {
      "cell_type": "code",
      "source": [
        "print(X[0], \"should predict\", y[0])\n",
        "print(X[1], \"should predict\", y[1])\n",
        "print(\"etc...\")"
      ],
      "metadata": {
        "id": "APZ2MAATka4Q",
        "outputId": "9c64d7ef-b603-409d-eb64-fae9f18922da",
        "colab": {
          "base_uri": "https://localhost:8080/"
        }
      },
      "execution_count": 77,
      "outputs": [
        {
          "output_type": "stream",
          "name": "stdout",
          "text": [
            "-7 should predict 3.0\n",
            "-4 should predict 6.0\n",
            "etc...\n"
          ]
        }
      ]
    },
    {
      "cell_type": "code",
      "source": [
        "input_shape = X[0].shape\n",
        "output_shape = y[0].shape\n",
        "input_shape, output_shape, X[0].ndim"
      ],
      "metadata": {
        "id": "wX-XosfOjYal",
        "outputId": "2cacbf89-d1cb-4d33-bf14-bc70dd619a5c",
        "colab": {
          "base_uri": "https://localhost:8080/"
        }
      },
      "execution_count": 78,
      "outputs": [
        {
          "output_type": "execute_result",
          "data": {
            "text/plain": [
              "((), (), 0)"
            ]
          },
          "metadata": {},
          "execution_count": 78
        }
      ]
    },
    {
      "cell_type": "markdown",
      "source": [
        "Why is there no shape?\n",
        "\n",
        "Scalars (single numbers) are a rank 0 tensor (0 dimensions).\n",
        "\n",
        "In the following code, we need to expand the dimensions of the input vector when fitting a model (automatic in TensorFlow up to 2.6, manual from 2.7 onward) to avoid a `shape error`:\n",
        "\n",
        "```\n",
        "## OLD\n",
        "# Fit the model\n",
        "model.fit(X, y, epochs=5) # this will break with TensorFlow 2.7.0+\n",
        " \n",
        "## New\n",
        "# Fit the model\n",
        "model.fit(tf.expand_dims(X, axis=-1), y, epochs=5) # <- updated \n",
        "```"
      ],
      "metadata": {
        "id": "7vGIYR8ak5_L"
      }
    },
    {
      "cell_type": "code",
      "source": [
        "# turn arrays into tensors\n",
        "X = tf.constant(X, dtype=tf.float32)\n",
        "y = tf.constant(y, dtype=tf.float32)\n",
        "X, y"
      ],
      "metadata": {
        "id": "Y9pDeywVm9ZP",
        "outputId": "4206aa84-099a-4bc7-cc9c-4a08aecf8745",
        "colab": {
          "base_uri": "https://localhost:8080/"
        }
      },
      "execution_count": 79,
      "outputs": [
        {
          "output_type": "execute_result",
          "data": {
            "text/plain": [
              "(<tf.Tensor: shape=(8,), dtype=float32, numpy=array([-7., -4., -1.,  2.,  5.,  8., 11., 14.], dtype=float32)>,\n",
              " <tf.Tensor: shape=(8,), dtype=float32, numpy=array([ 3.,  6.,  9., 12., 15., 18., 21., 24.], dtype=float32)>)"
            ]
          },
          "metadata": {},
          "execution_count": 79
        }
      ]
    },
    {
      "cell_type": "code",
      "source": [
        "input_shape = X[0].shape\n",
        "output_shape = y[0].shape\n",
        "input_shape, output_shape, X[0].ndim"
      ],
      "metadata": {
        "id": "n_Zeh4F4nknY",
        "outputId": "7ed5aa68-5a43-4781-dfa8-0064e3696262",
        "colab": {
          "base_uri": "https://localhost:8080/"
        }
      },
      "execution_count": 80,
      "outputs": [
        {
          "output_type": "execute_result",
          "data": {
            "text/plain": [
              "(TensorShape([]), TensorShape([]), 0)"
            ]
          },
          "metadata": {},
          "execution_count": 80
        }
      ]
    },
    {
      "cell_type": "markdown",
      "source": [
        "### Steps in modelling with TensorFlow\n",
        "\n",
        "1. Creationg a model - define the input and output layers, as well as the hidden layers of a deep learning model\n",
        "2. Compiling a model\n",
        "  - define the loss function (the function which tells the model how wrong it is) \n",
        "  - the optimizer (tells the model how to improve the patterns it is learning) \n",
        "  -evaluation metrics (what we can use to interpret the performance of the model)\n",
        "3. Fitting a model - let the model try to find patterns between X and y (features and labels)"
      ],
      "metadata": {
        "id": "r00xKJnyn8bz"
      }
    },
    {
      "cell_type": "markdown",
      "source": [
        "![steps in modeling with tensorflow](https://github.com/pkro/tensorflow_cert_training/blob/main/readme_images/tensorflow_modeling_steps.png?raw=1)"
      ],
      "metadata": {
        "id": "xYFNSGYCVsfV"
      }
    },
    {
      "cell_type": "code",
      "source": [
        "tf.random.set_seed(42)\n",
        "\n",
        "# 1. Create a model using the sequential API\n",
        "# layers can also be added with \n",
        "# model = tf.keras.Sequential()\n",
        "# model.add(tf.keras.layers.Dense(1)) \n",
        "# instead of passing them as an array\n",
        "model = tf.keras.Sequential([\n",
        "    tf.keras.layers.Dense(1) # \"1\" because we want to predict 1 number\n",
        "])\n",
        "\n",
        "\n",
        "# 2. compile the model \n",
        "model.compile(\n",
        "    # or .mean_absolute_error, Computes the mean absolute error between labels and predictions.\n",
        "    # loss = mean(abs(y_true - y_pred), axis=-1)\n",
        "    # where y_true is the correct value, y_pred the prediction the model makes\n",
        "    # \"on average, how wrong were our predictions\"\n",
        "    loss = tf.keras.losses.mae,\n",
        "    optimizer = tf.keras.optimizers.SGD(), # stochastic gradient descent;\n",
        "    metrics=[\"mae\"] # most functions can be passed as string, e.g. optimizer=\"sgd\"\n",
        "  )\n",
        "\n",
        "# 3. Fit the model\n",
        "# Sequential groups a linear stack of layers into a tf.keras.Model.\n",
        "model.fit(tf.expand_dims(X, axis=-1), y, epochs=5) # 5 \"laps\"\n",
        "\n"
      ],
      "metadata": {
        "id": "xuMFGFzFV8M0",
        "outputId": "8d391b6c-09e9-4675-c210-bfb5802e3e77",
        "colab": {
          "base_uri": "https://localhost:8080/"
        }
      },
      "execution_count": 85,
      "outputs": [
        {
          "output_type": "stream",
          "name": "stdout",
          "text": [
            "Epoch 1/5\n",
            "1/1 [==============================] - 1s 707ms/step - loss: 11.5048 - mae: 11.5048\n",
            "Epoch 2/5\n",
            "1/1 [==============================] - 0s 8ms/step - loss: 11.3723 - mae: 11.3723\n",
            "Epoch 3/5\n",
            "1/1 [==============================] - 0s 10ms/step - loss: 11.2398 - mae: 11.2398\n",
            "Epoch 4/5\n",
            "1/1 [==============================] - 0s 10ms/step - loss: 11.1073 - mae: 11.1073\n",
            "Epoch 5/5\n",
            "1/1 [==============================] - 0s 9ms/step - loss: 10.9748 - mae: 10.9748\n"
          ]
        },
        {
          "output_type": "execute_result",
          "data": {
            "text/plain": [
              "<keras.callbacks.History at 0x7f216b6d6fa0>"
            ]
          },
          "metadata": {},
          "execution_count": 85
        }
      ]
    },
    {
      "cell_type": "code",
      "source": [
        "print(X, y)\n",
        "model.predict([17.]) # SHOULD be 27.0"
      ],
      "metadata": {
        "id": "kpKKWrk5Zhi2",
        "outputId": "dfad9bd5-e86b-43fe-b8f5-a4f5bcb97a63",
        "colab": {
          "base_uri": "https://localhost:8080/"
        }
      },
      "execution_count": 86,
      "outputs": [
        {
          "output_type": "stream",
          "name": "stdout",
          "text": [
            "tf.Tensor([-7. -4. -1.  2.  5.  8. 11. 14.], shape=(8,), dtype=float32) tf.Tensor([ 3.  6.  9. 12. 15. 18. 21. 24.], shape=(8,), dtype=float32)\n",
            "1/1 [==============================] - 0s 51ms/step\n"
          ]
        },
        {
          "output_type": "execute_result",
          "data": {
            "text/plain": [
              "array([[12.716021]], dtype=float32)"
            ]
          },
          "metadata": {},
          "execution_count": 86
        }
      ]
    },
    {
      "cell_type": "markdown",
      "source": [
        "That's a pretty bad prediction.\n",
        "\n",
        "### Improving a model with Tensorflow 1\n",
        "\n",
        "We can try to improve a model on each of the 5 steps. The best would be to have more training data.\n",
        "\n",
        "1. **Creating a model** - add more layers, increase number of hidden units (aka neurons) within each layer, change the [activation function](https://machinelearningmastery.com/choose-an-activation-function-for-deep-learning/) of each layer.\n",
        "2. **Compiling a model** - change optimization function or **learning rate** of the optimization function\n",
        "3. **Fitting the model** - more epochs, give more data\n",
        "\n",
        "\n",
        "Do small singular changes in experiments to see what causes a model to perform better (or *worse*!)"
      ],
      "metadata": {
        "id": "L_twWN6fcdRE"
      }
    },
    {
      "cell_type": "code",
      "source": [
        "# add more layers, more neurons and an activation\n",
        "model = tf.keras.Sequential([\n",
        "    tf.keras.layers.Dense(100, activation=\"relu\"),\n",
        "    tf.keras.layers.Dense(1)\n",
        "])\n",
        "\n",
        "model.compile(\n",
        "    loss = tf.keras.losses.mae,\n",
        "    # Adam is a common and useful optimizer, often the default\n",
        "    # the higher the learning rate, the quicker the optimizer pushes\n",
        "    # the model to improve\n",
        "    optimizer = tf.keras.optimizers.Adam(learning_rate=0.1),\n",
        "    metrics=[\"mae\"]\n",
        "  )\n",
        "\n",
        "model.fit(tf.expand_dims(X, axis=-1), y, epochs=100, verbose=0) # more epochs (skip output)"
      ],
      "metadata": {
        "id": "Pe10z2sQdKje",
        "outputId": "2d15c5a7-6254-47b1-fa2b-2220f689eb14",
        "colab": {
          "base_uri": "https://localhost:8080/"
        }
      },
      "execution_count": 100,
      "outputs": [
        {
          "output_type": "execute_result",
          "data": {
            "text/plain": [
              "<keras.callbacks.History at 0x7f216a6fb460>"
            ]
          },
          "metadata": {},
          "execution_count": 100
        }
      ]
    },
    {
      "cell_type": "code",
      "source": [
        "model.predict([17.])"
      ],
      "metadata": {
        "id": "ey6cW21sddXW",
        "outputId": "39c2ccaa-30f1-4142-f4e0-df2e13f5a6ce",
        "colab": {
          "base_uri": "https://localhost:8080/"
        }
      },
      "execution_count": 101,
      "outputs": [
        {
          "output_type": "stream",
          "name": "stdout",
          "text": [
            "1/1 [==============================] - 0s 57ms/step\n"
          ]
        },
        {
          "output_type": "execute_result",
          "data": {
            "text/plain": [
              "array([[29.46142]], dtype=float32)"
            ]
          },
          "metadata": {},
          "execution_count": 101
        }
      ]
    }
  ]
}