{
  "nbformat": 4,
  "nbformat_minor": 0,
  "metadata": {
    "colab": {
      "provenance": [],
      "authorship_tag": "ABX9TyPdqo0stOBWxCvjLUl3ZyJ4",
      "include_colab_link": true
    },
    "kernelspec": {
      "name": "python3",
      "display_name": "Python 3"
    },
    "language_info": {
      "name": "python"
    }
  },
  "cells": [
    {
      "cell_type": "markdown",
      "metadata": {
        "id": "view-in-github",
        "colab_type": "text"
      },
      "source": [
        "<a href=\"https://colab.research.google.com/github/pkro/tensorflow_cert_training/blob/main/colab_notebooks/01c_challenges_and_extra_curriculum.ipynb\" target=\"_parent\"><img src=\"https://colab.research.google.com/assets/colab-badge.svg\" alt=\"Open In Colab\"/></a>"
      ]
    },
    {
      "cell_type": "markdown",
      "source": [
        "# Exercises / extra curriculum Section 3"
      ],
      "metadata": {
        "id": "qdKR3tpBMc5m"
      }
    },
    {
      "cell_type": "markdown",
      "source": [
        "## 1. Create your own regression dataset (or make the one we created in \"Create data to view and fit\" bigger) and build fit a model to it."
      ],
      "metadata": {
        "id": "p6MEDWa7iou4"
      }
    },
    {
      "cell_type": "code",
      "source": [
        "import math\n",
        "import tensorflow as tf\n",
        "\n",
        "y = list(map(lambda val: (val**2 - 5*val) / 768, range(1, 10000)))\n",
        "X = list(range(1, 10000))"
      ],
      "metadata": {
        "id": "5yAdWLin_NOS"
      },
      "execution_count": 71,
      "outputs": []
    },
    {
      "cell_type": "code",
      "source": [
        "import matplotlib.pyplot as plt\n",
        "plt.plot(X, y)\n"
      ],
      "metadata": {
        "colab": {
          "base_uri": "https://localhost:8080/",
          "height": 282
        },
        "id": "EabkI91s_8E1",
        "outputId": "b0caa56a-4a29-422c-b9c1-bc9221833211"
      },
      "execution_count": 72,
      "outputs": [
        {
          "output_type": "execute_result",
          "data": {
            "text/plain": [
              "[<matplotlib.lines.Line2D at 0x7f918c505dc0>]"
            ]
          },
          "metadata": {},
          "execution_count": 72
        },
        {
          "output_type": "display_data",
          "data": {
            "text/plain": [
              "<Figure size 432x288 with 1 Axes>"
            ],
            "image/png": "[encoded data removed]"
          },
          "metadata": {
            "needs_background": "light"
          }
        }
      ]
    },
    {
      "cell_type": "code",
      "source": [
        "from sklearn.model_selection import train_test_split\n",
        "\n",
        "tf.random.set_seed(42)\n",
        "X_train, X_test, y_train, y_test = train_test_split(X, y, train_size=0.8, random_state=42)\n",
        "y_train = tf.constant(y_train)\n",
        "X_train = tf.constant(X_train)"
      ],
      "metadata": {
        "id": "R1BdfgIBDcP2"
      },
      "execution_count": 77,
      "outputs": []
    },
    {
      "cell_type": "markdown",
      "source": [
        "2. Try building a neural network with 4 Dense layers and fitting it to your own regression dataset, how does it perform?"
      ],
      "metadata": {
        "id": "guOdIFrSBR-w"
      }
    },
    {
      "cell_type": "code",
      "source": [
        "model_1 = tf.keras.models.Sequential([\n",
        "tf.keras.layers.Dense(100),\n",
        "tf.keras.layers.Dense(10),\n",
        "tf.keras.layers.Dense(10),\n",
        "    tf.keras.layers.Dense(1),\n",
        "], name=\"model_1\")\n",
        "\n",
        "model_1.compile(optimizer=tf.keras.optimizers.Adam(),\n",
        "                metrics=[\"mae\"],\n",
        "                loss=\"mae\")\n",
        "\n",
        "history_1 = model_1.fit(tf.expand_dims(X_train, axis=-1), y_train, epochs=10, verbose=0)\n"
      ],
      "metadata": {
        "id": "2ZY4aXC3CMEg"
      },
      "execution_count": 99,
      "outputs": []
    },
    {
      "cell_type": "code",
      "source": [
        "model_1.evaluate(X_test, y_test)"
      ],
      "metadata": {
        "colab": {
          "base_uri": "https://localhost:8080/"
        },
        "id": "n_xzAbkPJ1V-",
        "outputId": "95c3b316-4336-4121-9da9-138c586f1d53"
      },
      "execution_count": 100,
      "outputs": [
        {
          "output_type": "stream",
          "name": "stdout",
          "text": [
            "63/63 [==============================] - 0s 1ms/step - loss: 12452.3691 - mae: 12452.3691\n"
          ]
        },
        {
          "output_type": "execute_result",
          "data": {
            "text/plain": [
              "[12452.369140625, 12452.369140625]"
            ]
          },
          "metadata": {},
          "execution_count": 100
        }
      ]
    },
    {
      "cell_type": "code",
      "source": [
        "y_pred = model_1.predict(X_test)"
      ],
      "metadata": {
        "colab": {
          "base_uri": "https://localhost:8080/"
        },
        "id": "8Mc51JbAJ9db",
        "outputId": "5343f9cb-2342-4aa2-9634-9c7a3f50d87f"
      },
      "execution_count": 101,
      "outputs": [
        {
          "output_type": "stream",
          "name": "stdout",
          "text": [
            "63/63 [==============================] - 0s 1ms/step\n"
          ]
        }
      ]
    },
    {
      "cell_type": "code",
      "source": [
        "plt.figure(figsize=(10,7))\n",
        "plt.scatter(X_test, y_pred, c=\"g\")\n",
        "plt.scatter(X_test, y_test, c=\"b\")"
      ],
      "metadata": {
        "colab": {
          "base_uri": "https://localhost:8080/",
          "height": 445
        },
        "id": "njYpqpH7KP_Z",
        "outputId": "d988a04a-9756-4276-aa0c-1f9de38383d3"
      },
      "execution_count": 102,
      "outputs": [
        {
          "output_type": "execute_result",
          "data": {
            "text/plain": [
              "<matplotlib.collections.PathCollection at 0x7f9187a0a550>"
            ]
          },
          "metadata": {},
          "execution_count": 102
        },
        {
          "output_type": "display_data",
          "data": {
            "text/plain": [
              "<Figure size 720x504 with 1 Axes>"
            ],
            "image/png": "[encoded data removed]"
          },
          "metadata": {
            "needs_background": "light"
          }
        }
      ]
    },
    {
      "cell_type": "markdown",
      "source": [
        "Seems like there is no good linear solution to a set where the dependent variable is the result of an exponential equation of the independent variable."
      ],
      "metadata": {
        "id": "MNB_jUOyLael"
      }
    },
    {
      "cell_type": "markdown",
      "source": [
        "## 2. Try and improve the results we got on the insurance dataset, some things you might want to try include:\n",
        "\n",
        "- Building a larger model (how does one with 4 dense layers go?).\n",
        "- Increasing the number of units in each layer.\n",
        "- Lookup the documentation of Adam and find out what the first parameter is, what happens if you increase it by 10x?\n",
        "- What happens if you train for longer (say 300 epochs instead of 200)?\n"
      ],
      "metadata": {
        "id": "aeJlnPiwLxsp"
      }
    }
  ]
}